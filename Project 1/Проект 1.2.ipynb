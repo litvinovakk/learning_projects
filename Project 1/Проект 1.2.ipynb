{
 "cells": [
  {
   "cell_type": "markdown",
   "id": "3a1ec55e",
   "metadata": {},
   "source": [
    "# Исследование надежности заемщиков"
   ]
  },
  {
   "cell_type": "markdown",
   "id": "6ba3dbc1",
   "metadata": {},
   "source": [
    "# Описание проекта\n",
    "\n",
    "Заказчик — кредитный отдел банка. Нужно разобраться, влияет ли семейное положение и количество детей клиента на факт погашения кредита в срок. Входные данные от банка — статистика о платёжеспособности клиентов.\n",
    "Результаты исследования будут учтены при построении модели кредитного скоринга — специальной системы, которая оценивает способность потенциального заёмщика вернуть кредит банку.\n",
    "\n",
    "# Описание данных\n",
    "- children — количество детей в семье\n",
    "- days_employed — общий трудовой стаж в днях\n",
    "- dob_years — возраст клиента в годах\n",
    "- education — уровень образования клиента\n",
    "- education_id — идентификатор уровня образования\n",
    "- family_status — семейное положение\n",
    "- family_status_id — идентификатор семейного положения\n",
    "- gender — пол клиента\n",
    "- income_type — тип занятости\n",
    "- debt — имел ли задолженность по возврату кредитов\n",
    "- total_income — ежемесячный доход\n",
    "- purpose — цель получения кредита\n"
   ]
  },
  {
   "cell_type": "markdown",
   "id": "ba09fb71",
   "metadata": {},
   "source": [
    "## Шаг 1. Обзор данных"
   ]
  },
  {
   "cell_type": "code",
   "execution_count": 1,
   "id": "078b5507",
   "metadata": {},
   "outputs": [],
   "source": [
    "import pandas as pd\n"
   ]
  },
  {
   "cell_type": "code",
   "execution_count": 2,
   "id": "83e27031",
   "metadata": {},
   "outputs": [
    {
     "name": "stdout",
     "output_type": "stream",
     "text": [
      "<class 'pandas.core.frame.DataFrame'>\n",
      "RangeIndex: 21525 entries, 0 to 21524\n",
      "Data columns (total 12 columns):\n",
      " #   Column            Non-Null Count  Dtype  \n",
      "---  ------            --------------  -----  \n",
      " 0   children          21525 non-null  int64  \n",
      " 1   days_employed     19351 non-null  float64\n",
      " 2   dob_years         21525 non-null  int64  \n",
      " 3   education         21525 non-null  object \n",
      " 4   education_id      21525 non-null  int64  \n",
      " 5   family_status     21525 non-null  object \n",
      " 6   family_status_id  21525 non-null  int64  \n",
      " 7   gender            21525 non-null  object \n",
      " 8   income_type       21525 non-null  object \n",
      " 9   debt              21525 non-null  int64  \n",
      " 10  total_income      19351 non-null  float64\n",
      " 11  purpose           21525 non-null  object \n",
      "dtypes: float64(2), int64(5), object(5)\n",
      "memory usage: 2.0+ MB\n"
     ]
    }
   ],
   "source": [
    "data = pd.read_csv('./data.csv')\n",
    "data.info()"
   ]
  },
  {
   "cell_type": "code",
   "execution_count": 3,
   "id": "d70f48ee",
   "metadata": {},
   "outputs": [
    {
     "data": {
      "text/html": [
       "<div>\n",
       "<style scoped>\n",
       "    .dataframe tbody tr th:only-of-type {\n",
       "        vertical-align: middle;\n",
       "    }\n",
       "\n",
       "    .dataframe tbody tr th {\n",
       "        vertical-align: top;\n",
       "    }\n",
       "\n",
       "    .dataframe thead th {\n",
       "        text-align: right;\n",
       "    }\n",
       "</style>\n",
       "<table border=\"1\" class=\"dataframe\">\n",
       "  <thead>\n",
       "    <tr style=\"text-align: right;\">\n",
       "      <th></th>\n",
       "      <th>children</th>\n",
       "      <th>days_employed</th>\n",
       "      <th>dob_years</th>\n",
       "      <th>education_id</th>\n",
       "      <th>family_status_id</th>\n",
       "      <th>debt</th>\n",
       "      <th>total_income</th>\n",
       "    </tr>\n",
       "  </thead>\n",
       "  <tbody>\n",
       "    <tr>\n",
       "      <th>count</th>\n",
       "      <td>21525.000000</td>\n",
       "      <td>19351.000000</td>\n",
       "      <td>21525.000000</td>\n",
       "      <td>21525.000000</td>\n",
       "      <td>21525.000000</td>\n",
       "      <td>21525.000000</td>\n",
       "      <td>1.935100e+04</td>\n",
       "    </tr>\n",
       "    <tr>\n",
       "      <th>mean</th>\n",
       "      <td>0.538908</td>\n",
       "      <td>63046.497661</td>\n",
       "      <td>43.293380</td>\n",
       "      <td>0.817236</td>\n",
       "      <td>0.972544</td>\n",
       "      <td>0.080883</td>\n",
       "      <td>1.674223e+05</td>\n",
       "    </tr>\n",
       "    <tr>\n",
       "      <th>std</th>\n",
       "      <td>1.381587</td>\n",
       "      <td>140827.311974</td>\n",
       "      <td>12.574584</td>\n",
       "      <td>0.548138</td>\n",
       "      <td>1.420324</td>\n",
       "      <td>0.272661</td>\n",
       "      <td>1.029716e+05</td>\n",
       "    </tr>\n",
       "    <tr>\n",
       "      <th>min</th>\n",
       "      <td>-1.000000</td>\n",
       "      <td>-18388.949901</td>\n",
       "      <td>0.000000</td>\n",
       "      <td>0.000000</td>\n",
       "      <td>0.000000</td>\n",
       "      <td>0.000000</td>\n",
       "      <td>2.066726e+04</td>\n",
       "    </tr>\n",
       "    <tr>\n",
       "      <th>25%</th>\n",
       "      <td>0.000000</td>\n",
       "      <td>-2747.423625</td>\n",
       "      <td>33.000000</td>\n",
       "      <td>1.000000</td>\n",
       "      <td>0.000000</td>\n",
       "      <td>0.000000</td>\n",
       "      <td>1.030532e+05</td>\n",
       "    </tr>\n",
       "    <tr>\n",
       "      <th>50%</th>\n",
       "      <td>0.000000</td>\n",
       "      <td>-1203.369529</td>\n",
       "      <td>42.000000</td>\n",
       "      <td>1.000000</td>\n",
       "      <td>0.000000</td>\n",
       "      <td>0.000000</td>\n",
       "      <td>1.450179e+05</td>\n",
       "    </tr>\n",
       "    <tr>\n",
       "      <th>75%</th>\n",
       "      <td>1.000000</td>\n",
       "      <td>-291.095954</td>\n",
       "      <td>53.000000</td>\n",
       "      <td>1.000000</td>\n",
       "      <td>1.000000</td>\n",
       "      <td>0.000000</td>\n",
       "      <td>2.034351e+05</td>\n",
       "    </tr>\n",
       "    <tr>\n",
       "      <th>max</th>\n",
       "      <td>20.000000</td>\n",
       "      <td>401755.400475</td>\n",
       "      <td>75.000000</td>\n",
       "      <td>4.000000</td>\n",
       "      <td>4.000000</td>\n",
       "      <td>1.000000</td>\n",
       "      <td>2.265604e+06</td>\n",
       "    </tr>\n",
       "  </tbody>\n",
       "</table>\n",
       "</div>"
      ],
      "text/plain": [
       "           children  days_employed     dob_years  education_id  \\\n",
       "count  21525.000000   19351.000000  21525.000000  21525.000000   \n",
       "mean       0.538908   63046.497661     43.293380      0.817236   \n",
       "std        1.381587  140827.311974     12.574584      0.548138   \n",
       "min       -1.000000  -18388.949901      0.000000      0.000000   \n",
       "25%        0.000000   -2747.423625     33.000000      1.000000   \n",
       "50%        0.000000   -1203.369529     42.000000      1.000000   \n",
       "75%        1.000000    -291.095954     53.000000      1.000000   \n",
       "max       20.000000  401755.400475     75.000000      4.000000   \n",
       "\n",
       "       family_status_id          debt  total_income  \n",
       "count      21525.000000  21525.000000  1.935100e+04  \n",
       "mean           0.972544      0.080883  1.674223e+05  \n",
       "std            1.420324      0.272661  1.029716e+05  \n",
       "min            0.000000      0.000000  2.066726e+04  \n",
       "25%            0.000000      0.000000  1.030532e+05  \n",
       "50%            0.000000      0.000000  1.450179e+05  \n",
       "75%            1.000000      0.000000  2.034351e+05  \n",
       "max            4.000000      1.000000  2.265604e+06  "
      ]
     },
     "execution_count": 3,
     "metadata": {},
     "output_type": "execute_result"
    }
   ],
   "source": [
    "data.describe()"
   ]
  },
  {
   "cell_type": "markdown",
   "id": "45145057",
   "metadata": {},
   "source": [
    "## Шаг 2. Предобработка данных"
   ]
  },
  {
   "cell_type": "markdown",
   "id": "e91a0d80",
   "metadata": {},
   "source": [
    "### Шаг 2.1 Заполнение пропусков"
   ]
  },
  {
   "cell_type": "code",
   "execution_count": 4,
   "id": "30893b1e",
   "metadata": {},
   "outputs": [
    {
     "data": {
      "text/plain": [
       "children               0\n",
       "days_employed       2174\n",
       "dob_years              0\n",
       "education              0\n",
       "education_id           0\n",
       "family_status          0\n",
       "family_status_id       0\n",
       "gender                 0\n",
       "income_type            0\n",
       "debt                   0\n",
       "total_income        2174\n",
       "purpose                0\n",
       "dtype: int64"
      ]
     },
     "execution_count": 4,
     "metadata": {},
     "output_type": "execute_result"
    }
   ],
   "source": [
    "data.isna().sum()"
   ]
  },
  {
   "cell_type": "markdown",
   "id": "c4bbe2c8",
   "metadata": {},
   "source": [
    "Обнаружила, что пропущенные данные имеются в days_employed и total_income. Их количество составляет 2174."
   ]
  },
  {
   "cell_type": "code",
   "execution_count": 5,
   "id": "20e14f68",
   "metadata": {},
   "outputs": [
    {
     "data": {
      "text/plain": [
       "children             0.000000\n",
       "days_employed       10.099884\n",
       "dob_years            0.000000\n",
       "education            0.000000\n",
       "education_id         0.000000\n",
       "family_status        0.000000\n",
       "family_status_id     0.000000\n",
       "gender               0.000000\n",
       "income_type          0.000000\n",
       "debt                 0.000000\n",
       "total_income        10.099884\n",
       "purpose              0.000000\n",
       "dtype: float64"
      ]
     },
     "execution_count": 5,
     "metadata": {},
     "output_type": "execute_result"
    }
   ],
   "source": [
    "(data.isna().sum() / data.isna().count()) * 100"
   ]
  },
  {
   "cell_type": "markdown",
   "id": "f59246c5",
   "metadata": {},
   "source": [
    "Пропущенные значения составляют 10.1% от общего количества."
   ]
  },
  {
   "cell_type": "code",
   "execution_count": 6,
   "id": "9e51c6a4",
   "metadata": {},
   "outputs": [
    {
     "data": {
      "text/html": [
       "<div>\n",
       "<style scoped>\n",
       "    .dataframe tbody tr th:only-of-type {\n",
       "        vertical-align: middle;\n",
       "    }\n",
       "\n",
       "    .dataframe tbody tr th {\n",
       "        vertical-align: top;\n",
       "    }\n",
       "\n",
       "    .dataframe thead th {\n",
       "        text-align: right;\n",
       "    }\n",
       "</style>\n",
       "<table border=\"1\" class=\"dataframe\">\n",
       "  <thead>\n",
       "    <tr style=\"text-align: right;\">\n",
       "      <th></th>\n",
       "      <th>children</th>\n",
       "      <th>days_employed</th>\n",
       "      <th>dob_years</th>\n",
       "      <th>education</th>\n",
       "      <th>education_id</th>\n",
       "      <th>family_status</th>\n",
       "      <th>family_status_id</th>\n",
       "      <th>gender</th>\n",
       "      <th>income_type</th>\n",
       "      <th>debt</th>\n",
       "      <th>total_income</th>\n",
       "      <th>purpose</th>\n",
       "    </tr>\n",
       "  </thead>\n",
       "  <tbody>\n",
       "    <tr>\n",
       "      <th>12</th>\n",
       "      <td>0</td>\n",
       "      <td>NaN</td>\n",
       "      <td>65</td>\n",
       "      <td>среднее</td>\n",
       "      <td>1</td>\n",
       "      <td>гражданский брак</td>\n",
       "      <td>1</td>\n",
       "      <td>M</td>\n",
       "      <td>пенсионер</td>\n",
       "      <td>0</td>\n",
       "      <td>NaN</td>\n",
       "      <td>сыграть свадьбу</td>\n",
       "    </tr>\n",
       "    <tr>\n",
       "      <th>26</th>\n",
       "      <td>0</td>\n",
       "      <td>NaN</td>\n",
       "      <td>41</td>\n",
       "      <td>среднее</td>\n",
       "      <td>1</td>\n",
       "      <td>женат / замужем</td>\n",
       "      <td>0</td>\n",
       "      <td>M</td>\n",
       "      <td>госслужащий</td>\n",
       "      <td>0</td>\n",
       "      <td>NaN</td>\n",
       "      <td>образование</td>\n",
       "    </tr>\n",
       "    <tr>\n",
       "      <th>29</th>\n",
       "      <td>0</td>\n",
       "      <td>NaN</td>\n",
       "      <td>63</td>\n",
       "      <td>среднее</td>\n",
       "      <td>1</td>\n",
       "      <td>Не женат / не замужем</td>\n",
       "      <td>4</td>\n",
       "      <td>F</td>\n",
       "      <td>пенсионер</td>\n",
       "      <td>0</td>\n",
       "      <td>NaN</td>\n",
       "      <td>строительство жилой недвижимости</td>\n",
       "    </tr>\n",
       "    <tr>\n",
       "      <th>41</th>\n",
       "      <td>0</td>\n",
       "      <td>NaN</td>\n",
       "      <td>50</td>\n",
       "      <td>среднее</td>\n",
       "      <td>1</td>\n",
       "      <td>женат / замужем</td>\n",
       "      <td>0</td>\n",
       "      <td>F</td>\n",
       "      <td>госслужащий</td>\n",
       "      <td>0</td>\n",
       "      <td>NaN</td>\n",
       "      <td>сделка с подержанным автомобилем</td>\n",
       "    </tr>\n",
       "    <tr>\n",
       "      <th>55</th>\n",
       "      <td>0</td>\n",
       "      <td>NaN</td>\n",
       "      <td>54</td>\n",
       "      <td>среднее</td>\n",
       "      <td>1</td>\n",
       "      <td>гражданский брак</td>\n",
       "      <td>1</td>\n",
       "      <td>F</td>\n",
       "      <td>пенсионер</td>\n",
       "      <td>1</td>\n",
       "      <td>NaN</td>\n",
       "      <td>сыграть свадьбу</td>\n",
       "    </tr>\n",
       "    <tr>\n",
       "      <th>...</th>\n",
       "      <td>...</td>\n",
       "      <td>...</td>\n",
       "      <td>...</td>\n",
       "      <td>...</td>\n",
       "      <td>...</td>\n",
       "      <td>...</td>\n",
       "      <td>...</td>\n",
       "      <td>...</td>\n",
       "      <td>...</td>\n",
       "      <td>...</td>\n",
       "      <td>...</td>\n",
       "      <td>...</td>\n",
       "    </tr>\n",
       "    <tr>\n",
       "      <th>21489</th>\n",
       "      <td>2</td>\n",
       "      <td>NaN</td>\n",
       "      <td>47</td>\n",
       "      <td>Среднее</td>\n",
       "      <td>1</td>\n",
       "      <td>женат / замужем</td>\n",
       "      <td>0</td>\n",
       "      <td>M</td>\n",
       "      <td>компаньон</td>\n",
       "      <td>0</td>\n",
       "      <td>NaN</td>\n",
       "      <td>сделка с автомобилем</td>\n",
       "    </tr>\n",
       "    <tr>\n",
       "      <th>21495</th>\n",
       "      <td>1</td>\n",
       "      <td>NaN</td>\n",
       "      <td>50</td>\n",
       "      <td>среднее</td>\n",
       "      <td>1</td>\n",
       "      <td>гражданский брак</td>\n",
       "      <td>1</td>\n",
       "      <td>F</td>\n",
       "      <td>сотрудник</td>\n",
       "      <td>0</td>\n",
       "      <td>NaN</td>\n",
       "      <td>свадьба</td>\n",
       "    </tr>\n",
       "    <tr>\n",
       "      <th>21497</th>\n",
       "      <td>0</td>\n",
       "      <td>NaN</td>\n",
       "      <td>48</td>\n",
       "      <td>ВЫСШЕЕ</td>\n",
       "      <td>0</td>\n",
       "      <td>женат / замужем</td>\n",
       "      <td>0</td>\n",
       "      <td>F</td>\n",
       "      <td>компаньон</td>\n",
       "      <td>0</td>\n",
       "      <td>NaN</td>\n",
       "      <td>строительство недвижимости</td>\n",
       "    </tr>\n",
       "    <tr>\n",
       "      <th>21502</th>\n",
       "      <td>1</td>\n",
       "      <td>NaN</td>\n",
       "      <td>42</td>\n",
       "      <td>среднее</td>\n",
       "      <td>1</td>\n",
       "      <td>женат / замужем</td>\n",
       "      <td>0</td>\n",
       "      <td>F</td>\n",
       "      <td>сотрудник</td>\n",
       "      <td>0</td>\n",
       "      <td>NaN</td>\n",
       "      <td>строительство жилой недвижимости</td>\n",
       "    </tr>\n",
       "    <tr>\n",
       "      <th>21510</th>\n",
       "      <td>2</td>\n",
       "      <td>NaN</td>\n",
       "      <td>28</td>\n",
       "      <td>среднее</td>\n",
       "      <td>1</td>\n",
       "      <td>женат / замужем</td>\n",
       "      <td>0</td>\n",
       "      <td>F</td>\n",
       "      <td>сотрудник</td>\n",
       "      <td>0</td>\n",
       "      <td>NaN</td>\n",
       "      <td>приобретение автомобиля</td>\n",
       "    </tr>\n",
       "  </tbody>\n",
       "</table>\n",
       "<p>2174 rows × 12 columns</p>\n",
       "</div>"
      ],
      "text/plain": [
       "       children  days_employed  dob_years education  education_id  \\\n",
       "12            0            NaN         65   среднее             1   \n",
       "26            0            NaN         41   среднее             1   \n",
       "29            0            NaN         63   среднее             1   \n",
       "41            0            NaN         50   среднее             1   \n",
       "55            0            NaN         54   среднее             1   \n",
       "...         ...            ...        ...       ...           ...   \n",
       "21489         2            NaN         47   Среднее             1   \n",
       "21495         1            NaN         50   среднее             1   \n",
       "21497         0            NaN         48    ВЫСШЕЕ             0   \n",
       "21502         1            NaN         42   среднее             1   \n",
       "21510         2            NaN         28   среднее             1   \n",
       "\n",
       "               family_status  family_status_id gender  income_type  debt  \\\n",
       "12          гражданский брак                 1      M    пенсионер     0   \n",
       "26           женат / замужем                 0      M  госслужащий     0   \n",
       "29     Не женат / не замужем                 4      F    пенсионер     0   \n",
       "41           женат / замужем                 0      F  госслужащий     0   \n",
       "55          гражданский брак                 1      F    пенсионер     1   \n",
       "...                      ...               ...    ...          ...   ...   \n",
       "21489        женат / замужем                 0      M    компаньон     0   \n",
       "21495       гражданский брак                 1      F    сотрудник     0   \n",
       "21497        женат / замужем                 0      F    компаньон     0   \n",
       "21502        женат / замужем                 0      F    сотрудник     0   \n",
       "21510        женат / замужем                 0      F    сотрудник     0   \n",
       "\n",
       "       total_income                           purpose  \n",
       "12              NaN                   сыграть свадьбу  \n",
       "26              NaN                       образование  \n",
       "29              NaN  строительство жилой недвижимости  \n",
       "41              NaN  сделка с подержанным автомобилем  \n",
       "55              NaN                   сыграть свадьбу  \n",
       "...             ...                               ...  \n",
       "21489           NaN              сделка с автомобилем  \n",
       "21495           NaN                           свадьба  \n",
       "21497           NaN        строительство недвижимости  \n",
       "21502           NaN  строительство жилой недвижимости  \n",
       "21510           NaN           приобретение автомобиля  \n",
       "\n",
       "[2174 rows x 12 columns]"
      ]
     },
     "execution_count": 6,
     "metadata": {},
     "output_type": "execute_result"
    }
   ],
   "source": [
    "data[data['total_income'].isna()]"
   ]
  },
  {
   "cell_type": "code",
   "execution_count": 7,
   "id": "44fabbd0",
   "metadata": {},
   "outputs": [
    {
     "data": {
      "text/html": [
       "<div>\n",
       "<style scoped>\n",
       "    .dataframe tbody tr th:only-of-type {\n",
       "        vertical-align: middle;\n",
       "    }\n",
       "\n",
       "    .dataframe tbody tr th {\n",
       "        vertical-align: top;\n",
       "    }\n",
       "\n",
       "    .dataframe thead th {\n",
       "        text-align: right;\n",
       "    }\n",
       "</style>\n",
       "<table border=\"1\" class=\"dataframe\">\n",
       "  <thead>\n",
       "    <tr style=\"text-align: right;\">\n",
       "      <th></th>\n",
       "      <th>children</th>\n",
       "      <th>days_employed</th>\n",
       "      <th>dob_years</th>\n",
       "      <th>education</th>\n",
       "      <th>education_id</th>\n",
       "      <th>family_status</th>\n",
       "      <th>family_status_id</th>\n",
       "      <th>gender</th>\n",
       "      <th>income_type</th>\n",
       "      <th>debt</th>\n",
       "      <th>total_income</th>\n",
       "      <th>purpose</th>\n",
       "    </tr>\n",
       "  </thead>\n",
       "  <tbody>\n",
       "  </tbody>\n",
       "</table>\n",
       "</div>"
      ],
      "text/plain": [
       "Empty DataFrame\n",
       "Columns: [children, days_employed, dob_years, education, education_id, family_status, family_status_id, gender, income_type, debt, total_income, purpose]\n",
       "Index: []"
      ]
     },
     "execution_count": 7,
     "metadata": {},
     "output_type": "execute_result"
    }
   ],
   "source": [
    "data[(data['total_income'].isna()) & (data['days_employed'].isna() == False)]"
   ]
  },
  {
   "cell_type": "markdown",
   "id": "57efcbe6",
   "metadata": {},
   "source": [
    "Т.к. пустые значения обоих столбцов совпадают, то предполагаю, что данные отсутствуют, т.к. не было данных о трудовом стаже этого человека, соответственно и его зарплаты. Возможно данные люди оформляли банковские услуги без подтверждения дохода и общего стажа."
   ]
  },
  {
   "cell_type": "code",
   "execution_count": 8,
   "id": "6c59f048",
   "metadata": {},
   "outputs": [],
   "source": [
    "median_ti = data['total_income'].median()\n",
    "data['total_income'] = data['total_income'].fillna(median_ti)"
   ]
  },
  {
   "cell_type": "markdown",
   "id": "5b674926",
   "metadata": {},
   "source": [
    "При вычислении средней зарплаты лучше применять метод median(), т.к. среднее значение может сильно зависеть от очень больших или малых значений столбца. Медиана в этом случае показывает более \"реальный\" средний результат."
   ]
  },
  {
   "cell_type": "markdown",
   "id": "0a51582b",
   "metadata": {},
   "source": [
    "### Шаг 2.2 Проверка данных на аномалии и исправления"
   ]
  },
  {
   "cell_type": "code",
   "execution_count": 9,
   "id": "2f5ffaa8",
   "metadata": {},
   "outputs": [],
   "source": [
    "def is_nan(value):\n",
    "    return value != value\n",
    "\n",
    "def get_anomaly(df):\n",
    "    if is_nan(df['days_employed']):\n",
    "        return \"Пустое значение\"\n",
    "    years_employed = df['days_employed'] / 365\n",
    "    if years_employed > df['dob_years']:\n",
    "        return \"Количество отработанных лет больше, чем возраст\"\n",
    "    if years_employed < 0:\n",
    "        if abs(years_employed) < df['dob_years']:\n",
    "            return \"Количество отработанных лет отрицательно, но в абсолюте не завышено\"\n",
    "        else:\n",
    "            return \"Количество отработанных лет отрицательно, в абсолюте завышено\"\n",
    "    else:\n",
    "        return \"Данные корректны\""
   ]
  },
  {
   "cell_type": "code",
   "execution_count": 10,
   "id": "5418e520",
   "metadata": {},
   "outputs": [
    {
     "data": {
      "text/plain": [
       "anomaly\n",
       "Количество отработанных лет больше, чем возраст                         3445\n",
       "Количество отработанных лет отрицательно, в абсолюте завышено             74\n",
       "Количество отработанных лет отрицательно, но в абсолюте не завышено    15832\n",
       "Пустое значение                                                         2174\n",
       "Name: gender, dtype: int64"
      ]
     },
     "execution_count": 10,
     "metadata": {},
     "output_type": "execute_result"
    }
   ],
   "source": [
    "data['anomaly'] = data.apply(get_anomaly, axis = 1)\n",
    "data.groupby('anomaly')['gender'].count()"
   ]
  },
  {
   "cell_type": "markdown",
   "id": "6773e676",
   "metadata": {},
   "source": [
    "Обнаружила, что все данные ошибочны. Присутствуют такие ошибки, как пустые значения, отрицательные значения, отрицательные значения, которые превышают возвраст человека и также значения, снова превышающие возраст человека.\n",
    "Такие ошибки могут возникнуть, потому что:\n",
    "1. Отрицательные значения могут являться положительными значениями, но введенными с ошибкой. В этому случае исправить ошибку можно изменив знак по модулю.\n",
    "2. Завышенные значения могут быть ошибкой ввода. Исправить их возможным не представляется, т.к. неизвестно, какие данные предполагались при вводе, можно заменить их на медиану.\n",
    "3. Пустые значения могли возникнуть по разным причинам. Можно заменить их на медианное значение, как уже было сделано ранее."
   ]
  },
  {
   "cell_type": "code",
   "execution_count": 11,
   "id": "119d9c1f",
   "metadata": {},
   "outputs": [],
   "source": [
    "data.loc[data['anomaly'] == 'Количество отработанных лет отрицательно, но в абсолюте не завышено', 'days_employed'] = data.loc[data['anomaly'] == 'Количество отработанных лет отрицательно, но в абсолюте не завышено', 'days_employed'] * -1\n",
    "data['anomaly'] = data.apply(get_anomaly, axis = 1)"
   ]
  },
  {
   "cell_type": "markdown",
   "id": "202a9a56",
   "metadata": {},
   "source": [
    "Исправила ошибку \"Количество отработанных лет отрицательно, но в абсолюте не завышено\", чтобы иметь предположительно корректные данные."
   ]
  },
  {
   "cell_type": "code",
   "execution_count": 12,
   "id": "727e2737",
   "metadata": {},
   "outputs": [
    {
     "data": {
      "text/plain": [
       "anomaly\n",
       "Данные корректны                                   21424\n",
       "Количество отработанных лет больше, чем возраст      101\n",
       "Name: gender, dtype: int64"
      ]
     },
     "execution_count": 12,
     "metadata": {},
     "output_type": "execute_result"
    }
   ],
   "source": [
    "median_de = data.loc[data['anomaly'] == 'Данные корректны', 'days_employed'].median()\n",
    "data.loc[data['anomaly'] == 'Количество отработанных лет больше, чем возраст', 'days_employed'] = median_de\n",
    "data.loc[data['anomaly'] == 'Количество отработанных лет отрицательно, в абсолюте завышено', 'days_employed'] = median_de\n",
    "data['days_employed'] = data['days_employed'].fillna(median_de)\n",
    "data['anomaly'] = data.apply(get_anomaly, axis = 1)\n",
    "data.groupby('anomaly')['gender'].count()"
   ]
  },
  {
   "cell_type": "markdown",
   "id": "2eef34b0",
   "metadata": {},
   "source": [
    "Исправила такие ошибки, как 'Количество отработанных лет больше, чем возраст', 'Количество отработанных лет отрицательно, в абсолюте завышено' и 'Пустое значение', заменила на медианное значение. "
   ]
  },
  {
   "cell_type": "code",
   "execution_count": 13,
   "id": "a480d534",
   "metadata": {},
   "outputs": [
    {
     "data": {
      "text/plain": [
       "array([ 0, 19, 20, 21, 22, 23, 24, 25, 26, 27, 28, 29, 30, 31, 32, 33, 34,\n",
       "       35, 36, 37, 38, 39, 40, 41, 42, 43, 44, 45, 46, 47, 48, 49, 50, 51,\n",
       "       52, 53, 54, 55, 56, 57, 58, 59, 60, 61, 62, 63, 64, 65, 66, 67, 68,\n",
       "       69, 70, 71, 72, 73, 74, 75], dtype=int64)"
      ]
     },
     "execution_count": 13,
     "metadata": {},
     "output_type": "execute_result"
    }
   ],
   "source": [
    "data['dob_years'].sort_values().unique()"
   ]
  },
  {
   "cell_type": "markdown",
   "id": "8361f43f",
   "metadata": {},
   "source": [
    "При исправлении обнаружила, что некоторые значения столбца dob_years равны нулю, что тоже является аномалией."
   ]
  },
  {
   "cell_type": "code",
   "execution_count": 14,
   "id": "2f454c11",
   "metadata": {},
   "outputs": [],
   "source": [
    "income_types = data['income_type'].unique()\n",
    "for it in income_types:\n",
    "    median = data[data['income_type'] == it]['dob_years'].median()\n",
    "    data.loc[(data['income_type'] == it) & (data['dob_years'] == 0), 'dob_years'] = median\n",
    "data['dob_years'] = data['dob_years'].astype('int')"
   ]
  },
  {
   "cell_type": "code",
   "execution_count": 15,
   "id": "3a0af615",
   "metadata": {},
   "outputs": [
    {
     "data": {
      "text/plain": [
       "array([19, 20, 21, 22, 23, 24, 25, 26, 27, 28, 29, 30, 31, 32, 33, 34, 35,\n",
       "       36, 37, 38, 39, 40, 41, 42, 43, 44, 45, 46, 47, 48, 49, 50, 51, 52,\n",
       "       53, 54, 55, 56, 57, 58, 59, 60, 61, 62, 63, 64, 65, 66, 67, 68, 69,\n",
       "       70, 71, 72, 73, 74, 75])"
      ]
     },
     "execution_count": 15,
     "metadata": {},
     "output_type": "execute_result"
    }
   ],
   "source": [
    "data['dob_years'].sort_values().unique()"
   ]
  },
  {
   "cell_type": "markdown",
   "id": "34743c94",
   "metadata": {},
   "source": [
    "Заменила нулевые значения на средние по типу занятости, т.к. тип занятости лучше всего отражает возрастную категорию."
   ]
  },
  {
   "cell_type": "code",
   "execution_count": 16,
   "id": "fe5c379c",
   "metadata": {},
   "outputs": [
    {
     "data": {
      "text/plain": [
       "array([-1,  0,  1,  2,  3,  4,  5, 20], dtype=int64)"
      ]
     },
     "execution_count": 16,
     "metadata": {},
     "output_type": "execute_result"
    }
   ],
   "source": [
    "data['children'].sort_values().unique()"
   ]
  },
  {
   "cell_type": "markdown",
   "id": "e25f98a5",
   "metadata": {},
   "source": [
    "Также обнаружила аномалию в столбце 'children'. Очевидно, аномальными являются значения -1 и 20."
   ]
  },
  {
   "cell_type": "code",
   "execution_count": 17,
   "id": "1cda4ce8",
   "metadata": {},
   "outputs": [],
   "source": [
    "data.loc[data['children'] == 20, 'children'] = 2\n",
    "data.loc[data['children'] == -1, 'children'] = 1"
   ]
  },
  {
   "cell_type": "code",
   "execution_count": 18,
   "id": "58cbfb9b",
   "metadata": {},
   "outputs": [
    {
     "data": {
      "text/plain": [
       "array([0, 1, 2, 3, 4, 5], dtype=int64)"
      ]
     },
     "execution_count": 18,
     "metadata": {},
     "output_type": "execute_result"
    }
   ],
   "source": [
    "data['children'].sort_values().unique()"
   ]
  },
  {
   "cell_type": "markdown",
   "id": "839fd52d",
   "metadata": {},
   "source": [
    "Это все аномалии, которые я обнаружила."
   ]
  },
  {
   "cell_type": "markdown",
   "id": "acbe5474",
   "metadata": {},
   "source": [
    "### Шаг 2.3 Изменение типов данных"
   ]
  },
  {
   "cell_type": "code",
   "execution_count": 19,
   "id": "409528b0",
   "metadata": {},
   "outputs": [
    {
     "name": "stdout",
     "output_type": "stream",
     "text": [
      "<class 'pandas.core.frame.DataFrame'>\n",
      "RangeIndex: 21525 entries, 0 to 21524\n",
      "Data columns (total 13 columns):\n",
      " #   Column            Non-Null Count  Dtype  \n",
      "---  ------            --------------  -----  \n",
      " 0   children          21525 non-null  int64  \n",
      " 1   days_employed     21525 non-null  float64\n",
      " 2   dob_years         21525 non-null  int32  \n",
      " 3   education         21525 non-null  object \n",
      " 4   education_id      21525 non-null  int64  \n",
      " 5   family_status     21525 non-null  object \n",
      " 6   family_status_id  21525 non-null  int64  \n",
      " 7   gender            21525 non-null  object \n",
      " 8   income_type       21525 non-null  object \n",
      " 9   debt              21525 non-null  int64  \n",
      " 10  total_income      21525 non-null  int32  \n",
      " 11  purpose           21525 non-null  object \n",
      " 12  anomaly           21525 non-null  object \n",
      "dtypes: float64(1), int32(2), int64(4), object(6)\n",
      "memory usage: 2.0+ MB\n"
     ]
    }
   ],
   "source": [
    "data['total_income'] = data['total_income'].astype('int')\n",
    "data.info()"
   ]
  },
  {
   "cell_type": "markdown",
   "id": "1953c7a6",
   "metadata": {},
   "source": [
    "### Шаг 2.4 Удаление дубликатов"
   ]
  },
  {
   "cell_type": "code",
   "execution_count": 20,
   "id": "d5631f7c",
   "metadata": {},
   "outputs": [],
   "source": [
    "data = data.drop_duplicates().reset_index(drop=True)"
   ]
  },
  {
   "cell_type": "code",
   "execution_count": 21,
   "id": "8dbedd9a",
   "metadata": {},
   "outputs": [
    {
     "data": {
      "text/plain": [
       "array(['высшее', 'среднее', 'Среднее', 'СРЕДНЕЕ', 'ВЫСШЕЕ',\n",
       "       'неоконченное высшее', 'начальное', 'Высшее',\n",
       "       'НЕОКОНЧЕННОЕ ВЫСШЕЕ', 'Неоконченное высшее', 'НАЧАЛЬНОЕ',\n",
       "       'Начальное', 'Ученая степень', 'УЧЕНАЯ СТЕПЕНЬ', 'ученая степень'],\n",
       "      dtype=object)"
      ]
     },
     "execution_count": 21,
     "metadata": {},
     "output_type": "execute_result"
    }
   ],
   "source": [
    "data['education'].unique()"
   ]
  },
  {
   "cell_type": "code",
   "execution_count": 22,
   "id": "ba812442",
   "metadata": {},
   "outputs": [],
   "source": [
    "data['education'] = data['education'].str.lower()"
   ]
  },
  {
   "cell_type": "code",
   "execution_count": 23,
   "id": "fcdab385",
   "metadata": {},
   "outputs": [
    {
     "data": {
      "text/plain": [
       "array(['высшее', 'среднее', 'неоконченное высшее', 'начальное',\n",
       "       'ученая степень'], dtype=object)"
      ]
     },
     "execution_count": 23,
     "metadata": {},
     "output_type": "execute_result"
    }
   ],
   "source": [
    "data['education'].unique()"
   ]
  },
  {
   "cell_type": "code",
   "execution_count": 24,
   "id": "ded57475",
   "metadata": {},
   "outputs": [
    {
     "data": {
      "text/plain": [
       "array(['F', 'M', 'XNA'], dtype=object)"
      ]
     },
     "execution_count": 24,
     "metadata": {},
     "output_type": "execute_result"
    }
   ],
   "source": [
    "data['gender'].unique()"
   ]
  },
  {
   "cell_type": "code",
   "execution_count": 25,
   "id": "4e070874",
   "metadata": {},
   "outputs": [],
   "source": [
    "data = data[data['gender'] != 'XNA']"
   ]
  },
  {
   "cell_type": "code",
   "execution_count": 26,
   "id": "c2b6eff0",
   "metadata": {},
   "outputs": [
    {
     "data": {
      "text/plain": [
       "array(['F', 'M'], dtype=object)"
      ]
     },
     "execution_count": 26,
     "metadata": {},
     "output_type": "execute_result"
    }
   ],
   "source": [
    "data['gender'].unique()"
   ]
  },
  {
   "cell_type": "markdown",
   "id": "7c587629",
   "metadata": {},
   "source": [
    "Явные дубликаты я удалила через drop_duplicates, а также обновила индексацию с помощью метода reset_index(). Для поиска неявных дубликатов вывела уникальные значения столбцов, в которых могли повторяться значения, с помощью метода unique(), а после этого данные либо удалила, если они не имели критического значения, либо привела к единому регистру с помощью метода str.lower(), т.к. в столбце \"education\" значения были указаны правильно, только имели прописные буквы.\n",
    "\n",
    "Возможные причины появления дубликатов:\n",
    "1. Человеческий фактор. В случае с образованием разные люди вводили данные в разном стиле.\n",
    "2. Причины полных дубликатов строк может быть связана с ошибкой вводы или же с повторными заявками.\n",
    "3. С полом человека можно предположить, что запись была введена ошибочно."
   ]
  },
  {
   "cell_type": "markdown",
   "id": "65d4c2dd",
   "metadata": {},
   "source": [
    "### Шаг 2.5 Формирование дополнительных датафреймов словарей, декомпозиция исходного датафрейма"
   ]
  },
  {
   "cell_type": "code",
   "execution_count": 27,
   "id": "248b15d6",
   "metadata": {},
   "outputs": [
    {
     "data": {
      "text/html": [
       "<div>\n",
       "<style scoped>\n",
       "    .dataframe tbody tr th:only-of-type {\n",
       "        vertical-align: middle;\n",
       "    }\n",
       "\n",
       "    .dataframe tbody tr th {\n",
       "        vertical-align: top;\n",
       "    }\n",
       "\n",
       "    .dataframe thead th {\n",
       "        text-align: right;\n",
       "    }\n",
       "</style>\n",
       "<table border=\"1\" class=\"dataframe\">\n",
       "  <thead>\n",
       "    <tr style=\"text-align: right;\">\n",
       "      <th></th>\n",
       "      <th>education</th>\n",
       "      <th>education_id</th>\n",
       "    </tr>\n",
       "  </thead>\n",
       "  <tbody>\n",
       "    <tr>\n",
       "      <th>0</th>\n",
       "      <td>высшее</td>\n",
       "      <td>0</td>\n",
       "    </tr>\n",
       "    <tr>\n",
       "      <th>1</th>\n",
       "      <td>среднее</td>\n",
       "      <td>1</td>\n",
       "    </tr>\n",
       "    <tr>\n",
       "      <th>13</th>\n",
       "      <td>неоконченное высшее</td>\n",
       "      <td>2</td>\n",
       "    </tr>\n",
       "    <tr>\n",
       "      <th>31</th>\n",
       "      <td>начальное</td>\n",
       "      <td>3</td>\n",
       "    </tr>\n",
       "    <tr>\n",
       "      <th>2962</th>\n",
       "      <td>ученая степень</td>\n",
       "      <td>4</td>\n",
       "    </tr>\n",
       "  </tbody>\n",
       "</table>\n",
       "</div>"
      ],
      "text/plain": [
       "                education  education_id\n",
       "0                  высшее             0\n",
       "1                 среднее             1\n",
       "13    неоконченное высшее             2\n",
       "31              начальное             3\n",
       "2962       ученая степень             4"
      ]
     },
     "execution_count": 27,
     "metadata": {},
     "output_type": "execute_result"
    }
   ],
   "source": [
    "data_edu = data[['education','education_id']].drop_duplicates()\n",
    "data_edu"
   ]
  },
  {
   "cell_type": "code",
   "execution_count": 28,
   "id": "7f8f246b",
   "metadata": {},
   "outputs": [
    {
     "data": {
      "text/html": [
       "<div>\n",
       "<style scoped>\n",
       "    .dataframe tbody tr th:only-of-type {\n",
       "        vertical-align: middle;\n",
       "    }\n",
       "\n",
       "    .dataframe tbody tr th {\n",
       "        vertical-align: top;\n",
       "    }\n",
       "\n",
       "    .dataframe thead th {\n",
       "        text-align: right;\n",
       "    }\n",
       "</style>\n",
       "<table border=\"1\" class=\"dataframe\">\n",
       "  <thead>\n",
       "    <tr style=\"text-align: right;\">\n",
       "      <th></th>\n",
       "      <th>family_status</th>\n",
       "      <th>family_status_id</th>\n",
       "    </tr>\n",
       "  </thead>\n",
       "  <tbody>\n",
       "    <tr>\n",
       "      <th>0</th>\n",
       "      <td>женат / замужем</td>\n",
       "      <td>0</td>\n",
       "    </tr>\n",
       "    <tr>\n",
       "      <th>4</th>\n",
       "      <td>гражданский брак</td>\n",
       "      <td>1</td>\n",
       "    </tr>\n",
       "    <tr>\n",
       "      <th>18</th>\n",
       "      <td>вдовец / вдова</td>\n",
       "      <td>2</td>\n",
       "    </tr>\n",
       "    <tr>\n",
       "      <th>19</th>\n",
       "      <td>в разводе</td>\n",
       "      <td>3</td>\n",
       "    </tr>\n",
       "    <tr>\n",
       "      <th>24</th>\n",
       "      <td>Не женат / не замужем</td>\n",
       "      <td>4</td>\n",
       "    </tr>\n",
       "  </tbody>\n",
       "</table>\n",
       "</div>"
      ],
      "text/plain": [
       "            family_status  family_status_id\n",
       "0         женат / замужем                 0\n",
       "4        гражданский брак                 1\n",
       "18         вдовец / вдова                 2\n",
       "19              в разводе                 3\n",
       "24  Не женат / не замужем                 4"
      ]
     },
     "execution_count": 28,
     "metadata": {},
     "output_type": "execute_result"
    }
   ],
   "source": [
    "data_fs = data[['family_status','family_status_id']].drop_duplicates()\n",
    "data_fs"
   ]
  },
  {
   "cell_type": "code",
   "execution_count": 29,
   "id": "c3360875",
   "metadata": {},
   "outputs": [
    {
     "data": {
      "text/html": [
       "<div>\n",
       "<style scoped>\n",
       "    .dataframe tbody tr th:only-of-type {\n",
       "        vertical-align: middle;\n",
       "    }\n",
       "\n",
       "    .dataframe tbody tr th {\n",
       "        vertical-align: top;\n",
       "    }\n",
       "\n",
       "    .dataframe thead th {\n",
       "        text-align: right;\n",
       "    }\n",
       "</style>\n",
       "<table border=\"1\" class=\"dataframe\">\n",
       "  <thead>\n",
       "    <tr style=\"text-align: right;\">\n",
       "      <th></th>\n",
       "      <th>children</th>\n",
       "      <th>days_employed</th>\n",
       "      <th>dob_years</th>\n",
       "      <th>education_id</th>\n",
       "      <th>family_status_id</th>\n",
       "      <th>gender</th>\n",
       "      <th>income_type</th>\n",
       "      <th>debt</th>\n",
       "      <th>total_income</th>\n",
       "      <th>purpose</th>\n",
       "      <th>anomaly</th>\n",
       "    </tr>\n",
       "  </thead>\n",
       "  <tbody>\n",
       "    <tr>\n",
       "      <th>0</th>\n",
       "      <td>1</td>\n",
       "      <td>8437.673028</td>\n",
       "      <td>42</td>\n",
       "      <td>0</td>\n",
       "      <td>0</td>\n",
       "      <td>F</td>\n",
       "      <td>сотрудник</td>\n",
       "      <td>0</td>\n",
       "      <td>253875</td>\n",
       "      <td>покупка жилья</td>\n",
       "      <td>Данные корректны</td>\n",
       "    </tr>\n",
       "    <tr>\n",
       "      <th>1</th>\n",
       "      <td>1</td>\n",
       "      <td>4024.803754</td>\n",
       "      <td>36</td>\n",
       "      <td>1</td>\n",
       "      <td>0</td>\n",
       "      <td>F</td>\n",
       "      <td>сотрудник</td>\n",
       "      <td>0</td>\n",
       "      <td>112080</td>\n",
       "      <td>приобретение автомобиля</td>\n",
       "      <td>Данные корректны</td>\n",
       "    </tr>\n",
       "    <tr>\n",
       "      <th>2</th>\n",
       "      <td>0</td>\n",
       "      <td>5623.422610</td>\n",
       "      <td>33</td>\n",
       "      <td>1</td>\n",
       "      <td>0</td>\n",
       "      <td>M</td>\n",
       "      <td>сотрудник</td>\n",
       "      <td>0</td>\n",
       "      <td>145885</td>\n",
       "      <td>покупка жилья</td>\n",
       "      <td>Данные корректны</td>\n",
       "    </tr>\n",
       "    <tr>\n",
       "      <th>3</th>\n",
       "      <td>3</td>\n",
       "      <td>4124.747207</td>\n",
       "      <td>32</td>\n",
       "      <td>1</td>\n",
       "      <td>0</td>\n",
       "      <td>M</td>\n",
       "      <td>сотрудник</td>\n",
       "      <td>0</td>\n",
       "      <td>267628</td>\n",
       "      <td>дополнительное образование</td>\n",
       "      <td>Данные корректны</td>\n",
       "    </tr>\n",
       "    <tr>\n",
       "      <th>4</th>\n",
       "      <td>0</td>\n",
       "      <td>1630.691372</td>\n",
       "      <td>53</td>\n",
       "      <td>1</td>\n",
       "      <td>1</td>\n",
       "      <td>F</td>\n",
       "      <td>пенсионер</td>\n",
       "      <td>0</td>\n",
       "      <td>158616</td>\n",
       "      <td>сыграть свадьбу</td>\n",
       "      <td>Данные корректны</td>\n",
       "    </tr>\n",
       "    <tr>\n",
       "      <th>...</th>\n",
       "      <td>...</td>\n",
       "      <td>...</td>\n",
       "      <td>...</td>\n",
       "      <td>...</td>\n",
       "      <td>...</td>\n",
       "      <td>...</td>\n",
       "      <td>...</td>\n",
       "      <td>...</td>\n",
       "      <td>...</td>\n",
       "      <td>...</td>\n",
       "      <td>...</td>\n",
       "    </tr>\n",
       "    <tr>\n",
       "      <th>21466</th>\n",
       "      <td>1</td>\n",
       "      <td>4529.316663</td>\n",
       "      <td>43</td>\n",
       "      <td>1</td>\n",
       "      <td>1</td>\n",
       "      <td>F</td>\n",
       "      <td>компаньон</td>\n",
       "      <td>0</td>\n",
       "      <td>224791</td>\n",
       "      <td>операции с жильем</td>\n",
       "      <td>Данные корректны</td>\n",
       "    </tr>\n",
       "    <tr>\n",
       "      <th>21467</th>\n",
       "      <td>0</td>\n",
       "      <td>1630.691372</td>\n",
       "      <td>67</td>\n",
       "      <td>1</td>\n",
       "      <td>0</td>\n",
       "      <td>F</td>\n",
       "      <td>пенсионер</td>\n",
       "      <td>0</td>\n",
       "      <td>155999</td>\n",
       "      <td>сделка с автомобилем</td>\n",
       "      <td>Данные корректны</td>\n",
       "    </tr>\n",
       "    <tr>\n",
       "      <th>21468</th>\n",
       "      <td>1</td>\n",
       "      <td>2113.346888</td>\n",
       "      <td>38</td>\n",
       "      <td>1</td>\n",
       "      <td>1</td>\n",
       "      <td>M</td>\n",
       "      <td>сотрудник</td>\n",
       "      <td>1</td>\n",
       "      <td>89672</td>\n",
       "      <td>недвижимость</td>\n",
       "      <td>Данные корректны</td>\n",
       "    </tr>\n",
       "    <tr>\n",
       "      <th>21469</th>\n",
       "      <td>3</td>\n",
       "      <td>3112.481705</td>\n",
       "      <td>38</td>\n",
       "      <td>1</td>\n",
       "      <td>0</td>\n",
       "      <td>M</td>\n",
       "      <td>сотрудник</td>\n",
       "      <td>1</td>\n",
       "      <td>244093</td>\n",
       "      <td>на покупку своего автомобиля</td>\n",
       "      <td>Данные корректны</td>\n",
       "    </tr>\n",
       "    <tr>\n",
       "      <th>21470</th>\n",
       "      <td>2</td>\n",
       "      <td>1984.507589</td>\n",
       "      <td>40</td>\n",
       "      <td>1</td>\n",
       "      <td>0</td>\n",
       "      <td>F</td>\n",
       "      <td>сотрудник</td>\n",
       "      <td>0</td>\n",
       "      <td>82047</td>\n",
       "      <td>на покупку автомобиля</td>\n",
       "      <td>Данные корректны</td>\n",
       "    </tr>\n",
       "  </tbody>\n",
       "</table>\n",
       "<p>21470 rows × 11 columns</p>\n",
       "</div>"
      ],
      "text/plain": [
       "       children  days_employed  dob_years  education_id  family_status_id  \\\n",
       "0             1    8437.673028         42             0                 0   \n",
       "1             1    4024.803754         36             1                 0   \n",
       "2             0    5623.422610         33             1                 0   \n",
       "3             3    4124.747207         32             1                 0   \n",
       "4             0    1630.691372         53             1                 1   \n",
       "...         ...            ...        ...           ...               ...   \n",
       "21466         1    4529.316663         43             1                 1   \n",
       "21467         0    1630.691372         67             1                 0   \n",
       "21468         1    2113.346888         38             1                 1   \n",
       "21469         3    3112.481705         38             1                 0   \n",
       "21470         2    1984.507589         40             1                 0   \n",
       "\n",
       "      gender income_type  debt  total_income                       purpose  \\\n",
       "0          F   сотрудник     0        253875                 покупка жилья   \n",
       "1          F   сотрудник     0        112080       приобретение автомобиля   \n",
       "2          M   сотрудник     0        145885                 покупка жилья   \n",
       "3          M   сотрудник     0        267628    дополнительное образование   \n",
       "4          F   пенсионер     0        158616               сыграть свадьбу   \n",
       "...      ...         ...   ...           ...                           ...   \n",
       "21466      F   компаньон     0        224791             операции с жильем   \n",
       "21467      F   пенсионер     0        155999          сделка с автомобилем   \n",
       "21468      M   сотрудник     1         89672                  недвижимость   \n",
       "21469      M   сотрудник     1        244093  на покупку своего автомобиля   \n",
       "21470      F   сотрудник     0         82047         на покупку автомобиля   \n",
       "\n",
       "                anomaly  \n",
       "0      Данные корректны  \n",
       "1      Данные корректны  \n",
       "2      Данные корректны  \n",
       "3      Данные корректны  \n",
       "4      Данные корректны  \n",
       "...                 ...  \n",
       "21466  Данные корректны  \n",
       "21467  Данные корректны  \n",
       "21468  Данные корректны  \n",
       "21469  Данные корректны  \n",
       "21470  Данные корректны  \n",
       "\n",
       "[21470 rows x 11 columns]"
      ]
     },
     "execution_count": 29,
     "metadata": {},
     "output_type": "execute_result"
    }
   ],
   "source": [
    "data = data.drop(columns=['education','family_status'], axis=1)\n",
    "data"
   ]
  },
  {
   "cell_type": "markdown",
   "id": "37c64039",
   "metadata": {},
   "source": [
    "### Шаг 2.6 Категоризация дохода"
   ]
  },
  {
   "cell_type": "code",
   "execution_count": 30,
   "id": "32df5563",
   "metadata": {},
   "outputs": [],
   "source": [
    "def total_income_category(total_income):\n",
    "    if 0 < total_income <= 30000:\n",
    "        return 'E'\n",
    "    if 30001 < total_income <= 50000:\n",
    "        return 'D'\n",
    "    if 50001 < total_income <= 200000:\n",
    "        return 'C'\n",
    "    if 200001 < total_income <= 1000000:\n",
    "        return 'B'\n",
    "    else:\n",
    "        return 'A'\n",
    "\n",
    "data['total_income_category'] = data['total_income'].apply(total_income_category)"
   ]
  },
  {
   "cell_type": "markdown",
   "id": "2b158a4c",
   "metadata": {},
   "source": [
    "### Шаг 2.7 Категоризация целей кредита"
   ]
  },
  {
   "cell_type": "code",
   "execution_count": 31,
   "id": "e30879fa",
   "metadata": {},
   "outputs": [
    {
     "data": {
      "text/plain": [
       "array(['покупка жилья', 'приобретение автомобиля',\n",
       "       'дополнительное образование', 'сыграть свадьбу',\n",
       "       'операции с жильем', 'образование', 'на проведение свадьбы',\n",
       "       'покупка жилья для семьи', 'покупка недвижимости',\n",
       "       'покупка коммерческой недвижимости', 'покупка жилой недвижимости',\n",
       "       'строительство собственной недвижимости', 'недвижимость',\n",
       "       'строительство недвижимости', 'на покупку подержанного автомобиля',\n",
       "       'на покупку своего автомобиля',\n",
       "       'операции с коммерческой недвижимостью',\n",
       "       'строительство жилой недвижимости', 'жилье',\n",
       "       'операции со своей недвижимостью', 'автомобили',\n",
       "       'заняться образованием', 'сделка с подержанным автомобилем',\n",
       "       'получение образования', 'автомобиль', 'свадьба',\n",
       "       'получение дополнительного образования', 'покупка своего жилья',\n",
       "       'операции с недвижимостью', 'получение высшего образования',\n",
       "       'свой автомобиль', 'сделка с автомобилем',\n",
       "       'профильное образование', 'высшее образование',\n",
       "       'покупка жилья для сдачи', 'на покупку автомобиля', 'ремонт жилью',\n",
       "       'заняться высшим образованием'], dtype=object)"
      ]
     },
     "execution_count": 31,
     "metadata": {},
     "output_type": "execute_result"
    }
   ],
   "source": [
    "data['purpose'].unique()"
   ]
  },
  {
   "cell_type": "code",
   "execution_count": 32,
   "id": "edc9e00e",
   "metadata": {},
   "outputs": [],
   "source": [
    "def purpose_category(purpose):\n",
    "    if 'автомобил' in purpose:\n",
    "        return 'операции с автомобилем'\n",
    "    if 'жиль' in purpose or 'недвижимост' in purpose:\n",
    "        return 'операции с недвижимостью'\n",
    "    if 'свадьб' in purpose:\n",
    "        return 'проведение свадьбы'\n",
    "    return 'получение образования'\n",
    "    \n",
    "    \n",
    "data['purpose_category'] = data['purpose'].apply(purpose_category)"
   ]
  },
  {
   "cell_type": "markdown",
   "id": "97f36668",
   "metadata": {},
   "source": [
    "### Ответы на вопросы:"
   ]
  },
  {
   "cell_type": "markdown",
   "id": "7878e237",
   "metadata": {},
   "source": [
    "##### Вопрос 1:  Есть ли зависимость между количеством детей и возвратом кредита в срок?"
   ]
  },
  {
   "cell_type": "code",
   "execution_count": 33,
   "id": "76e6c840",
   "metadata": {},
   "outputs": [
    {
     "data": {
      "text/html": [
       "<div>\n",
       "<style scoped>\n",
       "    .dataframe tbody tr th:only-of-type {\n",
       "        vertical-align: middle;\n",
       "    }\n",
       "\n",
       "    .dataframe tbody tr th {\n",
       "        vertical-align: top;\n",
       "    }\n",
       "\n",
       "    .dataframe thead th {\n",
       "        text-align: right;\n",
       "    }\n",
       "</style>\n",
       "<table border=\"1\" class=\"dataframe\">\n",
       "  <thead>\n",
       "    <tr style=\"text-align: right;\">\n",
       "      <th>debt</th>\n",
       "      <th>0</th>\n",
       "      <th>1</th>\n",
       "    </tr>\n",
       "    <tr>\n",
       "      <th>children</th>\n",
       "      <th></th>\n",
       "      <th></th>\n",
       "    </tr>\n",
       "  </thead>\n",
       "  <tbody>\n",
       "    <tr>\n",
       "      <th>0</th>\n",
       "      <td>13043.0</td>\n",
       "      <td>1063.0</td>\n",
       "    </tr>\n",
       "    <tr>\n",
       "      <th>1</th>\n",
       "      <td>4411.0</td>\n",
       "      <td>445.0</td>\n",
       "    </tr>\n",
       "    <tr>\n",
       "      <th>2</th>\n",
       "      <td>1926.0</td>\n",
       "      <td>202.0</td>\n",
       "    </tr>\n",
       "    <tr>\n",
       "      <th>3</th>\n",
       "      <td>303.0</td>\n",
       "      <td>27.0</td>\n",
       "    </tr>\n",
       "    <tr>\n",
       "      <th>4</th>\n",
       "      <td>37.0</td>\n",
       "      <td>4.0</td>\n",
       "    </tr>\n",
       "    <tr>\n",
       "      <th>5</th>\n",
       "      <td>9.0</td>\n",
       "      <td>NaN</td>\n",
       "    </tr>\n",
       "  </tbody>\n",
       "</table>\n",
       "</div>"
      ],
      "text/plain": [
       "debt            0       1\n",
       "children                 \n",
       "0         13043.0  1063.0\n",
       "1          4411.0   445.0\n",
       "2          1926.0   202.0\n",
       "3           303.0    27.0\n",
       "4            37.0     4.0\n",
       "5             9.0     NaN"
      ]
     },
     "execution_count": 33,
     "metadata": {},
     "output_type": "execute_result"
    }
   ],
   "source": [
    "data_pivot = data.pivot_table(index=['children'], columns='debt', values='purpose', aggfunc='count')\n",
    "data_pivot"
   ]
  },
  {
   "cell_type": "code",
   "execution_count": 34,
   "id": "191801f4",
   "metadata": {},
   "outputs": [
    {
     "data": {
      "text/plain": [
       "children\n",
       "0    7.535800\n",
       "1    9.163921\n",
       "2    9.492481\n",
       "3    8.181818\n",
       "4    9.756098\n",
       "5    0.000000\n",
       "dtype: float64"
      ]
     },
     "execution_count": 34,
     "metadata": {},
     "output_type": "execute_result"
    }
   ],
   "source": [
    "(data_pivot[1].fillna(0) / (data_pivot[0] + data_pivot[1].fillna(0))) * 100"
   ]
  },
  {
   "cell_type": "markdown",
   "id": "5418def8",
   "metadata": {},
   "source": [
    "##### Вывод 1:"
   ]
  },
  {
   "cell_type": "markdown",
   "id": "44241f9b",
   "metadata": {},
   "source": [
    "*Зависимость от количества детей есть, но неявная. Можно заметить разницу в долях между теми, у кого дети есть и у кого их вовсе нет, и также можно заметить небольшой прирост в доле должников по мере роста количества детей. С другой стороны, этот небольшой прирост слишком мал, чтобы считать его значимым.*"
   ]
  },
  {
   "cell_type": "markdown",
   "id": "8d1d9599",
   "metadata": {},
   "source": [
    "##### Вопрос 2: Есть ли зависимость между семейным положением и возвратом кредита в срок?"
   ]
  },
  {
   "cell_type": "code",
   "execution_count": 35,
   "id": "7afd6719",
   "metadata": {},
   "outputs": [
    {
     "data": {
      "text/html": [
       "<div>\n",
       "<style scoped>\n",
       "    .dataframe tbody tr th:only-of-type {\n",
       "        vertical-align: middle;\n",
       "    }\n",
       "\n",
       "    .dataframe tbody tr th {\n",
       "        vertical-align: top;\n",
       "    }\n",
       "\n",
       "    .dataframe thead th {\n",
       "        text-align: right;\n",
       "    }\n",
       "</style>\n",
       "<table border=\"1\" class=\"dataframe\">\n",
       "  <thead>\n",
       "    <tr style=\"text-align: right;\">\n",
       "      <th>debt</th>\n",
       "      <th>0</th>\n",
       "      <th>1</th>\n",
       "    </tr>\n",
       "    <tr>\n",
       "      <th>family_status</th>\n",
       "      <th></th>\n",
       "      <th></th>\n",
       "    </tr>\n",
       "  </thead>\n",
       "  <tbody>\n",
       "    <tr>\n",
       "      <th>Не женат / не замужем</th>\n",
       "      <td>2536</td>\n",
       "      <td>274</td>\n",
       "    </tr>\n",
       "    <tr>\n",
       "      <th>в разводе</th>\n",
       "      <td>1110</td>\n",
       "      <td>85</td>\n",
       "    </tr>\n",
       "    <tr>\n",
       "      <th>вдовец / вдова</th>\n",
       "      <td>896</td>\n",
       "      <td>63</td>\n",
       "    </tr>\n",
       "    <tr>\n",
       "      <th>гражданский брак</th>\n",
       "      <td>3774</td>\n",
       "      <td>388</td>\n",
       "    </tr>\n",
       "    <tr>\n",
       "      <th>женат / замужем</th>\n",
       "      <td>11413</td>\n",
       "      <td>931</td>\n",
       "    </tr>\n",
       "  </tbody>\n",
       "</table>\n",
       "</div>"
      ],
      "text/plain": [
       "debt                       0    1\n",
       "family_status                    \n",
       "Не женат / не замужем   2536  274\n",
       "в разводе               1110   85\n",
       "вдовец / вдова           896   63\n",
       "гражданский брак        3774  388\n",
       "женат / замужем        11413  931"
      ]
     },
     "execution_count": 35,
     "metadata": {},
     "output_type": "execute_result"
    }
   ],
   "source": [
    "data_pivot1 = data.merge(data_fs, on='family_status_id', how='left').pivot_table(index=['family_status'], columns='debt', values='purpose', aggfunc='count')\n",
    "data_pivot1"
   ]
  },
  {
   "cell_type": "code",
   "execution_count": 36,
   "id": "5a2ced91",
   "metadata": {},
   "outputs": [
    {
     "data": {
      "text/plain": [
       "family_status\n",
       "Не женат / не замужем    9.750890\n",
       "в разводе                7.112971\n",
       "вдовец / вдова           6.569343\n",
       "гражданский брак         9.322441\n",
       "женат / замужем          7.542126\n",
       "dtype: float64"
      ]
     },
     "execution_count": 36,
     "metadata": {},
     "output_type": "execute_result"
    }
   ],
   "source": [
    "(data_pivot1[1] / (data_pivot1[0] + data_pivot1[1])) * 100"
   ]
  },
  {
   "cell_type": "markdown",
   "id": "4a189775",
   "metadata": {},
   "source": [
    "##### Вывод 2:"
   ]
  },
  {
   "cell_type": "markdown",
   "id": "8d586ab7",
   "metadata": {},
   "source": [
    "*На основании полученных данных явная зависимость не прослеживается. Вижу, что доля тех, кто женат / замужем или в гражданском браке примерно совпадает с теми, кто не женат / не замужем или в разводе.*"
   ]
  },
  {
   "cell_type": "markdown",
   "id": "2ee5540a",
   "metadata": {},
   "source": [
    "##### Вопрос 3: Есть ли зависимость между уровнем дохода и возвратом кредита в срок?"
   ]
  },
  {
   "cell_type": "code",
   "execution_count": 37,
   "id": "ba34d4a4",
   "metadata": {},
   "outputs": [
    {
     "data": {
      "text/html": [
       "<div>\n",
       "<style scoped>\n",
       "    .dataframe tbody tr th:only-of-type {\n",
       "        vertical-align: middle;\n",
       "    }\n",
       "\n",
       "    .dataframe tbody tr th {\n",
       "        vertical-align: top;\n",
       "    }\n",
       "\n",
       "    .dataframe thead th {\n",
       "        text-align: right;\n",
       "    }\n",
       "</style>\n",
       "<table border=\"1\" class=\"dataframe\">\n",
       "  <thead>\n",
       "    <tr style=\"text-align: right;\">\n",
       "      <th>debt</th>\n",
       "      <th>0</th>\n",
       "      <th>1</th>\n",
       "    </tr>\n",
       "    <tr>\n",
       "      <th>total_income_category</th>\n",
       "      <th></th>\n",
       "      <th></th>\n",
       "    </tr>\n",
       "  </thead>\n",
       "  <tbody>\n",
       "    <tr>\n",
       "      <th>A</th>\n",
       "      <td>24</td>\n",
       "      <td>2</td>\n",
       "    </tr>\n",
       "    <tr>\n",
       "      <th>B</th>\n",
       "      <td>4683</td>\n",
       "      <td>356</td>\n",
       "    </tr>\n",
       "    <tr>\n",
       "      <th>C</th>\n",
       "      <td>14673</td>\n",
       "      <td>1360</td>\n",
       "    </tr>\n",
       "    <tr>\n",
       "      <th>D</th>\n",
       "      <td>329</td>\n",
       "      <td>21</td>\n",
       "    </tr>\n",
       "    <tr>\n",
       "      <th>E</th>\n",
       "      <td>20</td>\n",
       "      <td>2</td>\n",
       "    </tr>\n",
       "  </tbody>\n",
       "</table>\n",
       "</div>"
      ],
      "text/plain": [
       "debt                       0     1\n",
       "total_income_category             \n",
       "A                         24     2\n",
       "B                       4683   356\n",
       "C                      14673  1360\n",
       "D                        329    21\n",
       "E                         20     2"
      ]
     },
     "execution_count": 37,
     "metadata": {},
     "output_type": "execute_result"
    }
   ],
   "source": [
    "data_pivot2 = data.pivot_table(index=['total_income_category'], columns='debt', values='purpose', aggfunc='count')\n",
    "data_pivot2"
   ]
  },
  {
   "cell_type": "code",
   "execution_count": 38,
   "id": "495152ae",
   "metadata": {},
   "outputs": [
    {
     "data": {
      "text/plain": [
       "total_income_category\n",
       "A    7.692308\n",
       "B    7.064894\n",
       "C    8.482505\n",
       "D    6.000000\n",
       "E    9.090909\n",
       "dtype: float64"
      ]
     },
     "execution_count": 38,
     "metadata": {},
     "output_type": "execute_result"
    }
   ],
   "source": [
    "(data_pivot2[1] / (data_pivot2[0] + data_pivot2[1])) * 100"
   ]
  },
  {
   "cell_type": "markdown",
   "id": "b887b020",
   "metadata": {},
   "source": [
    "##### Вывод 3:"
   ]
  },
  {
   "cell_type": "markdown",
   "id": "a8a6ed54",
   "metadata": {},
   "source": [
    "*На первый взгляд можно заметить зависимость, но с другой стороны невозможно утверждать о ее наличии, т.к. во всех категориях сильно отличается объем данных, и замеченная зависимость может оказаться ложной при дальнейшем анализе этих данных.*"
   ]
  },
  {
   "cell_type": "markdown",
   "id": "eb6fd431",
   "metadata": {},
   "source": [
    "##### Вопрос 4: Как разные цели кредита влияют на его возврат в срок?"
   ]
  },
  {
   "cell_type": "code",
   "execution_count": 39,
   "id": "7717c8b7",
   "metadata": {},
   "outputs": [
    {
     "data": {
      "text/html": [
       "<div>\n",
       "<style scoped>\n",
       "    .dataframe tbody tr th:only-of-type {\n",
       "        vertical-align: middle;\n",
       "    }\n",
       "\n",
       "    .dataframe tbody tr th {\n",
       "        vertical-align: top;\n",
       "    }\n",
       "\n",
       "    .dataframe thead th {\n",
       "        text-align: right;\n",
       "    }\n",
       "</style>\n",
       "<table border=\"1\" class=\"dataframe\">\n",
       "  <thead>\n",
       "    <tr style=\"text-align: right;\">\n",
       "      <th>debt</th>\n",
       "      <th>0</th>\n",
       "      <th>1</th>\n",
       "    </tr>\n",
       "    <tr>\n",
       "      <th>purpose_category</th>\n",
       "      <th></th>\n",
       "      <th></th>\n",
       "    </tr>\n",
       "  </thead>\n",
       "  <tbody>\n",
       "    <tr>\n",
       "      <th>операции с автомобилем</th>\n",
       "      <td>3905</td>\n",
       "      <td>403</td>\n",
       "    </tr>\n",
       "    <tr>\n",
       "      <th>операции с недвижимостью</th>\n",
       "      <td>10031</td>\n",
       "      <td>782</td>\n",
       "    </tr>\n",
       "    <tr>\n",
       "      <th>получение образования</th>\n",
       "      <td>3644</td>\n",
       "      <td>370</td>\n",
       "    </tr>\n",
       "    <tr>\n",
       "      <th>проведение свадьбы</th>\n",
       "      <td>2149</td>\n",
       "      <td>186</td>\n",
       "    </tr>\n",
       "  </tbody>\n",
       "</table>\n",
       "</div>"
      ],
      "text/plain": [
       "debt                          0    1\n",
       "purpose_category                    \n",
       "операции с автомобилем     3905  403\n",
       "операции с недвижимостью  10031  782\n",
       "получение образования      3644  370\n",
       "проведение свадьбы         2149  186"
      ]
     },
     "execution_count": 39,
     "metadata": {},
     "output_type": "execute_result"
    }
   ],
   "source": [
    "data_pivot3 = data.pivot_table(index=['purpose_category'], columns='debt', values='purpose', aggfunc='count')\n",
    "data_pivot3"
   ]
  },
  {
   "cell_type": "code",
   "execution_count": 40,
   "id": "ca9145ca",
   "metadata": {},
   "outputs": [
    {
     "data": {
      "text/plain": [
       "purpose_category\n",
       "операции с автомобилем      9.354689\n",
       "операции с недвижимостью    7.232036\n",
       "получение образования       9.217738\n",
       "проведение свадьбы          7.965739\n",
       "dtype: float64"
      ]
     },
     "execution_count": 40,
     "metadata": {},
     "output_type": "execute_result"
    }
   ],
   "source": [
    "(data_pivot3[1] / (data_pivot3[0] + data_pivot3[1])) * 100"
   ]
  },
  {
   "cell_type": "markdown",
   "id": "17cee062",
   "metadata": {},
   "source": [
    "##### Вывод 4:"
   ]
  },
  {
   "cell_type": "markdown",
   "id": "39e5c7e4",
   "metadata": {},
   "source": [
    "*Операции с автомобилем и получение образование менее возвращаемы, чем операции с недвижимостью и проведение свадьбы.*"
   ]
  },
  {
   "cell_type": "markdown",
   "id": "73fef017",
   "metadata": {},
   "source": [
    "## Общий вывод:"
   ]
  },
  {
   "cell_type": "markdown",
   "id": "aac567c9",
   "metadata": {},
   "source": [
    "**Из проведенного выше анализа можно сделать следующие выводы:**\n",
    "+ Зависимость от наличия детей есть, при этом зависимость от количества детей неявная.\n",
    "+ Зависимость от семейного положения не прослеживается.\n",
    "+ При вычислении зависимости от уровня дохода сильное различие в объеме данных не позволяет дать корректную оценку.\n",
    "+ Операции с автомобилем и получение образование менее возвращаемы, чем операции с недвижимостью и проведение свадьбы.\n",
    "\n",
    "**Общий вывод: при выдаче кредита прдпочтения можно отдавать людям без детей на покупку недвижимости и проведение свадьбы.**"
   ]
  }
 ],
 "metadata": {
  "ExecuteTimeLog": [
   {
    "duration": 798,
    "start_time": "2022-05-19T19:07:38.946Z"
   },
   {
    "duration": 36,
    "start_time": "2022-05-19T19:11:23.497Z"
   },
   {
    "duration": 10,
    "start_time": "2022-05-19T19:12:04.010Z"
   },
   {
    "duration": 5,
    "start_time": "2022-05-19T19:15:39.057Z"
   },
   {
    "duration": 4,
    "start_time": "2022-05-19T19:16:18.116Z"
   },
   {
    "duration": 6,
    "start_time": "2022-05-19T19:16:53.415Z"
   },
   {
    "duration": 14,
    "start_time": "2022-05-19T19:17:11.071Z"
   },
   {
    "duration": 4,
    "start_time": "2022-05-19T19:17:23.381Z"
   },
   {
    "duration": 14,
    "start_time": "2022-05-19T19:17:26.046Z"
   },
   {
    "duration": 75,
    "start_time": "2022-05-19T19:20:05.287Z"
   },
   {
    "duration": 12,
    "start_time": "2022-05-19T19:20:08.818Z"
   },
   {
    "duration": 388,
    "start_time": "2022-05-19T19:21:50.002Z"
   },
   {
    "duration": 17,
    "start_time": "2022-05-19T19:22:48.496Z"
   },
   {
    "duration": 17,
    "start_time": "2022-05-19T19:24:39.067Z"
   },
   {
    "duration": 22,
    "start_time": "2022-05-19T19:27:11.764Z"
   },
   {
    "duration": 23,
    "start_time": "2022-05-19T19:27:50.083Z"
   },
   {
    "duration": 28,
    "start_time": "2022-05-19T19:30:58.221Z"
   },
   {
    "duration": 29,
    "start_time": "2022-05-19T19:31:21.374Z"
   },
   {
    "duration": 12,
    "start_time": "2022-05-19T19:33:17.931Z"
   },
   {
    "duration": 5,
    "start_time": "2022-05-19T19:39:28.305Z"
   },
   {
    "duration": 21,
    "start_time": "2022-05-19T19:55:32.665Z"
   },
   {
    "duration": 5,
    "start_time": "2022-05-19T19:58:56.616Z"
   },
   {
    "duration": 23,
    "start_time": "2022-05-19T20:00:12.448Z"
   },
   {
    "duration": 129,
    "start_time": "2022-05-19T20:03:06.271Z"
   },
   {
    "duration": 9,
    "start_time": "2022-05-19T20:03:33.658Z"
   },
   {
    "duration": 7,
    "start_time": "2022-05-19T20:04:16.507Z"
   },
   {
    "duration": 7,
    "start_time": "2022-05-19T20:04:33.382Z"
   },
   {
    "duration": 12,
    "start_time": "2022-05-19T20:05:07.216Z"
   },
   {
    "duration": 46,
    "start_time": "2022-05-19T20:05:45.018Z"
   },
   {
    "duration": 31,
    "start_time": "2022-05-19T20:06:30.285Z"
   },
   {
    "duration": 38,
    "start_time": "2022-05-19T20:06:38.258Z"
   },
   {
    "duration": 29,
    "start_time": "2022-05-19T20:07:39.254Z"
   },
   {
    "duration": 59,
    "start_time": "2022-05-20T08:25:54.897Z"
   },
   {
    "duration": 3,
    "start_time": "2022-05-20T08:26:12.734Z"
   },
   {
    "duration": 4,
    "start_time": "2022-05-20T08:27:58.848Z"
   },
   {
    "duration": 7,
    "start_time": "2022-05-20T08:29:34.694Z"
   },
   {
    "duration": 944,
    "start_time": "2022-05-20T08:29:46.132Z"
   },
   {
    "duration": 15,
    "start_time": "2022-05-20T08:29:50.068Z"
   },
   {
    "duration": 20,
    "start_time": "2022-05-20T08:29:53.543Z"
   },
   {
    "duration": 23,
    "start_time": "2022-05-20T08:29:57.187Z"
   },
   {
    "duration": 10,
    "start_time": "2022-05-20T08:30:01.286Z"
   },
   {
    "duration": 6,
    "start_time": "2022-05-20T08:30:03.784Z"
   },
   {
    "duration": 26,
    "start_time": "2022-05-20T08:30:06.144Z"
   },
   {
    "duration": 3,
    "start_time": "2022-05-20T08:30:09.717Z"
   },
   {
    "duration": 282,
    "start_time": "2022-05-20T08:30:13.132Z"
   },
   {
    "duration": 3,
    "start_time": "2022-05-20T08:31:20.614Z"
   },
   {
    "duration": 44,
    "start_time": "2022-05-20T08:31:22.433Z"
   },
   {
    "duration": 7,
    "start_time": "2022-05-20T08:32:00.865Z"
   },
   {
    "duration": 20,
    "start_time": "2022-05-20T08:32:06.473Z"
   },
   {
    "duration": 4,
    "start_time": "2022-05-20T08:32:36.646Z"
   },
   {
    "duration": 18,
    "start_time": "2022-05-20T08:32:40.261Z"
   },
   {
    "duration": 4,
    "start_time": "2022-05-20T08:35:59.529Z"
   },
   {
    "duration": 245,
    "start_time": "2022-05-20T08:36:01.921Z"
   },
   {
    "duration": 4,
    "start_time": "2022-05-20T08:44:43.482Z"
   },
   {
    "duration": 286,
    "start_time": "2022-05-20T08:44:45.779Z"
   },
   {
    "duration": 44,
    "start_time": "2022-05-20T08:49:48.401Z"
   },
   {
    "duration": 7,
    "start_time": "2022-05-20T10:15:36.734Z"
   },
   {
    "duration": 537,
    "start_time": "2022-05-20T10:18:22.989Z"
   },
   {
    "duration": 9,
    "start_time": "2022-05-20T10:18:36.136Z"
   },
   {
    "duration": 16,
    "start_time": "2022-05-20T10:18:56.330Z"
   },
   {
    "duration": 10,
    "start_time": "2022-05-20T10:22:21.173Z"
   },
   {
    "duration": 299,
    "start_time": "2022-05-20T10:22:41.529Z"
   },
   {
    "duration": 268,
    "start_time": "2022-05-20T10:25:04.944Z"
   },
   {
    "duration": 7,
    "start_time": "2022-05-20T10:28:26.585Z"
   },
   {
    "duration": 7,
    "start_time": "2022-05-20T10:28:37.851Z"
   },
   {
    "duration": 15,
    "start_time": "2022-05-20T11:07:32.953Z"
   },
   {
    "duration": 271,
    "start_time": "2022-05-20T11:07:56.753Z"
   },
   {
    "duration": 263,
    "start_time": "2022-05-20T11:08:16.050Z"
   },
   {
    "duration": 25,
    "start_time": "2022-05-20T11:09:25.170Z"
   },
   {
    "duration": 18,
    "start_time": "2022-05-20T11:16:13.948Z"
   },
   {
    "duration": 28,
    "start_time": "2022-05-20T11:16:48.536Z"
   },
   {
    "duration": 10,
    "start_time": "2022-05-20T11:18:49.300Z"
   },
   {
    "duration": 23,
    "start_time": "2022-05-20T11:19:25.332Z"
   },
   {
    "duration": 19,
    "start_time": "2022-05-20T11:19:35.423Z"
   },
   {
    "duration": 19,
    "start_time": "2022-05-20T11:28:31.721Z"
   },
   {
    "duration": 36,
    "start_time": "2022-05-20T11:28:45.357Z"
   },
   {
    "duration": 23,
    "start_time": "2022-05-20T11:30:48.032Z"
   },
   {
    "duration": 26,
    "start_time": "2022-05-20T11:31:16.657Z"
   },
   {
    "duration": 30,
    "start_time": "2022-05-20T11:32:29.217Z"
   },
   {
    "duration": 9,
    "start_time": "2022-05-20T11:34:16.489Z"
   },
   {
    "duration": 8,
    "start_time": "2022-05-20T11:34:27.812Z"
   },
   {
    "duration": 13,
    "start_time": "2022-05-20T11:36:15.233Z"
   },
   {
    "duration": 10,
    "start_time": "2022-05-20T11:37:14.383Z"
   },
   {
    "duration": 7,
    "start_time": "2022-05-20T11:45:02.588Z"
   },
   {
    "duration": 8,
    "start_time": "2022-05-20T11:45:26.941Z"
   },
   {
    "duration": 5,
    "start_time": "2022-05-20T11:46:12.479Z"
   },
   {
    "duration": 6,
    "start_time": "2022-05-20T11:46:23.863Z"
   },
   {
    "duration": 7,
    "start_time": "2022-05-20T11:46:28.298Z"
   },
   {
    "duration": 6,
    "start_time": "2022-05-20T11:46:38.390Z"
   },
   {
    "duration": 77,
    "start_time": "2022-05-20T11:47:26.330Z"
   },
   {
    "duration": 16,
    "start_time": "2022-05-20T11:47:29.177Z"
   },
   {
    "duration": 20,
    "start_time": "2022-05-20T11:47:32.210Z"
   },
   {
    "duration": 12,
    "start_time": "2022-05-20T11:47:35.317Z"
   },
   {
    "duration": 5,
    "start_time": "2022-05-20T11:47:39.762Z"
   },
   {
    "duration": 4,
    "start_time": "2022-05-20T11:47:41.794Z"
   },
   {
    "duration": 273,
    "start_time": "2022-05-20T11:47:45.914Z"
   },
   {
    "duration": 234,
    "start_time": "2022-05-20T11:47:48.737Z"
   },
   {
    "duration": 254,
    "start_time": "2022-05-20T11:47:50.660Z"
   },
   {
    "duration": 29,
    "start_time": "2022-05-20T11:47:53.370Z"
   },
   {
    "duration": 32,
    "start_time": "2022-05-20T11:47:56.464Z"
   },
   {
    "duration": 7,
    "start_time": "2022-05-20T11:47:58.756Z"
   },
   {
    "duration": 6,
    "start_time": "2022-05-20T11:48:01.700Z"
   },
   {
    "duration": 7,
    "start_time": "2022-05-20T11:48:19.721Z"
   },
   {
    "duration": 11,
    "start_time": "2022-05-20T11:49:34.724Z"
   },
   {
    "duration": 9,
    "start_time": "2022-05-20T11:49:51.582Z"
   },
   {
    "duration": 6,
    "start_time": "2022-05-20T11:50:14.524Z"
   },
   {
    "duration": 33,
    "start_time": "2022-05-20T11:55:14.690Z"
   },
   {
    "duration": 171,
    "start_time": "2022-05-20T12:00:03.961Z"
   },
   {
    "duration": 13,
    "start_time": "2022-05-20T12:29:22.907Z"
   },
   {
    "duration": 9,
    "start_time": "2022-05-20T12:29:31.444Z"
   },
   {
    "duration": 9,
    "start_time": "2022-05-20T12:30:29.449Z"
   },
   {
    "duration": 44,
    "start_time": "2022-05-20T12:34:29.837Z"
   },
   {
    "duration": 18,
    "start_time": "2022-05-20T12:35:28.767Z"
   },
   {
    "duration": 13,
    "start_time": "2022-05-20T12:35:46.902Z"
   },
   {
    "duration": 12,
    "start_time": "2022-05-20T12:36:13.700Z"
   },
   {
    "duration": 13,
    "start_time": "2022-05-20T12:36:20.666Z"
   },
   {
    "duration": 12,
    "start_time": "2022-05-20T12:36:35.464Z"
   },
   {
    "duration": 12,
    "start_time": "2022-05-20T12:36:40.906Z"
   },
   {
    "duration": 10,
    "start_time": "2022-05-20T12:36:48.678Z"
   },
   {
    "duration": 16,
    "start_time": "2022-05-20T12:37:17.016Z"
   },
   {
    "duration": 13,
    "start_time": "2022-05-20T12:37:27.239Z"
   },
   {
    "duration": 76,
    "start_time": "2022-05-20T12:37:43.418Z"
   },
   {
    "duration": 13,
    "start_time": "2022-05-20T12:37:45.643Z"
   },
   {
    "duration": 19,
    "start_time": "2022-05-20T12:37:48.299Z"
   },
   {
    "duration": 22,
    "start_time": "2022-05-20T12:37:50.894Z"
   },
   {
    "duration": 10,
    "start_time": "2022-05-20T12:37:53.228Z"
   },
   {
    "duration": 5,
    "start_time": "2022-05-20T12:37:55.028Z"
   },
   {
    "duration": 4,
    "start_time": "2022-05-20T12:37:57.019Z"
   },
   {
    "duration": 279,
    "start_time": "2022-05-20T12:37:59.142Z"
   },
   {
    "duration": 298,
    "start_time": "2022-05-20T12:38:01.665Z"
   },
   {
    "duration": 244,
    "start_time": "2022-05-20T12:38:03.531Z"
   },
   {
    "duration": 16,
    "start_time": "2022-05-20T12:38:07.436Z"
   },
   {
    "duration": 21,
    "start_time": "2022-05-20T12:38:09.609Z"
   },
   {
    "duration": 7,
    "start_time": "2022-05-20T12:38:11.458Z"
   },
   {
    "duration": 18,
    "start_time": "2022-05-20T12:38:13.413Z"
   },
   {
    "duration": 10,
    "start_time": "2022-05-20T12:38:15.381Z"
   },
   {
    "duration": 7,
    "start_time": "2022-05-20T12:38:18.014Z"
   },
   {
    "duration": 7,
    "start_time": "2022-05-20T12:38:20.222Z"
   },
   {
    "duration": 5,
    "start_time": "2022-05-20T12:38:22.408Z"
   },
   {
    "duration": 11,
    "start_time": "2022-05-20T12:38:28.074Z"
   },
   {
    "duration": 10,
    "start_time": "2022-05-20T12:38:30.102Z"
   },
   {
    "duration": 20,
    "start_time": "2022-05-20T12:38:37.997Z"
   },
   {
    "duration": 4,
    "start_time": "2022-05-20T12:49:00.604Z"
   },
   {
    "duration": 12,
    "start_time": "2022-05-20T12:49:12.879Z"
   },
   {
    "duration": 16,
    "start_time": "2022-05-20T12:49:21.329Z"
   },
   {
    "duration": 22,
    "start_time": "2022-05-20T12:49:35.971Z"
   },
   {
    "duration": 31,
    "start_time": "2022-05-20T12:49:49.343Z"
   },
   {
    "duration": 18,
    "start_time": "2022-05-20T12:49:59.837Z"
   },
   {
    "duration": 7,
    "start_time": "2022-05-20T13:45:07.857Z"
   },
   {
    "duration": 5,
    "start_time": "2022-05-20T14:01:59.608Z"
   },
   {
    "duration": 5,
    "start_time": "2022-05-20T14:03:42.901Z"
   },
   {
    "duration": 5,
    "start_time": "2022-05-20T14:04:06.517Z"
   },
   {
    "duration": 5,
    "start_time": "2022-05-20T14:04:21.254Z"
   },
   {
    "duration": 5,
    "start_time": "2022-05-20T14:04:38.889Z"
   },
   {
    "duration": 4,
    "start_time": "2022-05-20T14:05:55.082Z"
   },
   {
    "duration": 4,
    "start_time": "2022-05-20T14:06:09.202Z"
   },
   {
    "duration": 5,
    "start_time": "2022-05-20T14:07:27.820Z"
   },
   {
    "duration": 5,
    "start_time": "2022-05-20T14:07:36.830Z"
   },
   {
    "duration": 4,
    "start_time": "2022-05-20T14:07:47.127Z"
   },
   {
    "duration": 9,
    "start_time": "2022-05-20T14:08:43.522Z"
   },
   {
    "duration": 13,
    "start_time": "2022-05-20T14:50:25.063Z"
   },
   {
    "duration": 13,
    "start_time": "2022-05-20T14:50:56.067Z"
   },
   {
    "duration": 8,
    "start_time": "2022-05-20T14:51:09.324Z"
   },
   {
    "duration": 7,
    "start_time": "2022-05-20T14:51:15.130Z"
   },
   {
    "duration": 11,
    "start_time": "2022-05-20T14:52:07.977Z"
   },
   {
    "duration": 15,
    "start_time": "2022-05-20T14:52:41.941Z"
   },
   {
    "duration": 87,
    "start_time": "2022-05-20T14:53:50.681Z"
   },
   {
    "duration": 12,
    "start_time": "2022-05-20T14:53:53.639Z"
   },
   {
    "duration": 19,
    "start_time": "2022-05-20T14:53:56.602Z"
   },
   {
    "duration": 28,
    "start_time": "2022-05-20T14:53:59.696Z"
   },
   {
    "duration": 10,
    "start_time": "2022-05-20T14:54:03.172Z"
   },
   {
    "duration": 5,
    "start_time": "2022-05-20T14:54:05.813Z"
   },
   {
    "duration": 4,
    "start_time": "2022-05-20T14:54:07.884Z"
   },
   {
    "duration": 281,
    "start_time": "2022-05-20T14:54:10.724Z"
   },
   {
    "duration": 273,
    "start_time": "2022-05-20T14:54:14.271Z"
   },
   {
    "duration": 252,
    "start_time": "2022-05-20T14:54:16.517Z"
   },
   {
    "duration": 17,
    "start_time": "2022-05-20T14:54:19.870Z"
   },
   {
    "duration": 21,
    "start_time": "2022-05-20T14:54:24.770Z"
   },
   {
    "duration": 6,
    "start_time": "2022-05-20T14:54:27.297Z"
   },
   {
    "duration": 12,
    "start_time": "2022-05-20T14:54:30.376Z"
   },
   {
    "duration": 8,
    "start_time": "2022-05-20T14:54:32.723Z"
   },
   {
    "duration": 6,
    "start_time": "2022-05-20T14:54:35.464Z"
   },
   {
    "duration": 6,
    "start_time": "2022-05-20T14:54:37.930Z"
   },
   {
    "duration": 5,
    "start_time": "2022-05-20T14:54:40.013Z"
   },
   {
    "duration": 13,
    "start_time": "2022-05-20T14:54:48.273Z"
   },
   {
    "duration": 11,
    "start_time": "2022-05-20T14:55:06.289Z"
   },
   {
    "duration": 19,
    "start_time": "2022-05-20T14:55:17.769Z"
   },
   {
    "duration": 11,
    "start_time": "2022-05-20T14:55:22.966Z"
   },
   {
    "duration": 9,
    "start_time": "2022-05-20T14:57:47.003Z"
   },
   {
    "duration": 9,
    "start_time": "2022-05-20T14:57:49.789Z"
   },
   {
    "duration": 22,
    "start_time": "2022-05-20T14:58:15.712Z"
   },
   {
    "duration": 55,
    "start_time": "2022-05-21T18:11:01.351Z"
   },
   {
    "duration": 824,
    "start_time": "2022-05-21T18:11:21.185Z"
   },
   {
    "duration": 19,
    "start_time": "2022-05-21T18:11:25.058Z"
   },
   {
    "duration": 21,
    "start_time": "2022-05-21T18:11:27.510Z"
   },
   {
    "duration": 30,
    "start_time": "2022-05-21T18:11:30.807Z"
   },
   {
    "duration": 24,
    "start_time": "2022-05-21T18:11:34.024Z"
   },
   {
    "duration": 8,
    "start_time": "2022-05-21T18:11:36.449Z"
   },
   {
    "duration": 5,
    "start_time": "2022-05-21T18:11:38.947Z"
   },
   {
    "duration": 291,
    "start_time": "2022-05-21T18:11:42.193Z"
   },
   {
    "duration": 249,
    "start_time": "2022-05-21T18:11:44.600Z"
   },
   {
    "duration": 300,
    "start_time": "2022-05-21T18:11:46.417Z"
   },
   {
    "duration": 7,
    "start_time": "2022-05-21T18:11:49.504Z"
   },
   {
    "duration": 10,
    "start_time": "2022-05-21T18:12:28.846Z"
   },
   {
    "duration": 19,
    "start_time": "2022-05-21T18:12:47.888Z"
   },
   {
    "duration": 35,
    "start_time": "2022-05-21T18:13:12.079Z"
   },
   {
    "duration": 22,
    "start_time": "2022-05-21T18:13:24.173Z"
   },
   {
    "duration": 4,
    "start_time": "2022-05-21T18:14:55.413Z"
   },
   {
    "duration": 8,
    "start_time": "2022-05-21T18:18:41.209Z"
   },
   {
    "duration": 13,
    "start_time": "2022-05-21T18:20:16.644Z"
   },
   {
    "duration": 12,
    "start_time": "2022-05-21T18:22:57.089Z"
   },
   {
    "duration": 19,
    "start_time": "2022-05-21T18:23:24.819Z"
   },
   {
    "duration": 7,
    "start_time": "2022-05-21T18:25:13.503Z"
   },
   {
    "duration": 51,
    "start_time": "2022-05-21T18:26:45.300Z"
   },
   {
    "duration": 6,
    "start_time": "2022-05-21T18:26:49.848Z"
   },
   {
    "duration": 40,
    "start_time": "2022-05-21T18:27:58.967Z"
   },
   {
    "duration": 89,
    "start_time": "2022-05-21T18:28:02.625Z"
   },
   {
    "duration": 9,
    "start_time": "2022-05-21T18:28:05.158Z"
   },
   {
    "duration": 15,
    "start_time": "2022-05-21T18:28:07.804Z"
   },
   {
    "duration": 21,
    "start_time": "2022-05-21T18:28:09.849Z"
   },
   {
    "duration": 10,
    "start_time": "2022-05-21T18:28:12.356Z"
   },
   {
    "duration": 4,
    "start_time": "2022-05-21T18:28:14.662Z"
   },
   {
    "duration": 4,
    "start_time": "2022-05-21T18:28:16.759Z"
   },
   {
    "duration": 305,
    "start_time": "2022-05-21T18:28:19.868Z"
   },
   {
    "duration": 293,
    "start_time": "2022-05-21T18:28:22.792Z"
   },
   {
    "duration": 257,
    "start_time": "2022-05-21T18:28:24.363Z"
   },
   {
    "duration": 35,
    "start_time": "2022-05-21T18:28:45.452Z"
   },
   {
    "duration": 7,
    "start_time": "2022-05-21T18:29:02.274Z"
   },
   {
    "duration": 4,
    "start_time": "2022-05-21T18:29:07.820Z"
   },
   {
    "duration": 60,
    "start_time": "2022-05-21T18:29:33.565Z"
   },
   {
    "duration": 8,
    "start_time": "2022-05-21T18:29:42.387Z"
   },
   {
    "duration": 529,
    "start_time": "2022-05-21T18:30:49.366Z"
   },
   {
    "duration": 9,
    "start_time": "2022-05-21T18:31:02.420Z"
   },
   {
    "duration": 59,
    "start_time": "2022-05-21T18:31:35.718Z"
   },
   {
    "duration": 4,
    "start_time": "2022-05-21T18:33:34.700Z"
   },
   {
    "duration": 7,
    "start_time": "2022-05-21T18:33:44.273Z"
   },
   {
    "duration": 6,
    "start_time": "2022-05-21T18:34:23.098Z"
   },
   {
    "duration": 7,
    "start_time": "2022-05-21T18:34:25.724Z"
   },
   {
    "duration": 19,
    "start_time": "2022-05-21T18:39:01.297Z"
   },
   {
    "duration": 49,
    "start_time": "2022-05-21T18:39:06.020Z"
   },
   {
    "duration": 21,
    "start_time": "2022-05-21T18:39:08.057Z"
   },
   {
    "duration": 13,
    "start_time": "2022-05-21T18:39:10.280Z"
   },
   {
    "duration": 13,
    "start_time": "2022-05-21T18:39:11.884Z"
   },
   {
    "duration": 8,
    "start_time": "2022-05-21T18:39:13.999Z"
   },
   {
    "duration": 23,
    "start_time": "2022-05-21T18:39:15.850Z"
   },
   {
    "duration": 29,
    "start_time": "2022-05-21T18:39:17.482Z"
   },
   {
    "duration": 28,
    "start_time": "2022-05-21T18:39:20.914Z"
   },
   {
    "duration": 19,
    "start_time": "2022-05-21T18:39:23.219Z"
   },
   {
    "duration": 39,
    "start_time": "2022-05-21T18:39:28.607Z"
   },
   {
    "duration": 41,
    "start_time": "2022-05-21T18:39:32.148Z"
   },
   {
    "duration": 11,
    "start_time": "2022-05-21T18:39:34.692Z"
   },
   {
    "duration": 16,
    "start_time": "2022-05-21T18:39:36.916Z"
   },
   {
    "duration": 38,
    "start_time": "2022-05-21T18:44:05.125Z"
   },
   {
    "duration": 47,
    "start_time": "2022-05-21T18:44:14.458Z"
   },
   {
    "duration": 741,
    "start_time": "2022-05-22T19:32:40.267Z"
   },
   {
    "duration": 29,
    "start_time": "2022-05-22T19:32:44.299Z"
   },
   {
    "duration": 20,
    "start_time": "2022-05-22T19:32:46.867Z"
   },
   {
    "duration": 25,
    "start_time": "2022-05-22T19:32:48.821Z"
   },
   {
    "duration": 13,
    "start_time": "2022-05-22T19:32:51.053Z"
   },
   {
    "duration": 6,
    "start_time": "2022-05-22T19:32:52.612Z"
   },
   {
    "duration": 8,
    "start_time": "2022-05-22T19:32:53.900Z"
   },
   {
    "duration": 297,
    "start_time": "2022-05-22T19:32:55.706Z"
   },
   {
    "duration": 259,
    "start_time": "2022-05-22T19:32:57.854Z"
   },
   {
    "duration": 272,
    "start_time": "2022-05-22T19:32:59.383Z"
   },
   {
    "duration": 7,
    "start_time": "2022-05-22T19:33:01.519Z"
   },
   {
    "duration": 53,
    "start_time": "2022-05-22T19:33:03.206Z"
   },
   {
    "duration": 6,
    "start_time": "2022-05-22T19:33:04.463Z"
   },
   {
    "duration": 12,
    "start_time": "2022-05-22T19:33:06.246Z"
   },
   {
    "duration": 8,
    "start_time": "2022-05-22T19:33:07.708Z"
   },
   {
    "duration": 15,
    "start_time": "2022-05-22T19:33:09.388Z"
   },
   {
    "duration": 17,
    "start_time": "2022-05-22T19:33:10.920Z"
   },
   {
    "duration": 33,
    "start_time": "2022-05-22T19:33:13.434Z"
   },
   {
    "duration": 8,
    "start_time": "2022-05-22T19:33:14.563Z"
   },
   {
    "duration": 18,
    "start_time": "2022-05-22T19:33:16.953Z"
   },
   {
    "duration": 7,
    "start_time": "2022-05-22T19:33:18.271Z"
   },
   {
    "duration": 5,
    "start_time": "2022-05-22T19:33:19.775Z"
   },
   {
    "duration": 8,
    "start_time": "2022-05-22T19:33:22.446Z"
   },
   {
    "duration": 8,
    "start_time": "2022-05-22T19:33:23.590Z"
   },
   {
    "duration": 15,
    "start_time": "2022-05-22T19:33:25.587Z"
   },
   {
    "duration": 16,
    "start_time": "2022-05-22T19:33:27.506Z"
   },
   {
    "duration": 20,
    "start_time": "2022-05-22T19:33:31.073Z"
   },
   {
    "duration": 11,
    "start_time": "2022-05-22T19:33:36.431Z"
   },
   {
    "duration": 11,
    "start_time": "2022-05-22T19:33:38.598Z"
   },
   {
    "duration": 14,
    "start_time": "2022-05-22T19:33:40.260Z"
   },
   {
    "duration": 26,
    "start_time": "2022-05-22T19:33:42.257Z"
   },
   {
    "duration": 6,
    "start_time": "2022-05-22T19:34:12.675Z"
   },
   {
    "duration": 27,
    "start_time": "2022-05-22T19:35:58.889Z"
   },
   {
    "duration": 7,
    "start_time": "2022-05-22T19:36:12.384Z"
   },
   {
    "duration": 6,
    "start_time": "2022-05-22T19:36:50.170Z"
   },
   {
    "duration": 6,
    "start_time": "2022-05-22T19:37:24.879Z"
   },
   {
    "duration": 83,
    "start_time": "2022-05-22T19:37:44.959Z"
   },
   {
    "duration": 8,
    "start_time": "2022-05-22T19:37:54.175Z"
   },
   {
    "duration": 91,
    "start_time": "2022-05-22T19:41:50.183Z"
   },
   {
    "duration": 85,
    "start_time": "2022-05-22T19:47:50.444Z"
   },
   {
    "duration": 22,
    "start_time": "2022-05-22T19:48:21.044Z"
   },
   {
    "duration": 31,
    "start_time": "2022-05-22T19:50:58.309Z"
   },
   {
    "duration": 9,
    "start_time": "2022-05-22T19:51:36.749Z"
   },
   {
    "duration": 5,
    "start_time": "2022-05-22T19:51:56.921Z"
   },
   {
    "duration": 12,
    "start_time": "2022-05-22T19:52:07.417Z"
   },
   {
    "duration": 6,
    "start_time": "2022-05-22T19:52:48.828Z"
   },
   {
    "duration": 27,
    "start_time": "2022-05-22T19:57:35.484Z"
   },
   {
    "duration": 6,
    "start_time": "2022-05-22T19:59:01.150Z"
   },
   {
    "duration": 37,
    "start_time": "2022-05-22T20:08:15.388Z"
   },
   {
    "duration": 7,
    "start_time": "2022-05-22T20:08:38.643Z"
   },
   {
    "duration": 532,
    "start_time": "2022-05-23T05:39:14.767Z"
   },
   {
    "duration": 14,
    "start_time": "2022-05-23T05:39:15.301Z"
   },
   {
    "duration": 20,
    "start_time": "2022-05-23T05:39:15.318Z"
   },
   {
    "duration": 22,
    "start_time": "2022-05-23T05:39:15.340Z"
   },
   {
    "duration": 9,
    "start_time": "2022-05-23T05:39:15.364Z"
   },
   {
    "duration": 11,
    "start_time": "2022-05-23T05:39:15.374Z"
   },
   {
    "duration": 6,
    "start_time": "2022-05-23T05:39:15.386Z"
   },
   {
    "duration": 295,
    "start_time": "2022-05-23T05:39:15.394Z"
   },
   {
    "duration": 228,
    "start_time": "2022-05-23T05:39:15.690Z"
   },
   {
    "duration": 240,
    "start_time": "2022-05-23T05:39:15.920Z"
   },
   {
    "duration": 5,
    "start_time": "2022-05-23T05:39:16.162Z"
   },
   {
    "duration": 40,
    "start_time": "2022-05-23T05:39:16.169Z"
   },
   {
    "duration": 19,
    "start_time": "2022-05-23T05:39:16.211Z"
   },
   {
    "duration": 9,
    "start_time": "2022-05-23T05:39:16.231Z"
   },
   {
    "duration": 7,
    "start_time": "2022-05-23T05:39:16.241Z"
   },
   {
    "duration": 23,
    "start_time": "2022-05-23T05:39:16.250Z"
   },
   {
    "duration": 18,
    "start_time": "2022-05-23T05:39:16.274Z"
   },
   {
    "duration": 23,
    "start_time": "2022-05-23T05:39:16.293Z"
   },
   {
    "duration": 8,
    "start_time": "2022-05-23T05:39:16.318Z"
   },
   {
    "duration": 11,
    "start_time": "2022-05-23T05:39:16.327Z"
   },
   {
    "duration": 14,
    "start_time": "2022-05-23T05:39:16.340Z"
   },
   {
    "duration": 5,
    "start_time": "2022-05-23T05:39:16.356Z"
   },
   {
    "duration": 15,
    "start_time": "2022-05-23T05:39:16.363Z"
   },
   {
    "duration": 7,
    "start_time": "2022-05-23T05:39:16.379Z"
   },
   {
    "duration": 16,
    "start_time": "2022-05-23T05:39:16.387Z"
   },
   {
    "duration": 26,
    "start_time": "2022-05-23T05:39:16.404Z"
   },
   {
    "duration": 20,
    "start_time": "2022-05-23T05:39:16.432Z"
   },
   {
    "duration": 9,
    "start_time": "2022-05-23T05:39:16.454Z"
   },
   {
    "duration": 21,
    "start_time": "2022-05-23T05:39:16.464Z"
   },
   {
    "duration": 9,
    "start_time": "2022-05-23T05:39:16.487Z"
   },
   {
    "duration": 44,
    "start_time": "2022-05-23T05:39:16.498Z"
   },
   {
    "duration": 6,
    "start_time": "2022-05-23T05:39:16.543Z"
   },
   {
    "duration": 38,
    "start_time": "2022-05-23T05:39:16.551Z"
   },
   {
    "duration": 6,
    "start_time": "2022-05-23T05:39:16.590Z"
   },
   {
    "duration": 29,
    "start_time": "2022-05-23T05:39:16.598Z"
   },
   {
    "duration": 6,
    "start_time": "2022-05-23T05:39:16.628Z"
   },
   {
    "duration": 31,
    "start_time": "2022-05-23T05:39:16.635Z"
   },
   {
    "duration": 5,
    "start_time": "2022-05-23T05:39:16.668Z"
   },
   {
    "duration": 32,
    "start_time": "2022-05-23T05:40:55.980Z"
   },
   {
    "duration": 11,
    "start_time": "2022-05-23T05:42:14.658Z"
   },
   {
    "duration": 46,
    "start_time": "2022-05-23T09:54:57.546Z"
   },
   {
    "duration": 1047,
    "start_time": "2022-05-23T10:07:38.606Z"
   },
   {
    "duration": 69,
    "start_time": "2022-05-23T10:08:02.856Z"
   },
   {
    "duration": 45,
    "start_time": "2022-05-23T10:08:07.748Z"
   }
  ],
  "kernelspec": {
   "display_name": "Python 3 (ipykernel)",
   "language": "python",
   "name": "python3"
  },
  "language_info": {
   "codemirror_mode": {
    "name": "ipython",
    "version": 3
   },
   "file_extension": ".py",
   "mimetype": "text/x-python",
   "name": "python",
   "nbconvert_exporter": "python",
   "pygments_lexer": "ipython3",
   "version": "3.10.6"
  },
  "toc": {
   "base_numbering": 1,
   "nav_menu": {},
   "number_sections": true,
   "sideBar": true,
   "skip_h1_title": true,
   "title_cell": "Table of Contents",
   "title_sidebar": "Contents",
   "toc_cell": false,
   "toc_position": {},
   "toc_section_display": true,
   "toc_window_display": false
  }
 },
 "nbformat": 4,
 "nbformat_minor": 5
}
