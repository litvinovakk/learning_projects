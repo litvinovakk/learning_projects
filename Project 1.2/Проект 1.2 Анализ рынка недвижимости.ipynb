{
 "cells": [
  {
   "cell_type": "markdown",
   "metadata": {},
   "source": [
    "# Исследование объявлений о продаже квартир\n",
    "\n",
    "\n",
    "# Основная задача: \n",
    "Необходимо установить параметры для определения рыночной стоимости объектов недвижимости.\n",
    "\n",
    "# Цель:\n",
    "На основании проведенного анализа будет построена автоматизированная система, которая будет отслеживать аномалии и мошенническую деятельность.\n",
    "\n",
    "# Описание данных\n",
    "- airports_nearest — расстояние до ближайшего аэропорта в метрах (м)\n",
    "- balcony — число балконов\n",
    "- ceiling_height — высота потолков (м)\n",
    "- cityCenters_nearest — расстояние до центра города (м)\n",
    "- days_exposition — сколько дней было размещено объявление (от публикации до снятия)\n",
    "- first_day_exposition — дата публикации\n",
    "- floor — этаж\n",
    "- floors_total — всего этажей в доме\n",
    "- is_apartment — апартаменты (булев тип)\n",
    "- kitchen_area — площадь кухни в квадратных метрах (м²)\n",
    "- last_price — цена на момент снятия с публикации\n",
    "- living_area — жилая площадь в квадратных метрах (м²)\n",
    "- locality_name — название населённого пункта\n",
    "- open_plan — свободная планировка (булев тип)\n",
    "- parks_around3000 — число парков в радиусе 3 км\n",
    "- parks_nearest — расстояние до ближайшего парка (м)\n",
    "- ponds_around3000 — число водоёмов в радиусе 3 км\n",
    "- ponds_nearest — расстояние до ближайшего водоёма (м)\n",
    "- rooms — число комнат\n",
    "- studio — квартира-студия (булев тип)\n",
    "- total_area — площадь квартиры в квадратных метрах (м²)\n",
    "- total_images — число фотографий квартиры в объявлении\n"
   ]
  },
  {
   "cell_type": "markdown",
   "metadata": {},
   "source": [
    "## Изучение данных из файла"
   ]
  },
  {
   "cell_type": "code",
   "execution_count": 1,
   "metadata": {},
   "outputs": [],
   "source": [
    "import pandas as pd \n",
    "import matplotlib.pyplot as plt\n",
    "import warnings\n",
    "warnings.filterwarnings(\"ignore\")"
   ]
  },
  {
   "cell_type": "code",
   "execution_count": 2,
   "metadata": {},
   "outputs": [],
   "source": [
    "data = pd.read_csv('./real_estate_data.csv',sep='\t')"
   ]
  },
  {
   "cell_type": "code",
   "execution_count": 3,
   "metadata": {},
   "outputs": [
    {
     "name": "stdout",
     "output_type": "stream",
     "text": [
      "<class 'pandas.core.frame.DataFrame'>\n",
      "RangeIndex: 23699 entries, 0 to 23698\n",
      "Data columns (total 22 columns):\n",
      " #   Column                Non-Null Count  Dtype  \n",
      "---  ------                --------------  -----  \n",
      " 0   total_images          23699 non-null  int64  \n",
      " 1   last_price            23699 non-null  float64\n",
      " 2   total_area            23699 non-null  float64\n",
      " 3   first_day_exposition  23699 non-null  object \n",
      " 4   rooms                 23699 non-null  int64  \n",
      " 5   ceiling_height        14504 non-null  float64\n",
      " 6   floors_total          23613 non-null  float64\n",
      " 7   living_area           21796 non-null  float64\n",
      " 8   floor                 23699 non-null  int64  \n",
      " 9   is_apartment          2775 non-null   object \n",
      " 10  studio                23699 non-null  bool   \n",
      " 11  open_plan             23699 non-null  bool   \n",
      " 12  kitchen_area          21421 non-null  float64\n",
      " 13  balcony               12180 non-null  float64\n",
      " 14  locality_name         23650 non-null  object \n",
      " 15  airports_nearest      18157 non-null  float64\n",
      " 16  cityCenters_nearest   18180 non-null  float64\n",
      " 17  parks_around3000      18181 non-null  float64\n",
      " 18  parks_nearest         8079 non-null   float64\n",
      " 19  ponds_around3000      18181 non-null  float64\n",
      " 20  ponds_nearest         9110 non-null   float64\n",
      " 21  days_exposition       20518 non-null  float64\n",
      "dtypes: bool(2), float64(14), int64(3), object(3)\n",
      "memory usage: 3.7+ MB\n"
     ]
    }
   ],
   "source": [
    "data.info()"
   ]
  },
  {
   "cell_type": "code",
   "execution_count": 4,
   "metadata": {},
   "outputs": [
    {
     "data": {
      "text/html": [
       "<div>\n",
       "<style scoped>\n",
       "    .dataframe tbody tr th:only-of-type {\n",
       "        vertical-align: middle;\n",
       "    }\n",
       "\n",
       "    .dataframe tbody tr th {\n",
       "        vertical-align: top;\n",
       "    }\n",
       "\n",
       "    .dataframe thead th {\n",
       "        text-align: right;\n",
       "    }\n",
       "</style>\n",
       "<table border=\"1\" class=\"dataframe\">\n",
       "  <thead>\n",
       "    <tr style=\"text-align: right;\">\n",
       "      <th></th>\n",
       "      <th>total_images</th>\n",
       "      <th>last_price</th>\n",
       "      <th>total_area</th>\n",
       "      <th>first_day_exposition</th>\n",
       "      <th>rooms</th>\n",
       "      <th>ceiling_height</th>\n",
       "      <th>floors_total</th>\n",
       "      <th>living_area</th>\n",
       "      <th>floor</th>\n",
       "      <th>is_apartment</th>\n",
       "      <th>...</th>\n",
       "      <th>kitchen_area</th>\n",
       "      <th>balcony</th>\n",
       "      <th>locality_name</th>\n",
       "      <th>airports_nearest</th>\n",
       "      <th>cityCenters_nearest</th>\n",
       "      <th>parks_around3000</th>\n",
       "      <th>parks_nearest</th>\n",
       "      <th>ponds_around3000</th>\n",
       "      <th>ponds_nearest</th>\n",
       "      <th>days_exposition</th>\n",
       "    </tr>\n",
       "  </thead>\n",
       "  <tbody>\n",
       "    <tr>\n",
       "      <th>0</th>\n",
       "      <td>20</td>\n",
       "      <td>13000000.0</td>\n",
       "      <td>108.00</td>\n",
       "      <td>2019-03-07T00:00:00</td>\n",
       "      <td>3</td>\n",
       "      <td>2.70</td>\n",
       "      <td>16.0</td>\n",
       "      <td>51.00</td>\n",
       "      <td>8</td>\n",
       "      <td>NaN</td>\n",
       "      <td>...</td>\n",
       "      <td>25.00</td>\n",
       "      <td>NaN</td>\n",
       "      <td>Санкт-Петербург</td>\n",
       "      <td>18863.0</td>\n",
       "      <td>16028.0</td>\n",
       "      <td>1.0</td>\n",
       "      <td>482.0</td>\n",
       "      <td>2.0</td>\n",
       "      <td>755.0</td>\n",
       "      <td>NaN</td>\n",
       "    </tr>\n",
       "    <tr>\n",
       "      <th>1</th>\n",
       "      <td>7</td>\n",
       "      <td>3350000.0</td>\n",
       "      <td>40.40</td>\n",
       "      <td>2018-12-04T00:00:00</td>\n",
       "      <td>1</td>\n",
       "      <td>NaN</td>\n",
       "      <td>11.0</td>\n",
       "      <td>18.60</td>\n",
       "      <td>1</td>\n",
       "      <td>NaN</td>\n",
       "      <td>...</td>\n",
       "      <td>11.00</td>\n",
       "      <td>2.0</td>\n",
       "      <td>посёлок Шушары</td>\n",
       "      <td>12817.0</td>\n",
       "      <td>18603.0</td>\n",
       "      <td>0.0</td>\n",
       "      <td>NaN</td>\n",
       "      <td>0.0</td>\n",
       "      <td>NaN</td>\n",
       "      <td>81.0</td>\n",
       "    </tr>\n",
       "    <tr>\n",
       "      <th>2</th>\n",
       "      <td>10</td>\n",
       "      <td>5196000.0</td>\n",
       "      <td>56.00</td>\n",
       "      <td>2015-08-20T00:00:00</td>\n",
       "      <td>2</td>\n",
       "      <td>NaN</td>\n",
       "      <td>5.0</td>\n",
       "      <td>34.30</td>\n",
       "      <td>4</td>\n",
       "      <td>NaN</td>\n",
       "      <td>...</td>\n",
       "      <td>8.30</td>\n",
       "      <td>0.0</td>\n",
       "      <td>Санкт-Петербург</td>\n",
       "      <td>21741.0</td>\n",
       "      <td>13933.0</td>\n",
       "      <td>1.0</td>\n",
       "      <td>90.0</td>\n",
       "      <td>2.0</td>\n",
       "      <td>574.0</td>\n",
       "      <td>558.0</td>\n",
       "    </tr>\n",
       "    <tr>\n",
       "      <th>3</th>\n",
       "      <td>0</td>\n",
       "      <td>64900000.0</td>\n",
       "      <td>159.00</td>\n",
       "      <td>2015-07-24T00:00:00</td>\n",
       "      <td>3</td>\n",
       "      <td>NaN</td>\n",
       "      <td>14.0</td>\n",
       "      <td>NaN</td>\n",
       "      <td>9</td>\n",
       "      <td>NaN</td>\n",
       "      <td>...</td>\n",
       "      <td>NaN</td>\n",
       "      <td>0.0</td>\n",
       "      <td>Санкт-Петербург</td>\n",
       "      <td>28098.0</td>\n",
       "      <td>6800.0</td>\n",
       "      <td>2.0</td>\n",
       "      <td>84.0</td>\n",
       "      <td>3.0</td>\n",
       "      <td>234.0</td>\n",
       "      <td>424.0</td>\n",
       "    </tr>\n",
       "    <tr>\n",
       "      <th>4</th>\n",
       "      <td>2</td>\n",
       "      <td>10000000.0</td>\n",
       "      <td>100.00</td>\n",
       "      <td>2018-06-19T00:00:00</td>\n",
       "      <td>2</td>\n",
       "      <td>3.03</td>\n",
       "      <td>14.0</td>\n",
       "      <td>32.00</td>\n",
       "      <td>13</td>\n",
       "      <td>NaN</td>\n",
       "      <td>...</td>\n",
       "      <td>41.00</td>\n",
       "      <td>NaN</td>\n",
       "      <td>Санкт-Петербург</td>\n",
       "      <td>31856.0</td>\n",
       "      <td>8098.0</td>\n",
       "      <td>2.0</td>\n",
       "      <td>112.0</td>\n",
       "      <td>1.0</td>\n",
       "      <td>48.0</td>\n",
       "      <td>121.0</td>\n",
       "    </tr>\n",
       "    <tr>\n",
       "      <th>5</th>\n",
       "      <td>10</td>\n",
       "      <td>2890000.0</td>\n",
       "      <td>30.40</td>\n",
       "      <td>2018-09-10T00:00:00</td>\n",
       "      <td>1</td>\n",
       "      <td>NaN</td>\n",
       "      <td>12.0</td>\n",
       "      <td>14.40</td>\n",
       "      <td>5</td>\n",
       "      <td>NaN</td>\n",
       "      <td>...</td>\n",
       "      <td>9.10</td>\n",
       "      <td>NaN</td>\n",
       "      <td>городской посёлок Янино-1</td>\n",
       "      <td>NaN</td>\n",
       "      <td>NaN</td>\n",
       "      <td>NaN</td>\n",
       "      <td>NaN</td>\n",
       "      <td>NaN</td>\n",
       "      <td>NaN</td>\n",
       "      <td>55.0</td>\n",
       "    </tr>\n",
       "    <tr>\n",
       "      <th>6</th>\n",
       "      <td>6</td>\n",
       "      <td>3700000.0</td>\n",
       "      <td>37.30</td>\n",
       "      <td>2017-11-02T00:00:00</td>\n",
       "      <td>1</td>\n",
       "      <td>NaN</td>\n",
       "      <td>26.0</td>\n",
       "      <td>10.60</td>\n",
       "      <td>6</td>\n",
       "      <td>NaN</td>\n",
       "      <td>...</td>\n",
       "      <td>14.40</td>\n",
       "      <td>1.0</td>\n",
       "      <td>посёлок Парголово</td>\n",
       "      <td>52996.0</td>\n",
       "      <td>19143.0</td>\n",
       "      <td>0.0</td>\n",
       "      <td>NaN</td>\n",
       "      <td>0.0</td>\n",
       "      <td>NaN</td>\n",
       "      <td>155.0</td>\n",
       "    </tr>\n",
       "    <tr>\n",
       "      <th>7</th>\n",
       "      <td>5</td>\n",
       "      <td>7915000.0</td>\n",
       "      <td>71.60</td>\n",
       "      <td>2019-04-18T00:00:00</td>\n",
       "      <td>2</td>\n",
       "      <td>NaN</td>\n",
       "      <td>24.0</td>\n",
       "      <td>NaN</td>\n",
       "      <td>22</td>\n",
       "      <td>NaN</td>\n",
       "      <td>...</td>\n",
       "      <td>18.90</td>\n",
       "      <td>2.0</td>\n",
       "      <td>Санкт-Петербург</td>\n",
       "      <td>23982.0</td>\n",
       "      <td>11634.0</td>\n",
       "      <td>0.0</td>\n",
       "      <td>NaN</td>\n",
       "      <td>0.0</td>\n",
       "      <td>NaN</td>\n",
       "      <td>NaN</td>\n",
       "    </tr>\n",
       "    <tr>\n",
       "      <th>8</th>\n",
       "      <td>20</td>\n",
       "      <td>2900000.0</td>\n",
       "      <td>33.16</td>\n",
       "      <td>2018-05-23T00:00:00</td>\n",
       "      <td>1</td>\n",
       "      <td>NaN</td>\n",
       "      <td>27.0</td>\n",
       "      <td>15.43</td>\n",
       "      <td>26</td>\n",
       "      <td>NaN</td>\n",
       "      <td>...</td>\n",
       "      <td>8.81</td>\n",
       "      <td>NaN</td>\n",
       "      <td>посёлок Мурино</td>\n",
       "      <td>NaN</td>\n",
       "      <td>NaN</td>\n",
       "      <td>NaN</td>\n",
       "      <td>NaN</td>\n",
       "      <td>NaN</td>\n",
       "      <td>NaN</td>\n",
       "      <td>189.0</td>\n",
       "    </tr>\n",
       "    <tr>\n",
       "      <th>9</th>\n",
       "      <td>18</td>\n",
       "      <td>5400000.0</td>\n",
       "      <td>61.00</td>\n",
       "      <td>2017-02-26T00:00:00</td>\n",
       "      <td>3</td>\n",
       "      <td>2.50</td>\n",
       "      <td>9.0</td>\n",
       "      <td>43.60</td>\n",
       "      <td>7</td>\n",
       "      <td>NaN</td>\n",
       "      <td>...</td>\n",
       "      <td>6.50</td>\n",
       "      <td>2.0</td>\n",
       "      <td>Санкт-Петербург</td>\n",
       "      <td>50898.0</td>\n",
       "      <td>15008.0</td>\n",
       "      <td>0.0</td>\n",
       "      <td>NaN</td>\n",
       "      <td>0.0</td>\n",
       "      <td>NaN</td>\n",
       "      <td>289.0</td>\n",
       "    </tr>\n",
       "    <tr>\n",
       "      <th>10</th>\n",
       "      <td>5</td>\n",
       "      <td>5050000.0</td>\n",
       "      <td>39.60</td>\n",
       "      <td>2017-11-16T00:00:00</td>\n",
       "      <td>1</td>\n",
       "      <td>2.67</td>\n",
       "      <td>12.0</td>\n",
       "      <td>20.30</td>\n",
       "      <td>3</td>\n",
       "      <td>NaN</td>\n",
       "      <td>...</td>\n",
       "      <td>8.50</td>\n",
       "      <td>NaN</td>\n",
       "      <td>Санкт-Петербург</td>\n",
       "      <td>38357.0</td>\n",
       "      <td>13878.0</td>\n",
       "      <td>1.0</td>\n",
       "      <td>310.0</td>\n",
       "      <td>2.0</td>\n",
       "      <td>553.0</td>\n",
       "      <td>137.0</td>\n",
       "    </tr>\n",
       "    <tr>\n",
       "      <th>11</th>\n",
       "      <td>9</td>\n",
       "      <td>3300000.0</td>\n",
       "      <td>44.00</td>\n",
       "      <td>2018-08-27T00:00:00</td>\n",
       "      <td>2</td>\n",
       "      <td>NaN</td>\n",
       "      <td>5.0</td>\n",
       "      <td>31.00</td>\n",
       "      <td>4</td>\n",
       "      <td>False</td>\n",
       "      <td>...</td>\n",
       "      <td>6.00</td>\n",
       "      <td>1.0</td>\n",
       "      <td>Ломоносов</td>\n",
       "      <td>48252.0</td>\n",
       "      <td>51677.0</td>\n",
       "      <td>0.0</td>\n",
       "      <td>NaN</td>\n",
       "      <td>0.0</td>\n",
       "      <td>NaN</td>\n",
       "      <td>7.0</td>\n",
       "    </tr>\n",
       "    <tr>\n",
       "      <th>12</th>\n",
       "      <td>10</td>\n",
       "      <td>3890000.0</td>\n",
       "      <td>54.00</td>\n",
       "      <td>2016-06-30T00:00:00</td>\n",
       "      <td>2</td>\n",
       "      <td>NaN</td>\n",
       "      <td>5.0</td>\n",
       "      <td>30.00</td>\n",
       "      <td>5</td>\n",
       "      <td>NaN</td>\n",
       "      <td>...</td>\n",
       "      <td>9.00</td>\n",
       "      <td>0.0</td>\n",
       "      <td>Сертолово</td>\n",
       "      <td>NaN</td>\n",
       "      <td>NaN</td>\n",
       "      <td>NaN</td>\n",
       "      <td>NaN</td>\n",
       "      <td>NaN</td>\n",
       "      <td>NaN</td>\n",
       "      <td>90.0</td>\n",
       "    </tr>\n",
       "    <tr>\n",
       "      <th>13</th>\n",
       "      <td>20</td>\n",
       "      <td>3550000.0</td>\n",
       "      <td>42.80</td>\n",
       "      <td>2017-07-01T00:00:00</td>\n",
       "      <td>2</td>\n",
       "      <td>2.56</td>\n",
       "      <td>5.0</td>\n",
       "      <td>27.00</td>\n",
       "      <td>5</td>\n",
       "      <td>NaN</td>\n",
       "      <td>...</td>\n",
       "      <td>5.20</td>\n",
       "      <td>1.0</td>\n",
       "      <td>Петергоф</td>\n",
       "      <td>37868.0</td>\n",
       "      <td>33058.0</td>\n",
       "      <td>1.0</td>\n",
       "      <td>294.0</td>\n",
       "      <td>3.0</td>\n",
       "      <td>298.0</td>\n",
       "      <td>366.0</td>\n",
       "    </tr>\n",
       "    <tr>\n",
       "      <th>14</th>\n",
       "      <td>1</td>\n",
       "      <td>4400000.0</td>\n",
       "      <td>36.00</td>\n",
       "      <td>2016-06-23T00:00:00</td>\n",
       "      <td>1</td>\n",
       "      <td>NaN</td>\n",
       "      <td>6.0</td>\n",
       "      <td>17.00</td>\n",
       "      <td>1</td>\n",
       "      <td>NaN</td>\n",
       "      <td>...</td>\n",
       "      <td>8.00</td>\n",
       "      <td>0.0</td>\n",
       "      <td>Пушкин</td>\n",
       "      <td>20782.0</td>\n",
       "      <td>30759.0</td>\n",
       "      <td>0.0</td>\n",
       "      <td>NaN</td>\n",
       "      <td>1.0</td>\n",
       "      <td>96.0</td>\n",
       "      <td>203.0</td>\n",
       "    </tr>\n",
       "  </tbody>\n",
       "</table>\n",
       "<p>15 rows × 22 columns</p>\n",
       "</div>"
      ],
      "text/plain": [
       "    total_images  last_price  total_area first_day_exposition  rooms  \\\n",
       "0             20  13000000.0      108.00  2019-03-07T00:00:00      3   \n",
       "1              7   3350000.0       40.40  2018-12-04T00:00:00      1   \n",
       "2             10   5196000.0       56.00  2015-08-20T00:00:00      2   \n",
       "3              0  64900000.0      159.00  2015-07-24T00:00:00      3   \n",
       "4              2  10000000.0      100.00  2018-06-19T00:00:00      2   \n",
       "5             10   2890000.0       30.40  2018-09-10T00:00:00      1   \n",
       "6              6   3700000.0       37.30  2017-11-02T00:00:00      1   \n",
       "7              5   7915000.0       71.60  2019-04-18T00:00:00      2   \n",
       "8             20   2900000.0       33.16  2018-05-23T00:00:00      1   \n",
       "9             18   5400000.0       61.00  2017-02-26T00:00:00      3   \n",
       "10             5   5050000.0       39.60  2017-11-16T00:00:00      1   \n",
       "11             9   3300000.0       44.00  2018-08-27T00:00:00      2   \n",
       "12            10   3890000.0       54.00  2016-06-30T00:00:00      2   \n",
       "13            20   3550000.0       42.80  2017-07-01T00:00:00      2   \n",
       "14             1   4400000.0       36.00  2016-06-23T00:00:00      1   \n",
       "\n",
       "    ceiling_height  floors_total  living_area  floor is_apartment  ...  \\\n",
       "0             2.70          16.0        51.00      8          NaN  ...   \n",
       "1              NaN          11.0        18.60      1          NaN  ...   \n",
       "2              NaN           5.0        34.30      4          NaN  ...   \n",
       "3              NaN          14.0          NaN      9          NaN  ...   \n",
       "4             3.03          14.0        32.00     13          NaN  ...   \n",
       "5              NaN          12.0        14.40      5          NaN  ...   \n",
       "6              NaN          26.0        10.60      6          NaN  ...   \n",
       "7              NaN          24.0          NaN     22          NaN  ...   \n",
       "8              NaN          27.0        15.43     26          NaN  ...   \n",
       "9             2.50           9.0        43.60      7          NaN  ...   \n",
       "10            2.67          12.0        20.30      3          NaN  ...   \n",
       "11             NaN           5.0        31.00      4        False  ...   \n",
       "12             NaN           5.0        30.00      5          NaN  ...   \n",
       "13            2.56           5.0        27.00      5          NaN  ...   \n",
       "14             NaN           6.0        17.00      1          NaN  ...   \n",
       "\n",
       "    kitchen_area  balcony              locality_name  airports_nearest  \\\n",
       "0          25.00      NaN            Санкт-Петербург           18863.0   \n",
       "1          11.00      2.0             посёлок Шушары           12817.0   \n",
       "2           8.30      0.0            Санкт-Петербург           21741.0   \n",
       "3            NaN      0.0            Санкт-Петербург           28098.0   \n",
       "4          41.00      NaN            Санкт-Петербург           31856.0   \n",
       "5           9.10      NaN  городской посёлок Янино-1               NaN   \n",
       "6          14.40      1.0          посёлок Парголово           52996.0   \n",
       "7          18.90      2.0            Санкт-Петербург           23982.0   \n",
       "8           8.81      NaN             посёлок Мурино               NaN   \n",
       "9           6.50      2.0            Санкт-Петербург           50898.0   \n",
       "10          8.50      NaN            Санкт-Петербург           38357.0   \n",
       "11          6.00      1.0                  Ломоносов           48252.0   \n",
       "12          9.00      0.0                  Сертолово               NaN   \n",
       "13          5.20      1.0                   Петергоф           37868.0   \n",
       "14          8.00      0.0                     Пушкин           20782.0   \n",
       "\n",
       "   cityCenters_nearest  parks_around3000  parks_nearest  ponds_around3000  \\\n",
       "0              16028.0               1.0          482.0               2.0   \n",
       "1              18603.0               0.0            NaN               0.0   \n",
       "2              13933.0               1.0           90.0               2.0   \n",
       "3               6800.0               2.0           84.0               3.0   \n",
       "4               8098.0               2.0          112.0               1.0   \n",
       "5                  NaN               NaN            NaN               NaN   \n",
       "6              19143.0               0.0            NaN               0.0   \n",
       "7              11634.0               0.0            NaN               0.0   \n",
       "8                  NaN               NaN            NaN               NaN   \n",
       "9              15008.0               0.0            NaN               0.0   \n",
       "10             13878.0               1.0          310.0               2.0   \n",
       "11             51677.0               0.0            NaN               0.0   \n",
       "12                 NaN               NaN            NaN               NaN   \n",
       "13             33058.0               1.0          294.0               3.0   \n",
       "14             30759.0               0.0            NaN               1.0   \n",
       "\n",
       "    ponds_nearest  days_exposition  \n",
       "0           755.0              NaN  \n",
       "1             NaN             81.0  \n",
       "2           574.0            558.0  \n",
       "3           234.0            424.0  \n",
       "4            48.0            121.0  \n",
       "5             NaN             55.0  \n",
       "6             NaN            155.0  \n",
       "7             NaN              NaN  \n",
       "8             NaN            189.0  \n",
       "9             NaN            289.0  \n",
       "10          553.0            137.0  \n",
       "11            NaN              7.0  \n",
       "12            NaN             90.0  \n",
       "13          298.0            366.0  \n",
       "14           96.0            203.0  \n",
       "\n",
       "[15 rows x 22 columns]"
      ]
     },
     "execution_count": 4,
     "metadata": {},
     "output_type": "execute_result"
    }
   ],
   "source": [
    "data.head(15)"
   ]
  },
  {
   "cell_type": "markdown",
   "metadata": {},
   "source": [
    "### Вывод"
   ]
  },
  {
   "cell_type": "markdown",
   "metadata": {},
   "source": [
    "Из первичного анализа можно сделать выводы:\n",
    "+ множество пропусков в различных столбцах (способы их устранения определю после более глубокого анализа);\n",
    "+ наблюдается аномально маленькие и большие значения переменных (например, rooms = 0, ceiling_height = 100 и т.д.);\n",
    "+ также необходимо изменить тип данных у таких столбцов, как floors_total, is_apartment, balcony и т.д."
   ]
  },
  {
   "cell_type": "markdown",
   "metadata": {},
   "source": [
    "## Предобработка данных"
   ]
  },
  {
   "cell_type": "markdown",
   "metadata": {},
   "source": [
    "### Удаление пропущенных элементов"
   ]
  },
  {
   "cell_type": "markdown",
   "metadata": {},
   "source": [
    "#### Удаление пропущенных элементов в столбце ceiling_height"
   ]
  },
  {
   "cell_type": "code",
   "execution_count": 5,
   "metadata": {},
   "outputs": [
    {
     "data": {
      "text/plain": [
       "9195"
      ]
     },
     "execution_count": 5,
     "metadata": {},
     "output_type": "execute_result"
    }
   ],
   "source": [
    "data['ceiling_height'].isna().sum()"
   ]
  },
  {
   "cell_type": "code",
   "execution_count": 6,
   "metadata": {},
   "outputs": [
    {
     "data": {
      "text/plain": [
       "<AxesSubplot:>"
      ]
     },
     "execution_count": 6,
     "metadata": {},
     "output_type": "execute_result"
    },
    {
     "data": {
      "image/png": "[encoded data removed]",
      "text/plain": [
       "<Figure size 432x288 with 1 Axes>"
      ]
     },
     "metadata": {
      "needs_background": "light"
     },
     "output_type": "display_data"
    }
   ],
   "source": [
    "data['ceiling_height'].hist(bins=50, range=(0,10))"
   ]
  },
  {
   "cell_type": "code",
   "execution_count": 7,
   "metadata": {},
   "outputs": [],
   "source": [
    "median_ch = data['ceiling_height'].median()\n",
    "data['ceiling_height'] = data['ceiling_height'].fillna(median_ch)"
   ]
  },
  {
   "cell_type": "code",
   "execution_count": 8,
   "metadata": {},
   "outputs": [
    {
     "data": {
      "text/plain": [
       "0"
      ]
     },
     "execution_count": 8,
     "metadata": {},
     "output_type": "execute_result"
    }
   ],
   "source": [
    "data['ceiling_height'].isna().sum()"
   ]
  },
  {
   "cell_type": "markdown",
   "metadata": {},
   "source": [
    "Анализ показал, что практически все значения колонки ceiling_height сосредоточены на участке от 2 до 3 метров, поэтому считаю целесообразным заменить пропущенные значения на медианное значение, равное 2.7."
   ]
  },
  {
   "cell_type": "markdown",
   "metadata": {},
   "source": [
    "#### Удаление пропущенных элементов в столбце floors_total"
   ]
  },
  {
   "cell_type": "code",
   "execution_count": 9,
   "metadata": {},
   "outputs": [
    {
     "data": {
      "text/plain": [
       "86"
      ]
     },
     "execution_count": 9,
     "metadata": {},
     "output_type": "execute_result"
    }
   ],
   "source": [
    "data['floors_total'].isna().sum()"
   ]
  },
  {
   "cell_type": "code",
   "execution_count": 10,
   "metadata": {},
   "outputs": [
    {
     "data": {
      "text/plain": [
       "<AxesSubplot:>"
      ]
     },
     "execution_count": 10,
     "metadata": {},
     "output_type": "execute_result"
    },
    {
     "data": {
      "image/png": "[encoded data removed]",
      "text/plain": [
       "<Figure size 432x288 with 1 Axes>"
      ]
     },
     "metadata": {
      "needs_background": "light"
     },
     "output_type": "display_data"
    }
   ],
   "source": [
    "data['floors_total'].hist(bins=30)"
   ]
  },
  {
   "cell_type": "code",
   "execution_count": 11,
   "metadata": {},
   "outputs": [
    {
     "data": {
      "text/plain": [
       "0.36288450989493226"
      ]
     },
     "execution_count": 11,
     "metadata": {},
     "output_type": "execute_result"
    }
   ],
   "source": [
    "(data['floors_total'].isna().sum() / len(data['floors_total'])) * 100"
   ]
  },
  {
   "cell_type": "code",
   "execution_count": 12,
   "metadata": {},
   "outputs": [],
   "source": [
    "data = data[data['floors_total'].isna() == False]"
   ]
  },
  {
   "cell_type": "code",
   "execution_count": 13,
   "metadata": {},
   "outputs": [
    {
     "data": {
      "text/plain": [
       "0"
      ]
     },
     "execution_count": 13,
     "metadata": {},
     "output_type": "execute_result"
    }
   ],
   "source": [
    "data['floors_total'].isna().sum()"
   ]
  },
  {
   "cell_type": "markdown",
   "metadata": {},
   "source": [
    "Т.к. корректно определить высоту дома нельзя из имеющихся данных, а эта величина можно очень сильно варьироваться судя по графику, и доля записей с пропущенными значениями невелика (0,362%), то считаю возможным удалить эти строки."
   ]
  },
  {
   "cell_type": "markdown",
   "metadata": {},
   "source": [
    "#### Удаление пропущенных элементов в столбце living_area"
   ]
  },
  {
   "cell_type": "code",
   "execution_count": 14,
   "metadata": {},
   "outputs": [
    {
     "data": {
      "text/plain": [
       "1870"
      ]
     },
     "execution_count": 14,
     "metadata": {},
     "output_type": "execute_result"
    }
   ],
   "source": [
    "data['living_area'].isna().sum()"
   ]
  },
  {
   "cell_type": "code",
   "execution_count": 15,
   "metadata": {},
   "outputs": [
    {
     "data": {
      "text/html": [
       "<div>\n",
       "<style scoped>\n",
       "    .dataframe tbody tr th:only-of-type {\n",
       "        vertical-align: middle;\n",
       "    }\n",
       "\n",
       "    .dataframe tbody tr th {\n",
       "        vertical-align: top;\n",
       "    }\n",
       "\n",
       "    .dataframe thead th {\n",
       "        text-align: right;\n",
       "    }\n",
       "</style>\n",
       "<table border=\"1\" class=\"dataframe\">\n",
       "  <thead>\n",
       "    <tr style=\"text-align: right;\">\n",
       "      <th></th>\n",
       "      <th>count</th>\n",
       "      <th>mean</th>\n",
       "      <th>std</th>\n",
       "      <th>min</th>\n",
       "      <th>25%</th>\n",
       "      <th>50%</th>\n",
       "      <th>75%</th>\n",
       "      <th>max</th>\n",
       "    </tr>\n",
       "    <tr>\n",
       "      <th>rooms</th>\n",
       "      <th></th>\n",
       "      <th></th>\n",
       "      <th></th>\n",
       "      <th></th>\n",
       "      <th></th>\n",
       "      <th></th>\n",
       "      <th></th>\n",
       "      <th></th>\n",
       "    </tr>\n",
       "  </thead>\n",
       "  <tbody>\n",
       "    <tr>\n",
       "      <th>0</th>\n",
       "      <td>183.0</td>\n",
       "      <td>18.865246</td>\n",
       "      <td>6.549527</td>\n",
       "      <td>2.0</td>\n",
       "      <td>16.000</td>\n",
       "      <td>18.000</td>\n",
       "      <td>19.950</td>\n",
       "      <td>68.0</td>\n",
       "    </tr>\n",
       "    <tr>\n",
       "      <th>1</th>\n",
       "      <td>7368.0</td>\n",
       "      <td>17.900308</td>\n",
       "      <td>3.445194</td>\n",
       "      <td>3.0</td>\n",
       "      <td>16.000</td>\n",
       "      <td>17.600</td>\n",
       "      <td>19.000</td>\n",
       "      <td>60.0</td>\n",
       "    </tr>\n",
       "    <tr>\n",
       "      <th>2</th>\n",
       "      <td>7279.0</td>\n",
       "      <td>31.736574</td>\n",
       "      <td>6.134196</td>\n",
       "      <td>2.0</td>\n",
       "      <td>28.100</td>\n",
       "      <td>30.500</td>\n",
       "      <td>33.900</td>\n",
       "      <td>99.5</td>\n",
       "    </tr>\n",
       "    <tr>\n",
       "      <th>3</th>\n",
       "      <td>5353.0</td>\n",
       "      <td>47.384711</td>\n",
       "      <td>11.223762</td>\n",
       "      <td>3.0</td>\n",
       "      <td>41.000</td>\n",
       "      <td>45.000</td>\n",
       "      <td>51.300</td>\n",
       "      <td>170.8</td>\n",
       "    </tr>\n",
       "    <tr>\n",
       "      <th>4</th>\n",
       "      <td>1087.0</td>\n",
       "      <td>66.936136</td>\n",
       "      <td>23.318887</td>\n",
       "      <td>5.4</td>\n",
       "      <td>52.000</td>\n",
       "      <td>63.500</td>\n",
       "      <td>76.250</td>\n",
       "      <td>250.0</td>\n",
       "    </tr>\n",
       "    <tr>\n",
       "      <th>5</th>\n",
       "      <td>292.0</td>\n",
       "      <td>100.009247</td>\n",
       "      <td>36.644486</td>\n",
       "      <td>23.6</td>\n",
       "      <td>76.475</td>\n",
       "      <td>91.785</td>\n",
       "      <td>116.425</td>\n",
       "      <td>301.5</td>\n",
       "    </tr>\n",
       "    <tr>\n",
       "      <th>6</th>\n",
       "      <td>98.0</td>\n",
       "      <td>131.799796</td>\n",
       "      <td>42.180914</td>\n",
       "      <td>68.0</td>\n",
       "      <td>101.575</td>\n",
       "      <td>124.400</td>\n",
       "      <td>158.500</td>\n",
       "      <td>300.0</td>\n",
       "    </tr>\n",
       "    <tr>\n",
       "      <th>7</th>\n",
       "      <td>53.0</td>\n",
       "      <td>163.564151</td>\n",
       "      <td>68.203364</td>\n",
       "      <td>57.4</td>\n",
       "      <td>119.300</td>\n",
       "      <td>145.000</td>\n",
       "      <td>193.000</td>\n",
       "      <td>347.5</td>\n",
       "    </tr>\n",
       "    <tr>\n",
       "      <th>8</th>\n",
       "      <td>12.0</td>\n",
       "      <td>168.683333</td>\n",
       "      <td>41.550623</td>\n",
       "      <td>107.0</td>\n",
       "      <td>152.400</td>\n",
       "      <td>161.000</td>\n",
       "      <td>179.200</td>\n",
       "      <td>260.0</td>\n",
       "    </tr>\n",
       "    <tr>\n",
       "      <th>9</th>\n",
       "      <td>7.0</td>\n",
       "      <td>190.257143</td>\n",
       "      <td>36.362428</td>\n",
       "      <td>157.0</td>\n",
       "      <td>160.350</td>\n",
       "      <td>179.200</td>\n",
       "      <td>212.450</td>\n",
       "      <td>250.0</td>\n",
       "    </tr>\n",
       "    <tr>\n",
       "      <th>10</th>\n",
       "      <td>3.0</td>\n",
       "      <td>165.566667</td>\n",
       "      <td>22.047298</td>\n",
       "      <td>145.9</td>\n",
       "      <td>153.650</td>\n",
       "      <td>161.400</td>\n",
       "      <td>175.400</td>\n",
       "      <td>189.4</td>\n",
       "    </tr>\n",
       "    <tr>\n",
       "      <th>11</th>\n",
       "      <td>2.0</td>\n",
       "      <td>133.900000</td>\n",
       "      <td>6.929646</td>\n",
       "      <td>129.0</td>\n",
       "      <td>131.450</td>\n",
       "      <td>133.900</td>\n",
       "      <td>136.350</td>\n",
       "      <td>138.8</td>\n",
       "    </tr>\n",
       "    <tr>\n",
       "      <th>12</th>\n",
       "      <td>1.0</td>\n",
       "      <td>409.700000</td>\n",
       "      <td>NaN</td>\n",
       "      <td>409.7</td>\n",
       "      <td>409.700</td>\n",
       "      <td>409.700</td>\n",
       "      <td>409.700</td>\n",
       "      <td>409.7</td>\n",
       "    </tr>\n",
       "    <tr>\n",
       "      <th>14</th>\n",
       "      <td>2.0</td>\n",
       "      <td>195.150000</td>\n",
       "      <td>37.971634</td>\n",
       "      <td>168.3</td>\n",
       "      <td>181.725</td>\n",
       "      <td>195.150</td>\n",
       "      <td>208.575</td>\n",
       "      <td>222.0</td>\n",
       "    </tr>\n",
       "    <tr>\n",
       "      <th>15</th>\n",
       "      <td>1.0</td>\n",
       "      <td>409.000000</td>\n",
       "      <td>NaN</td>\n",
       "      <td>409.0</td>\n",
       "      <td>409.000</td>\n",
       "      <td>409.000</td>\n",
       "      <td>409.000</td>\n",
       "      <td>409.0</td>\n",
       "    </tr>\n",
       "    <tr>\n",
       "      <th>16</th>\n",
       "      <td>1.0</td>\n",
       "      <td>180.000000</td>\n",
       "      <td>NaN</td>\n",
       "      <td>180.0</td>\n",
       "      <td>180.000</td>\n",
       "      <td>180.000</td>\n",
       "      <td>180.000</td>\n",
       "      <td>180.0</td>\n",
       "    </tr>\n",
       "    <tr>\n",
       "      <th>19</th>\n",
       "      <td>1.0</td>\n",
       "      <td>264.500000</td>\n",
       "      <td>NaN</td>\n",
       "      <td>264.5</td>\n",
       "      <td>264.500</td>\n",
       "      <td>264.500</td>\n",
       "      <td>264.500</td>\n",
       "      <td>264.5</td>\n",
       "    </tr>\n",
       "  </tbody>\n",
       "</table>\n",
       "</div>"
      ],
      "text/plain": [
       "        count        mean        std    min      25%      50%      75%    max\n",
       "rooms                                                                        \n",
       "0       183.0   18.865246   6.549527    2.0   16.000   18.000   19.950   68.0\n",
       "1      7368.0   17.900308   3.445194    3.0   16.000   17.600   19.000   60.0\n",
       "2      7279.0   31.736574   6.134196    2.0   28.100   30.500   33.900   99.5\n",
       "3      5353.0   47.384711  11.223762    3.0   41.000   45.000   51.300  170.8\n",
       "4      1087.0   66.936136  23.318887    5.4   52.000   63.500   76.250  250.0\n",
       "5       292.0  100.009247  36.644486   23.6   76.475   91.785  116.425  301.5\n",
       "6        98.0  131.799796  42.180914   68.0  101.575  124.400  158.500  300.0\n",
       "7        53.0  163.564151  68.203364   57.4  119.300  145.000  193.000  347.5\n",
       "8        12.0  168.683333  41.550623  107.0  152.400  161.000  179.200  260.0\n",
       "9         7.0  190.257143  36.362428  157.0  160.350  179.200  212.450  250.0\n",
       "10        3.0  165.566667  22.047298  145.9  153.650  161.400  175.400  189.4\n",
       "11        2.0  133.900000   6.929646  129.0  131.450  133.900  136.350  138.8\n",
       "12        1.0  409.700000        NaN  409.7  409.700  409.700  409.700  409.7\n",
       "14        2.0  195.150000  37.971634  168.3  181.725  195.150  208.575  222.0\n",
       "15        1.0  409.000000        NaN  409.0  409.000  409.000  409.000  409.0\n",
       "16        1.0  180.000000        NaN  180.0  180.000  180.000  180.000  180.0\n",
       "19        1.0  264.500000        NaN  264.5  264.500  264.500  264.500  264.5"
      ]
     },
     "execution_count": 15,
     "metadata": {},
     "output_type": "execute_result"
    }
   ],
   "source": [
    "data.groupby(['rooms'])['living_area'].describe()"
   ]
  },
  {
   "cell_type": "code",
   "execution_count": 16,
   "metadata": {},
   "outputs": [
    {
     "name": "stdout",
     "output_type": "stream",
     "text": [
      "room 0 0.6433885224373829\n",
      "room 1 0.4753913629842672\n",
      "room 2 0.5684077150845581\n",
      "room 3 0.6096920191944066\n",
      "room 4 0.6229460582694838\n",
      "room 5 0.6191863563434391\n",
      "room 6 0.650633027514493\n",
      "room 7 0.6164661819614146\n",
      "room 8 0.6507007843641508\n",
      "room 9 0.6218061699718697\n",
      "room 10 0.6378579684088868\n",
      "room 11 0.7088406564319747\n",
      "room 12 0.4552222222222222\n",
      "room 14 0.6415187376725838\n",
      "room 15 0.6932203389830508\n",
      "room 16 0.6666666666666666\n",
      "room 19 0.7060864922584089\n"
     ]
    }
   ],
   "source": [
    "for room in pd.Series(data['rooms'].unique()).sort_values():\n",
    "    print('room', room, data.loc[data['rooms'] == room, 'living_area'].mean() / data.loc[data['rooms'] == room, 'total_area'].mean())"
   ]
  },
  {
   "cell_type": "code",
   "execution_count": 17,
   "metadata": {},
   "outputs": [],
   "source": [
    "for room in pd.Series(data['rooms'].unique()).sort_values():\n",
    "    living_coef = data.loc[data['rooms'] == room, 'living_area'].mean() / data.loc[data['rooms'] == room, 'total_area'].mean()\n",
    "    data.loc[(data['living_area'].isna()) & (data['rooms'] == room), \n",
    "             'living_area'] = data.loc[(data['living_area'].isna()) & (data['rooms'] == room), \n",
    "                                       'total_area']*living_coef"
   ]
  },
  {
   "cell_type": "code",
   "execution_count": 18,
   "metadata": {},
   "outputs": [
    {
     "data": {
      "text/plain": [
       "0"
      ]
     },
     "execution_count": 18,
     "metadata": {},
     "output_type": "execute_result"
    }
   ],
   "source": [
    "data['living_area'].isna().sum()"
   ]
  },
  {
   "cell_type": "code",
   "execution_count": 19,
   "metadata": {},
   "outputs": [
    {
     "data": {
      "text/plain": [
       "0"
      ]
     },
     "execution_count": 19,
     "metadata": {},
     "output_type": "execute_result"
    }
   ],
   "source": [
    "len(data[data['living_area'] > data['total_area']])"
   ]
  },
  {
   "cell_type": "markdown",
   "metadata": {},
   "source": [
    "Жилая площадь квартиры прямо зависит от общей площади и от количества комнат (для квартир с числом комнат от 4 доля практически не меняется, но количество таких квартр находится в меньшинстве). Тогда можно заменить пропущенную жилую площадь на произведение средней доли жилой площади по отношению к общей площади в детализации по количеству комнат.\n"
   ]
  },
  {
   "cell_type": "markdown",
   "metadata": {},
   "source": [
    "#### Удаление пропущенных элементов в столбце is_apartment"
   ]
  },
  {
   "cell_type": "code",
   "execution_count": 20,
   "metadata": {},
   "outputs": [
    {
     "data": {
      "text/plain": [
       "20838"
      ]
     },
     "execution_count": 20,
     "metadata": {},
     "output_type": "execute_result"
    }
   ],
   "source": [
    "data['is_apartment'].isna().sum()"
   ]
  },
  {
   "cell_type": "code",
   "execution_count": 21,
   "metadata": {},
   "outputs": [
    {
     "data": {
      "text/html": [
       "<div>\n",
       "<style scoped>\n",
       "    .dataframe tbody tr th:only-of-type {\n",
       "        vertical-align: middle;\n",
       "    }\n",
       "\n",
       "    .dataframe tbody tr th {\n",
       "        vertical-align: top;\n",
       "    }\n",
       "\n",
       "    .dataframe thead th {\n",
       "        text-align: right;\n",
       "    }\n",
       "</style>\n",
       "<table border=\"1\" class=\"dataframe\">\n",
       "  <thead>\n",
       "    <tr style=\"text-align: right;\">\n",
       "      <th></th>\n",
       "      <th>count</th>\n",
       "      <th>mean</th>\n",
       "      <th>std</th>\n",
       "      <th>min</th>\n",
       "      <th>25%</th>\n",
       "      <th>50%</th>\n",
       "      <th>75%</th>\n",
       "      <th>max</th>\n",
       "      <th>lower</th>\n",
       "      <th>higher</th>\n",
       "    </tr>\n",
       "    <tr>\n",
       "      <th>is_apartment</th>\n",
       "      <th></th>\n",
       "      <th></th>\n",
       "      <th></th>\n",
       "      <th></th>\n",
       "      <th></th>\n",
       "      <th></th>\n",
       "      <th></th>\n",
       "      <th></th>\n",
       "      <th></th>\n",
       "      <th></th>\n",
       "    </tr>\n",
       "  </thead>\n",
       "  <tbody>\n",
       "    <tr>\n",
       "      <th>False</th>\n",
       "      <td>2725.0</td>\n",
       "      <td>2.799317</td>\n",
       "      <td>1.405096</td>\n",
       "      <td>2.0</td>\n",
       "      <td>2.6</td>\n",
       "      <td>2.65</td>\n",
       "      <td>2.75</td>\n",
       "      <td>32.0</td>\n",
       "      <td>2.375</td>\n",
       "      <td>2.975</td>\n",
       "    </tr>\n",
       "    <tr>\n",
       "      <th>True</th>\n",
       "      <td>50.0</td>\n",
       "      <td>5.874200</td>\n",
       "      <td>14.302575</td>\n",
       "      <td>2.5</td>\n",
       "      <td>2.7</td>\n",
       "      <td>3.00</td>\n",
       "      <td>3.15</td>\n",
       "      <td>100.0</td>\n",
       "      <td>2.025</td>\n",
       "      <td>3.825</td>\n",
       "    </tr>\n",
       "  </tbody>\n",
       "</table>\n",
       "</div>"
      ],
      "text/plain": [
       "               count      mean        std  min  25%   50%   75%    max  lower  \\\n",
       "is_apartment                                                                    \n",
       "False         2725.0  2.799317   1.405096  2.0  2.6  2.65  2.75   32.0  2.375   \n",
       "True            50.0  5.874200  14.302575  2.5  2.7  3.00  3.15  100.0  2.025   \n",
       "\n",
       "              higher  \n",
       "is_apartment          \n",
       "False          2.975  \n",
       "True           3.825  "
      ]
     },
     "execution_count": 21,
     "metadata": {},
     "output_type": "execute_result"
    }
   ],
   "source": [
    "data_stat = data.groupby(['is_apartment'])['ceiling_height'].describe()\n",
    "data_stat['lower'] = data_stat['25%'] - 1.5*(data_stat['75%'] - data_stat['25%'])\n",
    "data_stat['higher'] = data_stat['75%'] + 1.5*(data_stat['75%'] - data_stat['25%'])\n",
    "data_stat"
   ]
  },
  {
   "cell_type": "code",
   "execution_count": 22,
   "metadata": {},
   "outputs": [],
   "source": [
    "data.loc[data['ceiling_height'] < 3, 'is_apartment'] = data.loc[data['ceiling_height'] < 3, 'is_apartment'].fillna(False)\n",
    "data.loc[data['ceiling_height'] >= 3, 'is_apartment'] = data.loc[data['ceiling_height'] >= 3, 'is_apartment'].fillna(True)"
   ]
  },
  {
   "cell_type": "code",
   "execution_count": 23,
   "metadata": {},
   "outputs": [
    {
     "data": {
      "text/plain": [
       "0"
      ]
     },
     "execution_count": 23,
     "metadata": {},
     "output_type": "execute_result"
    }
   ],
   "source": [
    "data['is_apartment'].isna().sum()"
   ]
  },
  {
   "cell_type": "markdown",
   "metadata": {},
   "source": [
    "Данных по апартаментам сравнительно мало в имеющейся таблице - всего лишь 11%, что снижает вероятность корректного заполнения пропущенных значений поэтому можно ориентироваться только на косвенные признаки. Для этого решила использовать поле ceiling_height. Анализ показал, что границей нормальных значений ceiling_height для квартир с is_apartment = False явлется 2,975. Таким образом, квартиры с высотой потолков выше 3 можно считать is_apartment = True, а с меньшей - False."
   ]
  },
  {
   "cell_type": "markdown",
   "metadata": {},
   "source": [
    "#### Удаление пропущенных элементов в столбце kitchen_area"
   ]
  },
  {
   "cell_type": "code",
   "execution_count": 24,
   "metadata": {},
   "outputs": [
    {
     "data": {
      "text/plain": [
       "2231"
      ]
     },
     "execution_count": 24,
     "metadata": {},
     "output_type": "execute_result"
    }
   ],
   "source": [
    "data['kitchen_area'].isna().sum()"
   ]
  },
  {
   "cell_type": "code",
   "execution_count": 25,
   "metadata": {},
   "outputs": [
    {
     "data": {
      "text/html": [
       "<div>\n",
       "<style scoped>\n",
       "    .dataframe tbody tr th:only-of-type {\n",
       "        vertical-align: middle;\n",
       "    }\n",
       "\n",
       "    .dataframe tbody tr th {\n",
       "        vertical-align: top;\n",
       "    }\n",
       "\n",
       "    .dataframe thead th {\n",
       "        text-align: right;\n",
       "    }\n",
       "</style>\n",
       "<table border=\"1\" class=\"dataframe\">\n",
       "  <thead>\n",
       "    <tr style=\"text-align: right;\">\n",
       "      <th></th>\n",
       "      <th>count</th>\n",
       "      <th>mean</th>\n",
       "      <th>std</th>\n",
       "      <th>min</th>\n",
       "      <th>25%</th>\n",
       "      <th>50%</th>\n",
       "      <th>75%</th>\n",
       "      <th>max</th>\n",
       "    </tr>\n",
       "    <tr>\n",
       "      <th>rooms</th>\n",
       "      <th></th>\n",
       "      <th></th>\n",
       "      <th></th>\n",
       "      <th></th>\n",
       "      <th></th>\n",
       "      <th></th>\n",
       "      <th></th>\n",
       "      <th></th>\n",
       "    </tr>\n",
       "  </thead>\n",
       "  <tbody>\n",
       "    <tr>\n",
       "      <th>0</th>\n",
       "      <td>0.0</td>\n",
       "      <td>NaN</td>\n",
       "      <td>NaN</td>\n",
       "      <td>NaN</td>\n",
       "      <td>NaN</td>\n",
       "      <td>NaN</td>\n",
       "      <td>NaN</td>\n",
       "      <td>NaN</td>\n",
       "    </tr>\n",
       "    <tr>\n",
       "      <th>1</th>\n",
       "      <td>7203.0</td>\n",
       "      <td>9.548692</td>\n",
       "      <td>3.311765</td>\n",
       "      <td>1.3</td>\n",
       "      <td>7.200</td>\n",
       "      <td>9.00</td>\n",
       "      <td>11.000</td>\n",
       "      <td>58.4</td>\n",
       "    </tr>\n",
       "    <tr>\n",
       "      <th>2</th>\n",
       "      <td>7270.0</td>\n",
       "      <td>9.974912</td>\n",
       "      <td>5.118034</td>\n",
       "      <td>2.0</td>\n",
       "      <td>7.000</td>\n",
       "      <td>8.70</td>\n",
       "      <td>11.300</td>\n",
       "      <td>93.0</td>\n",
       "    </tr>\n",
       "    <tr>\n",
       "      <th>3</th>\n",
       "      <td>5369.0</td>\n",
       "      <td>11.293906</td>\n",
       "      <td>6.904164</td>\n",
       "      <td>4.0</td>\n",
       "      <td>7.000</td>\n",
       "      <td>9.50</td>\n",
       "      <td>13.000</td>\n",
       "      <td>107.0</td>\n",
       "    </tr>\n",
       "    <tr>\n",
       "      <th>4</th>\n",
       "      <td>1080.0</td>\n",
       "      <td>13.663009</td>\n",
       "      <td>8.937772</td>\n",
       "      <td>4.8</td>\n",
       "      <td>8.000</td>\n",
       "      <td>11.05</td>\n",
       "      <td>15.925</td>\n",
       "      <td>77.0</td>\n",
       "    </tr>\n",
       "    <tr>\n",
       "      <th>5</th>\n",
       "      <td>285.0</td>\n",
       "      <td>18.367649</td>\n",
       "      <td>10.862392</td>\n",
       "      <td>5.0</td>\n",
       "      <td>11.400</td>\n",
       "      <td>15.10</td>\n",
       "      <td>20.700</td>\n",
       "      <td>66.0</td>\n",
       "    </tr>\n",
       "    <tr>\n",
       "      <th>6</th>\n",
       "      <td>96.0</td>\n",
       "      <td>21.098229</td>\n",
       "      <td>9.892416</td>\n",
       "      <td>5.9</td>\n",
       "      <td>14.300</td>\n",
       "      <td>19.75</td>\n",
       "      <td>26.625</td>\n",
       "      <td>56.0</td>\n",
       "    </tr>\n",
       "    <tr>\n",
       "      <th>7</th>\n",
       "      <td>52.0</td>\n",
       "      <td>21.998077</td>\n",
       "      <td>12.114802</td>\n",
       "      <td>5.0</td>\n",
       "      <td>15.775</td>\n",
       "      <td>20.00</td>\n",
       "      <td>25.000</td>\n",
       "      <td>70.0</td>\n",
       "    </tr>\n",
       "    <tr>\n",
       "      <th>8</th>\n",
       "      <td>9.0</td>\n",
       "      <td>24.866667</td>\n",
       "      <td>13.085106</td>\n",
       "      <td>5.0</td>\n",
       "      <td>22.600</td>\n",
       "      <td>25.00</td>\n",
       "      <td>29.400</td>\n",
       "      <td>45.0</td>\n",
       "    </tr>\n",
       "    <tr>\n",
       "      <th>9</th>\n",
       "      <td>7.0</td>\n",
       "      <td>25.071429</td>\n",
       "      <td>15.983086</td>\n",
       "      <td>11.7</td>\n",
       "      <td>12.800</td>\n",
       "      <td>14.30</td>\n",
       "      <td>36.950</td>\n",
       "      <td>50.0</td>\n",
       "    </tr>\n",
       "    <tr>\n",
       "      <th>10</th>\n",
       "      <td>3.0</td>\n",
       "      <td>22.866667</td>\n",
       "      <td>6.197849</td>\n",
       "      <td>18.8</td>\n",
       "      <td>19.300</td>\n",
       "      <td>19.80</td>\n",
       "      <td>24.900</td>\n",
       "      <td>30.0</td>\n",
       "    </tr>\n",
       "    <tr>\n",
       "      <th>11</th>\n",
       "      <td>2.0</td>\n",
       "      <td>12.600000</td>\n",
       "      <td>0.989949</td>\n",
       "      <td>11.9</td>\n",
       "      <td>12.250</td>\n",
       "      <td>12.60</td>\n",
       "      <td>12.950</td>\n",
       "      <td>13.3</td>\n",
       "    </tr>\n",
       "    <tr>\n",
       "      <th>12</th>\n",
       "      <td>1.0</td>\n",
       "      <td>112.000000</td>\n",
       "      <td>NaN</td>\n",
       "      <td>112.0</td>\n",
       "      <td>112.000</td>\n",
       "      <td>112.00</td>\n",
       "      <td>112.000</td>\n",
       "      <td>112.0</td>\n",
       "    </tr>\n",
       "    <tr>\n",
       "      <th>14</th>\n",
       "      <td>2.0</td>\n",
       "      <td>21.250000</td>\n",
       "      <td>6.576093</td>\n",
       "      <td>16.6</td>\n",
       "      <td>18.925</td>\n",
       "      <td>21.25</td>\n",
       "      <td>23.575</td>\n",
       "      <td>25.9</td>\n",
       "    </tr>\n",
       "    <tr>\n",
       "      <th>15</th>\n",
       "      <td>1.0</td>\n",
       "      <td>100.000000</td>\n",
       "      <td>NaN</td>\n",
       "      <td>100.0</td>\n",
       "      <td>100.000</td>\n",
       "      <td>100.00</td>\n",
       "      <td>100.000</td>\n",
       "      <td>100.0</td>\n",
       "    </tr>\n",
       "    <tr>\n",
       "      <th>16</th>\n",
       "      <td>1.0</td>\n",
       "      <td>13.000000</td>\n",
       "      <td>NaN</td>\n",
       "      <td>13.0</td>\n",
       "      <td>13.000</td>\n",
       "      <td>13.00</td>\n",
       "      <td>13.000</td>\n",
       "      <td>13.0</td>\n",
       "    </tr>\n",
       "    <tr>\n",
       "      <th>19</th>\n",
       "      <td>1.0</td>\n",
       "      <td>27.600000</td>\n",
       "      <td>NaN</td>\n",
       "      <td>27.6</td>\n",
       "      <td>27.600</td>\n",
       "      <td>27.60</td>\n",
       "      <td>27.600</td>\n",
       "      <td>27.6</td>\n",
       "    </tr>\n",
       "  </tbody>\n",
       "</table>\n",
       "</div>"
      ],
      "text/plain": [
       "        count        mean        std    min      25%     50%      75%    max\n",
       "rooms                                                                       \n",
       "0         0.0         NaN        NaN    NaN      NaN     NaN      NaN    NaN\n",
       "1      7203.0    9.548692   3.311765    1.3    7.200    9.00   11.000   58.4\n",
       "2      7270.0    9.974912   5.118034    2.0    7.000    8.70   11.300   93.0\n",
       "3      5369.0   11.293906   6.904164    4.0    7.000    9.50   13.000  107.0\n",
       "4      1080.0   13.663009   8.937772    4.8    8.000   11.05   15.925   77.0\n",
       "5       285.0   18.367649  10.862392    5.0   11.400   15.10   20.700   66.0\n",
       "6        96.0   21.098229   9.892416    5.9   14.300   19.75   26.625   56.0\n",
       "7        52.0   21.998077  12.114802    5.0   15.775   20.00   25.000   70.0\n",
       "8         9.0   24.866667  13.085106    5.0   22.600   25.00   29.400   45.0\n",
       "9         7.0   25.071429  15.983086   11.7   12.800   14.30   36.950   50.0\n",
       "10        3.0   22.866667   6.197849   18.8   19.300   19.80   24.900   30.0\n",
       "11        2.0   12.600000   0.989949   11.9   12.250   12.60   12.950   13.3\n",
       "12        1.0  112.000000        NaN  112.0  112.000  112.00  112.000  112.0\n",
       "14        2.0   21.250000   6.576093   16.6   18.925   21.25   23.575   25.9\n",
       "15        1.0  100.000000        NaN  100.0  100.000  100.00  100.000  100.0\n",
       "16        1.0   13.000000        NaN   13.0   13.000   13.00   13.000   13.0\n",
       "19        1.0   27.600000        NaN   27.6   27.600   27.60   27.600   27.6"
      ]
     },
     "execution_count": 25,
     "metadata": {},
     "output_type": "execute_result"
    }
   ],
   "source": [
    "data.groupby(['rooms'])['kitchen_area'].describe()"
   ]
  },
  {
   "cell_type": "code",
   "execution_count": 26,
   "metadata": {},
   "outputs": [
    {
     "data": {
      "text/plain": [
       "2231"
      ]
     },
     "execution_count": 26,
     "metadata": {},
     "output_type": "execute_result"
    }
   ],
   "source": [
    "data['kitchen_area'].isna().sum()"
   ]
  },
  {
   "cell_type": "markdown",
   "metadata": {},
   "source": [
    "Так как площадь кухни нельзя явно выделить из площади квартиры - судя по таблице медиана площади не имеет устойчивого роста по мере роста количества комнат. Поэтому, предлагаю не заполнять пропуски в этом столбце. "
   ]
  },
  {
   "cell_type": "markdown",
   "metadata": {},
   "source": [
    "#### Удаление пропущенных элементов в столбце balcony"
   ]
  },
  {
   "cell_type": "code",
   "execution_count": 27,
   "metadata": {},
   "outputs": [
    {
     "data": {
      "text/plain": [
       "11480"
      ]
     },
     "execution_count": 27,
     "metadata": {},
     "output_type": "execute_result"
    }
   ],
   "source": [
    "data['balcony'].isna().sum()"
   ]
  },
  {
   "cell_type": "code",
   "execution_count": 28,
   "metadata": {},
   "outputs": [],
   "source": [
    "data['balcony'] = data['balcony'].fillna(0)"
   ]
  },
  {
   "cell_type": "code",
   "execution_count": 29,
   "metadata": {},
   "outputs": [
    {
     "data": {
      "text/plain": [
       "0"
      ]
     },
     "execution_count": 29,
     "metadata": {},
     "output_type": "execute_result"
    }
   ],
   "source": [
    "data['balcony'].isna().sum()"
   ]
  },
  {
   "cell_type": "markdown",
   "metadata": {},
   "source": [
    "Предполагаю, что если количество балконов не указано, то оно равно 0"
   ]
  },
  {
   "cell_type": "markdown",
   "metadata": {},
   "source": [
    "#### Удаление пропущенных элементов в столбце airports_nearest"
   ]
  },
  {
   "cell_type": "code",
   "execution_count": 30,
   "metadata": {},
   "outputs": [
    {
     "data": {
      "text/plain": [
       "5532"
      ]
     },
     "execution_count": 30,
     "metadata": {},
     "output_type": "execute_result"
    }
   ],
   "source": [
    "data['airports_nearest'].isna().sum()"
   ]
  },
  {
   "cell_type": "code",
   "execution_count": 31,
   "metadata": {},
   "outputs": [
    {
     "data": {
      "text/html": [
       "<div>\n",
       "<style scoped>\n",
       "    .dataframe tbody tr th:only-of-type {\n",
       "        vertical-align: middle;\n",
       "    }\n",
       "\n",
       "    .dataframe tbody tr th {\n",
       "        vertical-align: top;\n",
       "    }\n",
       "\n",
       "    .dataframe thead th {\n",
       "        text-align: right;\n",
       "    }\n",
       "</style>\n",
       "<table border=\"1\" class=\"dataframe\">\n",
       "  <thead>\n",
       "    <tr style=\"text-align: right;\">\n",
       "      <th></th>\n",
       "      <th>count</th>\n",
       "      <th>mean</th>\n",
       "      <th>std</th>\n",
       "      <th>min</th>\n",
       "      <th>25%</th>\n",
       "      <th>50%</th>\n",
       "      <th>75%</th>\n",
       "      <th>max</th>\n",
       "    </tr>\n",
       "    <tr>\n",
       "      <th>locality_name</th>\n",
       "      <th></th>\n",
       "      <th></th>\n",
       "      <th></th>\n",
       "      <th></th>\n",
       "      <th></th>\n",
       "      <th></th>\n",
       "      <th></th>\n",
       "      <th></th>\n",
       "    </tr>\n",
       "  </thead>\n",
       "  <tbody>\n",
       "    <tr>\n",
       "      <th>Зеленогорск</th>\n",
       "      <td>24.0</td>\n",
       "      <td>73300.250000</td>\n",
       "      <td>3049.461011</td>\n",
       "      <td>70016.0</td>\n",
       "      <td>71618.00</td>\n",
       "      <td>72282.0</td>\n",
       "      <td>73430.00</td>\n",
       "      <td>81607.0</td>\n",
       "    </tr>\n",
       "    <tr>\n",
       "      <th>Колпино</th>\n",
       "      <td>337.0</td>\n",
       "      <td>26375.863501</td>\n",
       "      <td>1578.628611</td>\n",
       "      <td>23649.0</td>\n",
       "      <td>25152.00</td>\n",
       "      <td>26232.0</td>\n",
       "      <td>27542.00</td>\n",
       "      <td>31691.0</td>\n",
       "    </tr>\n",
       "    <tr>\n",
       "      <th>Красное Село</th>\n",
       "      <td>174.0</td>\n",
       "      <td>26610.028736</td>\n",
       "      <td>2774.123105</td>\n",
       "      <td>23892.0</td>\n",
       "      <td>25262.75</td>\n",
       "      <td>25723.5</td>\n",
       "      <td>27142.25</td>\n",
       "      <td>38367.0</td>\n",
       "    </tr>\n",
       "    <tr>\n",
       "      <th>Кронштадт</th>\n",
       "      <td>95.0</td>\n",
       "      <td>67469.263158</td>\n",
       "      <td>1648.522480</td>\n",
       "      <td>64931.0</td>\n",
       "      <td>65418.00</td>\n",
       "      <td>67850.0</td>\n",
       "      <td>68873.00</td>\n",
       "      <td>69785.0</td>\n",
       "    </tr>\n",
       "    <tr>\n",
       "      <th>Ломоносов</th>\n",
       "      <td>132.0</td>\n",
       "      <td>48308.280303</td>\n",
       "      <td>1213.279691</td>\n",
       "      <td>46502.0</td>\n",
       "      <td>47763.25</td>\n",
       "      <td>48415.5</td>\n",
       "      <td>48717.25</td>\n",
       "      <td>56896.0</td>\n",
       "    </tr>\n",
       "    <tr>\n",
       "      <th>Павловск</th>\n",
       "      <td>38.0</td>\n",
       "      <td>21053.342105</td>\n",
       "      <td>1298.399998</td>\n",
       "      <td>19380.0</td>\n",
       "      <td>20128.25</td>\n",
       "      <td>20529.5</td>\n",
       "      <td>22465.00</td>\n",
       "      <td>24291.0</td>\n",
       "    </tr>\n",
       "    <tr>\n",
       "      <th>Петергоф</th>\n",
       "      <td>201.0</td>\n",
       "      <td>40184.676617</td>\n",
       "      <td>4077.653990</td>\n",
       "      <td>34626.0</td>\n",
       "      <td>36675.00</td>\n",
       "      <td>39231.0</td>\n",
       "      <td>45444.00</td>\n",
       "      <td>46535.0</td>\n",
       "    </tr>\n",
       "    <tr>\n",
       "      <th>Пушкин</th>\n",
       "      <td>369.0</td>\n",
       "      <td>16447.869919</td>\n",
       "      <td>2493.217619</td>\n",
       "      <td>12157.0</td>\n",
       "      <td>14279.00</td>\n",
       "      <td>15766.0</td>\n",
       "      <td>18539.00</td>\n",
       "      <td>21055.0</td>\n",
       "    </tr>\n",
       "    <tr>\n",
       "      <th>Санкт-Петербург</th>\n",
       "      <td>15567.0</td>\n",
       "      <td>28040.281621</td>\n",
       "      <td>11548.999483</td>\n",
       "      <td>0.0</td>\n",
       "      <td>18575.50</td>\n",
       "      <td>26763.0</td>\n",
       "      <td>36587.00</td>\n",
       "      <td>54784.0</td>\n",
       "    </tr>\n",
       "    <tr>\n",
       "      <th>Сестрорецк</th>\n",
       "      <td>183.0</td>\n",
       "      <td>56640.486339</td>\n",
       "      <td>2117.862088</td>\n",
       "      <td>50031.0</td>\n",
       "      <td>54526.00</td>\n",
       "      <td>56692.0</td>\n",
       "      <td>57905.00</td>\n",
       "      <td>61872.0</td>\n",
       "    </tr>\n",
       "    <tr>\n",
       "      <th>поселок Лисий Нос</th>\n",
       "      <td>1.0</td>\n",
       "      <td>55930.000000</td>\n",
       "      <td>NaN</td>\n",
       "      <td>55930.0</td>\n",
       "      <td>55930.00</td>\n",
       "      <td>55930.0</td>\n",
       "      <td>55930.00</td>\n",
       "      <td>55930.0</td>\n",
       "    </tr>\n",
       "    <tr>\n",
       "      <th>посёлок Александровская</th>\n",
       "      <td>2.0</td>\n",
       "      <td>12896.500000</td>\n",
       "      <td>163.341666</td>\n",
       "      <td>12781.0</td>\n",
       "      <td>12838.75</td>\n",
       "      <td>12896.5</td>\n",
       "      <td>12954.25</td>\n",
       "      <td>13012.0</td>\n",
       "    </tr>\n",
       "    <tr>\n",
       "      <th>посёлок Белоостров</th>\n",
       "      <td>1.0</td>\n",
       "      <td>57769.000000</td>\n",
       "      <td>NaN</td>\n",
       "      <td>57769.0</td>\n",
       "      <td>57769.00</td>\n",
       "      <td>57769.0</td>\n",
       "      <td>57769.00</td>\n",
       "      <td>57769.0</td>\n",
       "    </tr>\n",
       "    <tr>\n",
       "      <th>посёлок Левашово</th>\n",
       "      <td>1.0</td>\n",
       "      <td>52693.000000</td>\n",
       "      <td>NaN</td>\n",
       "      <td>52693.0</td>\n",
       "      <td>52693.00</td>\n",
       "      <td>52693.0</td>\n",
       "      <td>52693.00</td>\n",
       "      <td>52693.0</td>\n",
       "    </tr>\n",
       "    <tr>\n",
       "      <th>посёлок Лисий Нос</th>\n",
       "      <td>2.0</td>\n",
       "      <td>54988.500000</td>\n",
       "      <td>1301.783584</td>\n",
       "      <td>54068.0</td>\n",
       "      <td>54528.25</td>\n",
       "      <td>54988.5</td>\n",
       "      <td>55448.75</td>\n",
       "      <td>55909.0</td>\n",
       "    </tr>\n",
       "    <tr>\n",
       "      <th>посёлок Металлострой</th>\n",
       "      <td>66.0</td>\n",
       "      <td>25726.484848</td>\n",
       "      <td>545.113319</td>\n",
       "      <td>24629.0</td>\n",
       "      <td>25390.00</td>\n",
       "      <td>25758.0</td>\n",
       "      <td>26022.50</td>\n",
       "      <td>26729.0</td>\n",
       "    </tr>\n",
       "    <tr>\n",
       "      <th>посёлок Молодёжное</th>\n",
       "      <td>5.0</td>\n",
       "      <td>84430.200000</td>\n",
       "      <td>514.352700</td>\n",
       "      <td>83758.0</td>\n",
       "      <td>84006.00</td>\n",
       "      <td>84665.0</td>\n",
       "      <td>84853.00</td>\n",
       "      <td>84869.0</td>\n",
       "    </tr>\n",
       "    <tr>\n",
       "      <th>посёлок Парголово</th>\n",
       "      <td>327.0</td>\n",
       "      <td>53994.926606</td>\n",
       "      <td>2991.890807</td>\n",
       "      <td>44346.0</td>\n",
       "      <td>52935.00</td>\n",
       "      <td>53426.0</td>\n",
       "      <td>54061.00</td>\n",
       "      <td>61748.0</td>\n",
       "    </tr>\n",
       "    <tr>\n",
       "      <th>посёлок Песочный</th>\n",
       "      <td>4.0</td>\n",
       "      <td>54565.500000</td>\n",
       "      <td>1818.747646</td>\n",
       "      <td>52504.0</td>\n",
       "      <td>53302.00</td>\n",
       "      <td>54831.5</td>\n",
       "      <td>56095.00</td>\n",
       "      <td>56095.0</td>\n",
       "    </tr>\n",
       "    <tr>\n",
       "      <th>посёлок Петро-Славянка</th>\n",
       "      <td>1.0</td>\n",
       "      <td>20605.000000</td>\n",
       "      <td>NaN</td>\n",
       "      <td>20605.0</td>\n",
       "      <td>20605.00</td>\n",
       "      <td>20605.0</td>\n",
       "      <td>20605.00</td>\n",
       "      <td>20605.0</td>\n",
       "    </tr>\n",
       "    <tr>\n",
       "      <th>посёлок Понтонный</th>\n",
       "      <td>20.0</td>\n",
       "      <td>30581.400000</td>\n",
       "      <td>914.702621</td>\n",
       "      <td>28997.0</td>\n",
       "      <td>29990.50</td>\n",
       "      <td>30642.0</td>\n",
       "      <td>31357.75</td>\n",
       "      <td>32141.0</td>\n",
       "    </tr>\n",
       "    <tr>\n",
       "      <th>посёлок Репино</th>\n",
       "      <td>4.0</td>\n",
       "      <td>62293.250000</td>\n",
       "      <td>1259.646081</td>\n",
       "      <td>61451.0</td>\n",
       "      <td>61475.75</td>\n",
       "      <td>61797.5</td>\n",
       "      <td>62615.00</td>\n",
       "      <td>64127.0</td>\n",
       "    </tr>\n",
       "    <tr>\n",
       "      <th>посёлок Сапёрный</th>\n",
       "      <td>6.0</td>\n",
       "      <td>34142.666667</td>\n",
       "      <td>29.241523</td>\n",
       "      <td>34110.0</td>\n",
       "      <td>34116.00</td>\n",
       "      <td>34147.5</td>\n",
       "      <td>34161.00</td>\n",
       "      <td>34180.0</td>\n",
       "    </tr>\n",
       "    <tr>\n",
       "      <th>посёлок Стрельна</th>\n",
       "      <td>43.0</td>\n",
       "      <td>28145.395349</td>\n",
       "      <td>518.562856</td>\n",
       "      <td>26770.0</td>\n",
       "      <td>28003.50</td>\n",
       "      <td>28317.0</td>\n",
       "      <td>28397.00</td>\n",
       "      <td>28945.0</td>\n",
       "    </tr>\n",
       "    <tr>\n",
       "      <th>посёлок Усть-Ижора</th>\n",
       "      <td>2.0</td>\n",
       "      <td>26510.500000</td>\n",
       "      <td>14.849242</td>\n",
       "      <td>26500.0</td>\n",
       "      <td>26505.25</td>\n",
       "      <td>26510.5</td>\n",
       "      <td>26515.75</td>\n",
       "      <td>26521.0</td>\n",
       "    </tr>\n",
       "    <tr>\n",
       "      <th>посёлок Шушары</th>\n",
       "      <td>436.0</td>\n",
       "      <td>16061.458716</td>\n",
       "      <td>3813.643152</td>\n",
       "      <td>9294.0</td>\n",
       "      <td>12678.00</td>\n",
       "      <td>17427.0</td>\n",
       "      <td>18442.25</td>\n",
       "      <td>26293.0</td>\n",
       "    </tr>\n",
       "  </tbody>\n",
       "</table>\n",
       "</div>"
      ],
      "text/plain": [
       "                           count          mean           std      min  \\\n",
       "locality_name                                                           \n",
       "Зеленогорск                 24.0  73300.250000   3049.461011  70016.0   \n",
       "Колпино                    337.0  26375.863501   1578.628611  23649.0   \n",
       "Красное Село               174.0  26610.028736   2774.123105  23892.0   \n",
       "Кронштадт                   95.0  67469.263158   1648.522480  64931.0   \n",
       "Ломоносов                  132.0  48308.280303   1213.279691  46502.0   \n",
       "Павловск                    38.0  21053.342105   1298.399998  19380.0   \n",
       "Петергоф                   201.0  40184.676617   4077.653990  34626.0   \n",
       "Пушкин                     369.0  16447.869919   2493.217619  12157.0   \n",
       "Санкт-Петербург          15567.0  28040.281621  11548.999483      0.0   \n",
       "Сестрорецк                 183.0  56640.486339   2117.862088  50031.0   \n",
       "поселок Лисий Нос            1.0  55930.000000           NaN  55930.0   \n",
       "посёлок Александровская      2.0  12896.500000    163.341666  12781.0   \n",
       "посёлок Белоостров           1.0  57769.000000           NaN  57769.0   \n",
       "посёлок Левашово             1.0  52693.000000           NaN  52693.0   \n",
       "посёлок Лисий Нос            2.0  54988.500000   1301.783584  54068.0   \n",
       "посёлок Металлострой        66.0  25726.484848    545.113319  24629.0   \n",
       "посёлок Молодёжное           5.0  84430.200000    514.352700  83758.0   \n",
       "посёлок Парголово          327.0  53994.926606   2991.890807  44346.0   \n",
       "посёлок Песочный             4.0  54565.500000   1818.747646  52504.0   \n",
       "посёлок Петро-Славянка       1.0  20605.000000           NaN  20605.0   \n",
       "посёлок Понтонный           20.0  30581.400000    914.702621  28997.0   \n",
       "посёлок Репино               4.0  62293.250000   1259.646081  61451.0   \n",
       "посёлок Сапёрный             6.0  34142.666667     29.241523  34110.0   \n",
       "посёлок Стрельна            43.0  28145.395349    518.562856  26770.0   \n",
       "посёлок Усть-Ижора           2.0  26510.500000     14.849242  26500.0   \n",
       "посёлок Шушары             436.0  16061.458716   3813.643152   9294.0   \n",
       "\n",
       "                              25%      50%       75%      max  \n",
       "locality_name                                                  \n",
       "Зеленогорск              71618.00  72282.0  73430.00  81607.0  \n",
       "Колпино                  25152.00  26232.0  27542.00  31691.0  \n",
       "Красное Село             25262.75  25723.5  27142.25  38367.0  \n",
       "Кронштадт                65418.00  67850.0  68873.00  69785.0  \n",
       "Ломоносов                47763.25  48415.5  48717.25  56896.0  \n",
       "Павловск                 20128.25  20529.5  22465.00  24291.0  \n",
       "Петергоф                 36675.00  39231.0  45444.00  46535.0  \n",
       "Пушкин                   14279.00  15766.0  18539.00  21055.0  \n",
       "Санкт-Петербург          18575.50  26763.0  36587.00  54784.0  \n",
       "Сестрорецк               54526.00  56692.0  57905.00  61872.0  \n",
       "поселок Лисий Нос        55930.00  55930.0  55930.00  55930.0  \n",
       "посёлок Александровская  12838.75  12896.5  12954.25  13012.0  \n",
       "посёлок Белоостров       57769.00  57769.0  57769.00  57769.0  \n",
       "посёлок Левашово         52693.00  52693.0  52693.00  52693.0  \n",
       "посёлок Лисий Нос        54528.25  54988.5  55448.75  55909.0  \n",
       "посёлок Металлострой     25390.00  25758.0  26022.50  26729.0  \n",
       "посёлок Молодёжное       84006.00  84665.0  84853.00  84869.0  \n",
       "посёлок Парголово        52935.00  53426.0  54061.00  61748.0  \n",
       "посёлок Песочный         53302.00  54831.5  56095.00  56095.0  \n",
       "посёлок Петро-Славянка   20605.00  20605.0  20605.00  20605.0  \n",
       "посёлок Понтонный        29990.50  30642.0  31357.75  32141.0  \n",
       "посёлок Репино           61475.75  61797.5  62615.00  64127.0  \n",
       "посёлок Сапёрный         34116.00  34147.5  34161.00  34180.0  \n",
       "посёлок Стрельна         28003.50  28317.0  28397.00  28945.0  \n",
       "посёлок Усть-Ижора       26505.25  26510.5  26515.75  26521.0  \n",
       "посёлок Шушары           12678.00  17427.0  18442.25  26293.0  "
      ]
     },
     "execution_count": 31,
     "metadata": {},
     "output_type": "execute_result"
    }
   ],
   "source": [
    "data[data['airports_nearest'].isna() == False].groupby('locality_name')['airports_nearest'].describe()"
   ]
  },
  {
   "cell_type": "code",
   "execution_count": 32,
   "metadata": {
    "scrolled": false
   },
   "outputs": [],
   "source": [
    "for ln in data['locality_name'].unique():\n",
    "    if ln != 'Санкт-Петербург':\n",
    "        median_ln = data.loc[data['locality_name'] == ln, 'airports_nearest'].median()\n",
    "        data.loc[data['locality_name'] == ln, 'airports_nearest'] = data.loc[data['locality_name'] == ln, 'airports_nearest'].fillna(median_ln)"
   ]
  },
  {
   "cell_type": "code",
   "execution_count": 33,
   "metadata": {},
   "outputs": [
    {
     "data": {
      "text/plain": [
       "5524"
      ]
     },
     "execution_count": 33,
     "metadata": {},
     "output_type": "execute_result"
    }
   ],
   "source": [
    "data['airports_nearest'].isna().sum()"
   ]
  },
  {
   "cell_type": "markdown",
   "metadata": {},
   "source": [
    "Для заполнения пропущенных значений показателя airports_nearest возможно использовать медианные значения этого показателя для отдельных locality_name. Однако, такой подход не работает в должной мере, так как большая часть пропущенных значений относится к locality_name, для которых из текущих данных вообще не известно airports_nearest. Поэтому решила оставить эти значения пустыми (за исключением тех, которые реально можно поставить на основании locality_name. Следует исключать Санкт-Петербург из этой процедуры, так как для разных районов расстояние до аэропорта может сильно меняться."
   ]
  },
  {
   "cell_type": "markdown",
   "metadata": {},
   "source": [
    "#### Удаление пропущенных элементов в столбце locality_name, cityCenters_nearest, parks_around3000, parks_nearest, ponds_around3000, ponds_nearest"
   ]
  },
  {
   "cell_type": "markdown",
   "metadata": {},
   "source": [
    "Для указанных столбцов нет возможности определить даже приблизительные значения, так как отсутствие информации о географическом положении (а также о взаимном расположении) не позволяет корректно определить название поселения, расстояние до ближайших парков, до центра соответствующих поселений и расстояние до бижайших прудов, так как эти данные получены автоматически на основе картографических данных. Поэтому приняля решение не заполнять эти столбцы."
   ]
  },
  {
   "cell_type": "markdown",
   "metadata": {},
   "source": [
    "#### Удаление пропущенных элементов в столбце days_exposition"
   ]
  },
  {
   "cell_type": "code",
   "execution_count": 34,
   "metadata": {},
   "outputs": [
    {
     "data": {
      "text/plain": [
       "3172"
      ]
     },
     "execution_count": 34,
     "metadata": {},
     "output_type": "execute_result"
    }
   ],
   "source": [
    "data['days_exposition'].isna().sum()"
   ]
  },
  {
   "cell_type": "code",
   "execution_count": 35,
   "metadata": {},
   "outputs": [
    {
     "data": {
      "text/plain": [
       "<AxesSubplot:>"
      ]
     },
     "execution_count": 35,
     "metadata": {},
     "output_type": "execute_result"
    },
    {
     "data": {
      "image/png": "[encoded data removed]",
      "text/plain": [
       "<Figure size 432x288 with 1 Axes>"
      ]
     },
     "metadata": {
      "needs_background": "light"
     },
     "output_type": "display_data"
    }
   ],
   "source": [
    "data['days_exposition'].hist(bins=30)"
   ]
  },
  {
   "cell_type": "code",
   "execution_count": 36,
   "metadata": {},
   "outputs": [],
   "source": [
    "data['first_day_exposition'] = pd.to_datetime(data['first_day_exposition'], format='%Y.%m.%dT%H:%M:%S')"
   ]
  },
  {
   "cell_type": "code",
   "execution_count": 37,
   "metadata": {},
   "outputs": [
    {
     "data": {
      "image/png": "[encoded data removed]",
      "text/plain": [
       "<Figure size 432x288 with 1 Axes>"
      ]
     },
     "metadata": {
      "needs_background": "light"
     },
     "output_type": "display_data"
    }
   ],
   "source": [
    "data['first_day_exposition'].hist(bins=200)\n",
    "data.loc[data['days_exposition'].isna(), 'first_day_exposition'].hist(bins=200);"
   ]
  },
  {
   "cell_type": "markdown",
   "metadata": {},
   "source": [
    "Если сопоставить гистограммы распределения Дня публикации объявления между всеми данными и данными, где отсутствовало значение поля days_exposition, то можно заметить, что у практически 90% объявлений, выставленных в середине 2019 года, отсутствует зачение days_exposition. И вообще, количество пропущенных значений имеет устойчивый рост со временем. На основании этого можно предположить, что показатель days_exposition отсутствует у объявлений, которые так и не были закрыты. \n",
    "\n",
    "Учитывая распределение самого  показателя first_day_exposition, это вполне возможно даже для объявлений 2015 года. В этом случае лучше всего оставить их пустыми, так как любая предположеная информация может исказить информацию о конкретном объявлении."
   ]
  },
  {
   "cell_type": "code",
   "execution_count": 38,
   "metadata": {
    "scrolled": true
   },
   "outputs": [
    {
     "name": "stdout",
     "output_type": "stream",
     "text": [
      "<class 'pandas.core.frame.DataFrame'>\n",
      "Int64Index: 23613 entries, 0 to 23698\n",
      "Data columns (total 22 columns):\n",
      " #   Column                Non-Null Count  Dtype         \n",
      "---  ------                --------------  -----         \n",
      " 0   total_images          23613 non-null  int64         \n",
      " 1   last_price            23613 non-null  float64       \n",
      " 2   total_area            23613 non-null  float64       \n",
      " 3   first_day_exposition  23613 non-null  datetime64[ns]\n",
      " 4   rooms                 23613 non-null  int64         \n",
      " 5   ceiling_height        23613 non-null  float64       \n",
      " 6   floors_total          23613 non-null  float64       \n",
      " 7   living_area           23613 non-null  float64       \n",
      " 8   floor                 23613 non-null  int64         \n",
      " 9   is_apartment          23613 non-null  object        \n",
      " 10  studio                23613 non-null  bool          \n",
      " 11  open_plan             23613 non-null  bool          \n",
      " 12  kitchen_area          21382 non-null  float64       \n",
      " 13  balcony               23613 non-null  float64       \n",
      " 14  locality_name         23565 non-null  object        \n",
      " 15  airports_nearest      18089 non-null  float64       \n",
      " 16  cityCenters_nearest   18104 non-null  float64       \n",
      " 17  parks_around3000      18105 non-null  float64       \n",
      " 18  parks_nearest         8045 non-null   float64       \n",
      " 19  ponds_around3000      18105 non-null  float64       \n",
      " 20  ponds_nearest         9061 non-null   float64       \n",
      " 21  days_exposition       20441 non-null  float64       \n",
      "dtypes: bool(2), datetime64[ns](1), float64(14), int64(3), object(2)\n",
      "memory usage: 3.8+ MB\n"
     ]
    }
   ],
   "source": [
    "data.info()"
   ]
  },
  {
   "cell_type": "markdown",
   "metadata": {},
   "source": [
    "### Корректировка типов"
   ]
  },
  {
   "cell_type": "code",
   "execution_count": 39,
   "metadata": {},
   "outputs": [
    {
     "name": "stdout",
     "output_type": "stream",
     "text": [
      "<class 'pandas.core.frame.DataFrame'>\n",
      "Int64Index: 23613 entries, 0 to 23698\n",
      "Data columns (total 22 columns):\n",
      " #   Column                Non-Null Count  Dtype         \n",
      "---  ------                --------------  -----         \n",
      " 0   total_images          23613 non-null  int64         \n",
      " 1   last_price            23613 non-null  float64       \n",
      " 2   total_area            23613 non-null  float64       \n",
      " 3   first_day_exposition  23613 non-null  datetime64[ns]\n",
      " 4   rooms                 23613 non-null  int64         \n",
      " 5   ceiling_height        23613 non-null  float64       \n",
      " 6   floors_total          23613 non-null  float64       \n",
      " 7   living_area           23613 non-null  float64       \n",
      " 8   floor                 23613 non-null  int64         \n",
      " 9   is_apartment          23613 non-null  object        \n",
      " 10  studio                23613 non-null  bool          \n",
      " 11  open_plan             23613 non-null  bool          \n",
      " 12  kitchen_area          21382 non-null  float64       \n",
      " 13  balcony               23613 non-null  float64       \n",
      " 14  locality_name         23565 non-null  object        \n",
      " 15  airports_nearest      18089 non-null  float64       \n",
      " 16  cityCenters_nearest   18104 non-null  float64       \n",
      " 17  parks_around3000      18105 non-null  float64       \n",
      " 18  parks_nearest         8045 non-null   float64       \n",
      " 19  ponds_around3000      18105 non-null  float64       \n",
      " 20  ponds_nearest         9061 non-null   float64       \n",
      " 21  days_exposition       20441 non-null  float64       \n",
      "dtypes: bool(2), datetime64[ns](1), float64(14), int64(3), object(2)\n",
      "memory usage: 3.8+ MB\n"
     ]
    }
   ],
   "source": [
    "data.info()"
   ]
  },
  {
   "cell_type": "code",
   "execution_count": 40,
   "metadata": {},
   "outputs": [],
   "source": [
    "try:\n",
    "    data['floors_total'] = data['floors_total'].astype('int', errors='ignore')\n",
    "except:\n",
    "    print('Не удалось изменить тип floors_total')\n",
    "    \n",
    "try:\n",
    "    data['is_apartment'] = data['is_apartment'].astype('bool', errors='ignore')\n",
    "except:\n",
    "    print('Не удалось изменить тип is_apartment')\n",
    "    \n",
    "try:\n",
    "    data['balcony'] = data['balcony'].astype('int', errors='ignore')\n",
    "except:\n",
    "    print('Не удалось изменить тип balcony')\n",
    "    \n",
    "try:\n",
    "    data['days_exposition'] = data['days_exposition'].astype('int', errors='ignore')\n",
    "except:\n",
    "    print('Не удалось изменить тип days_exposition')"
   ]
  },
  {
   "cell_type": "markdown",
   "metadata": {},
   "source": [
    "Изменения типов были нужны в следующих полях:\n",
    "- floors_total - необходимо было заменить на int\n",
    "- is_apartment - необходимо было заменить на bool\n",
    "- first_day_exposition - необходимо было заменить на datetime (было выполнено в ходе устранения пропущенных значений для получения статистики по days_exposition.\n",
    "- balcony - необходимо было заменить на int\n",
    "- days_exposition - необходимо было заменить на int, но при попытке поменять значений возникла ошибка из-за того, что в столбце имеются пропущенные значения."
   ]
  },
  {
   "cell_type": "markdown",
   "metadata": {},
   "source": [
    "## Расчёты и добавление результатов в таблицу"
   ]
  },
  {
   "cell_type": "markdown",
   "metadata": {},
   "source": [
    "Посчитайте и добавьте в таблицу\n",
    "- цену квадратного метра;\n",
    "- день недели, месяц и год публикации объявления;\n",
    "- этаж квартиры; варианты — первый, последний, другой;\n",
    "- соотношение жилой и общей площади, а также отношение площади кухни к общей.\n"
   ]
  },
  {
   "cell_type": "code",
   "execution_count": 41,
   "metadata": {},
   "outputs": [],
   "source": [
    "data['price_sq_meter'] = data['last_price'] / data['total_area']\n",
    "data['year'] = pd.DatetimeIndex(data['first_day_exposition']).year\n",
    "data['day_of_week'] = data['first_day_exposition'].dt.weekday\n",
    "data['month'] = pd.DatetimeIndex(data['first_day_exposition']).month\n",
    "\n",
    "def get_floor_group(df):\n",
    "    if df['floor'] == df['floors_total']:\n",
    "        return 'Последний'\n",
    "    elif df['floor'] == 1:\n",
    "        return 'Первый'\n",
    "    else:\n",
    "        return 'Другой'\n",
    "\n",
    "data['floor_group'] = data.apply(get_floor_group, axis = 1)\n",
    "data['living_to_total_area'] = data['living_area'] / data['total_area']\n",
    "data['kitchen_to_total_area'] = data['kitchen_area'] / data['total_area']\n"
   ]
  },
  {
   "cell_type": "code",
   "execution_count": 42,
   "metadata": {
    "scrolled": true
   },
   "outputs": [
    {
     "data": {
      "text/html": [
       "<div>\n",
       "<style scoped>\n",
       "    .dataframe tbody tr th:only-of-type {\n",
       "        vertical-align: middle;\n",
       "    }\n",
       "\n",
       "    .dataframe tbody tr th {\n",
       "        vertical-align: top;\n",
       "    }\n",
       "\n",
       "    .dataframe thead th {\n",
       "        text-align: right;\n",
       "    }\n",
       "</style>\n",
       "<table border=\"1\" class=\"dataframe\">\n",
       "  <thead>\n",
       "    <tr style=\"text-align: right;\">\n",
       "      <th></th>\n",
       "      <th>total_images</th>\n",
       "      <th>last_price</th>\n",
       "      <th>total_area</th>\n",
       "      <th>rooms</th>\n",
       "      <th>ceiling_height</th>\n",
       "      <th>floors_total</th>\n",
       "      <th>living_area</th>\n",
       "      <th>floor</th>\n",
       "      <th>kitchen_area</th>\n",
       "      <th>balcony</th>\n",
       "      <th>...</th>\n",
       "      <th>parks_nearest</th>\n",
       "      <th>ponds_around3000</th>\n",
       "      <th>ponds_nearest</th>\n",
       "      <th>days_exposition</th>\n",
       "      <th>price_sq_meter</th>\n",
       "      <th>year</th>\n",
       "      <th>day_of_week</th>\n",
       "      <th>month</th>\n",
       "      <th>living_to_total_area</th>\n",
       "      <th>kitchen_to_total_area</th>\n",
       "    </tr>\n",
       "  </thead>\n",
       "  <tbody>\n",
       "    <tr>\n",
       "      <th>count</th>\n",
       "      <td>23613.000000</td>\n",
       "      <td>2.361300e+04</td>\n",
       "      <td>23613.000000</td>\n",
       "      <td>23613.000000</td>\n",
       "      <td>23613.000000</td>\n",
       "      <td>23613.000000</td>\n",
       "      <td>23613.000000</td>\n",
       "      <td>23613.000000</td>\n",
       "      <td>21382.000000</td>\n",
       "      <td>23613.000000</td>\n",
       "      <td>...</td>\n",
       "      <td>8045.000000</td>\n",
       "      <td>18105.000000</td>\n",
       "      <td>9061.000000</td>\n",
       "      <td>20441.000000</td>\n",
       "      <td>2.361300e+04</td>\n",
       "      <td>23613.000000</td>\n",
       "      <td>23613.000000</td>\n",
       "      <td>23613.000000</td>\n",
       "      <td>23613.000000</td>\n",
       "      <td>21382.000000</td>\n",
       "    </tr>\n",
       "    <tr>\n",
       "      <th>mean</th>\n",
       "      <td>9.874518</td>\n",
       "      <td>6.540555e+06</td>\n",
       "      <td>60.340678</td>\n",
       "      <td>2.071147</td>\n",
       "      <td>2.724581</td>\n",
       "      <td>10.673824</td>\n",
       "      <td>34.599506</td>\n",
       "      <td>5.877313</td>\n",
       "      <td>10.564128</td>\n",
       "      <td>0.593063</td>\n",
       "      <td>...</td>\n",
       "      <td>490.554630</td>\n",
       "      <td>0.770119</td>\n",
       "      <td>518.209469</td>\n",
       "      <td>180.884839</td>\n",
       "      <td>9.939748e+04</td>\n",
       "      <td>2017.368102</td>\n",
       "      <td>2.568035</td>\n",
       "      <td>6.400076</td>\n",
       "      <td>0.563795</td>\n",
       "      <td>0.187324</td>\n",
       "    </tr>\n",
       "    <tr>\n",
       "      <th>std</th>\n",
       "      <td>5.681541</td>\n",
       "      <td>1.090172e+07</td>\n",
       "      <td>35.648988</td>\n",
       "      <td>1.078380</td>\n",
       "      <td>0.990085</td>\n",
       "      <td>6.597173</td>\n",
       "      <td>22.649783</td>\n",
       "      <td>4.873539</td>\n",
       "      <td>5.904316</td>\n",
       "      <td>0.960307</td>\n",
       "      <td>...</td>\n",
       "      <td>341.336698</td>\n",
       "      <td>0.939075</td>\n",
       "      <td>277.887489</td>\n",
       "      <td>219.685543</td>\n",
       "      <td>5.035802e+04</td>\n",
       "      <td>1.039383</td>\n",
       "      <td>1.788565</td>\n",
       "      <td>3.493160</td>\n",
       "      <td>0.102408</td>\n",
       "      <td>0.072976</td>\n",
       "    </tr>\n",
       "    <tr>\n",
       "      <th>min</th>\n",
       "      <td>0.000000</td>\n",
       "      <td>1.219000e+04</td>\n",
       "      <td>12.000000</td>\n",
       "      <td>0.000000</td>\n",
       "      <td>1.000000</td>\n",
       "      <td>1.000000</td>\n",
       "      <td>2.000000</td>\n",
       "      <td>1.000000</td>\n",
       "      <td>1.300000</td>\n",
       "      <td>0.000000</td>\n",
       "      <td>...</td>\n",
       "      <td>1.000000</td>\n",
       "      <td>0.000000</td>\n",
       "      <td>13.000000</td>\n",
       "      <td>1.000000</td>\n",
       "      <td>1.118349e+02</td>\n",
       "      <td>2014.000000</td>\n",
       "      <td>0.000000</td>\n",
       "      <td>1.000000</td>\n",
       "      <td>0.021583</td>\n",
       "      <td>0.025381</td>\n",
       "    </tr>\n",
       "    <tr>\n",
       "      <th>25%</th>\n",
       "      <td>6.000000</td>\n",
       "      <td>3.400000e+06</td>\n",
       "      <td>40.000000</td>\n",
       "      <td>1.000000</td>\n",
       "      <td>2.600000</td>\n",
       "      <td>5.000000</td>\n",
       "      <td>18.700000</td>\n",
       "      <td>2.000000</td>\n",
       "      <td>7.000000</td>\n",
       "      <td>0.000000</td>\n",
       "      <td>...</td>\n",
       "      <td>288.000000</td>\n",
       "      <td>0.000000</td>\n",
       "      <td>294.000000</td>\n",
       "      <td>45.000000</td>\n",
       "      <td>7.656250e+04</td>\n",
       "      <td>2017.000000</td>\n",
       "      <td>1.000000</td>\n",
       "      <td>3.000000</td>\n",
       "      <td>0.491620</td>\n",
       "      <td>0.133333</td>\n",
       "    </tr>\n",
       "    <tr>\n",
       "      <th>50%</th>\n",
       "      <td>9.000000</td>\n",
       "      <td>4.650000e+06</td>\n",
       "      <td>52.000000</td>\n",
       "      <td>2.000000</td>\n",
       "      <td>2.650000</td>\n",
       "      <td>9.000000</td>\n",
       "      <td>30.000000</td>\n",
       "      <td>4.000000</td>\n",
       "      <td>9.100000</td>\n",
       "      <td>0.000000</td>\n",
       "      <td>...</td>\n",
       "      <td>455.000000</td>\n",
       "      <td>1.000000</td>\n",
       "      <td>503.000000</td>\n",
       "      <td>95.000000</td>\n",
       "      <td>9.500000e+04</td>\n",
       "      <td>2017.000000</td>\n",
       "      <td>3.000000</td>\n",
       "      <td>6.000000</td>\n",
       "      <td>0.568408</td>\n",
       "      <td>0.172348</td>\n",
       "    </tr>\n",
       "    <tr>\n",
       "      <th>75%</th>\n",
       "      <td>14.000000</td>\n",
       "      <td>6.799000e+06</td>\n",
       "      <td>69.800000</td>\n",
       "      <td>3.000000</td>\n",
       "      <td>2.700000</td>\n",
       "      <td>16.000000</td>\n",
       "      <td>42.300000</td>\n",
       "      <td>8.000000</td>\n",
       "      <td>12.000000</td>\n",
       "      <td>1.000000</td>\n",
       "      <td>...</td>\n",
       "      <td>612.000000</td>\n",
       "      <td>1.000000</td>\n",
       "      <td>730.000000</td>\n",
       "      <td>232.000000</td>\n",
       "      <td>1.142061e+05</td>\n",
       "      <td>2018.000000</td>\n",
       "      <td>4.000000</td>\n",
       "      <td>10.000000</td>\n",
       "      <td>0.632035</td>\n",
       "      <td>0.232428</td>\n",
       "    </tr>\n",
       "    <tr>\n",
       "      <th>max</th>\n",
       "      <td>50.000000</td>\n",
       "      <td>7.630000e+08</td>\n",
       "      <td>900.000000</td>\n",
       "      <td>19.000000</td>\n",
       "      <td>100.000000</td>\n",
       "      <td>60.000000</td>\n",
       "      <td>409.700000</td>\n",
       "      <td>33.000000</td>\n",
       "      <td>112.000000</td>\n",
       "      <td>5.000000</td>\n",
       "      <td>...</td>\n",
       "      <td>3190.000000</td>\n",
       "      <td>3.000000</td>\n",
       "      <td>1344.000000</td>\n",
       "      <td>1580.000000</td>\n",
       "      <td>1.907500e+06</td>\n",
       "      <td>2019.000000</td>\n",
       "      <td>6.000000</td>\n",
       "      <td>12.000000</td>\n",
       "      <td>1.000000</td>\n",
       "      <td>0.787879</td>\n",
       "    </tr>\n",
       "  </tbody>\n",
       "</table>\n",
       "<p>8 rows × 23 columns</p>\n",
       "</div>"
      ],
      "text/plain": [
       "       total_images    last_price    total_area         rooms  ceiling_height  \\\n",
       "count  23613.000000  2.361300e+04  23613.000000  23613.000000    23613.000000   \n",
       "mean       9.874518  6.540555e+06     60.340678      2.071147        2.724581   \n",
       "std        5.681541  1.090172e+07     35.648988      1.078380        0.990085   \n",
       "min        0.000000  1.219000e+04     12.000000      0.000000        1.000000   \n",
       "25%        6.000000  3.400000e+06     40.000000      1.000000        2.600000   \n",
       "50%        9.000000  4.650000e+06     52.000000      2.000000        2.650000   \n",
       "75%       14.000000  6.799000e+06     69.800000      3.000000        2.700000   \n",
       "max       50.000000  7.630000e+08    900.000000     19.000000      100.000000   \n",
       "\n",
       "       floors_total   living_area         floor  kitchen_area       balcony  \\\n",
       "count  23613.000000  23613.000000  23613.000000  21382.000000  23613.000000   \n",
       "mean      10.673824     34.599506      5.877313     10.564128      0.593063   \n",
       "std        6.597173     22.649783      4.873539      5.904316      0.960307   \n",
       "min        1.000000      2.000000      1.000000      1.300000      0.000000   \n",
       "25%        5.000000     18.700000      2.000000      7.000000      0.000000   \n",
       "50%        9.000000     30.000000      4.000000      9.100000      0.000000   \n",
       "75%       16.000000     42.300000      8.000000     12.000000      1.000000   \n",
       "max       60.000000    409.700000     33.000000    112.000000      5.000000   \n",
       "\n",
       "       ...  parks_nearest  ponds_around3000  ponds_nearest  days_exposition  \\\n",
       "count  ...    8045.000000      18105.000000    9061.000000     20441.000000   \n",
       "mean   ...     490.554630          0.770119     518.209469       180.884839   \n",
       "std    ...     341.336698          0.939075     277.887489       219.685543   \n",
       "min    ...       1.000000          0.000000      13.000000         1.000000   \n",
       "25%    ...     288.000000          0.000000     294.000000        45.000000   \n",
       "50%    ...     455.000000          1.000000     503.000000        95.000000   \n",
       "75%    ...     612.000000          1.000000     730.000000       232.000000   \n",
       "max    ...    3190.000000          3.000000    1344.000000      1580.000000   \n",
       "\n",
       "       price_sq_meter          year   day_of_week         month  \\\n",
       "count    2.361300e+04  23613.000000  23613.000000  23613.000000   \n",
       "mean     9.939748e+04   2017.368102      2.568035      6.400076   \n",
       "std      5.035802e+04      1.039383      1.788565      3.493160   \n",
       "min      1.118349e+02   2014.000000      0.000000      1.000000   \n",
       "25%      7.656250e+04   2017.000000      1.000000      3.000000   \n",
       "50%      9.500000e+04   2017.000000      3.000000      6.000000   \n",
       "75%      1.142061e+05   2018.000000      4.000000     10.000000   \n",
       "max      1.907500e+06   2019.000000      6.000000     12.000000   \n",
       "\n",
       "       living_to_total_area  kitchen_to_total_area  \n",
       "count          23613.000000           21382.000000  \n",
       "mean               0.563795               0.187324  \n",
       "std                0.102408               0.072976  \n",
       "min                0.021583               0.025381  \n",
       "25%                0.491620               0.133333  \n",
       "50%                0.568408               0.172348  \n",
       "75%                0.632035               0.232428  \n",
       "max                1.000000               0.787879  \n",
       "\n",
       "[8 rows x 23 columns]"
      ]
     },
     "execution_count": 42,
     "metadata": {},
     "output_type": "execute_result"
    }
   ],
   "source": [
    "data.describe()"
   ]
  },
  {
   "cell_type": "markdown",
   "metadata": {},
   "source": [
    "## Исследовательский анализ данных"
   ]
  },
  {
   "cell_type": "markdown",
   "metadata": {},
   "source": [
    "### Изучите следующие параметры: площадь, цена, число комнат, высота потолков. Постройте гистограммы для каждого параметра."
   ]
  },
  {
   "cell_type": "code",
   "execution_count": 43,
   "metadata": {},
   "outputs": [
    {
     "data": {
      "text/html": [
       "<div>\n",
       "<style scoped>\n",
       "    .dataframe tbody tr th:only-of-type {\n",
       "        vertical-align: middle;\n",
       "    }\n",
       "\n",
       "    .dataframe tbody tr th {\n",
       "        vertical-align: top;\n",
       "    }\n",
       "\n",
       "    .dataframe thead th {\n",
       "        text-align: right;\n",
       "    }\n",
       "</style>\n",
       "<table border=\"1\" class=\"dataframe\">\n",
       "  <thead>\n",
       "    <tr style=\"text-align: right;\">\n",
       "      <th></th>\n",
       "      <th>total_area</th>\n",
       "      <th>last_price</th>\n",
       "      <th>rooms</th>\n",
       "      <th>ceiling_height</th>\n",
       "    </tr>\n",
       "  </thead>\n",
       "  <tbody>\n",
       "    <tr>\n",
       "      <th>count</th>\n",
       "      <td>23613.000000</td>\n",
       "      <td>2.361300e+04</td>\n",
       "      <td>23613.000000</td>\n",
       "      <td>23613.000000</td>\n",
       "    </tr>\n",
       "    <tr>\n",
       "      <th>mean</th>\n",
       "      <td>60.340678</td>\n",
       "      <td>6.540555e+06</td>\n",
       "      <td>2.071147</td>\n",
       "      <td>2.724581</td>\n",
       "    </tr>\n",
       "    <tr>\n",
       "      <th>std</th>\n",
       "      <td>35.648988</td>\n",
       "      <td>1.090172e+07</td>\n",
       "      <td>1.078380</td>\n",
       "      <td>0.990085</td>\n",
       "    </tr>\n",
       "    <tr>\n",
       "      <th>min</th>\n",
       "      <td>12.000000</td>\n",
       "      <td>1.219000e+04</td>\n",
       "      <td>0.000000</td>\n",
       "      <td>1.000000</td>\n",
       "    </tr>\n",
       "    <tr>\n",
       "      <th>25%</th>\n",
       "      <td>40.000000</td>\n",
       "      <td>3.400000e+06</td>\n",
       "      <td>1.000000</td>\n",
       "      <td>2.600000</td>\n",
       "    </tr>\n",
       "    <tr>\n",
       "      <th>50%</th>\n",
       "      <td>52.000000</td>\n",
       "      <td>4.650000e+06</td>\n",
       "      <td>2.000000</td>\n",
       "      <td>2.650000</td>\n",
       "    </tr>\n",
       "    <tr>\n",
       "      <th>75%</th>\n",
       "      <td>69.800000</td>\n",
       "      <td>6.799000e+06</td>\n",
       "      <td>3.000000</td>\n",
       "      <td>2.700000</td>\n",
       "    </tr>\n",
       "    <tr>\n",
       "      <th>max</th>\n",
       "      <td>900.000000</td>\n",
       "      <td>7.630000e+08</td>\n",
       "      <td>19.000000</td>\n",
       "      <td>100.000000</td>\n",
       "    </tr>\n",
       "  </tbody>\n",
       "</table>\n",
       "</div>"
      ],
      "text/plain": [
       "         total_area    last_price         rooms  ceiling_height\n",
       "count  23613.000000  2.361300e+04  23613.000000    23613.000000\n",
       "mean      60.340678  6.540555e+06      2.071147        2.724581\n",
       "std       35.648988  1.090172e+07      1.078380        0.990085\n",
       "min       12.000000  1.219000e+04      0.000000        1.000000\n",
       "25%       40.000000  3.400000e+06      1.000000        2.600000\n",
       "50%       52.000000  4.650000e+06      2.000000        2.650000\n",
       "75%       69.800000  6.799000e+06      3.000000        2.700000\n",
       "max      900.000000  7.630000e+08     19.000000      100.000000"
      ]
     },
     "execution_count": 43,
     "metadata": {},
     "output_type": "execute_result"
    }
   ],
   "source": [
    "data[['total_area', 'last_price', 'rooms', 'ceiling_height']].describe()"
   ]
  },
  {
   "cell_type": "code",
   "execution_count": 44,
   "metadata": {},
   "outputs": [
    {
     "data": {
      "image/png": "[encoded data removed]",
      "text/plain": [
       "<Figure size 432x288 with 1 Axes>"
      ]
     },
     "metadata": {
      "needs_background": "light"
     },
     "output_type": "display_data"
    },
    {
     "data": {
      "image/png": "[encoded data removed]",
      "text/plain": [
       "<Figure size 432x288 with 1 Axes>"
      ]
     },
     "metadata": {
      "needs_background": "light"
     },
     "output_type": "display_data"
    },
    {
     "data": {
      "image/png": "[encoded data removed]",
      "text/plain": [
       "<Figure size 432x288 with 1 Axes>"
      ]
     },
     "metadata": {
      "needs_background": "light"
     },
     "output_type": "display_data"
    },
    {
     "data": {
      "image/png": "[encoded data removed]",
      "text/plain": [
       "<Figure size 432x288 with 1 Axes>"
      ]
     },
     "metadata": {
      "needs_background": "light"
     },
     "output_type": "display_data"
    }
   ],
   "source": [
    "data.plot(kind='hist', y='total_area', bins=100, range=(0,400), title='total_area', grid=True)\n",
    "plt.show()\n",
    "data.plot(kind='hist', y='last_price', bins=100, range=(0, 50000000), title='last_price', grid=True)\n",
    "plt.show()\n",
    "data.plot(kind='hist', y='rooms', bins = 50, title='rooms', grid=True)\n",
    "plt.show()\n",
    "data.plot(kind='hist', y='ceiling_height', bins=100, range=(2,10), title='ceiling_height', grid=True)\n",
    "plt.show()"
   ]
  },
  {
   "cell_type": "markdown",
   "metadata": {},
   "source": [
    "На основании анализа можно сделать следующие выводы о параметрах:\n",
    "- total_area: значения данного столбца имеют распределение похожее на распределение Пуассона. Явно выражен пик графика для значения примерно 40. При этом имеются выбивающиеся. значения - квартиры площадью от 250. В дальнейшем предлагаю убрать эти данные из таблицы. Также присутствуют аномалии, выраженные в малой клощади квартиры - существют записи с площадью 12 кв.м. Для этих данных предлагаю провести более подробный анализ и исключить их, если потребуется.\n",
    "\n",
    "- last_price: значения данного столбца также похожм на распределение Пуассона. Пик графика находится примерно в точке 4 000 000. График боле гладкий, чем total_area и пик выражен боле явно. Присутствуют записи с выбивающимся значением цены - от 40 000 000. Также присутствуют аномалии со слишком малыми значениями - 12 190 за квартиру. Необходим более глубокий анали таких данных.\n",
    "\n",
    "- rooms: данный показатель имеет сравнительно мало уникальных значений. При этом этом пики данного графика принадежат квартирам с 1 или 2 комнатами. Присутствуют аномальные данные со знаечнием 0 комнат, а также выбивающиеся со значением комнат от 8.\n",
    "\n",
    "- ceiling_height: близкое значение среднего и медианы, а также низкое стандартное отклонение, говорит о высокой концентрации значений близи значений 2,7, что соответствует нормальному уровню потолков. Однако наличие хвоста с потолками высотой от 4 и до 10 метров может указывать на нестандартные квартиры, данные по которым могут влиять на все статистику. Также присутствуют аномалии - квартиры с потолками до 2 метров и от 10. Данные аномалии предлагается исключать.\n"
   ]
  },
  {
   "cell_type": "markdown",
   "metadata": {},
   "source": [
    "### Изучите время продажи квартиры. Постройте гистограмму. Посчитайте среднее и медиану. Опишите, сколько обычно занимает продажа. Когда можно считать, что продажи прошли очень быстро, а когда необычно долго?"
   ]
  },
  {
   "cell_type": "code",
   "execution_count": 45,
   "metadata": {},
   "outputs": [
    {
     "data": {
      "text/plain": [
       "count    20441.000000\n",
       "mean       180.884839\n",
       "std        219.685543\n",
       "min          1.000000\n",
       "25%         45.000000\n",
       "50%         95.000000\n",
       "75%        232.000000\n",
       "max       1580.000000\n",
       "Name: days_exposition, dtype: float64"
      ]
     },
     "execution_count": 45,
     "metadata": {},
     "output_type": "execute_result"
    }
   ],
   "source": [
    "data['days_exposition'].describe()"
   ]
  },
  {
   "cell_type": "code",
   "execution_count": 46,
   "metadata": {},
   "outputs": [
    {
     "data": {
      "text/plain": [
       "<AxesSubplot:>"
      ]
     },
     "execution_count": 46,
     "metadata": {},
     "output_type": "execute_result"
    },
    {
     "data": {
      "image/png": "[encoded data removed]",
      "text/plain": [
       "<Figure size 432x288 with 1 Axes>"
      ]
     },
     "metadata": {
      "needs_background": "light"
     },
     "output_type": "display_data"
    }
   ],
   "source": [
    "data['days_exposition'].hist(bins=100)"
   ]
  },
  {
   "cell_type": "markdown",
   "metadata": {},
   "source": [
    "Значения показателя имеют ярко выраженное распределение Пуассона.\n",
    "\n",
    "- Медиана = 95.0\n",
    "\n",
    "- Среднее значение = 180.885\n",
    "\n",
    "Среднее значение показателя больше его медианы почти в 2 раза. Это говорит о том, что большая часть значений сгрупирована слева от среднего, при этом распределение обладает большим хвостом справа. То есть большая часть объявление закрывается до полугода, однако значительная часть (порядка 30%) держится дольше. \n",
    "\n",
    "В качестве \"очень быстрой продажи\", можно считать продажи до квартиля 25%, т.е. до 45 дней.\n",
    "В качестве \"необычно долгой продажи\" - продажи свыше нормальных значений столбца (Q3 + 1,5*(Q3-Q1) = 512.5)"
   ]
  },
  {
   "cell_type": "markdown",
   "metadata": {},
   "source": [
    "### Уберите редкие и выбивающиеся значения. Опишите, какие особенности обнаружили."
   ]
  },
  {
   "cell_type": "markdown",
   "metadata": {},
   "source": [
    "#### Очистка от редких и выбивающихся значений показателя total_area"
   ]
  },
  {
   "cell_type": "code",
   "execution_count": 47,
   "metadata": {},
   "outputs": [
    {
     "data": {
      "image/png": "[encoded data removed]",
      "text/plain": [
       "<Figure size 432x288 with 1 Axes>"
      ]
     },
     "metadata": {
      "needs_background": "light"
     },
     "output_type": "display_data"
    }
   ],
   "source": [
    "data.plot(kind='box', y='total_area', title='total_area', grid=True)\n",
    "plt.ylim(0, 200)\n",
    "plt.show()"
   ]
  },
  {
   "cell_type": "markdown",
   "metadata": {},
   "source": [
    "Показатель total_area описывает общую площадь квартиры. Использование для него очистку через нормальные значения в границах (Q1 - 1.5(Q3 - Q1) и Q3 + 1.5(Q3 - Q1) может быть некорректно - есть риск исключить квартиры с большой площадью, однако не редкие. При этом колчество выбросов за пределы норальных значений очень велико и разнообразно"
   ]
  },
  {
   "cell_type": "code",
   "execution_count": 48,
   "metadata": {},
   "outputs": [
    {
     "name": "stdout",
     "output_type": "stream",
     "text": [
      "0 114.5\n"
     ]
    }
   ],
   "source": [
    "quart_between = data['total_area'].describe()['75%'] - data['total_area'].describe()['25%']\n",
    "lower = data['total_area'].describe()['25%'] - 1.5*quart_between\n",
    "if lower < 0:\n",
    "    lower = 0\n",
    "upper = data['total_area'].describe()['75%'] + 1.5*quart_between\n",
    "\n",
    "print(lower, upper)"
   ]
  },
  {
   "cell_type": "code",
   "execution_count": 49,
   "metadata": {},
   "outputs": [
    {
     "data": {
      "image/png": "[encoded data removed]",
      "text/plain": [
       "<Figure size 432x288 with 1 Axes>"
      ]
     },
     "metadata": {
      "needs_background": "light"
     },
     "output_type": "display_data"
    }
   ],
   "source": [
    "data.plot(kind='hist', y='total_area', bins=100, range=(0,400), title='total_area', grid=True)\n",
    "plt.show()"
   ]
  },
  {
   "cell_type": "markdown",
   "metadata": {},
   "source": [
    "С подобной логикой, квартиры больше 114,5 метров будут исключены из таблицы, что может быть ошбочно. При этом квартиры с аномально малой площадью не будут исключены вообще. Судя по гистограмме данного покзаателя, предлагаю поставить границы данные со значениями за пределом которых будут исключаться в 20 и 250 кв.м. Нижняя граница в 20 метров отсечет аномально малые по площади квартиры (возможно ошибочные), а таже примерно в районе 20 начинается резкий рост графика. Верхняя граница в 250 обсуловена тем, что после 250 нарушается непрерывность графика. Данные большие 250 являются действительно редкими или ошибочными."
   ]
  },
  {
   "cell_type": "code",
   "execution_count": 50,
   "metadata": {},
   "outputs": [
    {
     "name": "stdout",
     "output_type": "stream",
     "text": [
      "total_area_norm\n",
      "0      138\n",
      "1    23475\n",
      "Name: total_area, dtype: int64\n"
     ]
    }
   ],
   "source": [
    "data['total_area_norm'] = 1\n",
    "data.loc[data['total_area'] < 20, 'total_area_norm'] = 0\n",
    "data.loc[data['total_area'] > 250, 'total_area_norm'] = 0\n",
    "print(data.groupby('total_area_norm')['total_area'].count())\n",
    "\n",
    "data = data[data['total_area_norm'] == 1]\n",
    "data = data.drop(columns='total_area_norm')"
   ]
  },
  {
   "cell_type": "markdown",
   "metadata": {},
   "source": [
    "Удаленные данные составляют 0,6% от общего количства строк. Удаление подобного количества данных не должно оказать серьезного влияния на общую статистку таблицы."
   ]
  },
  {
   "cell_type": "markdown",
   "metadata": {},
   "source": [
    "#### Очистка от редких и выбивающихся значений показателя last_price"
   ]
  },
  {
   "cell_type": "code",
   "execution_count": 51,
   "metadata": {},
   "outputs": [
    {
     "data": {
      "image/png": "[encoded data removed]",
      "text/plain": [
       "<Figure size 432x288 with 1 Axes>"
      ]
     },
     "metadata": {
      "needs_background": "light"
     },
     "output_type": "display_data"
    },
    {
     "data": {
      "image/png": "[encoded data removed]",
      "text/plain": [
       "<Figure size 432x288 with 1 Axes>"
      ]
     },
     "metadata": {
      "needs_background": "light"
     },
     "output_type": "display_data"
    }
   ],
   "source": [
    "data.plot(kind='box', y='last_price', title='last_price', grid=True)\n",
    "#plt.ylim(0, 200)\n",
    "plt.show()\n",
    "\n",
    "data.plot(kind='box', y='last_price', title='last_price', grid=True)\n",
    "plt.ylim(0, 100000000)\n",
    "plt.show()"
   ]
  },
  {
   "cell_type": "markdown",
   "metadata": {},
   "source": [
    "Показатель last_price содержит информацию о последней цене квартиры. Использование для него очистку через нормальные значения в границах (Q1 - 1.5(Q3 - Q1) и Q3 + 1.5(Q3 - Q1) также может быть некорректно - есть риск исключить квартиры с большой ценой, однако не редкие. При этом колчество выбросов за пределы норальных значений очень велико и разнообразно"
   ]
  },
  {
   "cell_type": "code",
   "execution_count": 52,
   "metadata": {},
   "outputs": [
    {
     "name": "stdout",
     "output_type": "stream",
     "text": [
      "0 11650000.0\n"
     ]
    }
   ],
   "source": [
    "quart_between = data['last_price'].describe()['75%'] - data['last_price'].describe()['25%']\n",
    "lower = data['last_price'].describe()['25%'] - 1.5*quart_between\n",
    "if lower < 0:\n",
    "    lower = 0\n",
    "upper = data['last_price'].describe()['75%'] + 1.5*quart_between\n",
    "\n",
    "print(lower, upper)"
   ]
  },
  {
   "cell_type": "code",
   "execution_count": 53,
   "metadata": {},
   "outputs": [
    {
     "data": {
      "image/png": "[encoded data removed]",
      "text/plain": [
       "<Figure size 432x288 with 1 Axes>"
      ]
     },
     "metadata": {
      "needs_background": "light"
     },
     "output_type": "display_data"
    },
    {
     "data": {
      "image/png": "[encoded data removed]",
      "text/plain": [
       "<Figure size 432x288 with 1 Axes>"
      ]
     },
     "metadata": {
      "needs_background": "light"
     },
     "output_type": "display_data"
    },
    {
     "data": {
      "image/png": "[encoded data removed]",
      "text/plain": [
       "<Figure size 432x288 with 1 Axes>"
      ]
     },
     "metadata": {
      "needs_background": "light"
     },
     "output_type": "display_data"
    }
   ],
   "source": [
    "data.plot(kind='hist', y='last_price', bins=500, title='last_price', grid=True)\n",
    "plt.show()\n",
    "data.plot(kind='hist', y='last_price', bins=500, range=(0, 50000000), title='last_price', grid=True)\n",
    "plt.show()\n",
    "data.plot(kind='hist', y='last_price', bins=100, range=(0, 5000000), title='last_price', grid=True)\n",
    "plt.show()"
   ]
  },
  {
   "cell_type": "markdown",
   "metadata": {},
   "source": [
    "С подобной логикой, квартиры больше 11 650 000 метров будут исключены из таблицы, что может быть ошиочно из-за потенциального исключения квартир высокого ценового сегмента. Судя по общей гистограмме, досточно будет поставить границу в 50 000 000, так как после нее нарушается непрерывность графика и записи с ценой более 50 000 000 слишком редкие или ошибочные. Также следует исключить аномальное значение когда цена квартира равно 12 190, так как эта цена, с большой вероятностью, записана с ошибкой (либо в иной валюте, но информации об этом у нас в данных нет)."
   ]
  },
  {
   "cell_type": "code",
   "execution_count": 54,
   "metadata": {},
   "outputs": [
    {
     "data": {
      "text/html": [
       "<div>\n",
       "<style scoped>\n",
       "    .dataframe tbody tr th:only-of-type {\n",
       "        vertical-align: middle;\n",
       "    }\n",
       "\n",
       "    .dataframe tbody tr th {\n",
       "        vertical-align: top;\n",
       "    }\n",
       "\n",
       "    .dataframe thead th {\n",
       "        text-align: right;\n",
       "    }\n",
       "</style>\n",
       "<table border=\"1\" class=\"dataframe\">\n",
       "  <thead>\n",
       "    <tr style=\"text-align: right;\">\n",
       "      <th></th>\n",
       "      <th>count</th>\n",
       "      <th>mean</th>\n",
       "      <th>std</th>\n",
       "      <th>min</th>\n",
       "      <th>25%</th>\n",
       "      <th>50%</th>\n",
       "      <th>75%</th>\n",
       "      <th>max</th>\n",
       "    </tr>\n",
       "    <tr>\n",
       "      <th>last_price_norm</th>\n",
       "      <th></th>\n",
       "      <th></th>\n",
       "      <th></th>\n",
       "      <th></th>\n",
       "      <th></th>\n",
       "      <th></th>\n",
       "      <th></th>\n",
       "      <th></th>\n",
       "    </tr>\n",
       "  </thead>\n",
       "  <tbody>\n",
       "    <tr>\n",
       "      <th>0</th>\n",
       "      <td>77.0</td>\n",
       "      <td>8.366193e+07</td>\n",
       "      <td>4.690598e+07</td>\n",
       "      <td>12190.0</td>\n",
       "      <td>59000000.0</td>\n",
       "      <td>68000000.0</td>\n",
       "      <td>85000000.0</td>\n",
       "      <td>330000000.0</td>\n",
       "    </tr>\n",
       "    <tr>\n",
       "      <th>1</th>\n",
       "      <td>23398.0</td>\n",
       "      <td>5.942269e+06</td>\n",
       "      <td>4.810783e+06</td>\n",
       "      <td>430000.0</td>\n",
       "      <td>3400000.0</td>\n",
       "      <td>4600000.0</td>\n",
       "      <td>6700000.0</td>\n",
       "      <td>50000000.0</td>\n",
       "    </tr>\n",
       "  </tbody>\n",
       "</table>\n",
       "</div>"
      ],
      "text/plain": [
       "                   count          mean           std       min         25%  \\\n",
       "last_price_norm                                                              \n",
       "0                   77.0  8.366193e+07  4.690598e+07   12190.0  59000000.0   \n",
       "1                23398.0  5.942269e+06  4.810783e+06  430000.0   3400000.0   \n",
       "\n",
       "                        50%         75%          max  \n",
       "last_price_norm                                       \n",
       "0                68000000.0  85000000.0  330000000.0  \n",
       "1                 4600000.0   6700000.0   50000000.0  "
      ]
     },
     "execution_count": 54,
     "metadata": {},
     "output_type": "execute_result"
    }
   ],
   "source": [
    "data['last_price_norm'] = 1\n",
    "data.loc[data['last_price'] > 50000000, 'last_price_norm'] = 0\n",
    "data.loc[data['last_price'] == 12190, 'last_price_norm'] = 0\n",
    "data.groupby('last_price_norm')['last_price'].describe()"
   ]
  },
  {
   "cell_type": "code",
   "execution_count": 55,
   "metadata": {},
   "outputs": [],
   "source": [
    "data = data[data['last_price_norm'] == 1]\n",
    "data = data.drop(columns='last_price_norm')"
   ]
  },
  {
   "cell_type": "markdown",
   "metadata": {},
   "source": [
    "Удаленные данные составляют 0,32% от общего количества строк. Удаление подобного количества данных не должно оказать серьезного влияния на общую статистику таблицы."
   ]
  },
  {
   "cell_type": "markdown",
   "metadata": {},
   "source": [
    "#### Очистка от редких и выбивающихся значений показателя rooms"
   ]
  },
  {
   "cell_type": "code",
   "execution_count": 56,
   "metadata": {},
   "outputs": [
    {
     "data": {
      "image/png": "[encoded data removed]",
      "text/plain": [
       "<Figure size 432x288 with 1 Axes>"
      ]
     },
     "metadata": {
      "needs_background": "light"
     },
     "output_type": "display_data"
    }
   ],
   "source": [
    "data.plot(kind='box', y='rooms', title='rooms', grid=True)\n",
    "#plt.ylim(0, 200)\n",
    "plt.show()"
   ]
  },
  {
   "cell_type": "markdown",
   "metadata": {},
   "source": [
    "Судя по диаграмме, квартиры с количеством квартир большим 6 нельзя исключать из выборки, так как они не входят в границы нормальных значений и достаточно редки. Также необходимо обработать случаи, когда rooms = 0. В этом случае предлагаю использовать следующую логику - если число комнат равно 0 и это не студия (studio = False), тогда данные предполагаются ошибочными и исключаются. Иначе, оставляем. В случае студий, реально может указываться 0 комнат."
   ]
  },
  {
   "cell_type": "code",
   "execution_count": 57,
   "metadata": {},
   "outputs": [
    {
     "data": {
      "text/html": [
       "<div>\n",
       "<style scoped>\n",
       "    .dataframe tbody tr th:only-of-type {\n",
       "        vertical-align: middle;\n",
       "    }\n",
       "\n",
       "    .dataframe tbody tr th {\n",
       "        vertical-align: top;\n",
       "    }\n",
       "\n",
       "    .dataframe thead th {\n",
       "        text-align: right;\n",
       "    }\n",
       "</style>\n",
       "<table border=\"1\" class=\"dataframe\">\n",
       "  <thead>\n",
       "    <tr style=\"text-align: right;\">\n",
       "      <th></th>\n",
       "      <th>count</th>\n",
       "      <th>mean</th>\n",
       "      <th>std</th>\n",
       "      <th>min</th>\n",
       "      <th>25%</th>\n",
       "      <th>50%</th>\n",
       "      <th>75%</th>\n",
       "      <th>max</th>\n",
       "    </tr>\n",
       "    <tr>\n",
       "      <th>rooms_norm</th>\n",
       "      <th></th>\n",
       "      <th></th>\n",
       "      <th></th>\n",
       "      <th></th>\n",
       "      <th></th>\n",
       "      <th></th>\n",
       "      <th></th>\n",
       "      <th></th>\n",
       "    </tr>\n",
       "  </thead>\n",
       "  <tbody>\n",
       "    <tr>\n",
       "      <th>0</th>\n",
       "      <td>128.0</td>\n",
       "      <td>6.632812</td>\n",
       "      <td>1.156094</td>\n",
       "      <td>6.0</td>\n",
       "      <td>6.0</td>\n",
       "      <td>6.0</td>\n",
       "      <td>7.0</td>\n",
       "      <td>14.0</td>\n",
       "    </tr>\n",
       "    <tr>\n",
       "      <th>1</th>\n",
       "      <td>23270.0</td>\n",
       "      <td>2.022604</td>\n",
       "      <td>0.963427</td>\n",
       "      <td>0.0</td>\n",
       "      <td>1.0</td>\n",
       "      <td>2.0</td>\n",
       "      <td>3.0</td>\n",
       "      <td>5.0</td>\n",
       "    </tr>\n",
       "  </tbody>\n",
       "</table>\n",
       "</div>"
      ],
      "text/plain": [
       "              count      mean       std  min  25%  50%  75%   max\n",
       "rooms_norm                                                       \n",
       "0             128.0  6.632812  1.156094  6.0  6.0  6.0  7.0  14.0\n",
       "1           23270.0  2.022604  0.963427  0.0  1.0  2.0  3.0   5.0"
      ]
     },
     "execution_count": 57,
     "metadata": {},
     "output_type": "execute_result"
    }
   ],
   "source": [
    "data['rooms_norm'] = 1\n",
    "data.loc[data['rooms'] > 6, 'rooms_norm'] = 0\n",
    "data.loc[(data['rooms'] == 6)&(data['studio'] == False), 'rooms_norm'] = 0\n",
    "data.groupby('rooms_norm')['rooms'].describe()"
   ]
  },
  {
   "cell_type": "code",
   "execution_count": 58,
   "metadata": {},
   "outputs": [],
   "source": [
    "data = data[data['rooms_norm'] == 1]\n",
    "data = data.drop(columns='rooms_norm')"
   ]
  },
  {
   "cell_type": "markdown",
   "metadata": {},
   "source": [
    "Удаленные данные составляют 0,57% от общего количства строк. Удаление подобного количества данных не должно оказать серьезного влияния на общую статистику таблицы."
   ]
  },
  {
   "cell_type": "markdown",
   "metadata": {},
   "source": [
    "#### Очистка от редких и выбивающихся значений показателя ceiling_height"
   ]
  },
  {
   "cell_type": "code",
   "execution_count": 59,
   "metadata": {},
   "outputs": [
    {
     "data": {
      "image/png": "[encoded data removed]",
      "text/plain": [
       "<Figure size 432x288 with 1 Axes>"
      ]
     },
     "metadata": {
      "needs_background": "light"
     },
     "output_type": "display_data"
    },
    {
     "data": {
      "image/png": "[encoded data removed]",
      "text/plain": [
       "<Figure size 432x288 with 1 Axes>"
      ]
     },
     "metadata": {
      "needs_background": "light"
     },
     "output_type": "display_data"
    },
    {
     "data": {
      "image/png": "[encoded data removed]",
      "text/plain": [
       "<Figure size 432x288 with 1 Axes>"
      ]
     },
     "metadata": {
      "needs_background": "light"
     },
     "output_type": "display_data"
    }
   ],
   "source": [
    "data.plot(kind='box', y='ceiling_height', title='ceiling_height', grid=True)\n",
    "#plt.ylim(0, 200)\n",
    "plt.show()\n",
    "\n",
    "data.plot(kind='box', y='ceiling_height', title='ceiling_height', grid=True)\n",
    "plt.ylim(0, 40)\n",
    "plt.show()\n",
    "\n",
    "data.plot(kind='box', y='ceiling_height', title='ceiling_height', grid=True)\n",
    "plt.ylim(0, 10)\n",
    "plt.show()"
   ]
  },
  {
   "cell_type": "markdown",
   "metadata": {},
   "source": [
    "Высота потолка может иметь различные значения для самых разных квартир. Стандартная высота квартир составляет 2,5 - 3,5 метра, как и показано на диаграмме. Однако, более высокие варианты вплоть до 11 метров могут также присутствовать например в пентхаусах. Поэтому использование границ в 1,5 межквартильного расстояния для поисков нормальных значений не подойдет - можно исключить реальные, но редкие варинты.\n",
    "\n",
    "Тогда, для исключения аномльных значений используем следующую логику:\n",
    "- Если квартира от 2,5 до 3,5 метра высотой, то это не аномалия\n",
    "- Если квартира больше 3 метров и меньше 11 и это последний этаж, то это не аномалия.\n",
    "- Иначе аномалия"
   ]
  },
  {
   "cell_type": "code",
   "execution_count": 60,
   "metadata": {},
   "outputs": [
    {
     "data": {
      "text/html": [
       "<div>\n",
       "<style scoped>\n",
       "    .dataframe tbody tr th:only-of-type {\n",
       "        vertical-align: middle;\n",
       "    }\n",
       "\n",
       "    .dataframe tbody tr th {\n",
       "        vertical-align: top;\n",
       "    }\n",
       "\n",
       "    .dataframe thead th {\n",
       "        text-align: right;\n",
       "    }\n",
       "</style>\n",
       "<table border=\"1\" class=\"dataframe\">\n",
       "  <thead>\n",
       "    <tr style=\"text-align: right;\">\n",
       "      <th></th>\n",
       "      <th>count</th>\n",
       "      <th>mean</th>\n",
       "      <th>std</th>\n",
       "      <th>min</th>\n",
       "      <th>25%</th>\n",
       "      <th>50%</th>\n",
       "      <th>75%</th>\n",
       "      <th>max</th>\n",
       "    </tr>\n",
       "    <tr>\n",
       "      <th>ceiling_height_norm</th>\n",
       "      <th></th>\n",
       "      <th></th>\n",
       "      <th></th>\n",
       "      <th></th>\n",
       "      <th></th>\n",
       "      <th></th>\n",
       "      <th></th>\n",
       "      <th></th>\n",
       "    </tr>\n",
       "  </thead>\n",
       "  <tbody>\n",
       "    <tr>\n",
       "      <th>0</th>\n",
       "      <td>114.0</td>\n",
       "      <td>8.306140</td>\n",
       "      <td>12.777649</td>\n",
       "      <td>1.0</td>\n",
       "      <td>2.4</td>\n",
       "      <td>2.45</td>\n",
       "      <td>7.25</td>\n",
       "      <td>100.0</td>\n",
       "    </tr>\n",
       "    <tr>\n",
       "      <th>1</th>\n",
       "      <td>23156.0</td>\n",
       "      <td>2.691648</td>\n",
       "      <td>0.205572</td>\n",
       "      <td>2.5</td>\n",
       "      <td>2.6</td>\n",
       "      <td>2.65</td>\n",
       "      <td>2.70</td>\n",
       "      <td>5.8</td>\n",
       "    </tr>\n",
       "  </tbody>\n",
       "</table>\n",
       "</div>"
      ],
      "text/plain": [
       "                       count      mean        std  min  25%   50%   75%    max\n",
       "ceiling_height_norm                                                           \n",
       "0                      114.0  8.306140  12.777649  1.0  2.4  2.45  7.25  100.0\n",
       "1                    23156.0  2.691648   0.205572  2.5  2.6  2.65  2.70    5.8"
      ]
     },
     "execution_count": 60,
     "metadata": {},
     "output_type": "execute_result"
    }
   ],
   "source": [
    "data['ceiling_height_norm'] = 0\n",
    "data.loc[(data['ceiling_height'] >= 2.5)&(data['ceiling_height'] <= 3.5)&(data['locality_name'] != 'Санкт-Петербург'), 'ceiling_height_norm'] = 1\n",
    "data.loc[(data['ceiling_height'] > 3.5)&(data['ceiling_height'] <= 11)&(data['locality_name'] != 'Санкт-Петербург')&(data['floor_group'] == 'Последний'), 'ceiling_height_norm'] = 1\n",
    "\n",
    "data.loc[(data['ceiling_height'] >= 2.5)&(data['ceiling_height'] <= 5)&(data['locality_name'] == 'Санкт-Петербург'), 'ceiling_height_norm'] = 1\n",
    "data.loc[(data['ceiling_height'] > 5)&(data['ceiling_height'] <= 11)&(data['locality_name'] == 'Санкт-Петербург')&(data['floor_group'] == 'Последний'), 'ceiling_height_norm'] = 1\n",
    "\n",
    "\n",
    "data.groupby('ceiling_height_norm')['ceiling_height'].describe()"
   ]
  },
  {
   "cell_type": "code",
   "execution_count": 61,
   "metadata": {},
   "outputs": [],
   "source": [
    "data = data[data['ceiling_height_norm'] == 1]\n",
    "data = data.drop(columns='ceiling_height_norm')"
   ]
  },
  {
   "cell_type": "markdown",
   "metadata": {},
   "source": [
    "Удаленные данные составляют 0.5% от общего количства строк. Удаление подобного количества данных не должно оказать серьезного влияния на общую статистику таблицы."
   ]
  },
  {
   "cell_type": "markdown",
   "metadata": {},
   "source": [
    "#### Очистка от редких и выбивающихся значений показателя days_exposition"
   ]
  },
  {
   "cell_type": "code",
   "execution_count": 62,
   "metadata": {},
   "outputs": [
    {
     "data": {
      "image/png": "[encoded data removed]",
      "text/plain": [
       "<Figure size 432x288 with 1 Axes>"
      ]
     },
     "metadata": {
      "needs_background": "light"
     },
     "output_type": "display_data"
    }
   ],
   "source": [
    "data.plot(kind='box', y='days_exposition', title='days_exposition', grid=True)\n",
    "#plt.ylim(0, 200)\n",
    "plt.show()"
   ]
  },
  {
   "cell_type": "code",
   "execution_count": 63,
   "metadata": {},
   "outputs": [
    {
     "data": {
      "text/plain": [
       "<AxesSubplot:title={'center':'days_exposition'}, ylabel='Frequency'>"
      ]
     },
     "execution_count": 63,
     "metadata": {},
     "output_type": "execute_result"
    },
    {
     "data": {
      "image/png": "[encoded data removed]",
      "text/plain": [
       "<Figure size 432x288 with 1 Axes>"
      ]
     },
     "metadata": {
      "needs_background": "light"
     },
     "output_type": "display_data"
    }
   ],
   "source": [
    "data.plot(kind='hist', y='days_exposition', bins=100, title='days_exposition', grid=True)"
   ]
  },
  {
   "cell_type": "code",
   "execution_count": 64,
   "metadata": {},
   "outputs": [
    {
     "name": "stdout",
     "output_type": "stream",
     "text": [
      "0 505.0\n"
     ]
    }
   ],
   "source": [
    "quart_between = data['days_exposition'].describe()['75%'] - data['days_exposition'].describe()['25%']\n",
    "lower = data['days_exposition'].describe()['25%'] - 1.5*quart_between\n",
    "if lower < 0:\n",
    "    lower = 0\n",
    "upper = data['days_exposition'].describe()['75%'] + 1.5*quart_between\n",
    "\n",
    "print(lower, upper)"
   ]
  },
  {
   "cell_type": "markdown",
   "metadata": {},
   "source": [
    "В отношении показателя days_exposition сложно определить какие-либо границы. Квартира может продасться как в течение пары дней, так и в течение нескольких лет. Единственно возможной границей можно указать выбранная граница \"необычно долгой продажи\" - продажи свыше нормальных значений столбца (Q3 + 1,5*(Q3-Q1) = 505.5). Но даже в этом случае, результаты не являтся аномальными. Предлагаю не иключать эти значени вообще."
   ]
  },
  {
   "cell_type": "code",
   "execution_count": 65,
   "metadata": {},
   "outputs": [
    {
     "name": "stdout",
     "output_type": "stream",
     "text": [
      "Доля исключенных даных 2.29%\n"
     ]
    }
   ],
   "source": [
    "print(f'Доля исключенных даных {str(round((1 - len(data)/23699)*100,2))}%')"
   ]
  },
  {
   "cell_type": "markdown",
   "metadata": {},
   "source": [
    "На данном этапе исключались редкие, выбивающиеся и аномальные данные из следющих столбцов таблицы:\n",
    "\n",
    "- total_area: по результатам анализа было принято решение исключить записи, занчение которых в не входит в промежуток между 20 и 250 кв.м.\n",
    "- last_price: исключаются записи с ценой больше чем 50 000 000, так как они слишком редкие или ошибочные. Также исключается аномальное значение когда цена квартира равно 12 190.\n",
    "- rooms: квартиры с количеством комнат большим 6 принято исключить из выборки, как слишком редкие. Отдельно исключаются квартиры, у которых указана 0 комнат, если это не студия (studio = False)\n",
    "- ceiling_height: для исключения значений используется следующую логику\n",
    "        - Если квартира от 2,5 до 3,5 метра высотой и это не Санкт-Петербург, то это не аномалия\n",
    "        - Если квартира больше 3 метров и меньше 11 и это последний этаж и это не Санкт-Петербург - это не аномалия.\n",
    "        - Если квартира от 2,5 до 5 метра высотой и это Санкт-Петербург, то это не аномалия\n",
    "        - Если квартира больше 5 метров и меньше 11 это последний этаж и это Санкт-Петербург - это не аномалия.\n",
    "        - Иначе аномалия\n",
    "\n",
    "\n",
    "Предложенная очистка данных исключает 2.3% исходных данных таблицы. Это является приемлимым количеством и не должно сильно повлиять на качество данных."
   ]
  },
  {
   "cell_type": "markdown",
   "metadata": {},
   "source": [
    "### Какие факторы больше всего влияют на стоимость квартиры? Изучите, зависит ли цена от площади, числа комнат, удалённости от центра. Изучите зависимость цены от того, на каком этаже расположена квартира: первом, последнем или другом. Также изучите зависимость от даты размещения: дня недели, месяца и года."
   ]
  },
  {
   "cell_type": "markdown",
   "metadata": {},
   "source": [
    "#### Влияние площади на стоимость квартир"
   ]
  },
  {
   "cell_type": "code",
   "execution_count": 66,
   "metadata": {},
   "outputs": [
    {
     "data": {
      "image/png": "[encoded data removed]",
      "text/plain": [
       "<Figure size 432x288 with 1 Axes>"
      ]
     },
     "metadata": {
      "needs_background": "light"
     },
     "output_type": "display_data"
    }
   ],
   "source": [
    "data.plot(x='total_area', y='last_price', kind='scatter', title = 'total_area', alpha=0.1) \n",
    "#plt.ylim(0, 200000000)\n",
    "plt.show()"
   ]
  },
  {
   "cell_type": "code",
   "execution_count": 67,
   "metadata": {},
   "outputs": [
    {
     "data": {
      "text/plain": [
       "0.7691677148924877"
      ]
     },
     "execution_count": 67,
     "metadata": {},
     "output_type": "execute_result"
    }
   ],
   "source": [
    "data['total_area'].corr(data['last_price'])"
   ]
  },
  {
   "cell_type": "markdown",
   "metadata": {},
   "source": [
    "Зависимость цены квартиры от общей площади хорошо показана на графике. С ростом площади, наблюдается устойчивый рост тренда цены. При большой площади усиливается разброс значений, однако тенденция к росту сохраняется. Данный разброс может обясняться иными причинами.\n",
    "\n",
    "Также коэффициент корреляции Пирсона между этими величиами равен 0.77, что говорит о высокой зависимости между этими данными."
   ]
  },
  {
   "cell_type": "markdown",
   "metadata": {},
   "source": [
    "#### Влияние числа комнат на стоимость квартир"
   ]
  },
  {
   "cell_type": "code",
   "execution_count": 68,
   "metadata": {
    "scrolled": true
   },
   "outputs": [
    {
     "data": {
      "image/png": "[encoded data removed]",
      "text/plain": [
       "<Figure size 432x288 with 1 Axes>"
      ]
     },
     "metadata": {
      "needs_background": "light"
     },
     "output_type": "display_data"
    },
    {
     "data": {
      "image/png": "[encoded data removed]",
      "text/plain": [
       "<Figure size 432x288 with 1 Axes>"
      ]
     },
     "metadata": {
      "needs_background": "light"
     },
     "output_type": "display_data"
    }
   ],
   "source": [
    "data.groupby('rooms')['last_price'].mean().plot(kind='bar', title = 'rooms', grid = True)\n",
    "plt.show()\n",
    "data.groupby('rooms')['last_price'].count().plot(kind='bar', title = 'rooms_count', grid = True) \n",
    "plt.show()"
   ]
  },
  {
   "cell_type": "markdown",
   "metadata": {},
   "source": [
    "Также наблюдается прямая зависимость между средней ценой на квартиру и количеством комнат. Так, средняя цена для 1-комнатных составляет 2 500 000, а для 5-конатных 17 500 000."
   ]
  },
  {
   "cell_type": "markdown",
   "metadata": {},
   "source": [
    "#### Влияние расстояния о центра на стоимость квартир"
   ]
  },
  {
   "cell_type": "code",
   "execution_count": 69,
   "metadata": {},
   "outputs": [
    {
     "data": {
      "image/png": "[encoded data removed]",
      "text/plain": [
       "<Figure size 432x288 with 1 Axes>"
      ]
     },
     "metadata": {
      "needs_background": "light"
     },
     "output_type": "display_data"
    },
    {
     "data": {
      "text/plain": [
       "<AxesSubplot:xlabel='cityCenters_nearest_km'>"
      ]
     },
     "execution_count": 69,
     "metadata": {},
     "output_type": "execute_result"
    },
    {
     "data": {
      "image/png": "[encoded data removed]",
      "text/plain": [
       "<Figure size 432x288 with 1 Axes>"
      ]
     },
     "metadata": {
      "needs_background": "light"
     },
     "output_type": "display_data"
    }
   ],
   "source": [
    "data.plot(x='cityCenters_nearest', y='last_price', kind='scatter', title = 'cityCenters_nearest', alpha=0.1) \n",
    "data['cityCenters_nearest_km'] = (data['cityCenters_nearest'] / 1000).round(-1)\n",
    "plt.show()\n",
    "data.groupby('cityCenters_nearest_km')['last_price'].mean().plot(kind='bar')\n"
   ]
  },
  {
   "cell_type": "code",
   "execution_count": 70,
   "metadata": {},
   "outputs": [
    {
     "data": {
      "text/plain": [
       "-0.3285850566050028"
      ]
     },
     "execution_count": 70,
     "metadata": {},
     "output_type": "execute_result"
    }
   ],
   "source": [
    "data['cityCenters_nearest'].corr(data['last_price'])"
   ]
  },
  {
   "cell_type": "markdown",
   "metadata": {},
   "source": [
    "По диаграмме рассеяния можно заметить, что самые дорогие квартиры в выборке находятся имеют сравнительно низкий показатель Дальности от центра. А на диграмме средних цен по километрам до центра можно увидеть стабильное снижение средней цены по мере удаления от центра. Таким образом, можно говорить в сильной зависимости цены квартиры от ее положения относительно центра города.\n",
    "\n",
    "Коэффициент корреляции равный -0.32, что говорит о существование выраженной обратной зависимости."
   ]
  },
  {
   "cell_type": "markdown",
   "metadata": {},
   "source": [
    "#### Влияние этажа на стоимость квартир"
   ]
  },
  {
   "cell_type": "code",
   "execution_count": 71,
   "metadata": {},
   "outputs": [
    {
     "data": {
      "image/png": "[encoded data removed]",
      "text/plain": [
       "<Figure size 432x288 with 1 Axes>"
      ]
     },
     "metadata": {
      "needs_background": "light"
     },
     "output_type": "display_data"
    },
    {
     "data": {
      "image/png": "[encoded data removed]",
      "text/plain": [
       "<Figure size 432x288 with 1 Axes>"
      ]
     },
     "metadata": {
      "needs_background": "light"
     },
     "output_type": "display_data"
    }
   ],
   "source": [
    "data.groupby('floor_group')['last_price'].mean().plot(kind='bar', title = 'floor_group', grid=True)\n",
    "plt.show()\n",
    "data.groupby('floor_group')['last_price'].count().plot(kind='bar', title = 'floor_group_count', grid=True)\n",
    "plt.show()"
   ]
  },
  {
   "cell_type": "markdown",
   "metadata": {},
   "source": [
    "Значение средней цены на Первом этаже меньше, чем на остальных типах, примерно н 1 000 000. Средние цены на Последнем этаже и на Друго этаже практически не отличаются"
   ]
  },
  {
   "cell_type": "markdown",
   "metadata": {},
   "source": [
    "#### Влияние даты объявления на стоимость квартир"
   ]
  },
  {
   "cell_type": "code",
   "execution_count": 72,
   "metadata": {},
   "outputs": [
    {
     "data": {
      "image/png": "[encoded data removed]",
      "text/plain": [
       "<Figure size 432x288 with 1 Axes>"
      ]
     },
     "metadata": {
      "needs_background": "light"
     },
     "output_type": "display_data"
    },
    {
     "data": {
      "image/png": "[encoded data removed]",
      "text/plain": [
       "<Figure size 432x288 with 1 Axes>"
      ]
     },
     "metadata": {
      "needs_background": "light"
     },
     "output_type": "display_data"
    },
    {
     "data": {
      "image/png": "[encoded data removed]",
      "text/plain": [
       "<Figure size 432x288 with 1 Axes>"
      ]
     },
     "metadata": {
      "needs_background": "light"
     },
     "output_type": "display_data"
    }
   ],
   "source": [
    "data.groupby('day_of_week')['last_price'].mean().plot(kind='bar', title = 'day_of_week', grid=True)\n",
    "plt.show()\n",
    "data.groupby('month')['last_price'].mean().plot(kind='bar', title = 'month', grid=True)\n",
    "plt.show()\n",
    "data.groupby('year')['last_price'].mean().plot(kind='bar', title = 'year', grid=True)\n",
    "plt.show()"
   ]
  },
  {
   "cell_type": "markdown",
   "metadata": {},
   "source": [
    "Явной зависимости от дня недели размещения объявления нет.\n",
    "\n",
    "В случае месяцев можно наблюдать небольшое снижение цен на квартиры, с апреля по июнь, но потом вновь начинается резкий прирост, котрый держится на более-менее одном уровне до следующего мая.\n",
    "\n",
    "При всем этом, можно заметить что цены на квартиры имеют тенденцию на уровне года. Средняя цена квартиры в 2015 по сравнению с 2014 сильно снижается. Затем начинается медленный рост вплоть до 2019, при этом до до уровне 2014 остается далеко."
   ]
  },
  {
   "cell_type": "markdown",
   "metadata": {},
   "source": [
    "### Выберите 10 населённых пунктов с наибольшим числом объявлений. Посчитайте среднюю цену квадратного метра в этих населённых пунктах. Выделите населённые пункты с самой высокой и низкой стоимостью жилья."
   ]
  },
  {
   "cell_type": "code",
   "execution_count": 73,
   "metadata": {},
   "outputs": [
    {
     "data": {
      "text/plain": [
       "locality_name\n",
       "Выборг                58245.520337\n",
       "Всеволожск            68719.320400\n",
       "Гатчина               68811.372828\n",
       "Колпино               75352.475583\n",
       "посёлок Шушары        78529.235071\n",
       "посёлок Мурино        85645.903323\n",
       "посёлок Парголово     90362.345200\n",
       "деревня Кудрово       92473.547576\n",
       "Пушкин               103309.832365\n",
       "Санкт-Петербург      112317.571278\n",
       "Name: price_sq_meter, dtype: float64"
      ]
     },
     "execution_count": 73,
     "metadata": {},
     "output_type": "execute_result"
    }
   ],
   "source": [
    "settlements_top = data.groupby('locality_name')['last_price'].count().sort_values(ascending = False).head(10).index\n",
    "\n",
    "data[data['locality_name'].isin(settlements_top)].groupby('locality_name')['price_sq_meter'].mean().sort_values()"
   ]
  },
  {
   "cell_type": "markdown",
   "metadata": {},
   "source": [
    "Наибольшая цена за квадратный метр относится к Санкт-Петербургу: 112 007. Наименьшая - к Выборгу: 58 245."
   ]
  },
  {
   "cell_type": "markdown",
   "metadata": {},
   "source": [
    "### Изучите предложения квартир: для каждой квартиры есть информация о расстоянии до центра. Выделите квартиры в Санкт-Петербурге (locality_name). Ваша задача — выяснить, какая область входит в центр. Создайте столбец с расстоянием до центра в километрах: округлите до целых значений. После этого посчитайте среднюю цену для каждого километра. Постройте график: он должен показывать, как цена зависит от удалённости от центра. Определите границу, где график сильно меняется, — это и будет центральная зона."
   ]
  },
  {
   "cell_type": "code",
   "execution_count": 74,
   "metadata": {},
   "outputs": [],
   "source": [
    "data_sp = data[data['locality_name'] == 'Санкт-Петербург']\n",
    "data_sp['cityCenters_nearest_km'] = (data_sp['cityCenters_nearest'] / 1000).round(0)"
   ]
  },
  {
   "cell_type": "code",
   "execution_count": 75,
   "metadata": {},
   "outputs": [
    {
     "data": {
      "text/plain": [
       "<AxesSubplot:xlabel='cityCenters_nearest_km'>"
      ]
     },
     "execution_count": 75,
     "metadata": {},
     "output_type": "execute_result"
    },
    {
     "data": {
      "image/png": "[encoded data removed]",
      "text/plain": [
       "<Figure size 432x288 with 1 Axes>"
      ]
     },
     "metadata": {
      "needs_background": "light"
     },
     "output_type": "display_data"
    }
   ],
   "source": [
    "data_sp.groupby('cityCenters_nearest_km')['last_price'].mean().plot(kind = 'bar', grid = True)"
   ]
  },
  {
   "cell_type": "markdown",
   "metadata": {},
   "source": [
    "Можно выделить 2 точки перегиба графика - на 3 км и на 9 км. После 3 км. график вновь начинает расти. После 9 км. он становится более пологим и резких падений или подъемов уже не наблюдается.\n",
    "\n",
    "Так как граница центра в пределах 3 км. представляется мне слишком маленькой, то я определяю границу центральной зоны как 9 км."
   ]
  },
  {
   "cell_type": "markdown",
   "metadata": {},
   "source": [
    "### Выделите сегмент квартир в центре. Проанализируйте эту территорию и изучите следующие параметры: площадь, цена, число комнат, высота потолков. Также выделите факторы, которые влияют на стоимость квартиры (число комнат, этаж, удалённость от центра, дата размещения объявления). Сделайте выводы. Отличаются ли они от общих выводов по всей базе?"
   ]
  },
  {
   "cell_type": "markdown",
   "metadata": {},
   "source": [
    "Предполагаю, что наглядный анализ с использованием сравнений данных по центру Санкт-Петербурга с данными по всей таблице бдет более наглядным."
   ]
  },
  {
   "cell_type": "code",
   "execution_count": 76,
   "metadata": {},
   "outputs": [],
   "source": [
    "data_sp['center'] = False\n",
    "data_sp.loc[data_sp['cityCenters_nearest_km'] <= 9, 'center'] = True"
   ]
  },
  {
   "cell_type": "code",
   "execution_count": 77,
   "metadata": {},
   "outputs": [],
   "source": [
    "data_sp_cnt = data_sp[data_sp['center'] == True]"
   ]
  },
  {
   "cell_type": "markdown",
   "metadata": {},
   "source": [
    "#### Изучение данных по параметр total_area"
   ]
  },
  {
   "cell_type": "code",
   "execution_count": 78,
   "metadata": {},
   "outputs": [
    {
     "data": {
      "text/html": [
       "<div>\n",
       "<style scoped>\n",
       "    .dataframe tbody tr th:only-of-type {\n",
       "        vertical-align: middle;\n",
       "    }\n",
       "\n",
       "    .dataframe tbody tr th {\n",
       "        vertical-align: top;\n",
       "    }\n",
       "\n",
       "    .dataframe thead th {\n",
       "        text-align: right;\n",
       "    }\n",
       "</style>\n",
       "<table border=\"1\" class=\"dataframe\">\n",
       "  <thead>\n",
       "    <tr style=\"text-align: right;\">\n",
       "      <th></th>\n",
       "      <th>total</th>\n",
       "      <th>SP center</th>\n",
       "    </tr>\n",
       "  </thead>\n",
       "  <tbody>\n",
       "    <tr>\n",
       "      <th>count</th>\n",
       "      <td>23156.000000</td>\n",
       "      <td>4402.000000</td>\n",
       "    </tr>\n",
       "    <tr>\n",
       "      <th>mean</th>\n",
       "      <td>58.001657</td>\n",
       "      <td>77.460402</td>\n",
       "    </tr>\n",
       "    <tr>\n",
       "      <th>std</th>\n",
       "      <td>26.447619</td>\n",
       "      <td>35.768546</td>\n",
       "    </tr>\n",
       "    <tr>\n",
       "      <th>min</th>\n",
       "      <td>20.000000</td>\n",
       "      <td>20.000000</td>\n",
       "    </tr>\n",
       "    <tr>\n",
       "      <th>25%</th>\n",
       "      <td>40.000000</td>\n",
       "      <td>50.000000</td>\n",
       "    </tr>\n",
       "    <tr>\n",
       "      <th>50%</th>\n",
       "      <td>51.680000</td>\n",
       "      <td>70.155000</td>\n",
       "    </tr>\n",
       "    <tr>\n",
       "      <th>75%</th>\n",
       "      <td>68.500000</td>\n",
       "      <td>95.800000</td>\n",
       "    </tr>\n",
       "    <tr>\n",
       "      <th>max</th>\n",
       "      <td>250.000000</td>\n",
       "      <td>245.800000</td>\n",
       "    </tr>\n",
       "  </tbody>\n",
       "</table>\n",
       "</div>"
      ],
      "text/plain": [
       "              total    SP center\n",
       "count  23156.000000  4402.000000\n",
       "mean      58.001657    77.460402\n",
       "std       26.447619    35.768546\n",
       "min       20.000000    20.000000\n",
       "25%       40.000000    50.000000\n",
       "50%       51.680000    70.155000\n",
       "75%       68.500000    95.800000\n",
       "max      250.000000   245.800000"
      ]
     },
     "execution_count": 78,
     "metadata": {},
     "output_type": "execute_result"
    }
   ],
   "source": [
    "pd.DataFrame({'total': data['total_area'].describe(), 'SP center': data_sp_cnt['total_area'].describe()})"
   ]
  },
  {
   "cell_type": "code",
   "execution_count": 79,
   "metadata": {},
   "outputs": [
    {
     "data": {
      "image/png": "[encoded data removed]",
      "text/plain": [
       "<Figure size 432x288 with 1 Axes>"
      ]
     },
     "metadata": {
      "needs_background": "light"
     },
     "output_type": "display_data"
    },
    {
     "data": {
      "text/plain": [
       "<AxesSubplot:>"
      ]
     },
     "execution_count": 79,
     "metadata": {},
     "output_type": "execute_result"
    },
    {
     "data": {
      "image/png": "[encoded data removed]",
      "text/plain": [
       "<Figure size 432x288 with 1 Axes>"
      ]
     },
     "metadata": {
      "needs_background": "light"
     },
     "output_type": "display_data"
    }
   ],
   "source": [
    "data['total_area'].hist(bins = 100)\n",
    "plt.show()\n",
    "data_sp_cnt['total_area'].hist(bins = 100)"
   ]
  },
  {
   "cell_type": "markdown",
   "metadata": {},
   "source": [
    "Согласно диаграммами таблицам, в центре Санкт-Петербурга преобладают квартиры с большей площадью, чем среди данных всего города и соседних населенных пунктов. Это можно увидеть по смешению вправо средних значений и квартилей, а также по тому, что \"хвост\" на графике у центра Санкт-Петербурга больше, чем у всего всего города и соседних населенных пунктов."
   ]
  },
  {
   "cell_type": "markdown",
   "metadata": {},
   "source": [
    "#### Изучение данных по параметр last_price"
   ]
  },
  {
   "cell_type": "code",
   "execution_count": 80,
   "metadata": {},
   "outputs": [
    {
     "data": {
      "text/html": [
       "<div>\n",
       "<style scoped>\n",
       "    .dataframe tbody tr th:only-of-type {\n",
       "        vertical-align: middle;\n",
       "    }\n",
       "\n",
       "    .dataframe tbody tr th {\n",
       "        vertical-align: top;\n",
       "    }\n",
       "\n",
       "    .dataframe thead th {\n",
       "        text-align: right;\n",
       "    }\n",
       "</style>\n",
       "<table border=\"1\" class=\"dataframe\">\n",
       "  <thead>\n",
       "    <tr style=\"text-align: right;\">\n",
       "      <th></th>\n",
       "      <th>total</th>\n",
       "      <th>SP center</th>\n",
       "    </tr>\n",
       "  </thead>\n",
       "  <tbody>\n",
       "    <tr>\n",
       "      <th>count</th>\n",
       "      <td>2.315600e+04</td>\n",
       "      <td>4.402000e+03</td>\n",
       "    </tr>\n",
       "    <tr>\n",
       "      <th>mean</th>\n",
       "      <td>5.879084e+06</td>\n",
       "      <td>1.038173e+07</td>\n",
       "    </tr>\n",
       "    <tr>\n",
       "      <th>std</th>\n",
       "      <td>4.698640e+06</td>\n",
       "      <td>7.361003e+06</td>\n",
       "    </tr>\n",
       "    <tr>\n",
       "      <th>min</th>\n",
       "      <td>4.300000e+05</td>\n",
       "      <td>1.600000e+06</td>\n",
       "    </tr>\n",
       "    <tr>\n",
       "      <th>25%</th>\n",
       "      <td>3.400000e+06</td>\n",
       "      <td>5.850000e+06</td>\n",
       "    </tr>\n",
       "    <tr>\n",
       "      <th>50%</th>\n",
       "      <td>4.600000e+06</td>\n",
       "      <td>8.200000e+06</td>\n",
       "    </tr>\n",
       "    <tr>\n",
       "      <th>75%</th>\n",
       "      <td>6.650000e+06</td>\n",
       "      <td>1.200000e+07</td>\n",
       "    </tr>\n",
       "    <tr>\n",
       "      <th>max</th>\n",
       "      <td>5.000000e+07</td>\n",
       "      <td>5.000000e+07</td>\n",
       "    </tr>\n",
       "  </tbody>\n",
       "</table>\n",
       "</div>"
      ],
      "text/plain": [
       "              total     SP center\n",
       "count  2.315600e+04  4.402000e+03\n",
       "mean   5.879084e+06  1.038173e+07\n",
       "std    4.698640e+06  7.361003e+06\n",
       "min    4.300000e+05  1.600000e+06\n",
       "25%    3.400000e+06  5.850000e+06\n",
       "50%    4.600000e+06  8.200000e+06\n",
       "75%    6.650000e+06  1.200000e+07\n",
       "max    5.000000e+07  5.000000e+07"
      ]
     },
     "execution_count": 80,
     "metadata": {},
     "output_type": "execute_result"
    }
   ],
   "source": [
    "pd.DataFrame({'total': data['last_price'].describe(), 'SP center': data_sp_cnt['last_price'].describe()})"
   ]
  },
  {
   "cell_type": "code",
   "execution_count": 81,
   "metadata": {},
   "outputs": [
    {
     "data": {
      "image/png": "[encoded data removed]",
      "text/plain": [
       "<Figure size 432x288 with 1 Axes>"
      ]
     },
     "metadata": {
      "needs_background": "light"
     },
     "output_type": "display_data"
    },
    {
     "data": {
      "text/plain": [
       "<AxesSubplot:>"
      ]
     },
     "execution_count": 81,
     "metadata": {},
     "output_type": "execute_result"
    },
    {
     "data": {
      "image/png": "[encoded data removed]",
      "text/plain": [
       "<Figure size 432x288 with 1 Axes>"
      ]
     },
     "metadata": {
      "needs_background": "light"
     },
     "output_type": "display_data"
    }
   ],
   "source": [
    "data['last_price'].hist(bins = 100)\n",
    "plt.show()\n",
    "data_sp_cnt['last_price'].hist(bins = 100)"
   ]
  },
  {
   "cell_type": "markdown",
   "metadata": {},
   "source": [
    "Относительно цен, различия еще более явные - средние и квартили по центру и по всей таблице отличаются уже в разы. С другой стороны, это логично, что жилье в центре города с сопоставимыми параметрами будет гораздо дороже."
   ]
  },
  {
   "cell_type": "markdown",
   "metadata": {},
   "source": [
    "#### Изучение данных по параметр rooms"
   ]
  },
  {
   "cell_type": "code",
   "execution_count": 82,
   "metadata": {},
   "outputs": [
    {
     "data": {
      "text/html": [
       "<div>\n",
       "<style scoped>\n",
       "    .dataframe tbody tr th:only-of-type {\n",
       "        vertical-align: middle;\n",
       "    }\n",
       "\n",
       "    .dataframe tbody tr th {\n",
       "        vertical-align: top;\n",
       "    }\n",
       "\n",
       "    .dataframe thead th {\n",
       "        text-align: right;\n",
       "    }\n",
       "</style>\n",
       "<table border=\"1\" class=\"dataframe\">\n",
       "  <thead>\n",
       "    <tr style=\"text-align: right;\">\n",
       "      <th></th>\n",
       "      <th>total</th>\n",
       "      <th>SP center</th>\n",
       "    </tr>\n",
       "  </thead>\n",
       "  <tbody>\n",
       "    <tr>\n",
       "      <th>count</th>\n",
       "      <td>23156.000000</td>\n",
       "      <td>4402.000000</td>\n",
       "    </tr>\n",
       "    <tr>\n",
       "      <th>mean</th>\n",
       "      <td>2.022629</td>\n",
       "      <td>2.490232</td>\n",
       "    </tr>\n",
       "    <tr>\n",
       "      <th>std</th>\n",
       "      <td>0.963827</td>\n",
       "      <td>1.076286</td>\n",
       "    </tr>\n",
       "    <tr>\n",
       "      <th>min</th>\n",
       "      <td>0.000000</td>\n",
       "      <td>0.000000</td>\n",
       "    </tr>\n",
       "    <tr>\n",
       "      <th>25%</th>\n",
       "      <td>1.000000</td>\n",
       "      <td>2.000000</td>\n",
       "    </tr>\n",
       "    <tr>\n",
       "      <th>50%</th>\n",
       "      <td>2.000000</td>\n",
       "      <td>2.000000</td>\n",
       "    </tr>\n",
       "    <tr>\n",
       "      <th>75%</th>\n",
       "      <td>3.000000</td>\n",
       "      <td>3.000000</td>\n",
       "    </tr>\n",
       "    <tr>\n",
       "      <th>max</th>\n",
       "      <td>5.000000</td>\n",
       "      <td>5.000000</td>\n",
       "    </tr>\n",
       "  </tbody>\n",
       "</table>\n",
       "</div>"
      ],
      "text/plain": [
       "              total    SP center\n",
       "count  23156.000000  4402.000000\n",
       "mean       2.022629     2.490232\n",
       "std        0.963827     1.076286\n",
       "min        0.000000     0.000000\n",
       "25%        1.000000     2.000000\n",
       "50%        2.000000     2.000000\n",
       "75%        3.000000     3.000000\n",
       "max        5.000000     5.000000"
      ]
     },
     "execution_count": 82,
     "metadata": {},
     "output_type": "execute_result"
    }
   ],
   "source": [
    "pd.DataFrame({'total': data['rooms'].describe(), 'SP center': data_sp_cnt['rooms'].describe()})"
   ]
  },
  {
   "cell_type": "code",
   "execution_count": 83,
   "metadata": {},
   "outputs": [
    {
     "data": {
      "image/png": "[encoded data removed]",
      "text/plain": [
       "<Figure size 432x288 with 1 Axes>"
      ]
     },
     "metadata": {
      "needs_background": "light"
     },
     "output_type": "display_data"
    },
    {
     "data": {
      "text/plain": [
       "<AxesSubplot:>"
      ]
     },
     "execution_count": 83,
     "metadata": {},
     "output_type": "execute_result"
    },
    {
     "data": {
      "image/png": "[encoded data removed]",
      "text/plain": [
       "<Figure size 432x288 with 1 Axes>"
      ]
     },
     "metadata": {
      "needs_background": "light"
     },
     "output_type": "display_data"
    }
   ],
   "source": [
    "data['rooms'].hist(bins = 5)\n",
    "plt.show()\n",
    "data_sp_cnt['rooms'].hist(bins = 5)"
   ]
  },
  {
   "cell_type": "markdown",
   "metadata": {},
   "source": [
    "В целом, показатель количества комнат не сильно различается между центром и всей таблицей. Однако, судя по диаграмме, в центра Санкт-Петербурга больше 2-х комнатных квартир, а то время как по всей таблице небольшой приоритет у 1-комнатных. Также в центре города выше доля 3-х комнатных квартир, она доходит практически до доли 2-х комнатных."
   ]
  },
  {
   "cell_type": "markdown",
   "metadata": {},
   "source": [
    "#### Изучение данных по параметр ceiling_height"
   ]
  },
  {
   "cell_type": "code",
   "execution_count": 84,
   "metadata": {},
   "outputs": [
    {
     "data": {
      "text/html": [
       "<div>\n",
       "<style scoped>\n",
       "    .dataframe tbody tr th:only-of-type {\n",
       "        vertical-align: middle;\n",
       "    }\n",
       "\n",
       "    .dataframe tbody tr th {\n",
       "        vertical-align: top;\n",
       "    }\n",
       "\n",
       "    .dataframe thead th {\n",
       "        text-align: right;\n",
       "    }\n",
       "</style>\n",
       "<table border=\"1\" class=\"dataframe\">\n",
       "  <thead>\n",
       "    <tr style=\"text-align: right;\">\n",
       "      <th></th>\n",
       "      <th>total</th>\n",
       "      <th>SP center</th>\n",
       "    </tr>\n",
       "  </thead>\n",
       "  <tbody>\n",
       "    <tr>\n",
       "      <th>count</th>\n",
       "      <td>23156.000000</td>\n",
       "      <td>4402.000000</td>\n",
       "    </tr>\n",
       "    <tr>\n",
       "      <th>mean</th>\n",
       "      <td>2.691648</td>\n",
       "      <td>2.878653</td>\n",
       "    </tr>\n",
       "    <tr>\n",
       "      <th>std</th>\n",
       "      <td>0.205572</td>\n",
       "      <td>0.327338</td>\n",
       "    </tr>\n",
       "    <tr>\n",
       "      <th>min</th>\n",
       "      <td>2.500000</td>\n",
       "      <td>2.500000</td>\n",
       "    </tr>\n",
       "    <tr>\n",
       "      <th>25%</th>\n",
       "      <td>2.600000</td>\n",
       "      <td>2.650000</td>\n",
       "    </tr>\n",
       "    <tr>\n",
       "      <th>50%</th>\n",
       "      <td>2.650000</td>\n",
       "      <td>2.740000</td>\n",
       "    </tr>\n",
       "    <tr>\n",
       "      <th>75%</th>\n",
       "      <td>2.700000</td>\n",
       "      <td>3.000000</td>\n",
       "    </tr>\n",
       "    <tr>\n",
       "      <th>max</th>\n",
       "      <td>5.800000</td>\n",
       "      <td>5.800000</td>\n",
       "    </tr>\n",
       "  </tbody>\n",
       "</table>\n",
       "</div>"
      ],
      "text/plain": [
       "              total    SP center\n",
       "count  23156.000000  4402.000000\n",
       "mean       2.691648     2.878653\n",
       "std        0.205572     0.327338\n",
       "min        2.500000     2.500000\n",
       "25%        2.600000     2.650000\n",
       "50%        2.650000     2.740000\n",
       "75%        2.700000     3.000000\n",
       "max        5.800000     5.800000"
      ]
     },
     "execution_count": 84,
     "metadata": {},
     "output_type": "execute_result"
    }
   ],
   "source": [
    "pd.DataFrame({'total': data['ceiling_height'].describe(), 'SP center': data_sp_cnt['ceiling_height'].describe()})"
   ]
  },
  {
   "cell_type": "code",
   "execution_count": 85,
   "metadata": {},
   "outputs": [
    {
     "data": {
      "image/png": "[encoded data removed]",
      "text/plain": [
       "<Figure size 432x288 with 1 Axes>"
      ]
     },
     "metadata": {
      "needs_background": "light"
     },
     "output_type": "display_data"
    },
    {
     "data": {
      "text/plain": [
       "<AxesSubplot:>"
      ]
     },
     "execution_count": 85,
     "metadata": {},
     "output_type": "execute_result"
    },
    {
     "data": {
      "image/png": "[encoded data removed]",
      "text/plain": [
       "<Figure size 432x288 with 1 Axes>"
      ]
     },
     "metadata": {
      "needs_background": "light"
     },
     "output_type": "display_data"
    }
   ],
   "source": [
    "data['ceiling_height'].hist(bins = 20)\n",
    "plt.show()\n",
    "data_sp_cnt['ceiling_height'].hist(bins = 20)"
   ]
  },
  {
   "cell_type": "markdown",
   "metadata": {},
   "source": [
    "Разница в показателе Высота потолков состоит только в том, что в центре выше доля потолков с высотой больше 3 метров. При этом средние и квартили практически не отличаются."
   ]
  },
  {
   "cell_type": "markdown",
   "metadata": {},
   "source": [
    "#### Изучение влияния на стоимость квартир числа площади (total_area)"
   ]
  },
  {
   "cell_type": "code",
   "execution_count": 86,
   "metadata": {},
   "outputs": [
    {
     "data": {
      "image/png": "[encoded data removed]",
      "text/plain": [
       "<Figure size 432x288 with 1 Axes>"
      ]
     },
     "metadata": {
      "needs_background": "light"
     },
     "output_type": "display_data"
    },
    {
     "data": {
      "image/png": "[encoded data removed]",
      "text/plain": [
       "<Figure size 432x288 with 1 Axes>"
      ]
     },
     "metadata": {
      "needs_background": "light"
     },
     "output_type": "display_data"
    }
   ],
   "source": [
    "data.plot(x='total_area', y='last_price', kind='scatter', title = 'total_area', alpha=0.1) \n",
    "#plt.ylim(0, 200000000)\n",
    "data_sp_cnt.plot(x='total_area', y='last_price', kind='scatter', title = 'total_area_SentPeter_center', alpha=0.1) \n",
    "#plt.ylim(0, 200000000)\n",
    "plt.show()"
   ]
  },
  {
   "cell_type": "code",
   "execution_count": 87,
   "metadata": {},
   "outputs": [
    {
     "name": "stdout",
     "output_type": "stream",
     "text": [
      "Все данные 0.7691677148924877\n",
      "Центр Санкт-Петербурга 0.7356039329768403\n"
     ]
    }
   ],
   "source": [
    "print('Все данные', data['total_area'].corr(data['last_price']))\n",
    "print('Центр Санкт-Петербурга', data_sp_cnt['total_area'].corr(data_sp_cnt['last_price']))"
   ]
  },
  {
   "cell_type": "markdown",
   "metadata": {},
   "source": [
    "Несмотря на более четкое \"ядро\" на графиках для данных по центру Санкт-Петербурга в сравнии с данными по всей таблице, коэффициент корреляции Пирсона для центра Санкт-Петербурга ниже чем для всей таблице между показателями Общая площадь и Цена. Однако, он все равно остается достаточно большим, чтобы говорить о сильной зависимости между этим показателями как в целом, так и для центра Санкт-Петербурга в частности."
   ]
  },
  {
   "cell_type": "markdown",
   "metadata": {},
   "source": [
    "#### Изучение влияния на стоимость квартир число комнат"
   ]
  },
  {
   "cell_type": "code",
   "execution_count": 88,
   "metadata": {},
   "outputs": [
    {
     "data": {
      "image/png": "[encoded data removed]",
      "text/plain": [
       "<Figure size 432x288 with 1 Axes>"
      ]
     },
     "metadata": {
      "needs_background": "light"
     },
     "output_type": "display_data"
    },
    {
     "data": {
      "image/png": "[encoded data removed]",
      "text/plain": [
       "<Figure size 432x288 with 1 Axes>"
      ]
     },
     "metadata": {
      "needs_background": "light"
     },
     "output_type": "display_data"
    }
   ],
   "source": [
    "data.groupby('rooms')['last_price'].mean().plot(kind='bar', title = 'rooms', grid = True)\n",
    "plt.show()\n",
    "\n",
    "data_sp_cnt.groupby('rooms')['last_price'].mean().plot(kind='bar', title = 'rooms', grid = True)\n",
    "plt.show()"
   ]
  },
  {
   "cell_type": "markdown",
   "metadata": {},
   "source": [
    "Характер влияния сохраняется, единственная разница заключается в том, что квартиры с соответствующим в центре Санкт-Петербурга стоят больше, чем во всем городе и ближайших населенных пунктах."
   ]
  },
  {
   "cell_type": "markdown",
   "metadata": {},
   "source": [
    "#### Изучение влияния на стоимость квартир этажа"
   ]
  },
  {
   "cell_type": "code",
   "execution_count": 89,
   "metadata": {},
   "outputs": [
    {
     "data": {
      "image/png": "[encoded data removed]",
      "text/plain": [
       "<Figure size 432x288 with 1 Axes>"
      ]
     },
     "metadata": {
      "needs_background": "light"
     },
     "output_type": "display_data"
    },
    {
     "data": {
      "image/png": "[encoded data removed]",
      "text/plain": [
       "<Figure size 432x288 with 1 Axes>"
      ]
     },
     "metadata": {
      "needs_background": "light"
     },
     "output_type": "display_data"
    }
   ],
   "source": [
    "data.groupby('floor_group')['last_price'].mean().plot(kind='bar', title = 'floor', grid = True)\n",
    "plt.show()\n",
    "\n",
    "data_sp_cnt.groupby('floor_group')['last_price'].mean().plot(kind='bar', title = 'floor_SentPeter_center', grid = True)\n",
    "plt.show()"
   ]
  },
  {
   "cell_type": "markdown",
   "metadata": {},
   "source": [
    "Характер влияния сохраняется - цены первого этажа снижены, цены других этажей и последнего практически не отличаются, единственная разница заключается в том, что квартиры с соответствующим в центре Санкт-Петербурга стоят больше, чем во всем городе и ближайших населенных пунктах."
   ]
  },
  {
   "cell_type": "markdown",
   "metadata": {},
   "source": [
    "#### Изучение влияния на стоимость квартир удалённости от центра"
   ]
  },
  {
   "cell_type": "code",
   "execution_count": 90,
   "metadata": {},
   "outputs": [
    {
     "data": {
      "image/png": "[encoded data removed]",
      "text/plain": [
       "<Figure size 432x288 with 1 Axes>"
      ]
     },
     "metadata": {
      "needs_background": "light"
     },
     "output_type": "display_data"
    }
   ],
   "source": [
    "data_sp_cnt.groupby('cityCenters_nearest_km')['last_price'].mean().plot(kind='bar', title = 'cityCenters_nearest_km_SentPeter_center', grid = True)\n",
    "plt.show()"
   ]
  },
  {
   "cell_type": "markdown",
   "metadata": {},
   "source": [
    "В случае рассмотрения центра Санкт-Петербурга, удаленность от центра уже не играет такой роли.  В общем случае, минимум цен квартир уменьшает по мере удаления от центра, однако это не так явно выделяется."
   ]
  },
  {
   "cell_type": "markdown",
   "metadata": {},
   "source": [
    "#### Изучение влияния на стоимость квартир даты размещения объявления"
   ]
  },
  {
   "cell_type": "code",
   "execution_count": 91,
   "metadata": {},
   "outputs": [
    {
     "data": {
      "image/png": "[encoded data removed]",
      "text/plain": [
       "<Figure size 432x288 with 1 Axes>"
      ]
     },
     "metadata": {
      "needs_background": "light"
     },
     "output_type": "display_data"
    },
    {
     "data": {
      "text/plain": [
       "<AxesSubplot:title={'center':'day_of_week_SentPeter_center'}, xlabel='day_of_week'>"
      ]
     },
     "execution_count": 91,
     "metadata": {},
     "output_type": "execute_result"
    },
    {
     "data": {
      "image/png": "[encoded data removed]",
      "text/plain": [
       "<Figure size 432x288 with 1 Axes>"
      ]
     },
     "metadata": {
      "needs_background": "light"
     },
     "output_type": "display_data"
    }
   ],
   "source": [
    "data.groupby('day_of_week')['last_price'].mean().plot(kind='bar', title = 'day_of_week', grid=True)\n",
    "plt.show()\n",
    "data_sp_cnt.groupby('day_of_week')['last_price'].mean().plot(kind='bar', title = 'day_of_week_SentPeter_center', grid=True)\n"
   ]
  },
  {
   "cell_type": "code",
   "execution_count": 92,
   "metadata": {},
   "outputs": [
    {
     "data": {
      "image/png": "[encoded data removed]",
      "text/plain": [
       "<Figure size 432x288 with 1 Axes>"
      ]
     },
     "metadata": {
      "needs_background": "light"
     },
     "output_type": "display_data"
    },
    {
     "data": {
      "text/plain": [
       "<AxesSubplot:title={'center':'month_SentPeter_center'}, xlabel='month'>"
      ]
     },
     "execution_count": 92,
     "metadata": {},
     "output_type": "execute_result"
    },
    {
     "data": {
      "image/png": "[encoded data removed]",
      "text/plain": [
       "<Figure size 432x288 with 1 Axes>"
      ]
     },
     "metadata": {
      "needs_background": "light"
     },
     "output_type": "display_data"
    }
   ],
   "source": [
    "data.groupby('month')['last_price'].mean().plot(kind='bar', title = 'month', grid=True)\n",
    "plt.show()\n",
    "data_sp_cnt.groupby('month')['last_price'].mean().plot(kind='bar', title = 'month_SentPeter_center', grid=True)\n"
   ]
  },
  {
   "cell_type": "code",
   "execution_count": 93,
   "metadata": {},
   "outputs": [
    {
     "data": {
      "image/png": "[encoded data removed]",
      "text/plain": [
       "<Figure size 432x288 with 1 Axes>"
      ]
     },
     "metadata": {
      "needs_background": "light"
     },
     "output_type": "display_data"
    },
    {
     "data": {
      "text/plain": [
       "<AxesSubplot:title={'center':'year_SentPeter_center'}, xlabel='year'>"
      ]
     },
     "execution_count": 93,
     "metadata": {},
     "output_type": "execute_result"
    },
    {
     "data": {
      "image/png": "[encoded data removed]",
      "text/plain": [
       "<Figure size 432x288 with 1 Axes>"
      ]
     },
     "metadata": {
      "needs_background": "light"
     },
     "output_type": "display_data"
    }
   ],
   "source": [
    "data.groupby('year')['last_price'].mean().plot(kind='bar', title = 'year', grid=True)\n",
    "plt.show()\n",
    "data_sp_cnt.groupby('year')['last_price'].mean().plot(kind='bar', title = 'year_SentPeter_center', grid=True)\n"
   ]
  },
  {
   "cell_type": "markdown",
   "metadata": {},
   "source": [
    "В центре Санкт-Петербурга мы также наблюдаем резкое падение средней цены квартиры в 2015 году по сравнению с 2014. При этом гораздо меньше выражено снижение до 17 года и рост в 2019 году. И также, средняя цена в центре превосходит среднюю цену во всей таблице."
   ]
  },
  {
   "cell_type": "markdown",
   "metadata": {},
   "source": [
    "## Общий вывод"
   ]
  },
  {
   "cell_type": "markdown",
   "metadata": {},
   "source": [
    "По результатам проведенного исследования можно сделать следующие выводы.\n",
    "\n",
    "1) Более всего на стоимость квартиры влияет площадь квартиры, удаленность от центра и количество комнат, в меньшей степени этаж (квартиры на первом этаже обычно дешевле).\n",
    "\n",
    "2) Дороже всего квадратный метр у квартир, находящихся в самом Санкт-Петербурге и в Пушкине (112007 и 103309), меньше всего (среди топ 10 городов по количеству объявлений) в Выборге (58245)\n",
    "\n",
    "3) Район центра Санкт-Петербурга можно установить, как квартиры попадющие в границу 9 километров от центра. Внутри этого района сохраняются общие тенденции и зависимости между показателями с некоторыми исключениями:\n",
    "- Рост доли 2-х и 3-х комнатных квартир и снижение доли 1-комнатных в сравнии с всем городом и ближайшими поселками.\n",
    "- Больше квартир с потолками выше 3,5 метров.\n",
    "- В целом, в разы выше средние цены на квартиры"
   ]
  }
 ],
 "metadata": {
  "ExecuteTimeLog": [
   {
    "duration": 373,
    "start_time": "2022-06-03T12:59:34.281Z"
   },
   {
    "duration": 284,
    "start_time": "2022-06-03T13:00:09.143Z"
   },
   {
    "duration": 13,
    "start_time": "2022-06-03T13:00:20.384Z"
   },
   {
    "duration": 37,
    "start_time": "2022-06-03T13:00:30.799Z"
   },
   {
    "duration": 90,
    "start_time": "2022-06-03T13:01:49.299Z"
   },
   {
    "duration": 14,
    "start_time": "2022-06-03T13:01:50.599Z"
   },
   {
    "duration": 78,
    "start_time": "2022-06-03T13:01:54.644Z"
   },
   {
    "duration": 35,
    "start_time": "2022-06-03T13:07:34.220Z"
   },
   {
    "duration": 6,
    "start_time": "2022-06-03T14:21:41.707Z"
   },
   {
    "duration": 5,
    "start_time": "2022-06-03T14:21:50.617Z"
   },
   {
    "duration": 576,
    "start_time": "2022-06-03T14:22:39.252Z"
   },
   {
    "duration": 175,
    "start_time": "2022-06-03T14:23:03.546Z"
   },
   {
    "duration": 6,
    "start_time": "2022-06-03T14:25:33.453Z"
   },
   {
    "duration": 156,
    "start_time": "2022-06-03T14:26:58.287Z"
   },
   {
    "duration": 234,
    "start_time": "2022-06-03T14:27:17.285Z"
   },
   {
    "duration": 181,
    "start_time": "2022-06-03T14:27:30.671Z"
   },
   {
    "duration": 9,
    "start_time": "2022-06-03T14:30:07.224Z"
   },
   {
    "duration": 10,
    "start_time": "2022-06-03T14:31:30.253Z"
   },
   {
    "duration": 8,
    "start_time": "2022-06-03T14:33:48.204Z"
   },
   {
    "duration": 9,
    "start_time": "2022-06-03T14:34:28.431Z"
   },
   {
    "duration": 9,
    "start_time": "2022-06-03T14:36:22.059Z"
   },
   {
    "duration": 8,
    "start_time": "2022-06-03T14:40:16.152Z"
   },
   {
    "duration": 7,
    "start_time": "2022-06-03T14:40:35.730Z"
   },
   {
    "duration": 7,
    "start_time": "2022-06-03T14:40:44.679Z"
   },
   {
    "duration": 6,
    "start_time": "2022-06-03T14:42:15.308Z"
   },
   {
    "duration": 10,
    "start_time": "2022-06-03T14:42:48.167Z"
   },
   {
    "duration": 5,
    "start_time": "2022-06-03T14:43:06.662Z"
   },
   {
    "duration": 7,
    "start_time": "2022-06-03T14:43:45.934Z"
   },
   {
    "duration": 4,
    "start_time": "2022-06-03T14:45:39.571Z"
   },
   {
    "duration": 6,
    "start_time": "2022-06-03T14:45:48.388Z"
   },
   {
    "duration": 6,
    "start_time": "2022-06-03T14:46:35.412Z"
   },
   {
    "duration": 5,
    "start_time": "2022-06-03T14:46:42.019Z"
   },
   {
    "duration": 3,
    "start_time": "2022-06-03T14:46:55.352Z"
   },
   {
    "duration": 89,
    "start_time": "2022-06-03T14:46:56.409Z"
   },
   {
    "duration": 16,
    "start_time": "2022-06-03T14:46:58.336Z"
   },
   {
    "duration": 74,
    "start_time": "2022-06-03T14:47:06.294Z"
   },
   {
    "duration": 32,
    "start_time": "2022-06-03T14:47:08.036Z"
   },
   {
    "duration": 4,
    "start_time": "2022-06-03T14:47:11.972Z"
   },
   {
    "duration": 173,
    "start_time": "2022-06-03T14:47:13.585Z"
   },
   {
    "duration": 6,
    "start_time": "2022-06-03T14:47:15.525Z"
   },
   {
    "duration": 5,
    "start_time": "2022-06-03T14:47:16.775Z"
   },
   {
    "duration": 4,
    "start_time": "2022-06-03T14:48:24.680Z"
   },
   {
    "duration": 263,
    "start_time": "2022-06-03T14:48:49.917Z"
   },
   {
    "duration": 161,
    "start_time": "2022-06-03T14:49:01.066Z"
   },
   {
    "duration": 90,
    "start_time": "2022-06-03T14:50:23.873Z"
   },
   {
    "duration": 54,
    "start_time": "2022-06-03T14:50:36.097Z"
   },
   {
    "duration": 6,
    "start_time": "2022-06-03T14:51:31.556Z"
   },
   {
    "duration": 4,
    "start_time": "2022-06-03T14:51:56.760Z"
   },
   {
    "duration": 3,
    "start_time": "2022-06-03T14:52:59.990Z"
   },
   {
    "duration": 6,
    "start_time": "2022-06-03T14:56:25.847Z"
   },
   {
    "duration": 5,
    "start_time": "2022-06-03T14:56:54.474Z"
   },
   {
    "duration": 5,
    "start_time": "2022-06-03T14:57:10.901Z"
   },
   {
    "duration": 7,
    "start_time": "2022-06-03T15:02:18.668Z"
   },
   {
    "duration": 5,
    "start_time": "2022-06-03T15:02:34.540Z"
   },
   {
    "duration": 5,
    "start_time": "2022-06-03T15:06:44.573Z"
   },
   {
    "duration": 164,
    "start_time": "2022-06-03T15:07:03.905Z"
   },
   {
    "duration": 56,
    "start_time": "2022-06-03T15:11:16.852Z"
   },
   {
    "duration": 50,
    "start_time": "2022-06-03T15:16:02.773Z"
   },
   {
    "duration": 6,
    "start_time": "2022-06-03T15:20:11.353Z"
   },
   {
    "duration": 131,
    "start_time": "2022-06-03T15:20:26.986Z"
   },
   {
    "duration": 117,
    "start_time": "2022-06-03T15:20:48.428Z"
   },
   {
    "duration": 1446,
    "start_time": "2022-06-03T15:21:01.408Z"
   },
   {
    "duration": 52,
    "start_time": "2022-06-03T15:22:05.369Z"
   },
   {
    "duration": 444,
    "start_time": "2022-06-03T18:31:47.105Z"
   },
   {
    "duration": 189,
    "start_time": "2022-06-03T18:31:51.529Z"
   },
   {
    "duration": 19,
    "start_time": "2022-06-03T18:31:54.400Z"
   },
   {
    "duration": 93,
    "start_time": "2022-06-03T18:31:57.560Z"
   },
   {
    "duration": 41,
    "start_time": "2022-06-03T18:31:59.673Z"
   },
   {
    "duration": 7,
    "start_time": "2022-06-03T18:32:04.779Z"
   },
   {
    "duration": 722,
    "start_time": "2022-06-03T18:32:06.747Z"
   },
   {
    "duration": 6,
    "start_time": "2022-06-03T18:32:09.858Z"
   },
   {
    "duration": 7,
    "start_time": "2022-06-03T18:32:11.811Z"
   },
   {
    "duration": 5,
    "start_time": "2022-06-03T18:32:13.928Z"
   },
   {
    "duration": 195,
    "start_time": "2022-06-03T18:32:16.131Z"
   },
   {
    "duration": 5,
    "start_time": "2022-06-03T18:32:20.230Z"
   },
   {
    "duration": 9,
    "start_time": "2022-06-03T18:32:22.036Z"
   },
   {
    "duration": 6,
    "start_time": "2022-06-03T18:32:23.927Z"
   },
   {
    "duration": 5,
    "start_time": "2022-06-03T18:32:26.265Z"
   },
   {
    "duration": 68,
    "start_time": "2022-06-03T18:32:28.879Z"
   },
   {
    "duration": 50,
    "start_time": "2022-06-03T19:16:54.175Z"
   },
   {
    "duration": 17,
    "start_time": "2022-06-03T19:17:00.830Z"
   },
   {
    "duration": 5,
    "start_time": "2022-06-03T19:17:12.746Z"
   },
   {
    "duration": 5,
    "start_time": "2022-06-03T19:19:39.414Z"
   },
   {
    "duration": 3894,
    "start_time": "2022-06-03T19:21:09.313Z"
   },
   {
    "duration": 22,
    "start_time": "2022-06-03T19:21:41.558Z"
   },
   {
    "duration": 97,
    "start_time": "2022-06-03T19:47:27.178Z"
   },
   {
    "duration": 75,
    "start_time": "2022-06-03T19:47:42.934Z"
   },
   {
    "duration": 23,
    "start_time": "2022-06-03T19:50:20.909Z"
   },
   {
    "duration": 178,
    "start_time": "2022-06-03T19:51:16.865Z"
   },
   {
    "duration": 34,
    "start_time": "2022-06-03T19:51:33.253Z"
   },
   {
    "duration": 277,
    "start_time": "2022-06-03T19:51:38.289Z"
   },
   {
    "duration": 223,
    "start_time": "2022-06-03T19:51:44.010Z"
   },
   {
    "duration": 280,
    "start_time": "2022-06-03T19:51:47.638Z"
   },
   {
    "duration": 310,
    "start_time": "2022-06-03T19:52:36.637Z"
   },
   {
    "duration": 57,
    "start_time": "2022-06-03T19:53:36.364Z"
   },
   {
    "duration": 288,
    "start_time": "2022-06-03T19:55:34.172Z"
   },
   {
    "duration": 359,
    "start_time": "2022-06-03T19:55:45.819Z"
   },
   {
    "duration": 311,
    "start_time": "2022-06-03T19:55:59.217Z"
   },
   {
    "duration": 260,
    "start_time": "2022-06-03T19:56:57.030Z"
   },
   {
    "duration": 292,
    "start_time": "2022-06-03T19:57:21.720Z"
   },
   {
    "duration": 280,
    "start_time": "2022-06-03T19:57:35.718Z"
   },
   {
    "duration": 22,
    "start_time": "2022-06-03T19:58:40.886Z"
   },
   {
    "duration": 31,
    "start_time": "2022-06-03T19:59:07.515Z"
   },
   {
    "duration": 263,
    "start_time": "2022-06-03T20:00:06.927Z"
   },
   {
    "duration": 418,
    "start_time": "2022-06-03T20:00:33.985Z"
   },
   {
    "duration": 160,
    "start_time": "2022-06-03T20:03:41.871Z"
   },
   {
    "duration": 112,
    "start_time": "2022-06-03T20:03:56.339Z"
   },
   {
    "duration": 6,
    "start_time": "2022-06-03T20:04:45.498Z"
   },
   {
    "duration": 132,
    "start_time": "2022-06-03T20:05:07.802Z"
   },
   {
    "duration": 19,
    "start_time": "2022-06-03T20:05:08.650Z"
   },
   {
    "duration": 95,
    "start_time": "2022-06-03T20:05:10.875Z"
   },
   {
    "duration": 38,
    "start_time": "2022-06-03T20:05:13.689Z"
   },
   {
    "duration": 6,
    "start_time": "2022-06-03T20:05:18.019Z"
   },
   {
    "duration": 194,
    "start_time": "2022-06-03T20:05:18.838Z"
   },
   {
    "duration": 6,
    "start_time": "2022-06-03T20:05:22.371Z"
   },
   {
    "duration": 6,
    "start_time": "2022-06-03T20:05:23.432Z"
   },
   {
    "duration": 5,
    "start_time": "2022-06-03T20:05:25.124Z"
   },
   {
    "duration": 181,
    "start_time": "2022-06-03T20:05:26.333Z"
   },
   {
    "duration": 6,
    "start_time": "2022-06-03T20:05:27.851Z"
   },
   {
    "duration": 11,
    "start_time": "2022-06-03T20:05:28.661Z"
   },
   {
    "duration": 6,
    "start_time": "2022-06-03T20:05:29.293Z"
   },
   {
    "duration": 5,
    "start_time": "2022-06-03T20:05:30.783Z"
   },
   {
    "duration": 59,
    "start_time": "2022-06-03T20:05:33.202Z"
   },
   {
    "duration": 41,
    "start_time": "2022-06-03T20:05:35.237Z"
   },
   {
    "duration": 5,
    "start_time": "2022-06-03T20:05:36.042Z"
   },
   {
    "duration": 6,
    "start_time": "2022-06-03T20:05:37.289Z"
   },
   {
    "duration": 279,
    "start_time": "2022-06-03T20:05:38.838Z"
   },
   {
    "duration": 7,
    "start_time": "2022-06-03T20:05:44.096Z"
   },
   {
    "duration": 41,
    "start_time": "2022-06-03T20:06:04.467Z"
   },
   {
    "duration": 41,
    "start_time": "2022-06-03T20:07:34.524Z"
   },
   {
    "duration": 23,
    "start_time": "2022-06-03T20:09:15.855Z"
   },
   {
    "duration": 48,
    "start_time": "2022-06-03T20:09:35.395Z"
   },
   {
    "duration": 24,
    "start_time": "2022-06-03T20:09:41.348Z"
   },
   {
    "duration": 13,
    "start_time": "2022-06-03T20:11:12.253Z"
   },
   {
    "duration": 32,
    "start_time": "2022-06-03T20:11:21.942Z"
   },
   {
    "duration": 17,
    "start_time": "2022-06-03T20:11:22.859Z"
   },
   {
    "duration": 23,
    "start_time": "2022-06-03T20:11:31.453Z"
   },
   {
    "duration": 20,
    "start_time": "2022-06-03T20:11:31.879Z"
   },
   {
    "duration": 401,
    "start_time": "2022-06-03T20:13:21.716Z"
   },
   {
    "duration": 566,
    "start_time": "2022-06-03T20:13:33.845Z"
   },
   {
    "duration": 3,
    "start_time": "2022-06-03T20:14:04.733Z"
   },
   {
    "duration": 536,
    "start_time": "2022-06-03T20:14:23.428Z"
   },
   {
    "duration": 573,
    "start_time": "2022-06-03T20:14:48.498Z"
   },
   {
    "duration": 708,
    "start_time": "2022-06-03T20:15:23.106Z"
   },
   {
    "duration": 418,
    "start_time": "2022-06-03T20:15:30.743Z"
   },
   {
    "duration": 518,
    "start_time": "2022-06-03T20:15:42.139Z"
   },
   {
    "duration": 1017,
    "start_time": "2022-06-03T20:16:16.254Z"
   },
   {
    "duration": 691,
    "start_time": "2022-06-03T20:16:39.303Z"
   },
   {
    "duration": 534,
    "start_time": "2022-06-03T20:17:06.678Z"
   },
   {
    "duration": 590,
    "start_time": "2022-06-03T20:17:19.177Z"
   },
   {
    "duration": 759,
    "start_time": "2022-06-03T20:17:27.521Z"
   },
   {
    "duration": 26,
    "start_time": "2022-06-03T20:20:16.764Z"
   },
   {
    "duration": 28,
    "start_time": "2022-06-03T20:24:14.221Z"
   },
   {
    "duration": 11,
    "start_time": "2022-06-03T20:29:26.632Z"
   },
   {
    "duration": 6,
    "start_time": "2022-06-03T20:29:30.053Z"
   },
   {
    "duration": 24,
    "start_time": "2022-06-03T20:29:40.730Z"
   },
   {
    "duration": 7,
    "start_time": "2022-06-03T20:51:56.513Z"
   },
   {
    "duration": 138,
    "start_time": "2022-06-03T20:52:02.899Z"
   },
   {
    "duration": 151,
    "start_time": "2022-06-03T20:52:32.104Z"
   },
   {
    "duration": 66,
    "start_time": "2022-06-03T20:54:18.155Z"
   },
   {
    "duration": 79,
    "start_time": "2022-06-03T20:56:19.761Z"
   },
   {
    "duration": 72,
    "start_time": "2022-06-03T20:58:02.137Z"
   },
   {
    "duration": 76,
    "start_time": "2022-06-03T20:59:57.032Z"
   },
   {
    "duration": 154,
    "start_time": "2022-06-03T21:00:34.078Z"
   },
   {
    "duration": 36,
    "start_time": "2022-06-03T21:12:25.963Z"
   },
   {
    "duration": 11,
    "start_time": "2022-06-03T21:12:51.671Z"
   },
   {
    "duration": 120,
    "start_time": "2022-06-03T21:13:00.423Z"
   },
   {
    "duration": 60,
    "start_time": "2022-06-03T21:13:50.118Z"
   },
   {
    "duration": 55,
    "start_time": "2022-06-03T21:14:37.483Z"
   },
   {
    "duration": 9,
    "start_time": "2022-06-03T21:15:04.114Z"
   },
   {
    "duration": 3,
    "start_time": "2022-06-03T21:17:31.225Z"
   },
   {
    "duration": 6,
    "start_time": "2022-06-03T21:22:02.234Z"
   },
   {
    "duration": 5,
    "start_time": "2022-06-03T21:22:14.553Z"
   },
   {
    "duration": 4,
    "start_time": "2022-06-03T21:23:27.071Z"
   },
   {
    "duration": 5,
    "start_time": "2022-06-03T21:23:27.454Z"
   },
   {
    "duration": 32,
    "start_time": "2022-06-03T21:25:42.796Z"
   },
   {
    "duration": 5,
    "start_time": "2022-06-03T21:26:32.672Z"
   },
   {
    "duration": 149,
    "start_time": "2022-06-03T21:26:55.785Z"
   },
   {
    "duration": 20,
    "start_time": "2022-06-03T21:29:56.482Z"
   },
   {
    "duration": 11,
    "start_time": "2022-06-03T21:30:03.837Z"
   },
   {
    "duration": 673,
    "start_time": "2022-06-03T21:30:26.254Z"
   },
   {
    "duration": 9,
    "start_time": "2022-06-03T21:31:09.937Z"
   },
   {
    "duration": 93,
    "start_time": "2022-06-03T21:31:14.305Z"
   },
   {
    "duration": 2803,
    "start_time": "2022-06-03T21:34:06.356Z"
   },
   {
    "duration": 5,
    "start_time": "2022-06-03T21:34:29.640Z"
   },
   {
    "duration": 5,
    "start_time": "2022-06-03T21:45:35.837Z"
   },
   {
    "duration": 195,
    "start_time": "2022-06-03T21:46:16.396Z"
   },
   {
    "duration": 44,
    "start_time": "2022-06-03T21:46:35.520Z"
   },
   {
    "duration": 65,
    "start_time": "2022-06-03T21:48:35.786Z"
   },
   {
    "duration": 62,
    "start_time": "2022-06-03T21:49:31.653Z"
   },
   {
    "duration": 943,
    "start_time": "2022-06-04T18:35:09.931Z"
   },
   {
    "duration": 447,
    "start_time": "2022-06-04T18:35:10.877Z"
   },
   {
    "duration": 23,
    "start_time": "2022-06-04T18:35:11.327Z"
   },
   {
    "duration": 110,
    "start_time": "2022-06-04T18:35:15.016Z"
   },
   {
    "duration": 54,
    "start_time": "2022-06-04T18:35:15.508Z"
   },
   {
    "duration": 6,
    "start_time": "2022-06-04T18:35:21.429Z"
   },
   {
    "duration": 277,
    "start_time": "2022-06-04T18:35:21.652Z"
   },
   {
    "duration": 10,
    "start_time": "2022-06-04T18:35:22.589Z"
   },
   {
    "duration": 6,
    "start_time": "2022-06-04T18:35:22.924Z"
   },
   {
    "duration": 8,
    "start_time": "2022-06-04T18:35:26.493Z"
   },
   {
    "duration": 187,
    "start_time": "2022-06-04T18:35:26.720Z"
   },
   {
    "duration": 7,
    "start_time": "2022-06-04T18:35:34.633Z"
   },
   {
    "duration": 12,
    "start_time": "2022-06-04T18:35:34.929Z"
   },
   {
    "duration": 7,
    "start_time": "2022-06-04T18:35:35.328Z"
   },
   {
    "duration": 5,
    "start_time": "2022-06-04T18:35:38.788Z"
   },
   {
    "duration": 77,
    "start_time": "2022-06-04T18:35:39.052Z"
   },
   {
    "duration": 40,
    "start_time": "2022-06-04T18:35:43.187Z"
   },
   {
    "duration": 6,
    "start_time": "2022-06-04T18:35:43.584Z"
   },
   {
    "duration": 9,
    "start_time": "2022-06-04T18:35:57.185Z"
   },
   {
    "duration": 37,
    "start_time": "2022-06-04T18:35:57.487Z"
   },
   {
    "duration": 16,
    "start_time": "2022-06-04T18:35:58.225Z"
   },
   {
    "duration": 10,
    "start_time": "2022-06-04T18:36:00.717Z"
   },
   {
    "duration": 6,
    "start_time": "2022-06-04T18:36:04.794Z"
   },
   {
    "duration": 9,
    "start_time": "2022-06-04T18:36:14.104Z"
   },
   {
    "duration": 75,
    "start_time": "2022-06-04T18:36:15.005Z"
   },
   {
    "duration": 65,
    "start_time": "2022-06-04T18:36:17.723Z"
   },
   {
    "duration": 6,
    "start_time": "2022-06-04T18:36:18.112Z"
   },
   {
    "duration": 8,
    "start_time": "2022-06-04T18:36:21.450Z"
   },
   {
    "duration": 39,
    "start_time": "2022-06-04T18:36:21.812Z"
   },
   {
    "duration": 5,
    "start_time": "2022-06-04T18:36:24.894Z"
   },
   {
    "duration": 7,
    "start_time": "2022-06-04T18:36:25.200Z"
   },
   {
    "duration": 8,
    "start_time": "2022-06-04T18:36:39.302Z"
   },
   {
    "duration": 103,
    "start_time": "2022-06-04T18:36:40.032Z"
   },
   {
    "duration": 3261,
    "start_time": "2022-06-04T18:36:44.488Z"
   },
   {
    "duration": 12,
    "start_time": "2022-06-04T18:36:47.752Z"
   },
   {
    "duration": 6,
    "start_time": "2022-06-04T18:38:07.329Z"
   },
   {
    "duration": 188,
    "start_time": "2022-06-04T18:38:07.796Z"
   },
   {
    "duration": 370,
    "start_time": "2022-06-04T18:40:12.700Z"
   },
   {
    "duration": 183,
    "start_time": "2022-06-04T18:40:30.425Z"
   },
   {
    "duration": 11,
    "start_time": "2022-06-04T18:40:48.687Z"
   },
   {
    "duration": 8,
    "start_time": "2022-06-04T18:41:02.780Z"
   },
   {
    "duration": 399,
    "start_time": "2022-06-04T18:41:49.532Z"
   },
   {
    "duration": 12,
    "start_time": "2022-06-04T18:42:28.388Z"
   },
   {
    "duration": 221,
    "start_time": "2022-06-04T18:42:33.299Z"
   },
   {
    "duration": 242,
    "start_time": "2022-06-04T18:42:51.322Z"
   },
   {
    "duration": 284,
    "start_time": "2022-06-04T18:42:53.094Z"
   },
   {
    "duration": 366,
    "start_time": "2022-06-04T18:46:32.725Z"
   },
   {
    "duration": 530,
    "start_time": "2022-06-04T18:50:19.122Z"
   },
   {
    "duration": 1759,
    "start_time": "2022-06-04T18:54:37.918Z"
   },
   {
    "duration": 1071,
    "start_time": "2022-06-04T18:54:46.592Z"
   },
   {
    "duration": 473,
    "start_time": "2022-06-04T18:54:54.626Z"
   },
   {
    "duration": 532,
    "start_time": "2022-06-04T18:55:05.368Z"
   },
   {
    "duration": 550,
    "start_time": "2022-06-04T18:55:12.171Z"
   },
   {
    "duration": 2871,
    "start_time": "2022-06-04T18:55:23.232Z"
   },
   {
    "duration": 974,
    "start_time": "2022-06-04T18:55:32.849Z"
   },
   {
    "duration": 4,
    "start_time": "2022-06-04T19:03:54.508Z"
   },
   {
    "duration": 19,
    "start_time": "2022-06-04T19:04:42.686Z"
   },
   {
    "duration": 5,
    "start_time": "2022-06-04T19:05:09.322Z"
   },
   {
    "duration": 54,
    "start_time": "2022-06-04T19:05:31.803Z"
   },
   {
    "duration": 50,
    "start_time": "2022-06-04T19:06:14.421Z"
   },
   {
    "duration": 6,
    "start_time": "2022-06-04T19:06:15.183Z"
   },
   {
    "duration": 53,
    "start_time": "2022-06-04T19:06:16.780Z"
   },
   {
    "duration": 41,
    "start_time": "2022-06-04T19:06:38.513Z"
   },
   {
    "duration": 39,
    "start_time": "2022-06-04T19:07:38.417Z"
   },
   {
    "duration": 6,
    "start_time": "2022-06-04T19:07:41.241Z"
   },
   {
    "duration": 45,
    "start_time": "2022-06-04T19:07:44.420Z"
   },
   {
    "duration": 47,
    "start_time": "2022-06-04T19:07:50.355Z"
   },
   {
    "duration": 27,
    "start_time": "2022-06-04T19:08:09.869Z"
   },
   {
    "duration": 5,
    "start_time": "2022-06-04T19:08:12.682Z"
   },
   {
    "duration": 8,
    "start_time": "2022-06-04T19:08:19.681Z"
   },
   {
    "duration": 10,
    "start_time": "2022-06-04T19:08:25.538Z"
   },
   {
    "duration": 3,
    "start_time": "2022-06-04T19:08:29.986Z"
   },
   {
    "duration": 5,
    "start_time": "2022-06-04T19:08:33.785Z"
   },
   {
    "duration": 48,
    "start_time": "2022-06-04T19:09:45.722Z"
   },
   {
    "duration": 37,
    "start_time": "2022-06-04T19:10:07.930Z"
   },
   {
    "duration": 5,
    "start_time": "2022-06-04T19:10:11.591Z"
   },
   {
    "duration": 17,
    "start_time": "2022-06-04T19:11:22.416Z"
   },
   {
    "duration": 77,
    "start_time": "2022-06-04T19:11:48.210Z"
   },
   {
    "duration": 17,
    "start_time": "2022-06-04T19:15:00.273Z"
   },
   {
    "duration": 10,
    "start_time": "2022-06-04T19:26:10.081Z"
   },
   {
    "duration": 8,
    "start_time": "2022-06-04T19:26:26.398Z"
   },
   {
    "duration": 12,
    "start_time": "2022-06-04T19:26:44.715Z"
   },
   {
    "duration": 26,
    "start_time": "2022-06-04T19:26:48.776Z"
   },
   {
    "duration": 67,
    "start_time": "2022-06-04T19:31:54.282Z"
   },
   {
    "duration": 7,
    "start_time": "2022-06-04T19:32:06.593Z"
   },
   {
    "duration": 69,
    "start_time": "2022-06-04T19:36:26.897Z"
   },
   {
    "duration": 268,
    "start_time": "2022-06-04T19:37:12.618Z"
   },
   {
    "duration": 10,
    "start_time": "2022-06-04T19:39:55.193Z"
   },
   {
    "duration": 90,
    "start_time": "2022-06-04T19:40:58.499Z"
   },
   {
    "duration": 9,
    "start_time": "2022-06-04T19:41:07.691Z"
   },
   {
    "duration": 120,
    "start_time": "2022-06-04T19:41:40.230Z"
   },
   {
    "duration": 9,
    "start_time": "2022-06-04T19:42:07.291Z"
   },
   {
    "duration": 128,
    "start_time": "2022-06-04T19:43:02.829Z"
   },
   {
    "duration": 23,
    "start_time": "2022-06-04T19:47:22.892Z"
   },
   {
    "duration": 69,
    "start_time": "2022-06-04T19:49:03.025Z"
   },
   {
    "duration": 65,
    "start_time": "2022-06-04T19:50:07.933Z"
   },
   {
    "duration": 55,
    "start_time": "2022-06-04T19:50:22.351Z"
   },
   {
    "duration": 101,
    "start_time": "2022-06-04T19:52:44.696Z"
   },
   {
    "duration": 48,
    "start_time": "2022-06-04T19:54:33.396Z"
   },
   {
    "duration": 38,
    "start_time": "2022-06-04T19:56:12.686Z"
   },
   {
    "duration": 110,
    "start_time": "2022-06-04T19:56:41.227Z"
   },
   {
    "duration": 98,
    "start_time": "2022-06-04T19:56:46.299Z"
   },
   {
    "duration": 39,
    "start_time": "2022-06-04T19:57:40.113Z"
   },
   {
    "duration": 40,
    "start_time": "2022-06-04T19:58:42.641Z"
   },
   {
    "duration": 372,
    "start_time": "2022-06-04T20:01:06.754Z"
   },
   {
    "duration": 137,
    "start_time": "2022-06-04T20:01:20.842Z"
   },
   {
    "duration": 5,
    "start_time": "2022-06-04T20:01:31.929Z"
   },
   {
    "duration": 3,
    "start_time": "2022-06-04T20:03:04.608Z"
   },
   {
    "duration": 34,
    "start_time": "2022-06-04T20:03:28.703Z"
   },
   {
    "duration": 266,
    "start_time": "2022-06-04T20:03:56.544Z"
   },
   {
    "duration": 135,
    "start_time": "2022-06-04T20:04:03.526Z"
   },
   {
    "duration": 38,
    "start_time": "2022-06-04T20:04:57.293Z"
   },
   {
    "duration": 29,
    "start_time": "2022-06-04T20:06:36.350Z"
   },
   {
    "duration": 39,
    "start_time": "2022-06-04T20:07:47.739Z"
   },
   {
    "duration": 115,
    "start_time": "2022-06-04T20:08:45.542Z"
   },
   {
    "duration": 136,
    "start_time": "2022-06-04T20:09:06.776Z"
   },
   {
    "duration": 130,
    "start_time": "2022-06-04T20:09:12.413Z"
   },
   {
    "duration": 108,
    "start_time": "2022-06-04T20:09:20.000Z"
   },
   {
    "duration": 27,
    "start_time": "2022-06-04T20:09:33.760Z"
   },
   {
    "duration": 28,
    "start_time": "2022-06-04T20:12:12.614Z"
   },
   {
    "duration": 26,
    "start_time": "2022-06-04T20:12:15.150Z"
   },
   {
    "duration": 24,
    "start_time": "2022-06-04T20:12:46.691Z"
   },
   {
    "duration": 26,
    "start_time": "2022-06-04T20:13:16.542Z"
   },
   {
    "duration": 24,
    "start_time": "2022-06-04T20:14:40.308Z"
   },
   {
    "duration": 37,
    "start_time": "2022-06-04T20:14:55.618Z"
   },
   {
    "duration": 71,
    "start_time": "2022-06-04T20:15:02.735Z"
   },
   {
    "duration": 36,
    "start_time": "2022-06-04T20:15:06.783Z"
   },
   {
    "duration": 34,
    "start_time": "2022-06-04T20:15:23.897Z"
   },
   {
    "duration": 22,
    "start_time": "2022-06-04T20:16:27.825Z"
   },
   {
    "duration": 5,
    "start_time": "2022-06-04T20:20:29.296Z"
   },
   {
    "duration": 52,
    "start_time": "2022-06-04T20:20:37.961Z"
   },
   {
    "duration": 8,
    "start_time": "2022-06-04T20:24:21.012Z"
   },
   {
    "duration": 20,
    "start_time": "2022-06-04T20:24:49.246Z"
   },
   {
    "duration": 7,
    "start_time": "2022-06-04T20:25:37.097Z"
   },
   {
    "duration": 20,
    "start_time": "2022-06-04T20:25:37.489Z"
   },
   {
    "duration": 23,
    "start_time": "2022-06-04T20:25:55.255Z"
   },
   {
    "duration": 10,
    "start_time": "2022-06-04T20:28:11.187Z"
   },
   {
    "duration": 22,
    "start_time": "2022-06-04T20:28:11.586Z"
   },
   {
    "duration": 7,
    "start_time": "2022-06-04T20:29:27.286Z"
   },
   {
    "duration": 9,
    "start_time": "2022-06-04T20:30:50.643Z"
   },
   {
    "duration": 7,
    "start_time": "2022-06-04T20:30:51.885Z"
   },
   {
    "duration": 9,
    "start_time": "2022-06-04T20:31:10.780Z"
   },
   {
    "duration": 20,
    "start_time": "2022-06-04T20:33:33.309Z"
   },
   {
    "duration": 3,
    "start_time": "2022-06-04T20:42:07.432Z"
   },
   {
    "duration": 9,
    "start_time": "2022-06-04T20:44:22.585Z"
   },
   {
    "duration": 8,
    "start_time": "2022-06-04T20:47:10.915Z"
   },
   {
    "duration": 5,
    "start_time": "2022-06-04T20:47:23.660Z"
   },
   {
    "duration": 104,
    "start_time": "2022-06-04T20:55:17.886Z"
   },
   {
    "duration": 91,
    "start_time": "2022-06-04T20:55:23.350Z"
   },
   {
    "duration": 89,
    "start_time": "2022-06-04T20:56:46.042Z"
   },
   {
    "duration": 7,
    "start_time": "2022-06-04T21:02:39.910Z"
   },
   {
    "duration": 9,
    "start_time": "2022-06-04T21:04:33.577Z"
   },
   {
    "duration": 22,
    "start_time": "2022-06-04T21:04:47.477Z"
   },
   {
    "duration": 111,
    "start_time": "2022-06-04T21:06:09.199Z"
   },
   {
    "duration": 112,
    "start_time": "2022-06-04T21:08:10.502Z"
   },
   {
    "duration": 3,
    "start_time": "2022-06-04T21:17:41.709Z"
   },
   {
    "duration": 134,
    "start_time": "2022-06-04T21:17:42.066Z"
   },
   {
    "duration": 23,
    "start_time": "2022-06-04T21:17:42.900Z"
   },
   {
    "duration": 40,
    "start_time": "2022-06-04T21:17:43.706Z"
   },
   {
    "duration": 5,
    "start_time": "2022-06-04T21:17:50.886Z"
   },
   {
    "duration": 169,
    "start_time": "2022-06-04T21:17:51.393Z"
   },
   {
    "duration": 6,
    "start_time": "2022-06-04T21:17:54.493Z"
   },
   {
    "duration": 5,
    "start_time": "2022-06-04T21:17:54.996Z"
   },
   {
    "duration": 6,
    "start_time": "2022-06-04T21:18:30.293Z"
   },
   {
    "duration": 508,
    "start_time": "2022-06-04T21:18:30.690Z"
   },
   {
    "duration": 6,
    "start_time": "2022-06-04T21:18:33.195Z"
   },
   {
    "duration": 7,
    "start_time": "2022-06-04T21:18:33.564Z"
   },
   {
    "duration": 6,
    "start_time": "2022-06-04T21:18:33.959Z"
   },
   {
    "duration": 5,
    "start_time": "2022-06-04T21:18:40.655Z"
   },
   {
    "duration": 60,
    "start_time": "2022-06-04T21:18:41.447Z"
   },
   {
    "duration": 43,
    "start_time": "2022-06-04T21:18:44.122Z"
   },
   {
    "duration": 6,
    "start_time": "2022-06-04T21:18:44.456Z"
   },
   {
    "duration": 6,
    "start_time": "2022-06-04T21:18:47.143Z"
   },
   {
    "duration": 29,
    "start_time": "2022-06-04T21:19:52.228Z"
   },
   {
    "duration": 26,
    "start_time": "2022-06-04T21:20:14.092Z"
   },
   {
    "duration": 2,
    "start_time": "2022-06-04T21:20:52.808Z"
   },
   {
    "duration": 91,
    "start_time": "2022-06-04T21:20:53.111Z"
   },
   {
    "duration": 15,
    "start_time": "2022-06-04T21:20:53.594Z"
   },
   {
    "duration": 34,
    "start_time": "2022-06-04T21:20:55.996Z"
   },
   {
    "duration": 4,
    "start_time": "2022-06-04T21:20:58.863Z"
   },
   {
    "duration": 191,
    "start_time": "2022-06-04T21:20:59.292Z"
   },
   {
    "duration": 5,
    "start_time": "2022-06-04T21:21:00.754Z"
   },
   {
    "duration": 5,
    "start_time": "2022-06-04T21:21:01.090Z"
   },
   {
    "duration": 5,
    "start_time": "2022-06-04T21:21:02.615Z"
   },
   {
    "duration": 173,
    "start_time": "2022-06-04T21:21:02.992Z"
   },
   {
    "duration": 5,
    "start_time": "2022-06-04T21:21:04.628Z"
   },
   {
    "duration": 6,
    "start_time": "2022-06-04T21:21:05.051Z"
   },
   {
    "duration": 5,
    "start_time": "2022-06-04T21:21:05.395Z"
   },
   {
    "duration": 6,
    "start_time": "2022-06-04T21:21:07.849Z"
   },
   {
    "duration": 49,
    "start_time": "2022-06-04T21:21:09.692Z"
   },
   {
    "duration": 35,
    "start_time": "2022-06-04T21:21:11.893Z"
   },
   {
    "duration": 5,
    "start_time": "2022-06-04T21:21:12.244Z"
   },
   {
    "duration": 5,
    "start_time": "2022-06-04T21:21:16.414Z"
   },
   {
    "duration": 23,
    "start_time": "2022-06-04T21:21:16.806Z"
   },
   {
    "duration": 12,
    "start_time": "2022-06-04T21:21:18.794Z"
   },
   {
    "duration": 8,
    "start_time": "2022-06-04T21:21:19.093Z"
   },
   {
    "duration": 5,
    "start_time": "2022-06-04T21:21:20.694Z"
   },
   {
    "duration": 49,
    "start_time": "2022-06-04T21:21:21.195Z"
   },
   {
    "duration": 43,
    "start_time": "2022-06-04T21:21:22.926Z"
   },
   {
    "duration": 4,
    "start_time": "2022-06-04T21:21:23.494Z"
   },
   {
    "duration": 8,
    "start_time": "2022-06-04T21:21:38.993Z"
   },
   {
    "duration": 26,
    "start_time": "2022-06-04T21:21:39.315Z"
   },
   {
    "duration": 3,
    "start_time": "2022-06-04T21:21:40.854Z"
   },
   {
    "duration": 4,
    "start_time": "2022-06-04T21:21:41.107Z"
   },
   {
    "duration": 6,
    "start_time": "2022-06-04T21:21:42.892Z"
   },
   {
    "duration": 68,
    "start_time": "2022-06-04T21:21:44.617Z"
   },
   {
    "duration": 2013,
    "start_time": "2022-06-04T21:21:46.613Z"
   },
   {
    "duration": 5,
    "start_time": "2022-06-04T21:21:49.833Z"
   },
   {
    "duration": 5,
    "start_time": "2022-06-04T21:21:54.692Z"
   },
   {
    "duration": 166,
    "start_time": "2022-06-04T21:21:55.093Z"
   },
   {
    "duration": 9,
    "start_time": "2022-06-04T21:21:56.605Z"
   },
   {
    "duration": 663,
    "start_time": "2022-06-04T21:21:57.241Z"
   },
   {
    "duration": 16,
    "start_time": "2022-06-04T21:22:00.380Z"
   },
   {
    "duration": 13,
    "start_time": "2022-06-04T21:22:03.527Z"
   },
   {
    "duration": 9,
    "start_time": "2022-06-04T21:22:05.113Z"
   },
   {
    "duration": 12,
    "start_time": "2022-06-04T21:24:14.708Z"
   },
   {
    "duration": 189,
    "start_time": "2022-06-04T21:37:04.312Z"
   },
   {
    "duration": 12,
    "start_time": "2022-06-04T21:38:14.109Z"
   },
   {
    "duration": 17,
    "start_time": "2022-06-04T21:38:38.423Z"
   },
   {
    "duration": 330,
    "start_time": "2022-06-04T21:38:46.394Z"
   },
   {
    "duration": 63,
    "start_time": "2022-06-04T21:38:52.832Z"
   },
   {
    "duration": 3,
    "start_time": "2022-06-04T21:39:42.208Z"
   },
   {
    "duration": 95,
    "start_time": "2022-06-04T21:39:42.558Z"
   },
   {
    "duration": 15,
    "start_time": "2022-06-04T21:39:43.058Z"
   },
   {
    "duration": 35,
    "start_time": "2022-06-04T21:39:46.023Z"
   },
   {
    "duration": 5,
    "start_time": "2022-06-04T21:39:50.403Z"
   },
   {
    "duration": 194,
    "start_time": "2022-06-04T21:39:50.708Z"
   },
   {
    "duration": 6,
    "start_time": "2022-06-04T21:39:51.834Z"
   },
   {
    "duration": 6,
    "start_time": "2022-06-04T21:39:52.194Z"
   },
   {
    "duration": 6,
    "start_time": "2022-06-04T21:39:55.338Z"
   },
   {
    "duration": 164,
    "start_time": "2022-06-04T21:39:55.627Z"
   },
   {
    "duration": 6,
    "start_time": "2022-06-04T21:39:56.497Z"
   },
   {
    "duration": 7,
    "start_time": "2022-06-04T21:39:56.901Z"
   },
   {
    "duration": 6,
    "start_time": "2022-06-04T21:39:58.694Z"
   },
   {
    "duration": 7,
    "start_time": "2022-06-04T21:40:01.253Z"
   },
   {
    "duration": 63,
    "start_time": "2022-06-04T21:40:01.527Z"
   },
   {
    "duration": 34,
    "start_time": "2022-06-04T21:40:04.094Z"
   },
   {
    "duration": 5,
    "start_time": "2022-06-04T21:40:04.320Z"
   },
   {
    "duration": 5,
    "start_time": "2022-06-04T21:40:07.168Z"
   },
   {
    "duration": 23,
    "start_time": "2022-06-04T21:40:07.457Z"
   },
   {
    "duration": 11,
    "start_time": "2022-06-04T21:40:07.938Z"
   },
   {
    "duration": 6,
    "start_time": "2022-06-04T21:40:08.358Z"
   },
   {
    "duration": 4,
    "start_time": "2022-06-04T21:40:11.189Z"
   },
   {
    "duration": 47,
    "start_time": "2022-06-04T21:40:15.721Z"
   },
   {
    "duration": 37,
    "start_time": "2022-06-04T21:40:18.794Z"
   },
   {
    "duration": 4,
    "start_time": "2022-06-04T21:40:19.137Z"
   },
   {
    "duration": 5,
    "start_time": "2022-06-04T21:40:22.363Z"
   },
   {
    "duration": 22,
    "start_time": "2022-06-04T21:40:22.712Z"
   },
   {
    "duration": 4,
    "start_time": "2022-06-04T21:40:25.831Z"
   },
   {
    "duration": 5,
    "start_time": "2022-06-04T21:40:26.068Z"
   },
   {
    "duration": 4,
    "start_time": "2022-06-04T21:40:28.547Z"
   },
   {
    "duration": 64,
    "start_time": "2022-06-04T21:40:29.069Z"
   },
   {
    "duration": 2038,
    "start_time": "2022-06-04T21:40:34.610Z"
   },
   {
    "duration": 5,
    "start_time": "2022-06-04T21:40:36.908Z"
   },
   {
    "duration": 5,
    "start_time": "2022-06-04T21:40:42.795Z"
   },
   {
    "duration": 151,
    "start_time": "2022-06-04T21:40:43.038Z"
   },
   {
    "duration": 9,
    "start_time": "2022-06-04T21:40:45.895Z"
   },
   {
    "duration": 606,
    "start_time": "2022-06-04T21:40:46.198Z"
   },
   {
    "duration": 13,
    "start_time": "2022-06-04T21:40:49.957Z"
   },
   {
    "duration": 13,
    "start_time": "2022-06-04T21:40:55.542Z"
   },
   {
    "duration": 357,
    "start_time": "2022-06-04T21:41:00.248Z"
   },
   {
    "duration": 42,
    "start_time": "2022-06-04T21:41:05.124Z"
   },
   {
    "duration": 841,
    "start_time": "2022-06-05T10:26:26.794Z"
   },
   {
    "duration": 773,
    "start_time": "2022-06-05T10:26:27.637Z"
   },
   {
    "duration": 16,
    "start_time": "2022-06-05T10:26:28.411Z"
   },
   {
    "duration": 48,
    "start_time": "2022-06-05T10:26:28.955Z"
   },
   {
    "duration": 4,
    "start_time": "2022-06-05T10:26:33.159Z"
   },
   {
    "duration": 182,
    "start_time": "2022-06-05T10:26:33.394Z"
   },
   {
    "duration": 6,
    "start_time": "2022-06-05T10:26:36.704Z"
   },
   {
    "duration": 6,
    "start_time": "2022-06-05T10:26:37.008Z"
   },
   {
    "duration": 5,
    "start_time": "2022-06-05T10:26:40.478Z"
   },
   {
    "duration": 147,
    "start_time": "2022-06-05T10:26:40.748Z"
   },
   {
    "duration": 5,
    "start_time": "2022-06-05T10:26:43.355Z"
   },
   {
    "duration": 9,
    "start_time": "2022-06-05T10:26:43.755Z"
   },
   {
    "duration": 5,
    "start_time": "2022-06-05T10:26:44.159Z"
   },
   {
    "duration": 4,
    "start_time": "2022-06-05T10:26:52.156Z"
   },
   {
    "duration": 66,
    "start_time": "2022-06-05T10:26:52.544Z"
   },
   {
    "duration": 33,
    "start_time": "2022-06-05T10:26:58.400Z"
   },
   {
    "duration": 5,
    "start_time": "2022-06-05T10:26:58.743Z"
   },
   {
    "duration": 6,
    "start_time": "2022-06-05T10:27:03.305Z"
   },
   {
    "duration": 30,
    "start_time": "2022-06-05T10:27:03.680Z"
   },
   {
    "duration": 14,
    "start_time": "2022-06-05T10:27:04.486Z"
   },
   {
    "duration": 7,
    "start_time": "2022-06-05T10:27:06.977Z"
   },
   {
    "duration": 5,
    "start_time": "2022-06-05T10:27:10.789Z"
   },
   {
    "duration": 62,
    "start_time": "2022-06-05T10:27:11.115Z"
   },
   {
    "duration": 35,
    "start_time": "2022-06-05T10:27:14.081Z"
   },
   {
    "duration": 5,
    "start_time": "2022-06-05T10:27:14.394Z"
   },
   {
    "duration": 5,
    "start_time": "2022-06-05T10:27:27.547Z"
   },
   {
    "duration": 26,
    "start_time": "2022-06-05T10:27:27.984Z"
   },
   {
    "duration": 4,
    "start_time": "2022-06-05T10:27:40.183Z"
   },
   {
    "duration": 6,
    "start_time": "2022-06-05T10:27:41.306Z"
   },
   {
    "duration": 5,
    "start_time": "2022-06-05T10:28:33.621Z"
   },
   {
    "duration": 96,
    "start_time": "2022-06-05T10:28:34.042Z"
   },
   {
    "duration": 2005,
    "start_time": "2022-06-05T10:28:37.046Z"
   },
   {
    "duration": 6,
    "start_time": "2022-06-05T10:28:39.579Z"
   },
   {
    "duration": 5,
    "start_time": "2022-06-05T10:28:50.985Z"
   },
   {
    "duration": 146,
    "start_time": "2022-06-05T10:28:51.378Z"
   },
   {
    "duration": 12,
    "start_time": "2022-06-05T10:28:52.743Z"
   },
   {
    "duration": 759,
    "start_time": "2022-06-05T10:28:53.139Z"
   },
   {
    "duration": 15,
    "start_time": "2022-06-05T10:28:57.353Z"
   },
   {
    "duration": 13,
    "start_time": "2022-06-05T10:29:08.577Z"
   },
   {
    "duration": 12,
    "start_time": "2022-06-05T10:29:10.133Z"
   },
   {
    "duration": 14,
    "start_time": "2022-06-05T10:29:19.348Z"
   },
   {
    "duration": 327,
    "start_time": "2022-06-05T10:29:29.479Z"
   },
   {
    "duration": 102,
    "start_time": "2022-06-05T10:29:42.816Z"
   },
   {
    "duration": 24,
    "start_time": "2022-06-05T10:35:07.500Z"
   },
   {
    "duration": 128,
    "start_time": "2022-06-05T10:36:19.805Z"
   },
   {
    "duration": 19,
    "start_time": "2022-06-05T10:39:46.823Z"
   },
   {
    "duration": 246,
    "start_time": "2022-06-05T10:43:19.582Z"
   },
   {
    "duration": 752,
    "start_time": "2022-06-05T10:43:24.646Z"
   },
   {
    "duration": 220,
    "start_time": "2022-06-05T10:43:31.691Z"
   },
   {
    "duration": 238,
    "start_time": "2022-06-05T10:43:59.030Z"
   },
   {
    "duration": 0,
    "start_time": "2022-06-05T10:51:02.155Z"
   },
   {
    "duration": 745,
    "start_time": "2022-06-05T10:53:25.834Z"
   },
   {
    "duration": 271,
    "start_time": "2022-06-05T10:53:56.886Z"
   },
   {
    "duration": 573,
    "start_time": "2022-06-05T10:55:07.756Z"
   },
   {
    "duration": 1201,
    "start_time": "2022-06-05T10:55:44.680Z"
   },
   {
    "duration": 922,
    "start_time": "2022-06-05T10:56:08.604Z"
   },
   {
    "duration": 1017,
    "start_time": "2022-06-05T10:56:30.803Z"
   },
   {
    "duration": 991,
    "start_time": "2022-06-05T10:56:47.723Z"
   },
   {
    "duration": 950,
    "start_time": "2022-06-05T11:03:49.842Z"
   },
   {
    "duration": 1011,
    "start_time": "2022-06-05T11:06:03.627Z"
   },
   {
    "duration": 978,
    "start_time": "2022-06-05T11:25:02.932Z"
   },
   {
    "duration": 1126,
    "start_time": "2022-06-05T11:25:14.899Z"
   },
   {
    "duration": 1159,
    "start_time": "2022-06-05T11:25:26.834Z"
   },
   {
    "duration": 11,
    "start_time": "2022-06-05T11:38:29.184Z"
   },
   {
    "duration": 136,
    "start_time": "2022-06-05T11:38:38.394Z"
   },
   {
    "duration": 212,
    "start_time": "2022-06-05T11:38:47.438Z"
   },
   {
    "duration": 98,
    "start_time": "2022-06-05T12:26:50.478Z"
   },
   {
    "duration": 103,
    "start_time": "2022-06-05T12:27:40.765Z"
   },
   {
    "duration": 106,
    "start_time": "2022-06-05T12:27:45.058Z"
   },
   {
    "duration": 121,
    "start_time": "2022-06-05T12:27:47.995Z"
   },
   {
    "duration": 91,
    "start_time": "2022-06-05T12:27:52.396Z"
   },
   {
    "duration": 9,
    "start_time": "2022-06-05T12:28:24.651Z"
   },
   {
    "duration": 97,
    "start_time": "2022-06-05T12:28:29.718Z"
   },
   {
    "duration": 196,
    "start_time": "2022-06-05T12:28:42.282Z"
   },
   {
    "duration": 129,
    "start_time": "2022-06-05T12:28:50.182Z"
   },
   {
    "duration": 1953,
    "start_time": "2022-06-05T12:29:18.907Z"
   },
   {
    "duration": 468,
    "start_time": "2022-06-05T12:30:30.332Z"
   },
   {
    "duration": 557,
    "start_time": "2022-06-05T12:30:38.757Z"
   },
   {
    "duration": 548,
    "start_time": "2022-06-05T12:31:01.594Z"
   },
   {
    "duration": 557,
    "start_time": "2022-06-05T12:32:12.360Z"
   },
   {
    "duration": 10,
    "start_time": "2022-06-05T12:32:20.392Z"
   },
   {
    "duration": 23,
    "start_time": "2022-06-05T12:32:39.311Z"
   },
   {
    "duration": 23,
    "start_time": "2022-06-05T12:34:04.767Z"
   },
   {
    "duration": 17,
    "start_time": "2022-06-05T12:38:26.550Z"
   },
   {
    "duration": 18,
    "start_time": "2022-06-05T12:42:36.744Z"
   },
   {
    "duration": 19,
    "start_time": "2022-06-05T12:42:50.090Z"
   },
   {
    "duration": 294,
    "start_time": "2022-06-05T12:45:05.594Z"
   },
   {
    "duration": 14,
    "start_time": "2022-06-05T12:50:24.201Z"
   },
   {
    "duration": 23,
    "start_time": "2022-06-05T12:50:29.583Z"
   },
   {
    "duration": 6,
    "start_time": "2022-06-05T12:50:49.641Z"
   },
   {
    "duration": 316,
    "start_time": "2022-06-05T12:50:49.882Z"
   },
   {
    "duration": 15,
    "start_time": "2022-06-05T12:50:50.200Z"
   },
   {
    "duration": 36,
    "start_time": "2022-06-05T12:50:51.175Z"
   },
   {
    "duration": 5,
    "start_time": "2022-06-05T12:50:52.818Z"
   },
   {
    "duration": 185,
    "start_time": "2022-06-05T12:50:52.989Z"
   },
   {
    "duration": 6,
    "start_time": "2022-06-05T12:50:53.176Z"
   },
   {
    "duration": 6,
    "start_time": "2022-06-05T12:50:53.339Z"
   },
   {
    "duration": 5,
    "start_time": "2022-06-05T12:50:53.901Z"
   },
   {
    "duration": 180,
    "start_time": "2022-06-05T12:50:54.117Z"
   },
   {
    "duration": 5,
    "start_time": "2022-06-05T12:50:54.299Z"
   },
   {
    "duration": 7,
    "start_time": "2022-06-05T12:50:54.455Z"
   },
   {
    "duration": 7,
    "start_time": "2022-06-05T12:50:54.648Z"
   },
   {
    "duration": 5,
    "start_time": "2022-06-05T12:50:55.206Z"
   },
   {
    "duration": 67,
    "start_time": "2022-06-05T12:50:55.413Z"
   },
   {
    "duration": 46,
    "start_time": "2022-06-05T12:50:55.598Z"
   },
   {
    "duration": 5,
    "start_time": "2022-06-05T12:50:55.789Z"
   },
   {
    "duration": 6,
    "start_time": "2022-06-05T12:50:57.380Z"
   },
   {
    "duration": 25,
    "start_time": "2022-06-05T12:50:57.597Z"
   },
   {
    "duration": 11,
    "start_time": "2022-06-05T12:50:57.804Z"
   },
   {
    "duration": 17,
    "start_time": "2022-06-05T12:50:58.025Z"
   },
   {
    "duration": 5,
    "start_time": "2022-06-05T12:50:58.674Z"
   },
   {
    "duration": 68,
    "start_time": "2022-06-05T12:50:58.881Z"
   },
   {
    "duration": 45,
    "start_time": "2022-06-05T12:50:59.097Z"
   },
   {
    "duration": 5,
    "start_time": "2022-06-05T12:50:59.693Z"
   },
   {
    "duration": 5,
    "start_time": "2022-06-05T12:51:00.379Z"
   },
   {
    "duration": 5,
    "start_time": "2022-06-05T12:51:00.604Z"
   },
   {
    "duration": 7,
    "start_time": "2022-06-05T12:51:00.952Z"
   },
   {
    "duration": 6,
    "start_time": "2022-06-05T12:51:01.679Z"
   },
   {
    "duration": 97,
    "start_time": "2022-06-05T12:51:01.881Z"
   },
   {
    "duration": 2348,
    "start_time": "2022-06-05T12:51:02.619Z"
   },
   {
    "duration": 5,
    "start_time": "2022-06-05T12:51:04.969Z"
   },
   {
    "duration": 6,
    "start_time": "2022-06-05T12:51:07.847Z"
   },
   {
    "duration": 209,
    "start_time": "2022-06-05T12:51:08.075Z"
   },
   {
    "duration": 8,
    "start_time": "2022-06-05T12:51:09.088Z"
   },
   {
    "duration": 696,
    "start_time": "2022-06-05T12:51:10.102Z"
   },
   {
    "duration": 20,
    "start_time": "2022-06-05T12:51:15.207Z"
   },
   {
    "duration": 10,
    "start_time": "2022-06-05T12:51:15.577Z"
   },
   {
    "duration": 360,
    "start_time": "2022-06-05T12:51:26.575Z"
   },
   {
    "duration": 116,
    "start_time": "2022-06-05T12:51:26.937Z"
   },
   {
    "duration": 44,
    "start_time": "2022-06-05T12:51:35.912Z"
   },
   {
    "duration": 1147,
    "start_time": "2022-06-05T12:51:36.315Z"
   },
   {
    "duration": 13,
    "start_time": "2022-06-05T12:51:45.549Z"
   },
   {
    "duration": 318,
    "start_time": "2022-06-05T12:51:45.924Z"
   },
   {
    "duration": 27,
    "start_time": "2022-06-05T12:51:56.925Z"
   },
   {
    "duration": 28,
    "start_time": "2022-06-05T12:52:06.246Z"
   },
   {
    "duration": 56,
    "start_time": "2022-06-05T12:53:28.240Z"
   },
   {
    "duration": 3,
    "start_time": "2022-06-05T12:53:55.956Z"
   },
   {
    "duration": 100,
    "start_time": "2022-06-05T12:53:56.174Z"
   },
   {
    "duration": 26,
    "start_time": "2022-06-05T12:53:56.326Z"
   },
   {
    "duration": 32,
    "start_time": "2022-06-05T12:53:56.483Z"
   },
   {
    "duration": 5,
    "start_time": "2022-06-05T12:53:57.495Z"
   },
   {
    "duration": 179,
    "start_time": "2022-06-05T12:53:57.674Z"
   },
   {
    "duration": 4,
    "start_time": "2022-06-05T12:53:57.855Z"
   },
   {
    "duration": 8,
    "start_time": "2022-06-05T12:53:58.024Z"
   },
   {
    "duration": 5,
    "start_time": "2022-06-05T12:53:58.496Z"
   },
   {
    "duration": 185,
    "start_time": "2022-06-05T12:53:58.682Z"
   },
   {
    "duration": 5,
    "start_time": "2022-06-05T12:53:58.873Z"
   },
   {
    "duration": 10,
    "start_time": "2022-06-05T12:53:59.041Z"
   },
   {
    "duration": 7,
    "start_time": "2022-06-05T12:53:59.197Z"
   },
   {
    "duration": 5,
    "start_time": "2022-06-05T12:53:59.775Z"
   },
   {
    "duration": 64,
    "start_time": "2022-06-05T12:53:59.943Z"
   },
   {
    "duration": 47,
    "start_time": "2022-06-05T12:54:00.123Z"
   },
   {
    "duration": 5,
    "start_time": "2022-06-05T12:54:00.310Z"
   },
   {
    "duration": 5,
    "start_time": "2022-06-05T12:54:00.956Z"
   },
   {
    "duration": 28,
    "start_time": "2022-06-05T12:54:01.155Z"
   },
   {
    "duration": 12,
    "start_time": "2022-06-05T12:54:01.345Z"
   },
   {
    "duration": 7,
    "start_time": "2022-06-05T12:54:01.552Z"
   },
   {
    "duration": 6,
    "start_time": "2022-06-05T12:54:02.113Z"
   },
   {
    "duration": 60,
    "start_time": "2022-06-05T12:54:02.308Z"
   },
   {
    "duration": 36,
    "start_time": "2022-06-05T12:54:02.477Z"
   },
   {
    "duration": 6,
    "start_time": "2022-06-05T12:54:02.674Z"
   },
   {
    "duration": 5,
    "start_time": "2022-06-05T12:54:03.188Z"
   },
   {
    "duration": 3,
    "start_time": "2022-06-05T12:54:03.375Z"
   },
   {
    "duration": 7,
    "start_time": "2022-06-05T12:54:03.543Z"
   },
   {
    "duration": 5,
    "start_time": "2022-06-05T12:54:04.074Z"
   },
   {
    "duration": 70,
    "start_time": "2022-06-05T12:54:04.242Z"
   },
   {
    "duration": 2192,
    "start_time": "2022-06-05T12:54:04.409Z"
   },
   {
    "duration": 5,
    "start_time": "2022-06-05T12:54:06.603Z"
   },
   {
    "duration": 5,
    "start_time": "2022-06-05T12:54:07.374Z"
   },
   {
    "duration": 205,
    "start_time": "2022-06-05T12:54:08.010Z"
   },
   {
    "duration": 10,
    "start_time": "2022-06-05T12:54:09.103Z"
   },
   {
    "duration": 783,
    "start_time": "2022-06-05T12:54:10.553Z"
   },
   {
    "duration": 15,
    "start_time": "2022-06-05T12:54:11.695Z"
   },
   {
    "duration": 16,
    "start_time": "2022-06-05T12:54:18.339Z"
   },
   {
    "duration": 11,
    "start_time": "2022-06-05T12:54:19.948Z"
   },
   {
    "duration": 362,
    "start_time": "2022-06-05T12:54:26.449Z"
   },
   {
    "duration": 110,
    "start_time": "2022-06-05T12:54:26.812Z"
   },
   {
    "duration": 39,
    "start_time": "2022-06-05T12:54:34.621Z"
   },
   {
    "duration": 1103,
    "start_time": "2022-06-05T12:54:35.104Z"
   },
   {
    "duration": 9,
    "start_time": "2022-06-05T12:54:39.579Z"
   },
   {
    "duration": 223,
    "start_time": "2022-06-05T12:54:39.994Z"
   },
   {
    "duration": 25,
    "start_time": "2022-06-05T12:54:51.810Z"
   },
   {
    "duration": 15,
    "start_time": "2022-06-05T12:54:57.824Z"
   },
   {
    "duration": 3,
    "start_time": "2022-06-05T12:58:20.668Z"
   },
   {
    "duration": 111,
    "start_time": "2022-06-05T12:58:20.882Z"
   },
   {
    "duration": 15,
    "start_time": "2022-06-05T12:58:21.068Z"
   },
   {
    "duration": 31,
    "start_time": "2022-06-05T12:58:21.251Z"
   },
   {
    "duration": 6,
    "start_time": "2022-06-05T12:58:22.322Z"
   },
   {
    "duration": 227,
    "start_time": "2022-06-05T12:58:22.522Z"
   },
   {
    "duration": 6,
    "start_time": "2022-06-05T12:58:22.752Z"
   },
   {
    "duration": 6,
    "start_time": "2022-06-05T12:58:22.873Z"
   },
   {
    "duration": 5,
    "start_time": "2022-06-05T12:58:23.402Z"
   },
   {
    "duration": 185,
    "start_time": "2022-06-05T12:58:23.598Z"
   },
   {
    "duration": 5,
    "start_time": "2022-06-05T12:58:23.785Z"
   },
   {
    "duration": 6,
    "start_time": "2022-06-05T12:58:23.905Z"
   },
   {
    "duration": 5,
    "start_time": "2022-06-05T12:58:24.001Z"
   },
   {
    "duration": 5,
    "start_time": "2022-06-05T12:58:24.569Z"
   },
   {
    "duration": 58,
    "start_time": "2022-06-05T12:58:24.804Z"
   },
   {
    "duration": 34,
    "start_time": "2022-06-05T12:58:24.987Z"
   },
   {
    "duration": 5,
    "start_time": "2022-06-05T12:58:25.185Z"
   },
   {
    "duration": 5,
    "start_time": "2022-06-05T12:58:25.771Z"
   },
   {
    "duration": 24,
    "start_time": "2022-06-05T12:58:25.954Z"
   },
   {
    "duration": 11,
    "start_time": "2022-06-05T12:58:26.153Z"
   },
   {
    "duration": 6,
    "start_time": "2022-06-05T12:58:26.352Z"
   },
   {
    "duration": 5,
    "start_time": "2022-06-05T12:58:26.916Z"
   },
   {
    "duration": 62,
    "start_time": "2022-06-05T12:58:27.114Z"
   },
   {
    "duration": 48,
    "start_time": "2022-06-05T12:58:27.314Z"
   },
   {
    "duration": 4,
    "start_time": "2022-06-05T12:58:27.504Z"
   },
   {
    "duration": 5,
    "start_time": "2022-06-05T12:58:28.093Z"
   },
   {
    "duration": 3,
    "start_time": "2022-06-05T12:58:28.287Z"
   },
   {
    "duration": 4,
    "start_time": "2022-06-05T12:58:28.479Z"
   },
   {
    "duration": 5,
    "start_time": "2022-06-05T12:58:29.073Z"
   },
   {
    "duration": 87,
    "start_time": "2022-06-05T12:58:29.268Z"
   },
   {
    "duration": 2205,
    "start_time": "2022-06-05T12:58:29.426Z"
   },
   {
    "duration": 8,
    "start_time": "2022-06-05T12:58:31.634Z"
   },
   {
    "duration": 5,
    "start_time": "2022-06-05T12:58:33.352Z"
   },
   {
    "duration": 158,
    "start_time": "2022-06-05T12:58:33.775Z"
   },
   {
    "duration": 8,
    "start_time": "2022-06-05T12:58:34.054Z"
   },
   {
    "duration": 639,
    "start_time": "2022-06-05T12:58:34.370Z"
   },
   {
    "duration": 15,
    "start_time": "2022-06-05T12:58:35.052Z"
   },
   {
    "duration": 14,
    "start_time": "2022-06-05T12:58:40.515Z"
   },
   {
    "duration": 10,
    "start_time": "2022-06-05T12:58:43.188Z"
   },
   {
    "duration": 371,
    "start_time": "2022-06-05T12:58:49.419Z"
   },
   {
    "duration": 100,
    "start_time": "2022-06-05T12:58:49.792Z"
   },
   {
    "duration": 27,
    "start_time": "2022-06-05T12:58:51.510Z"
   },
   {
    "duration": 1257,
    "start_time": "2022-06-05T12:58:51.752Z"
   },
   {
    "duration": 18,
    "start_time": "2022-06-05T12:58:53.011Z"
   },
   {
    "duration": 242,
    "start_time": "2022-06-05T12:58:53.031Z"
   },
   {
    "duration": 17,
    "start_time": "2022-06-05T12:58:54.297Z"
   },
   {
    "duration": 112,
    "start_time": "2022-06-05T12:59:07.993Z"
   },
   {
    "duration": 19,
    "start_time": "2022-06-05T12:59:09.945Z"
   },
   {
    "duration": 351,
    "start_time": "2022-06-05T12:59:10.722Z"
   },
   {
    "duration": 25,
    "start_time": "2022-06-05T12:59:13.786Z"
   },
   {
    "duration": 124,
    "start_time": "2022-06-05T13:00:49.814Z"
   },
   {
    "duration": 105,
    "start_time": "2022-06-05T13:00:55.787Z"
   },
   {
    "duration": 153,
    "start_time": "2022-06-05T13:01:21.149Z"
   },
   {
    "duration": 309,
    "start_time": "2022-06-05T13:01:35.072Z"
   },
   {
    "duration": 1833,
    "start_time": "2022-06-05T13:01:39.451Z"
   },
   {
    "duration": 940,
    "start_time": "2022-06-05T13:01:45.915Z"
   },
   {
    "duration": 21,
    "start_time": "2022-06-05T13:28:19.004Z"
   },
   {
    "duration": 45,
    "start_time": "2022-06-05T13:29:34.812Z"
   },
   {
    "duration": 1745,
    "start_time": "2022-06-05T13:29:42.823Z"
   },
   {
    "duration": 345,
    "start_time": "2022-06-05T14:08:11.265Z"
   },
   {
    "duration": 240,
    "start_time": "2022-06-05T14:08:22.243Z"
   },
   {
    "duration": 27,
    "start_time": "2022-06-05T14:15:56.587Z"
   },
   {
    "duration": 19,
    "start_time": "2022-06-05T14:16:01.084Z"
   },
   {
    "duration": 33,
    "start_time": "2022-06-05T14:16:05.784Z"
   },
   {
    "duration": 4284,
    "start_time": "2022-06-05T14:20:28.707Z"
   },
   {
    "duration": 311,
    "start_time": "2022-06-05T14:20:49.508Z"
   },
   {
    "duration": 2324,
    "start_time": "2022-06-05T14:21:20.033Z"
   },
   {
    "duration": 2453,
    "start_time": "2022-06-05T14:21:44.106Z"
   },
   {
    "duration": 2242,
    "start_time": "2022-06-05T14:21:52.948Z"
   },
   {
    "duration": 23,
    "start_time": "2022-06-05T14:23:34.625Z"
   },
   {
    "duration": 27,
    "start_time": "2022-06-05T14:24:16.904Z"
   },
   {
    "duration": 2,
    "start_time": "2022-06-05T14:24:50.095Z"
   },
   {
    "duration": 3,
    "start_time": "2022-06-05T14:25:43.090Z"
   },
   {
    "duration": 392,
    "start_time": "2022-06-05T14:26:04.583Z"
   },
   {
    "duration": 33,
    "start_time": "2022-06-05T14:28:14.089Z"
   },
   {
    "duration": 28,
    "start_time": "2022-06-05T14:35:21.946Z"
   },
   {
    "duration": 21,
    "start_time": "2022-06-05T14:38:24.491Z"
   },
   {
    "duration": 33,
    "start_time": "2022-06-05T14:41:22.489Z"
   },
   {
    "duration": 10,
    "start_time": "2022-06-05T14:42:16.307Z"
   },
   {
    "duration": 100,
    "start_time": "2022-06-05T14:43:46.999Z"
   },
   {
    "duration": 259,
    "start_time": "2022-06-05T14:44:00.889Z"
   },
   {
    "duration": 335,
    "start_time": "2022-06-05T14:44:08.892Z"
   },
   {
    "duration": 32,
    "start_time": "2022-06-05T14:48:09.592Z"
   },
   {
    "duration": 24,
    "start_time": "2022-06-05T14:48:42.875Z"
   },
   {
    "duration": 117,
    "start_time": "2022-06-05T14:51:01.107Z"
   },
   {
    "duration": 249,
    "start_time": "2022-06-05T14:52:14.108Z"
   },
   {
    "duration": 842,
    "start_time": "2022-06-05T14:56:18.605Z"
   },
   {
    "duration": 281,
    "start_time": "2022-06-05T14:56:26.654Z"
   },
   {
    "duration": 19,
    "start_time": "2022-06-05T15:00:18.045Z"
   },
   {
    "duration": 19,
    "start_time": "2022-06-05T15:00:46.359Z"
   },
   {
    "duration": 21,
    "start_time": "2022-06-05T15:01:57.637Z"
   },
   {
    "duration": 22,
    "start_time": "2022-06-05T15:02:25.494Z"
   },
   {
    "duration": 428,
    "start_time": "2022-06-05T15:22:36.244Z"
   },
   {
    "duration": 177,
    "start_time": "2022-06-05T15:23:04.043Z"
   },
   {
    "duration": 274,
    "start_time": "2022-06-05T15:25:36.720Z"
   },
   {
    "duration": 523,
    "start_time": "2022-06-05T15:25:56.994Z"
   },
   {
    "duration": 778,
    "start_time": "2022-06-05T15:26:48.918Z"
   },
   {
    "duration": 32,
    "start_time": "2022-06-05T15:35:50.543Z"
   },
   {
    "duration": 744,
    "start_time": "2022-06-05T15:35:56.525Z"
   },
   {
    "duration": 746,
    "start_time": "2022-06-05T15:38:21.270Z"
   },
   {
    "duration": 794,
    "start_time": "2022-06-05T15:39:24.467Z"
   },
   {
    "duration": 893,
    "start_time": "2022-06-05T15:41:34.772Z"
   },
   {
    "duration": 755,
    "start_time": "2022-06-05T15:43:27.943Z"
   },
   {
    "duration": 1110,
    "start_time": "2022-06-05T15:45:44.039Z"
   },
   {
    "duration": 771,
    "start_time": "2022-06-05T15:45:53.064Z"
   },
   {
    "duration": 769,
    "start_time": "2022-06-05T15:46:10.939Z"
   },
   {
    "duration": 769,
    "start_time": "2022-06-05T15:46:45.345Z"
   },
   {
    "duration": 880,
    "start_time": "2022-06-05T15:47:21.417Z"
   },
   {
    "duration": 827,
    "start_time": "2022-06-05T15:47:27.948Z"
   },
   {
    "duration": 845,
    "start_time": "2022-06-05T15:47:36.712Z"
   },
   {
    "duration": 1302,
    "start_time": "2022-06-05T15:47:59.441Z"
   },
   {
    "duration": 746,
    "start_time": "2022-06-05T15:48:29.149Z"
   },
   {
    "duration": 746,
    "start_time": "2022-06-05T15:48:35.316Z"
   },
   {
    "duration": 740,
    "start_time": "2022-06-05T15:48:40.708Z"
   },
   {
    "duration": 817,
    "start_time": "2022-06-05T15:49:00.209Z"
   },
   {
    "duration": 197,
    "start_time": "2022-06-05T15:50:12.677Z"
   },
   {
    "duration": 230,
    "start_time": "2022-06-05T15:52:20.178Z"
   },
   {
    "duration": 234,
    "start_time": "2022-06-05T15:52:35.382Z"
   },
   {
    "duration": 249,
    "start_time": "2022-06-05T15:52:49.142Z"
   },
   {
    "duration": 258,
    "start_time": "2022-06-05T15:53:20.794Z"
   },
   {
    "duration": 258,
    "start_time": "2022-06-05T15:54:21.712Z"
   },
   {
    "duration": 604,
    "start_time": "2022-06-05T15:56:33.312Z"
   },
   {
    "duration": 176,
    "start_time": "2022-06-05T15:58:32.378Z"
   },
   {
    "duration": 175,
    "start_time": "2022-06-05T15:58:54.281Z"
   },
   {
    "duration": 169,
    "start_time": "2022-06-05T16:01:05.100Z"
   },
   {
    "duration": 172,
    "start_time": "2022-06-05T16:01:13.106Z"
   },
   {
    "duration": 177,
    "start_time": "2022-06-05T16:02:34.368Z"
   },
   {
    "duration": 151,
    "start_time": "2022-06-05T16:03:24.239Z"
   },
   {
    "duration": 160,
    "start_time": "2022-06-05T16:03:33.518Z"
   },
   {
    "duration": 185,
    "start_time": "2022-06-05T16:03:42.170Z"
   },
   {
    "duration": 221,
    "start_time": "2022-06-05T16:03:52.470Z"
   },
   {
    "duration": 349,
    "start_time": "2022-06-05T16:06:25.474Z"
   },
   {
    "duration": 352,
    "start_time": "2022-06-05T16:06:36.094Z"
   },
   {
    "duration": 209,
    "start_time": "2022-06-05T16:07:10.342Z"
   },
   {
    "duration": 242,
    "start_time": "2022-06-05T16:07:55.776Z"
   },
   {
    "duration": 11,
    "start_time": "2022-06-05T16:08:10.777Z"
   },
   {
    "duration": 230,
    "start_time": "2022-06-05T16:08:13.896Z"
   },
   {
    "duration": 115,
    "start_time": "2022-06-05T16:09:49.764Z"
   },
   {
    "duration": 379,
    "start_time": "2022-06-05T16:10:34.439Z"
   },
   {
    "duration": 370,
    "start_time": "2022-06-05T16:10:49.244Z"
   },
   {
    "duration": 370,
    "start_time": "2022-06-05T16:11:14.135Z"
   },
   {
    "duration": 16,
    "start_time": "2022-06-05T16:19:05.703Z"
   },
   {
    "duration": 19,
    "start_time": "2022-06-05T16:19:15.598Z"
   },
   {
    "duration": 27,
    "start_time": "2022-06-05T16:19:20.279Z"
   },
   {
    "duration": 8,
    "start_time": "2022-06-05T16:19:44.068Z"
   },
   {
    "duration": 8,
    "start_time": "2022-06-05T16:19:50.306Z"
   },
   {
    "duration": 10,
    "start_time": "2022-06-05T16:19:58.811Z"
   },
   {
    "duration": 8,
    "start_time": "2022-06-05T16:20:07.806Z"
   },
   {
    "duration": 11,
    "start_time": "2022-06-05T16:20:35.542Z"
   },
   {
    "duration": 14,
    "start_time": "2022-06-05T16:26:24.418Z"
   },
   {
    "duration": 10,
    "start_time": "2022-06-05T16:32:41.443Z"
   },
   {
    "duration": 37,
    "start_time": "2022-06-05T16:33:09.570Z"
   },
   {
    "duration": 112,
    "start_time": "2022-06-05T16:34:12.195Z"
   },
   {
    "duration": 127,
    "start_time": "2022-06-05T16:38:46.612Z"
   },
   {
    "duration": 115,
    "start_time": "2022-06-05T16:40:59.060Z"
   },
   {
    "duration": 114,
    "start_time": "2022-06-05T16:41:05.413Z"
   },
   {
    "duration": 227,
    "start_time": "2022-06-05T16:41:27.459Z"
   },
   {
    "duration": 360,
    "start_time": "2022-06-05T16:46:42.167Z"
   },
   {
    "duration": 6,
    "start_time": "2022-06-05T16:46:49.549Z"
   },
   {
    "duration": 5,
    "start_time": "2022-06-05T16:46:59.357Z"
   },
   {
    "duration": 21,
    "start_time": "2022-06-05T16:48:48.606Z"
   },
   {
    "duration": 51,
    "start_time": "2022-06-05T16:50:31.680Z"
   },
   {
    "duration": 24,
    "start_time": "2022-06-05T16:51:05.102Z"
   },
   {
    "duration": 36,
    "start_time": "2022-06-05T16:51:18.791Z"
   },
   {
    "duration": 22,
    "start_time": "2022-06-05T16:51:30.349Z"
   },
   {
    "duration": 21,
    "start_time": "2022-06-05T16:51:39.674Z"
   },
   {
    "duration": 331,
    "start_time": "2022-06-05T16:54:32.170Z"
   },
   {
    "duration": 6,
    "start_time": "2022-06-05T16:54:40.059Z"
   },
   {
    "duration": 896,
    "start_time": "2022-06-05T16:55:02.681Z"
   },
   {
    "duration": 592,
    "start_time": "2022-06-05T16:55:13.441Z"
   },
   {
    "duration": 866,
    "start_time": "2022-06-05T18:22:33.519Z"
   },
   {
    "duration": 141,
    "start_time": "2022-06-05T18:22:34.387Z"
   },
   {
    "duration": 16,
    "start_time": "2022-06-05T18:22:34.530Z"
   },
   {
    "duration": 41,
    "start_time": "2022-06-05T18:22:34.548Z"
   },
   {
    "duration": 5,
    "start_time": "2022-06-05T18:22:35.148Z"
   },
   {
    "duration": 184,
    "start_time": "2022-06-05T18:22:35.313Z"
   },
   {
    "duration": 5,
    "start_time": "2022-06-05T18:22:35.499Z"
   },
   {
    "duration": 4,
    "start_time": "2022-06-05T18:22:35.665Z"
   },
   {
    "duration": 4,
    "start_time": "2022-06-05T18:22:36.135Z"
   },
   {
    "duration": 173,
    "start_time": "2022-06-05T18:22:36.321Z"
   },
   {
    "duration": 5,
    "start_time": "2022-06-05T18:22:36.497Z"
   },
   {
    "duration": 9,
    "start_time": "2022-06-05T18:22:36.649Z"
   },
   {
    "duration": 5,
    "start_time": "2022-06-05T18:22:36.825Z"
   },
   {
    "duration": 5,
    "start_time": "2022-06-05T18:22:37.375Z"
   },
   {
    "duration": 56,
    "start_time": "2022-06-05T18:22:37.581Z"
   },
   {
    "duration": 44,
    "start_time": "2022-06-05T18:22:37.770Z"
   },
   {
    "duration": 6,
    "start_time": "2022-06-05T18:22:37.977Z"
   },
   {
    "duration": 6,
    "start_time": "2022-06-05T18:22:38.557Z"
   },
   {
    "duration": 25,
    "start_time": "2022-06-05T18:22:38.757Z"
   },
   {
    "duration": 12,
    "start_time": "2022-06-05T18:22:38.945Z"
   },
   {
    "duration": 6,
    "start_time": "2022-06-05T18:22:39.155Z"
   },
   {
    "duration": 4,
    "start_time": "2022-06-05T18:22:39.766Z"
   },
   {
    "duration": 54,
    "start_time": "2022-06-05T18:22:39.989Z"
   },
   {
    "duration": 36,
    "start_time": "2022-06-05T18:22:40.184Z"
   },
   {
    "duration": 5,
    "start_time": "2022-06-05T18:22:40.375Z"
   },
   {
    "duration": 4,
    "start_time": "2022-06-05T18:22:40.965Z"
   },
   {
    "duration": 3,
    "start_time": "2022-06-05T18:22:41.163Z"
   },
   {
    "duration": 5,
    "start_time": "2022-06-05T18:22:41.362Z"
   },
   {
    "duration": 5,
    "start_time": "2022-06-05T18:22:41.949Z"
   },
   {
    "duration": 79,
    "start_time": "2022-06-05T18:22:42.137Z"
   },
   {
    "duration": 2110,
    "start_time": "2022-06-05T18:22:42.344Z"
   },
   {
    "duration": 4,
    "start_time": "2022-06-05T18:22:44.457Z"
   },
   {
    "duration": 7,
    "start_time": "2022-06-05T18:22:45.022Z"
   },
   {
    "duration": 167,
    "start_time": "2022-06-05T18:22:45.279Z"
   },
   {
    "duration": 9,
    "start_time": "2022-06-05T18:22:45.469Z"
   },
   {
    "duration": 901,
    "start_time": "2022-06-05T18:22:45.692Z"
   },
   {
    "duration": 22,
    "start_time": "2022-06-05T18:22:46.596Z"
   },
   {
    "duration": 14,
    "start_time": "2022-06-05T18:22:46.775Z"
   },
   {
    "duration": 12,
    "start_time": "2022-06-05T18:22:47.087Z"
   },
   {
    "duration": 356,
    "start_time": "2022-06-05T18:22:58.470Z"
   },
   {
    "duration": 92,
    "start_time": "2022-06-05T18:22:58.828Z"
   },
   {
    "duration": 25,
    "start_time": "2022-06-05T18:22:59.381Z"
   },
   {
    "duration": 1238,
    "start_time": "2022-06-05T18:22:59.567Z"
   },
   {
    "duration": 10,
    "start_time": "2022-06-05T18:23:00.807Z"
   },
   {
    "duration": 269,
    "start_time": "2022-06-05T18:23:00.818Z"
   },
   {
    "duration": 15,
    "start_time": "2022-06-05T18:23:01.089Z"
   },
   {
    "duration": 115,
    "start_time": "2022-06-05T18:23:01.228Z"
   },
   {
    "duration": 19,
    "start_time": "2022-06-05T18:23:01.644Z"
   },
   {
    "duration": 337,
    "start_time": "2022-06-05T18:23:01.851Z"
   },
   {
    "duration": 19,
    "start_time": "2022-06-05T18:23:02.254Z"
   },
   {
    "duration": 216,
    "start_time": "2022-06-05T18:23:02.877Z"
   },
   {
    "duration": 19,
    "start_time": "2022-06-05T18:23:03.251Z"
   },
   {
    "duration": 2344,
    "start_time": "2022-06-05T18:23:03.489Z"
   },
   {
    "duration": 24,
    "start_time": "2022-06-05T18:23:05.840Z"
   },
   {
    "duration": 14,
    "start_time": "2022-06-05T18:23:05.867Z"
   },
   {
    "duration": 130,
    "start_time": "2022-06-05T18:23:05.883Z"
   },
   {
    "duration": 35,
    "start_time": "2022-06-05T18:23:06.014Z"
   },
   {
    "duration": 12,
    "start_time": "2022-06-05T18:23:06.051Z"
   },
   {
    "duration": 337,
    "start_time": "2022-06-05T18:23:06.066Z"
   },
   {
    "duration": 28,
    "start_time": "2022-06-05T18:23:06.455Z"
   },
   {
    "duration": 7,
    "start_time": "2022-06-05T18:23:06.695Z"
   },
   {
    "duration": 105,
    "start_time": "2022-06-05T18:23:07.365Z"
   },
   {
    "duration": 472,
    "start_time": "2022-06-05T18:23:07.571Z"
   },
   {
    "duration": 19,
    "start_time": "2022-06-05T18:23:08.045Z"
   },
   {
    "duration": 143,
    "start_time": "2022-06-05T18:23:08.361Z"
   },
   {
    "duration": 251,
    "start_time": "2022-06-05T18:23:08.780Z"
   },
   {
    "duration": 296,
    "start_time": "2022-06-05T18:23:09.205Z"
   },
   {
    "duration": 233,
    "start_time": "2022-06-05T18:23:09.644Z"
   },
   {
    "duration": 406,
    "start_time": "2022-06-05T18:23:10.045Z"
   },
   {
    "duration": 11,
    "start_time": "2022-06-05T18:23:10.613Z"
   },
   {
    "duration": 6,
    "start_time": "2022-06-05T18:23:11.768Z"
   },
   {
    "duration": 223,
    "start_time": "2022-06-05T18:23:12.265Z"
   },
   {
    "duration": 6,
    "start_time": "2022-06-05T18:23:16.969Z"
   },
   {
    "duration": 4,
    "start_time": "2022-06-05T18:23:25.200Z"
   },
   {
    "duration": 9,
    "start_time": "2022-06-05T18:24:48.362Z"
   },
   {
    "duration": 109,
    "start_time": "2022-06-05T18:25:40.410Z"
   },
   {
    "duration": 20,
    "start_time": "2022-06-05T18:25:43.266Z"
   },
   {
    "duration": 2,
    "start_time": "2022-06-05T18:26:59.537Z"
   },
   {
    "duration": 86,
    "start_time": "2022-06-05T18:26:59.897Z"
   },
   {
    "duration": 14,
    "start_time": "2022-06-05T18:27:00.208Z"
   },
   {
    "duration": 49,
    "start_time": "2022-06-05T18:27:00.550Z"
   },
   {
    "duration": 8,
    "start_time": "2022-06-05T18:27:02.118Z"
   },
   {
    "duration": 182,
    "start_time": "2022-06-05T18:27:02.330Z"
   },
   {
    "duration": 7,
    "start_time": "2022-06-05T18:27:02.840Z"
   },
   {
    "duration": 4,
    "start_time": "2022-06-05T18:27:02.874Z"
   },
   {
    "duration": 5,
    "start_time": "2022-06-05T18:27:02.980Z"
   },
   {
    "duration": 166,
    "start_time": "2022-06-05T18:27:03.019Z"
   },
   {
    "duration": 5,
    "start_time": "2022-06-05T18:27:03.187Z"
   },
   {
    "duration": 15,
    "start_time": "2022-06-05T18:27:03.193Z"
   },
   {
    "duration": 12,
    "start_time": "2022-06-05T18:27:03.210Z"
   },
   {
    "duration": 6,
    "start_time": "2022-06-05T18:27:03.224Z"
   },
   {
    "duration": 49,
    "start_time": "2022-06-05T18:27:03.245Z"
   },
   {
    "duration": 34,
    "start_time": "2022-06-05T18:27:03.296Z"
   },
   {
    "duration": 11,
    "start_time": "2022-06-05T18:27:03.332Z"
   },
   {
    "duration": 5,
    "start_time": "2022-06-05T18:27:03.405Z"
   },
   {
    "duration": 22,
    "start_time": "2022-06-05T18:27:03.446Z"
   },
   {
    "duration": 9,
    "start_time": "2022-06-05T18:27:03.482Z"
   },
   {
    "duration": 5,
    "start_time": "2022-06-05T18:27:03.517Z"
   },
   {
    "duration": 5,
    "start_time": "2022-06-05T18:27:03.602Z"
   },
   {
    "duration": 153,
    "start_time": "2022-06-05T18:27:03.653Z"
   },
   {
    "duration": 35,
    "start_time": "2022-06-05T18:27:03.808Z"
   },
   {
    "duration": 5,
    "start_time": "2022-06-05T18:27:03.844Z"
   },
   {
    "duration": 8,
    "start_time": "2022-06-05T18:27:03.850Z"
   },
   {
    "duration": 9,
    "start_time": "2022-06-05T18:27:03.859Z"
   },
   {
    "duration": 6,
    "start_time": "2022-06-05T18:27:03.870Z"
   },
   {
    "duration": 5,
    "start_time": "2022-06-05T18:27:03.949Z"
   },
   {
    "duration": 74,
    "start_time": "2022-06-05T18:27:03.985Z"
   },
   {
    "duration": 2157,
    "start_time": "2022-06-05T18:27:04.143Z"
   },
   {
    "duration": 5,
    "start_time": "2022-06-05T18:27:06.302Z"
   },
   {
    "duration": 6,
    "start_time": "2022-06-05T18:27:06.308Z"
   },
   {
    "duration": 212,
    "start_time": "2022-06-05T18:27:06.316Z"
   },
   {
    "duration": 17,
    "start_time": "2022-06-05T18:27:06.530Z"
   },
   {
    "duration": 744,
    "start_time": "2022-06-05T18:27:06.551Z"
   },
   {
    "duration": 14,
    "start_time": "2022-06-05T18:27:07.298Z"
   },
   {
    "duration": 28,
    "start_time": "2022-06-05T18:27:07.314Z"
   },
   {
    "duration": 11,
    "start_time": "2022-06-05T18:27:07.344Z"
   },
   {
    "duration": 453,
    "start_time": "2022-06-05T18:27:07.638Z"
   },
   {
    "duration": 145,
    "start_time": "2022-06-05T18:27:08.094Z"
   },
   {
    "duration": 26,
    "start_time": "2022-06-05T18:27:08.372Z"
   },
   {
    "duration": 1295,
    "start_time": "2022-06-05T18:27:08.564Z"
   },
   {
    "duration": 10,
    "start_time": "2022-06-05T18:27:09.861Z"
   },
   {
    "duration": 269,
    "start_time": "2022-06-05T18:27:09.873Z"
   },
   {
    "duration": 112,
    "start_time": "2022-06-05T18:27:21.670Z"
   },
   {
    "duration": 18,
    "start_time": "2022-06-05T18:27:24.692Z"
   },
   {
    "duration": 289,
    "start_time": "2022-06-05T18:27:25.646Z"
   },
   {
    "duration": 15,
    "start_time": "2022-06-05T18:27:29.116Z"
   },
   {
    "duration": 337,
    "start_time": "2022-06-05T18:27:34.406Z"
   },
   {
    "duration": 18,
    "start_time": "2022-06-05T18:27:43.246Z"
   },
   {
    "duration": 2237,
    "start_time": "2022-06-05T18:27:47.937Z"
   },
   {
    "duration": 22,
    "start_time": "2022-06-05T18:27:59.888Z"
   },
   {
    "duration": 9,
    "start_time": "2022-06-05T18:28:00.342Z"
   },
   {
    "duration": 106,
    "start_time": "2022-06-05T18:28:31.175Z"
   },
   {
    "duration": 22,
    "start_time": "2022-06-05T18:28:34.335Z"
   },
   {
    "duration": 12,
    "start_time": "2022-06-05T18:28:37.348Z"
   },
   {
    "duration": 481,
    "start_time": "2022-06-05T18:28:39.395Z"
   },
   {
    "duration": 25,
    "start_time": "2022-06-05T18:28:43.883Z"
   },
   {
    "duration": 6,
    "start_time": "2022-06-05T18:28:44.345Z"
   },
   {
    "duration": 107,
    "start_time": "2022-06-05T18:28:48.451Z"
   },
   {
    "duration": 390,
    "start_time": "2022-06-05T18:28:51.172Z"
   },
   {
    "duration": 15,
    "start_time": "2022-06-05T18:28:57.012Z"
   },
   {
    "duration": 21,
    "start_time": "2022-06-05T18:29:18.518Z"
   },
   {
    "duration": 2,
    "start_time": "2022-06-05T18:29:58.487Z"
   },
   {
    "duration": 88,
    "start_time": "2022-06-05T18:29:58.999Z"
   },
   {
    "duration": 16,
    "start_time": "2022-06-05T18:29:59.088Z"
   },
   {
    "duration": 44,
    "start_time": "2022-06-05T18:29:59.106Z"
   },
   {
    "duration": 4,
    "start_time": "2022-06-05T18:29:59.263Z"
   },
   {
    "duration": 179,
    "start_time": "2022-06-05T18:29:59.298Z"
   },
   {
    "duration": 5,
    "start_time": "2022-06-05T18:29:59.479Z"
   },
   {
    "duration": 8,
    "start_time": "2022-06-05T18:29:59.485Z"
   },
   {
    "duration": 8,
    "start_time": "2022-06-05T18:29:59.494Z"
   },
   {
    "duration": 181,
    "start_time": "2022-06-05T18:29:59.503Z"
   },
   {
    "duration": 5,
    "start_time": "2022-06-05T18:29:59.685Z"
   },
   {
    "duration": 7,
    "start_time": "2022-06-05T18:29:59.692Z"
   },
   {
    "duration": 6,
    "start_time": "2022-06-05T18:29:59.700Z"
   },
   {
    "duration": 6,
    "start_time": "2022-06-05T18:29:59.707Z"
   },
   {
    "duration": 69,
    "start_time": "2022-06-05T18:29:59.722Z"
   },
   {
    "duration": 49,
    "start_time": "2022-06-05T18:29:59.793Z"
   },
   {
    "duration": 5,
    "start_time": "2022-06-05T18:29:59.844Z"
   },
   {
    "duration": 5,
    "start_time": "2022-06-05T18:29:59.904Z"
   },
   {
    "duration": 23,
    "start_time": "2022-06-05T18:29:59.949Z"
   },
   {
    "duration": 9,
    "start_time": "2022-06-05T18:29:59.977Z"
   },
   {
    "duration": 6,
    "start_time": "2022-06-05T18:30:00.013Z"
   },
   {
    "duration": 5,
    "start_time": "2022-06-05T18:30:00.094Z"
   },
   {
    "duration": 50,
    "start_time": "2022-06-05T18:30:00.163Z"
   },
   {
    "duration": 37,
    "start_time": "2022-06-05T18:30:00.226Z"
   },
   {
    "duration": 4,
    "start_time": "2022-06-05T18:30:00.264Z"
   },
   {
    "duration": 4,
    "start_time": "2022-06-05T18:30:00.347Z"
   },
   {
    "duration": 3,
    "start_time": "2022-06-05T18:30:00.376Z"
   },
   {
    "duration": 4,
    "start_time": "2022-06-05T18:30:00.409Z"
   },
   {
    "duration": 5,
    "start_time": "2022-06-05T18:30:00.488Z"
   },
   {
    "duration": 84,
    "start_time": "2022-06-05T18:30:00.522Z"
   },
   {
    "duration": 2138,
    "start_time": "2022-06-05T18:30:00.609Z"
   },
   {
    "duration": 4,
    "start_time": "2022-06-05T18:30:02.748Z"
   },
   {
    "duration": 8,
    "start_time": "2022-06-05T18:30:02.754Z"
   },
   {
    "duration": 188,
    "start_time": "2022-06-05T18:30:02.764Z"
   },
   {
    "duration": 11,
    "start_time": "2022-06-05T18:30:02.954Z"
   },
   {
    "duration": 793,
    "start_time": "2022-06-05T18:30:02.968Z"
   },
   {
    "duration": 13,
    "start_time": "2022-06-05T18:30:03.763Z"
   },
   {
    "duration": 13,
    "start_time": "2022-06-05T18:30:03.778Z"
   },
   {
    "duration": 10,
    "start_time": "2022-06-05T18:30:03.792Z"
   },
   {
    "duration": 382,
    "start_time": "2022-06-05T18:30:03.804Z"
   },
   {
    "duration": 103,
    "start_time": "2022-06-05T18:30:04.188Z"
   },
   {
    "duration": 26,
    "start_time": "2022-06-05T18:30:04.293Z"
   },
   {
    "duration": 1175,
    "start_time": "2022-06-05T18:30:04.321Z"
   },
   {
    "duration": 10,
    "start_time": "2022-06-05T18:30:05.498Z"
   },
   {
    "duration": 407,
    "start_time": "2022-06-05T18:30:05.510Z"
   },
   {
    "duration": 122,
    "start_time": "2022-06-05T18:30:05.918Z"
   },
   {
    "duration": 17,
    "start_time": "2022-06-05T18:30:06.042Z"
   },
   {
    "duration": 304,
    "start_time": "2022-06-05T18:30:06.061Z"
   },
   {
    "duration": 14,
    "start_time": "2022-06-05T18:30:06.367Z"
   },
   {
    "duration": 242,
    "start_time": "2022-06-05T18:30:06.383Z"
   },
   {
    "duration": 24,
    "start_time": "2022-06-05T18:30:06.626Z"
   },
   {
    "duration": 2347,
    "start_time": "2022-06-05T18:30:06.652Z"
   },
   {
    "duration": 25,
    "start_time": "2022-06-05T18:30:09.002Z"
   },
   {
    "duration": 19,
    "start_time": "2022-06-05T18:30:09.029Z"
   },
   {
    "duration": 122,
    "start_time": "2022-06-05T18:30:09.049Z"
   },
   {
    "duration": 24,
    "start_time": "2022-06-05T18:30:09.172Z"
   },
   {
    "duration": 9,
    "start_time": "2022-06-05T18:30:09.198Z"
   },
   {
    "duration": 539,
    "start_time": "2022-06-05T18:30:09.209Z"
   },
   {
    "duration": 24,
    "start_time": "2022-06-05T18:30:09.749Z"
   },
   {
    "duration": 8,
    "start_time": "2022-06-05T18:30:09.775Z"
   },
   {
    "duration": 146,
    "start_time": "2022-06-05T18:30:09.785Z"
   },
   {
    "duration": 308,
    "start_time": "2022-06-05T18:30:12.327Z"
   },
   {
    "duration": 24,
    "start_time": "2022-06-05T18:30:15.016Z"
   },
   {
    "duration": 183,
    "start_time": "2022-06-05T18:30:24.417Z"
   },
   {
    "duration": 165,
    "start_time": "2022-06-05T18:30:34.112Z"
   },
   {
    "duration": 257,
    "start_time": "2022-06-05T18:30:43.380Z"
   },
   {
    "duration": 427,
    "start_time": "2022-06-05T18:30:47.808Z"
   },
   {
    "duration": 242,
    "start_time": "2022-06-05T18:30:52.423Z"
   },
   {
    "duration": 401,
    "start_time": "2022-06-05T18:31:04.306Z"
   },
   {
    "duration": 385,
    "start_time": "2022-06-05T18:31:27.092Z"
   },
   {
    "duration": 464,
    "start_time": "2022-06-05T18:31:38.147Z"
   },
   {
    "duration": 14,
    "start_time": "2022-06-05T18:31:42.343Z"
   },
   {
    "duration": 14,
    "start_time": "2022-06-05T18:32:21.825Z"
   },
   {
    "duration": 9,
    "start_time": "2022-06-05T18:32:28.393Z"
   },
   {
    "duration": 246,
    "start_time": "2022-06-05T18:32:33.253Z"
   },
   {
    "duration": 6,
    "start_time": "2022-06-05T18:32:44.515Z"
   },
   {
    "duration": 25,
    "start_time": "2022-06-05T18:32:47.955Z"
   },
   {
    "duration": 8,
    "start_time": "2022-06-05T18:35:41.889Z"
   },
   {
    "duration": 134,
    "start_time": "2022-06-05T18:36:14.855Z"
   },
   {
    "duration": 445,
    "start_time": "2022-06-05T18:36:22.944Z"
   },
   {
    "duration": 352,
    "start_time": "2022-06-05T18:36:35.279Z"
   },
   {
    "duration": 262,
    "start_time": "2022-06-05T18:36:47.058Z"
   },
   {
    "duration": 369,
    "start_time": "2022-06-05T18:37:05.766Z"
   },
   {
    "duration": 479,
    "start_time": "2022-06-05T18:37:11.289Z"
   },
   {
    "duration": 12,
    "start_time": "2022-06-05T18:39:45.515Z"
   },
   {
    "duration": 17,
    "start_time": "2022-06-05T18:40:35.026Z"
   },
   {
    "duration": 17,
    "start_time": "2022-06-05T18:47:46.082Z"
   },
   {
    "duration": 712,
    "start_time": "2022-06-05T18:48:08.748Z"
   },
   {
    "duration": 485,
    "start_time": "2022-06-05T18:50:36.034Z"
   },
   {
    "duration": 519,
    "start_time": "2022-06-05T18:50:41.874Z"
   },
   {
    "duration": 14,
    "start_time": "2022-06-05T18:56:34.213Z"
   },
   {
    "duration": 475,
    "start_time": "2022-06-05T19:01:08.957Z"
   },
   {
    "duration": 286,
    "start_time": "2022-06-05T19:01:19.028Z"
   },
   {
    "duration": 14,
    "start_time": "2022-06-05T19:09:47.428Z"
   },
   {
    "duration": 470,
    "start_time": "2022-06-05T19:10:00.727Z"
   },
   {
    "duration": 249,
    "start_time": "2022-06-05T19:10:07.557Z"
   },
   {
    "duration": 290,
    "start_time": "2022-06-05T19:10:46.486Z"
   },
   {
    "duration": 316,
    "start_time": "2022-06-05T19:10:59.242Z"
   },
   {
    "duration": 3,
    "start_time": "2022-06-05T19:13:37.851Z"
   },
   {
    "duration": 384,
    "start_time": "2022-06-05T19:14:15.513Z"
   },
   {
    "duration": 4,
    "start_time": "2022-06-05T19:18:10.701Z"
   },
   {
    "duration": 299,
    "start_time": "2022-06-05T19:21:25.322Z"
   },
   {
    "duration": 323,
    "start_time": "2022-06-05T19:21:42.142Z"
   },
   {
    "duration": 316,
    "start_time": "2022-06-05T19:21:56.175Z"
   },
   {
    "duration": 339,
    "start_time": "2022-06-05T19:22:00.281Z"
   },
   {
    "duration": 5,
    "start_time": "2022-06-05T19:23:02.054Z"
   },
   {
    "duration": 6,
    "start_time": "2022-06-05T19:23:40.048Z"
   },
   {
    "duration": 6,
    "start_time": "2022-06-05T19:25:15.098Z"
   },
   {
    "duration": 326,
    "start_time": "2022-06-05T19:26:20.615Z"
   },
   {
    "duration": 217,
    "start_time": "2022-06-05T19:26:31.442Z"
   },
   {
    "duration": 321,
    "start_time": "2022-06-05T19:26:35.990Z"
   },
   {
    "duration": 250,
    "start_time": "2022-06-05T19:35:20.150Z"
   },
   {
    "duration": 527,
    "start_time": "2022-06-05T19:41:14.170Z"
   },
   {
    "duration": 14,
    "start_time": "2022-06-05T19:41:28.120Z"
   },
   {
    "duration": 221,
    "start_time": "2022-06-05T19:41:47.550Z"
   },
   {
    "duration": 398,
    "start_time": "2022-06-05T19:45:38.846Z"
   },
   {
    "duration": 344,
    "start_time": "2022-06-05T19:46:02.578Z"
   },
   {
    "duration": 168,
    "start_time": "2022-06-05T19:46:12.042Z"
   },
   {
    "duration": 168,
    "start_time": "2022-06-05T19:46:15.993Z"
   },
   {
    "duration": 140,
    "start_time": "2022-06-05T19:47:19.587Z"
   },
   {
    "duration": 157,
    "start_time": "2022-06-05T19:47:25.828Z"
   },
   {
    "duration": 262,
    "start_time": "2022-06-05T19:48:49.721Z"
   },
   {
    "duration": 314,
    "start_time": "2022-06-05T19:48:49.985Z"
   },
   {
    "duration": 522,
    "start_time": "2022-06-05T19:48:50.301Z"
   },
   {
    "duration": 267,
    "start_time": "2022-06-05T19:51:34.476Z"
   },
   {
    "duration": 319,
    "start_time": "2022-06-05T19:51:38.792Z"
   },
   {
    "duration": 271,
    "start_time": "2022-06-05T19:51:43.245Z"
   },
   {
    "duration": 11,
    "start_time": "2022-06-05T20:05:38.505Z"
   },
   {
    "duration": 12,
    "start_time": "2022-06-05T20:06:00.917Z"
   },
   {
    "duration": 144,
    "start_time": "2022-06-05T20:06:14.236Z"
   },
   {
    "duration": 1139,
    "start_time": "2022-06-05T20:09:15.819Z"
   },
   {
    "duration": 1190,
    "start_time": "2022-06-05T20:09:35.426Z"
   },
   {
    "duration": 494,
    "start_time": "2022-06-05T20:09:45.869Z"
   },
   {
    "duration": 314,
    "start_time": "2022-06-05T20:10:17.115Z"
   },
   {
    "duration": 844,
    "start_time": "2022-06-06T10:56:51.952Z"
   },
   {
    "duration": 310,
    "start_time": "2022-06-06T10:56:52.799Z"
   },
   {
    "duration": 14,
    "start_time": "2022-06-06T10:56:53.111Z"
   },
   {
    "duration": 38,
    "start_time": "2022-06-06T10:56:53.127Z"
   },
   {
    "duration": 5,
    "start_time": "2022-06-06T10:56:53.166Z"
   },
   {
    "duration": 190,
    "start_time": "2022-06-06T10:56:53.172Z"
   },
   {
    "duration": 5,
    "start_time": "2022-06-06T10:56:53.363Z"
   },
   {
    "duration": 6,
    "start_time": "2022-06-06T10:56:53.370Z"
   },
   {
    "duration": 6,
    "start_time": "2022-06-06T10:56:53.378Z"
   },
   {
    "duration": 170,
    "start_time": "2022-06-06T10:56:53.387Z"
   },
   {
    "duration": 5,
    "start_time": "2022-06-06T10:56:53.559Z"
   },
   {
    "duration": 17,
    "start_time": "2022-06-06T10:56:53.566Z"
   },
   {
    "duration": 10,
    "start_time": "2022-06-06T10:56:53.585Z"
   },
   {
    "duration": 6,
    "start_time": "2022-06-06T10:56:53.597Z"
   },
   {
    "duration": 71,
    "start_time": "2022-06-06T10:56:53.604Z"
   },
   {
    "duration": 36,
    "start_time": "2022-06-06T10:56:53.677Z"
   },
   {
    "duration": 14,
    "start_time": "2022-06-06T10:56:53.714Z"
   },
   {
    "duration": 7,
    "start_time": "2022-06-06T10:56:53.730Z"
   },
   {
    "duration": 34,
    "start_time": "2022-06-06T10:56:53.739Z"
   },
   {
    "duration": 11,
    "start_time": "2022-06-06T10:56:53.775Z"
   },
   {
    "duration": 7,
    "start_time": "2022-06-06T10:56:53.787Z"
   },
   {
    "duration": 22,
    "start_time": "2022-06-06T10:56:53.805Z"
   },
   {
    "duration": 53,
    "start_time": "2022-06-06T10:56:53.829Z"
   },
   {
    "duration": 46,
    "start_time": "2022-06-06T10:56:53.884Z"
   },
   {
    "duration": 4,
    "start_time": "2022-06-06T10:56:53.932Z"
   },
   {
    "duration": 8,
    "start_time": "2022-06-06T10:56:53.938Z"
   },
   {
    "duration": 8,
    "start_time": "2022-06-06T10:56:53.948Z"
   },
   {
    "duration": 7,
    "start_time": "2022-06-06T10:56:53.960Z"
   },
   {
    "duration": 6,
    "start_time": "2022-06-06T10:56:53.968Z"
   },
   {
    "duration": 90,
    "start_time": "2022-06-06T10:56:53.976Z"
   },
   {
    "duration": 2018,
    "start_time": "2022-06-06T10:56:54.068Z"
   },
   {
    "duration": 5,
    "start_time": "2022-06-06T10:56:56.088Z"
   },
   {
    "duration": 7,
    "start_time": "2022-06-06T10:56:56.095Z"
   },
   {
    "duration": 175,
    "start_time": "2022-06-06T10:56:56.103Z"
   },
   {
    "duration": 7,
    "start_time": "2022-06-06T10:56:56.280Z"
   },
   {
    "duration": 812,
    "start_time": "2022-06-06T10:56:56.289Z"
   },
   {
    "duration": 14,
    "start_time": "2022-06-06T10:56:57.102Z"
   },
   {
    "duration": 14,
    "start_time": "2022-06-06T10:56:57.127Z"
   },
   {
    "duration": 12,
    "start_time": "2022-06-06T10:56:57.142Z"
   },
   {
    "duration": 370,
    "start_time": "2022-06-06T10:56:57.155Z"
   },
   {
    "duration": 87,
    "start_time": "2022-06-06T10:56:57.527Z"
   },
   {
    "duration": 33,
    "start_time": "2022-06-06T10:56:57.615Z"
   },
   {
    "duration": 1148,
    "start_time": "2022-06-06T10:56:57.649Z"
   },
   {
    "duration": 9,
    "start_time": "2022-06-06T10:56:58.799Z"
   },
   {
    "duration": 240,
    "start_time": "2022-06-06T10:56:58.809Z"
   },
   {
    "duration": 110,
    "start_time": "2022-06-06T10:56:59.050Z"
   },
   {
    "duration": 16,
    "start_time": "2022-06-06T10:56:59.162Z"
   },
   {
    "duration": 279,
    "start_time": "2022-06-06T10:56:59.179Z"
   },
   {
    "duration": 19,
    "start_time": "2022-06-06T10:56:59.460Z"
   },
   {
    "duration": 226,
    "start_time": "2022-06-06T10:56:59.481Z"
   },
   {
    "duration": 22,
    "start_time": "2022-06-06T10:56:59.709Z"
   },
   {
    "duration": 2325,
    "start_time": "2022-06-06T10:56:59.733Z"
   },
   {
    "duration": 23,
    "start_time": "2022-06-06T10:57:02.059Z"
   },
   {
    "duration": 10,
    "start_time": "2022-06-06T10:57:02.084Z"
   },
   {
    "duration": 120,
    "start_time": "2022-06-06T10:57:02.096Z"
   },
   {
    "duration": 26,
    "start_time": "2022-06-06T10:57:02.218Z"
   },
   {
    "duration": 13,
    "start_time": "2022-06-06T10:57:02.245Z"
   },
   {
    "duration": 308,
    "start_time": "2022-06-06T10:57:02.260Z"
   },
   {
    "duration": 25,
    "start_time": "2022-06-06T10:57:02.569Z"
   },
   {
    "duration": 30,
    "start_time": "2022-06-06T10:57:02.596Z"
   },
   {
    "duration": 118,
    "start_time": "2022-06-06T10:57:02.628Z"
   },
   {
    "duration": 415,
    "start_time": "2022-06-06T10:57:02.747Z"
   },
   {
    "duration": 21,
    "start_time": "2022-06-06T10:57:03.164Z"
   },
   {
    "duration": 176,
    "start_time": "2022-06-06T10:57:03.186Z"
   },
   {
    "duration": 256,
    "start_time": "2022-06-06T10:57:03.364Z"
   },
   {
    "duration": 285,
    "start_time": "2022-06-06T10:57:03.626Z"
   },
   {
    "duration": 227,
    "start_time": "2022-06-06T10:57:03.913Z"
   },
   {
    "duration": 380,
    "start_time": "2022-06-06T10:57:04.141Z"
   },
   {
    "duration": 19,
    "start_time": "2022-06-06T10:57:04.526Z"
   },
   {
    "duration": 8,
    "start_time": "2022-06-06T10:57:04.546Z"
   },
   {
    "duration": 251,
    "start_time": "2022-06-06T10:57:04.555Z"
   },
   {
    "duration": 5,
    "start_time": "2022-06-06T10:57:04.808Z"
   },
   {
    "duration": 13,
    "start_time": "2022-06-06T10:57:04.814Z"
   },
   {
    "duration": 0,
    "start_time": "2022-06-06T10:57:04.830Z"
   },
   {
    "duration": 0,
    "start_time": "2022-06-06T10:57:04.831Z"
   },
   {
    "duration": 0,
    "start_time": "2022-06-06T10:57:04.832Z"
   },
   {
    "duration": 0,
    "start_time": "2022-06-06T10:57:04.833Z"
   },
   {
    "duration": 0,
    "start_time": "2022-06-06T10:57:04.834Z"
   },
   {
    "duration": 0,
    "start_time": "2022-06-06T10:57:04.836Z"
   },
   {
    "duration": 0,
    "start_time": "2022-06-06T10:57:04.838Z"
   },
   {
    "duration": 0,
    "start_time": "2022-06-06T10:57:04.839Z"
   },
   {
    "duration": 0,
    "start_time": "2022-06-06T10:57:04.840Z"
   },
   {
    "duration": 0,
    "start_time": "2022-06-06T10:57:04.842Z"
   },
   {
    "duration": 0,
    "start_time": "2022-06-06T10:57:04.843Z"
   },
   {
    "duration": 0,
    "start_time": "2022-06-06T10:57:04.845Z"
   },
   {
    "duration": 0,
    "start_time": "2022-06-06T10:57:04.846Z"
   },
   {
    "duration": 0,
    "start_time": "2022-06-06T10:57:04.848Z"
   },
   {
    "duration": 0,
    "start_time": "2022-06-06T10:57:04.849Z"
   },
   {
    "duration": 0,
    "start_time": "2022-06-06T10:57:04.850Z"
   },
   {
    "duration": 0,
    "start_time": "2022-06-06T10:57:04.852Z"
   },
   {
    "duration": 1,
    "start_time": "2022-06-06T10:57:04.853Z"
   },
   {
    "duration": 6,
    "start_time": "2022-06-06T11:08:32.142Z"
   },
   {
    "duration": 31,
    "start_time": "2022-06-06T11:08:45.832Z"
   },
   {
    "duration": 5,
    "start_time": "2022-06-06T11:19:43.943Z"
   },
   {
    "duration": 5,
    "start_time": "2022-06-06T11:19:50.883Z"
   },
   {
    "duration": 6,
    "start_time": "2022-06-06T11:19:59.604Z"
   },
   {
    "duration": 5,
    "start_time": "2022-06-06T11:20:19.552Z"
   },
   {
    "duration": 5,
    "start_time": "2022-06-06T11:20:34.079Z"
   },
   {
    "duration": 96,
    "start_time": "2022-06-06T11:20:34.086Z"
   },
   {
    "duration": 13,
    "start_time": "2022-06-06T11:20:34.184Z"
   },
   {
    "duration": 47,
    "start_time": "2022-06-06T11:20:34.199Z"
   },
   {
    "duration": 9,
    "start_time": "2022-06-06T11:20:34.248Z"
   },
   {
    "duration": 177,
    "start_time": "2022-06-06T11:20:34.259Z"
   },
   {
    "duration": 5,
    "start_time": "2022-06-06T11:20:34.438Z"
   },
   {
    "duration": 15,
    "start_time": "2022-06-06T11:20:34.444Z"
   },
   {
    "duration": 6,
    "start_time": "2022-06-06T11:20:34.462Z"
   },
   {
    "duration": 282,
    "start_time": "2022-06-06T11:20:34.470Z"
   },
   {
    "duration": 4,
    "start_time": "2022-06-06T11:20:34.754Z"
   },
   {
    "duration": 16,
    "start_time": "2022-06-06T11:20:34.760Z"
   },
   {
    "duration": 7,
    "start_time": "2022-06-06T11:20:34.778Z"
   },
   {
    "duration": 9,
    "start_time": "2022-06-06T11:20:34.786Z"
   },
   {
    "duration": 55,
    "start_time": "2022-06-06T11:20:34.796Z"
   },
   {
    "duration": 35,
    "start_time": "2022-06-06T11:20:34.853Z"
   },
   {
    "duration": 4,
    "start_time": "2022-06-06T11:20:34.890Z"
   },
   {
    "duration": 4,
    "start_time": "2022-06-06T11:20:39.342Z"
   },
   {
    "duration": 7,
    "start_time": "2022-06-06T11:21:04.563Z"
   },
   {
    "duration": 6,
    "start_time": "2022-06-06T11:21:32.763Z"
   },
   {
    "duration": 14,
    "start_time": "2022-06-06T11:29:30.753Z"
   },
   {
    "duration": 81,
    "start_time": "2022-06-06T11:46:11.922Z"
   },
   {
    "duration": 7,
    "start_time": "2022-06-06T11:46:18.072Z"
   },
   {
    "duration": 6,
    "start_time": "2022-06-06T11:47:11.383Z"
   },
   {
    "duration": 41,
    "start_time": "2022-06-06T11:47:23.222Z"
   },
   {
    "duration": 13,
    "start_time": "2022-06-06T11:47:28.069Z"
   },
   {
    "duration": 6,
    "start_time": "2022-06-06T11:47:37.620Z"
   },
   {
    "duration": 7,
    "start_time": "2022-06-06T11:47:58.112Z"
   },
   {
    "duration": 7,
    "start_time": "2022-06-06T11:48:06.102Z"
   },
   {
    "duration": 7,
    "start_time": "2022-06-06T11:49:06.233Z"
   },
   {
    "duration": 7,
    "start_time": "2022-06-06T11:51:58.769Z"
   },
   {
    "duration": 770,
    "start_time": "2022-06-06T12:26:23.289Z"
   },
   {
    "duration": 104,
    "start_time": "2022-06-06T12:26:24.061Z"
   },
   {
    "duration": 18,
    "start_time": "2022-06-06T12:26:24.166Z"
   },
   {
    "duration": 65,
    "start_time": "2022-06-06T12:26:24.186Z"
   },
   {
    "duration": 5,
    "start_time": "2022-06-06T12:26:24.253Z"
   },
   {
    "duration": 221,
    "start_time": "2022-06-06T12:26:24.259Z"
   },
   {
    "duration": 5,
    "start_time": "2022-06-06T12:26:24.482Z"
   },
   {
    "duration": 8,
    "start_time": "2022-06-06T12:26:24.489Z"
   },
   {
    "duration": 11,
    "start_time": "2022-06-06T12:26:24.498Z"
   },
   {
    "duration": 203,
    "start_time": "2022-06-06T12:26:24.510Z"
   },
   {
    "duration": 17,
    "start_time": "2022-06-06T12:26:24.715Z"
   },
   {
    "duration": 21,
    "start_time": "2022-06-06T12:26:24.734Z"
   },
   {
    "duration": 5,
    "start_time": "2022-06-06T12:26:24.756Z"
   },
   {
    "duration": 6,
    "start_time": "2022-06-06T12:26:24.765Z"
   },
   {
    "duration": 79,
    "start_time": "2022-06-06T12:26:24.772Z"
   },
   {
    "duration": 34,
    "start_time": "2022-06-06T12:26:24.853Z"
   },
   {
    "duration": 4,
    "start_time": "2022-06-06T12:26:24.889Z"
   },
   {
    "duration": 12,
    "start_time": "2022-06-06T12:26:24.895Z"
   },
   {
    "duration": 33,
    "start_time": "2022-06-06T12:26:24.926Z"
   },
   {
    "duration": 11,
    "start_time": "2022-06-06T12:26:24.961Z"
   },
   {
    "duration": 5,
    "start_time": "2022-06-06T12:26:24.973Z"
   },
   {
    "duration": 7,
    "start_time": "2022-06-06T12:26:24.980Z"
   },
   {
    "duration": 85,
    "start_time": "2022-06-06T12:26:24.988Z"
   },
   {
    "duration": 36,
    "start_time": "2022-06-06T12:26:25.075Z"
   },
   {
    "duration": 8,
    "start_time": "2022-06-06T12:26:25.126Z"
   },
   {
    "duration": 21,
    "start_time": "2022-06-06T12:26:25.139Z"
   },
   {
    "duration": 5,
    "start_time": "2022-06-06T12:26:25.162Z"
   },
   {
    "duration": 11,
    "start_time": "2022-06-06T12:26:25.169Z"
   },
   {
    "duration": 14,
    "start_time": "2022-06-06T12:26:25.182Z"
   },
   {
    "duration": 128,
    "start_time": "2022-06-06T12:26:25.198Z"
   },
   {
    "duration": 2401,
    "start_time": "2022-06-06T12:26:25.328Z"
   },
   {
    "duration": 11,
    "start_time": "2022-06-06T12:26:27.732Z"
   },
   {
    "duration": 43,
    "start_time": "2022-06-06T12:26:27.745Z"
   },
   {
    "duration": 464,
    "start_time": "2022-06-06T12:26:27.789Z"
   },
   {
    "duration": 8,
    "start_time": "2022-06-06T12:26:28.255Z"
   },
   {
    "duration": 1661,
    "start_time": "2022-06-06T12:26:28.265Z"
   },
   {
    "duration": 17,
    "start_time": "2022-06-06T12:26:29.928Z"
   },
   {
    "duration": 21,
    "start_time": "2022-06-06T12:26:29.948Z"
   },
   {
    "duration": 12,
    "start_time": "2022-06-06T12:26:29.971Z"
   },
   {
    "duration": 404,
    "start_time": "2022-06-06T12:26:29.985Z"
   },
   {
    "duration": 108,
    "start_time": "2022-06-06T12:26:30.394Z"
   },
   {
    "duration": 37,
    "start_time": "2022-06-06T12:26:30.503Z"
   },
   {
    "duration": 1392,
    "start_time": "2022-06-06T12:26:30.543Z"
   },
   {
    "duration": 15,
    "start_time": "2022-06-06T12:26:31.937Z"
   },
   {
    "duration": 305,
    "start_time": "2022-06-06T12:26:31.955Z"
   },
   {
    "duration": 134,
    "start_time": "2022-06-06T12:26:32.262Z"
   },
   {
    "duration": 16,
    "start_time": "2022-06-06T12:26:32.397Z"
   },
   {
    "duration": 334,
    "start_time": "2022-06-06T12:26:32.414Z"
   },
   {
    "duration": 18,
    "start_time": "2022-06-06T12:26:32.750Z"
   },
   {
    "duration": 233,
    "start_time": "2022-06-06T12:26:32.769Z"
   },
   {
    "duration": 24,
    "start_time": "2022-06-06T12:26:33.004Z"
   },
   {
    "duration": 2482,
    "start_time": "2022-06-06T12:26:33.030Z"
   },
   {
    "duration": 40,
    "start_time": "2022-06-06T12:26:35.514Z"
   },
   {
    "duration": 44,
    "start_time": "2022-06-06T12:26:35.556Z"
   },
   {
    "duration": 170,
    "start_time": "2022-06-06T12:26:35.602Z"
   },
   {
    "duration": 23,
    "start_time": "2022-06-06T12:26:35.775Z"
   },
   {
    "duration": 12,
    "start_time": "2022-06-06T12:26:35.800Z"
   },
   {
    "duration": 370,
    "start_time": "2022-06-06T12:26:35.814Z"
   },
   {
    "duration": 24,
    "start_time": "2022-06-06T12:26:36.185Z"
   },
   {
    "duration": 21,
    "start_time": "2022-06-06T12:26:36.210Z"
   },
   {
    "duration": 135,
    "start_time": "2022-06-06T12:26:36.233Z"
   },
   {
    "duration": 445,
    "start_time": "2022-06-06T12:26:36.369Z"
   },
   {
    "duration": 29,
    "start_time": "2022-06-06T12:26:36.816Z"
   },
   {
    "duration": 201,
    "start_time": "2022-06-06T12:26:36.847Z"
   },
   {
    "duration": 284,
    "start_time": "2022-06-06T12:26:37.051Z"
   },
   {
    "duration": 341,
    "start_time": "2022-06-06T12:26:37.337Z"
   },
   {
    "duration": 282,
    "start_time": "2022-06-06T12:26:37.679Z"
   },
   {
    "duration": 430,
    "start_time": "2022-06-06T12:26:37.962Z"
   },
   {
    "duration": 15,
    "start_time": "2022-06-06T12:26:38.394Z"
   },
   {
    "duration": 23,
    "start_time": "2022-06-06T12:26:38.411Z"
   },
   {
    "duration": 274,
    "start_time": "2022-06-06T12:26:38.436Z"
   },
   {
    "duration": 5,
    "start_time": "2022-06-06T12:26:38.712Z"
   },
   {
    "duration": 7,
    "start_time": "2022-06-06T12:26:38.727Z"
   },
   {
    "duration": 29,
    "start_time": "2022-06-06T12:26:38.736Z"
   },
   {
    "duration": 634,
    "start_time": "2022-06-06T12:26:38.766Z"
   },
   {
    "duration": 14,
    "start_time": "2022-06-06T12:26:39.401Z"
   },
   {
    "duration": 532,
    "start_time": "2022-06-06T12:26:39.427Z"
   },
   {
    "duration": 14,
    "start_time": "2022-06-06T12:26:39.961Z"
   },
   {
    "duration": 281,
    "start_time": "2022-06-06T12:26:39.976Z"
   },
   {
    "duration": 18,
    "start_time": "2022-06-06T12:26:40.258Z"
   },
   {
    "duration": 314,
    "start_time": "2022-06-06T12:26:40.277Z"
   },
   {
    "duration": 470,
    "start_time": "2022-06-06T12:26:40.593Z"
   },
   {
    "duration": 6,
    "start_time": "2022-06-06T12:26:41.065Z"
   },
   {
    "duration": 300,
    "start_time": "2022-06-06T12:26:41.073Z"
   },
   {
    "duration": 297,
    "start_time": "2022-06-06T12:26:41.375Z"
   },
   {
    "duration": 195,
    "start_time": "2022-06-06T12:26:41.674Z"
   },
   {
    "duration": 295,
    "start_time": "2022-06-06T12:26:41.871Z"
   },
   {
    "duration": 347,
    "start_time": "2022-06-06T12:26:42.167Z"
   },
   {
    "duration": 292,
    "start_time": "2022-06-06T12:26:42.515Z"
   },
   {
    "duration": 4,
    "start_time": "2022-06-06T12:26:42.809Z"
   },
   {
    "duration": 793,
    "start_time": "2022-06-06T12:35:58.842Z"
   },
   {
    "duration": 97,
    "start_time": "2022-06-06T12:35:59.638Z"
   },
   {
    "duration": 21,
    "start_time": "2022-06-06T12:35:59.737Z"
   },
   {
    "duration": 35,
    "start_time": "2022-06-06T12:35:59.760Z"
   },
   {
    "duration": 4,
    "start_time": "2022-06-06T12:35:59.796Z"
   },
   {
    "duration": 213,
    "start_time": "2022-06-06T12:35:59.802Z"
   },
   {
    "duration": 13,
    "start_time": "2022-06-06T12:36:00.017Z"
   },
   {
    "duration": 23,
    "start_time": "2022-06-06T12:36:00.031Z"
   },
   {
    "duration": 17,
    "start_time": "2022-06-06T12:36:00.056Z"
   },
   {
    "duration": 166,
    "start_time": "2022-06-06T12:36:00.076Z"
   },
   {
    "duration": 6,
    "start_time": "2022-06-06T12:36:00.244Z"
   },
   {
    "duration": 36,
    "start_time": "2022-06-06T12:36:00.251Z"
   },
   {
    "duration": 29,
    "start_time": "2022-06-06T12:36:00.289Z"
   },
   {
    "duration": 36,
    "start_time": "2022-06-06T12:36:00.320Z"
   },
   {
    "duration": 74,
    "start_time": "2022-06-06T12:36:00.358Z"
   },
   {
    "duration": 53,
    "start_time": "2022-06-06T12:36:00.434Z"
   },
   {
    "duration": 4,
    "start_time": "2022-06-06T12:36:00.489Z"
   },
   {
    "duration": 21,
    "start_time": "2022-06-06T12:36:00.495Z"
   },
   {
    "duration": 44,
    "start_time": "2022-06-06T12:36:00.517Z"
   },
   {
    "duration": 17,
    "start_time": "2022-06-06T12:36:00.562Z"
   },
   {
    "duration": 12,
    "start_time": "2022-06-06T12:36:00.581Z"
   },
   {
    "duration": 39,
    "start_time": "2022-06-06T12:36:00.595Z"
   },
   {
    "duration": 111,
    "start_time": "2022-06-06T12:36:00.636Z"
   },
   {
    "duration": 37,
    "start_time": "2022-06-06T12:36:00.749Z"
   },
   {
    "duration": 4,
    "start_time": "2022-06-06T12:36:00.787Z"
   },
   {
    "duration": 15,
    "start_time": "2022-06-06T12:36:00.793Z"
   },
   {
    "duration": 18,
    "start_time": "2022-06-06T12:36:00.809Z"
   },
   {
    "duration": 17,
    "start_time": "2022-06-06T12:36:00.836Z"
   },
   {
    "duration": 15,
    "start_time": "2022-06-06T12:36:00.855Z"
   },
   {
    "duration": 95,
    "start_time": "2022-06-06T12:36:00.872Z"
   },
   {
    "duration": 2276,
    "start_time": "2022-06-06T12:36:00.969Z"
   },
   {
    "duration": 6,
    "start_time": "2022-06-06T12:36:03.247Z"
   },
   {
    "duration": 61,
    "start_time": "2022-06-06T12:36:03.254Z"
   },
   {
    "duration": 203,
    "start_time": "2022-06-06T12:36:03.317Z"
   },
   {
    "duration": 14,
    "start_time": "2022-06-06T12:36:03.522Z"
   },
   {
    "duration": 1026,
    "start_time": "2022-06-06T12:36:03.538Z"
   },
   {
    "duration": 13,
    "start_time": "2022-06-06T12:36:04.566Z"
   },
   {
    "duration": 11,
    "start_time": "2022-06-06T12:36:04.581Z"
   },
   {
    "duration": 12,
    "start_time": "2022-06-06T12:36:04.593Z"
   },
   {
    "duration": 374,
    "start_time": "2022-06-06T12:36:04.607Z"
   },
   {
    "duration": 96,
    "start_time": "2022-06-06T12:36:04.982Z"
   },
   {
    "duration": 23,
    "start_time": "2022-06-06T12:36:05.080Z"
   },
   {
    "duration": 1366,
    "start_time": "2022-06-06T12:36:05.105Z"
   },
   {
    "duration": 10,
    "start_time": "2022-06-06T12:36:06.473Z"
   },
   {
    "duration": 302,
    "start_time": "2022-06-06T12:36:06.484Z"
   },
   {
    "duration": 134,
    "start_time": "2022-06-06T12:36:06.788Z"
   },
   {
    "duration": 25,
    "start_time": "2022-06-06T12:36:06.926Z"
   },
   {
    "duration": 338,
    "start_time": "2022-06-06T12:36:06.954Z"
   },
   {
    "duration": 16,
    "start_time": "2022-06-06T12:36:07.294Z"
   },
   {
    "duration": 228,
    "start_time": "2022-06-06T12:36:07.311Z"
   },
   {
    "duration": 22,
    "start_time": "2022-06-06T12:36:07.541Z"
   },
   {
    "duration": 2320,
    "start_time": "2022-06-06T12:36:07.565Z"
   },
   {
    "duration": 21,
    "start_time": "2022-06-06T12:36:09.887Z"
   },
   {
    "duration": 19,
    "start_time": "2022-06-06T12:36:09.910Z"
   },
   {
    "duration": 118,
    "start_time": "2022-06-06T12:36:09.932Z"
   },
   {
    "duration": 36,
    "start_time": "2022-06-06T12:36:10.052Z"
   },
   {
    "duration": 11,
    "start_time": "2022-06-06T12:36:10.090Z"
   },
   {
    "duration": 311,
    "start_time": "2022-06-06T12:36:10.102Z"
   },
   {
    "duration": 34,
    "start_time": "2022-06-06T12:36:10.415Z"
   },
   {
    "duration": 17,
    "start_time": "2022-06-06T12:36:10.452Z"
   },
   {
    "duration": 131,
    "start_time": "2022-06-06T12:36:10.470Z"
   },
   {
    "duration": 475,
    "start_time": "2022-06-06T12:36:10.603Z"
   },
   {
    "duration": 19,
    "start_time": "2022-06-06T12:36:11.079Z"
   },
   {
    "duration": 184,
    "start_time": "2022-06-06T12:36:11.099Z"
   },
   {
    "duration": 313,
    "start_time": "2022-06-06T12:36:11.285Z"
   },
   {
    "duration": 382,
    "start_time": "2022-06-06T12:36:11.600Z"
   },
   {
    "duration": 284,
    "start_time": "2022-06-06T12:36:11.984Z"
   },
   {
    "duration": 453,
    "start_time": "2022-06-06T12:36:12.270Z"
   },
   {
    "duration": 23,
    "start_time": "2022-06-06T12:36:12.727Z"
   },
   {
    "duration": 13,
    "start_time": "2022-06-06T12:36:12.752Z"
   },
   {
    "duration": 316,
    "start_time": "2022-06-06T12:36:12.767Z"
   },
   {
    "duration": 7,
    "start_time": "2022-06-06T12:36:13.085Z"
   },
   {
    "duration": 14,
    "start_time": "2022-06-06T12:36:13.093Z"
   },
   {
    "duration": 32,
    "start_time": "2022-06-06T12:36:13.109Z"
   },
   {
    "duration": 649,
    "start_time": "2022-06-06T12:36:13.144Z"
   },
   {
    "duration": 14,
    "start_time": "2022-06-06T12:36:13.794Z"
   },
   {
    "duration": 536,
    "start_time": "2022-06-06T12:36:13.810Z"
   },
   {
    "duration": 16,
    "start_time": "2022-06-06T12:36:14.348Z"
   },
   {
    "duration": 271,
    "start_time": "2022-06-06T12:36:14.365Z"
   },
   {
    "duration": 25,
    "start_time": "2022-06-06T12:36:14.639Z"
   },
   {
    "duration": 344,
    "start_time": "2022-06-06T12:36:14.666Z"
   },
   {
    "duration": 483,
    "start_time": "2022-06-06T12:36:15.016Z"
   },
   {
    "duration": 5,
    "start_time": "2022-06-06T12:36:15.501Z"
   },
   {
    "duration": 311,
    "start_time": "2022-06-06T12:36:15.508Z"
   },
   {
    "duration": 246,
    "start_time": "2022-06-06T12:36:15.821Z"
   },
   {
    "duration": 158,
    "start_time": "2022-06-06T12:36:16.069Z"
   },
   {
    "duration": 270,
    "start_time": "2022-06-06T12:36:16.229Z"
   },
   {
    "duration": 318,
    "start_time": "2022-06-06T12:36:16.501Z"
   },
   {
    "duration": 293,
    "start_time": "2022-06-06T12:36:16.821Z"
   },
   {
    "duration": 919,
    "start_time": "2022-06-06T15:03:56.911Z"
   },
   {
    "duration": 163,
    "start_time": "2022-06-06T15:03:58.061Z"
   },
   {
    "duration": 15,
    "start_time": "2022-06-06T15:03:58.850Z"
   },
   {
    "duration": 39,
    "start_time": "2022-06-06T15:04:01.109Z"
   },
   {
    "duration": 4,
    "start_time": "2022-06-06T15:04:09.864Z"
   },
   {
    "duration": 197,
    "start_time": "2022-06-06T15:04:10.430Z"
   },
   {
    "duration": 4,
    "start_time": "2022-06-06T15:04:11.950Z"
   },
   {
    "duration": 4,
    "start_time": "2022-06-06T15:04:12.410Z"
   },
   {
    "duration": 5,
    "start_time": "2022-06-06T15:04:14.346Z"
   },
   {
    "duration": 244,
    "start_time": "2022-06-06T15:04:14.651Z"
   },
   {
    "duration": 5,
    "start_time": "2022-06-06T15:04:16.055Z"
   },
   {
    "duration": 9,
    "start_time": "2022-06-06T15:04:16.325Z"
   },
   {
    "duration": 6,
    "start_time": "2022-06-06T15:04:16.657Z"
   },
   {
    "duration": 6,
    "start_time": "2022-06-06T15:04:27.417Z"
   },
   {
    "duration": 6,
    "start_time": "2022-06-06T15:05:36.904Z"
   },
   {
    "duration": 651,
    "start_time": "2022-06-06T15:07:45.660Z"
   },
   {
    "duration": 519,
    "start_time": "2022-06-06T15:07:49.657Z"
   },
   {
    "duration": 50,
    "start_time": "2022-06-06T15:07:54.401Z"
   },
   {
    "duration": 5,
    "start_time": "2022-06-06T15:08:32.163Z"
   },
   {
    "duration": 5,
    "start_time": "2022-06-06T15:08:39.741Z"
   },
   {
    "duration": 54,
    "start_time": "2022-06-06T15:11:28.843Z"
   },
   {
    "duration": 3,
    "start_time": "2022-06-06T15:13:05.126Z"
   },
   {
    "duration": 102,
    "start_time": "2022-06-06T15:13:05.521Z"
   },
   {
    "duration": 16,
    "start_time": "2022-06-06T15:13:05.696Z"
   },
   {
    "duration": 36,
    "start_time": "2022-06-06T15:13:05.866Z"
   },
   {
    "duration": 6,
    "start_time": "2022-06-06T15:13:07.259Z"
   },
   {
    "duration": 253,
    "start_time": "2022-06-06T15:13:07.485Z"
   },
   {
    "duration": 5,
    "start_time": "2022-06-06T15:13:07.741Z"
   },
   {
    "duration": 6,
    "start_time": "2022-06-06T15:13:07.914Z"
   },
   {
    "duration": 5,
    "start_time": "2022-06-06T15:13:08.966Z"
   },
   {
    "duration": 170,
    "start_time": "2022-06-06T15:13:09.185Z"
   },
   {
    "duration": 6,
    "start_time": "2022-06-06T15:13:09.444Z"
   },
   {
    "duration": 8,
    "start_time": "2022-06-06T15:13:09.995Z"
   },
   {
    "duration": 5,
    "start_time": "2022-06-06T15:13:10.269Z"
   },
   {
    "duration": 5,
    "start_time": "2022-06-06T15:13:14.179Z"
   },
   {
    "duration": 55,
    "start_time": "2022-06-06T15:13:16.702Z"
   },
   {
    "duration": 29,
    "start_time": "2022-06-06T15:13:20.509Z"
   },
   {
    "duration": 31,
    "start_time": "2022-06-06T15:13:37.568Z"
   },
   {
    "duration": 9,
    "start_time": "2022-06-06T15:14:38.440Z"
   },
   {
    "duration": 32,
    "start_time": "2022-06-06T15:14:52.113Z"
   },
   {
    "duration": 29,
    "start_time": "2022-06-06T15:17:27.182Z"
   },
   {
    "duration": 56,
    "start_time": "2022-06-06T15:22:00.204Z"
   },
   {
    "duration": 7,
    "start_time": "2022-06-06T15:22:04.924Z"
   },
   {
    "duration": 16,
    "start_time": "2022-06-06T15:22:22.815Z"
   },
   {
    "duration": 7,
    "start_time": "2022-06-06T15:22:59.482Z"
   },
   {
    "duration": 26,
    "start_time": "2022-06-06T15:22:59.924Z"
   },
   {
    "duration": 11,
    "start_time": "2022-06-06T15:23:00.591Z"
   },
   {
    "duration": 6,
    "start_time": "2022-06-06T15:23:02.641Z"
   },
   {
    "duration": 5,
    "start_time": "2022-06-06T15:23:09.329Z"
   },
   {
    "duration": 55,
    "start_time": "2022-06-06T15:23:10.017Z"
   },
   {
    "duration": 34,
    "start_time": "2022-06-06T15:23:36.982Z"
   },
   {
    "duration": 7,
    "start_time": "2022-06-06T15:24:54.123Z"
   },
   {
    "duration": 5,
    "start_time": "2022-06-06T15:25:02.406Z"
   },
   {
    "duration": 4,
    "start_time": "2022-06-06T15:29:39.291Z"
   },
   {
    "duration": 28,
    "start_time": "2022-06-06T15:30:36.903Z"
   },
   {
    "duration": 3,
    "start_time": "2022-06-06T15:52:44.050Z"
   },
   {
    "duration": 94,
    "start_time": "2022-06-06T15:52:44.441Z"
   },
   {
    "duration": 16,
    "start_time": "2022-06-06T15:52:44.657Z"
   },
   {
    "duration": 51,
    "start_time": "2022-06-06T15:52:44.818Z"
   },
   {
    "duration": 5,
    "start_time": "2022-06-06T15:52:46.120Z"
   },
   {
    "duration": 187,
    "start_time": "2022-06-06T15:52:46.317Z"
   },
   {
    "duration": 5,
    "start_time": "2022-06-06T15:52:46.511Z"
   },
   {
    "duration": 6,
    "start_time": "2022-06-06T15:52:46.724Z"
   },
   {
    "duration": 6,
    "start_time": "2022-06-06T15:52:47.556Z"
   },
   {
    "duration": 178,
    "start_time": "2022-06-06T15:52:47.751Z"
   },
   {
    "duration": 5,
    "start_time": "2022-06-06T15:52:47.993Z"
   },
   {
    "duration": 7,
    "start_time": "2022-06-06T15:52:48.213Z"
   },
   {
    "duration": 6,
    "start_time": "2022-06-06T15:52:48.447Z"
   },
   {
    "duration": 5,
    "start_time": "2022-06-06T15:52:49.411Z"
   },
   {
    "duration": 65,
    "start_time": "2022-06-06T15:52:49.639Z"
   },
   {
    "duration": 30,
    "start_time": "2022-06-06T15:52:49.881Z"
   },
   {
    "duration": 51,
    "start_time": "2022-06-06T15:52:50.126Z"
   },
   {
    "duration": 7,
    "start_time": "2022-06-06T15:52:50.455Z"
   },
   {
    "duration": 5,
    "start_time": "2022-06-06T15:52:50.892Z"
   },
   {
    "duration": 6,
    "start_time": "2022-06-06T15:52:53.228Z"
   },
   {
    "duration": 26,
    "start_time": "2022-06-06T15:52:53.702Z"
   },
   {
    "duration": 10,
    "start_time": "2022-06-06T15:52:54.230Z"
   },
   {
    "duration": 10,
    "start_time": "2022-06-06T15:52:54.862Z"
   },
   {
    "duration": 5,
    "start_time": "2022-06-06T15:52:56.553Z"
   },
   {
    "duration": 173,
    "start_time": "2022-06-06T15:52:58.126Z"
   },
   {
    "duration": 4,
    "start_time": "2022-06-06T15:52:59.361Z"
   },
   {
    "duration": 6,
    "start_time": "2022-06-06T15:53:07.184Z"
   },
   {
    "duration": 4,
    "start_time": "2022-06-06T15:53:07.438Z"
   },
   {
    "duration": 5,
    "start_time": "2022-06-06T15:53:07.832Z"
   },
   {
    "duration": 4,
    "start_time": "2022-06-06T15:53:12.186Z"
   },
   {
    "duration": 78,
    "start_time": "2022-06-06T15:53:12.687Z"
   },
   {
    "duration": 1862,
    "start_time": "2022-06-06T15:53:52.458Z"
   },
   {
    "duration": 5,
    "start_time": "2022-06-06T15:53:58.699Z"
   },
   {
    "duration": 36,
    "start_time": "2022-06-06T15:54:32.056Z"
   },
   {
    "duration": 4,
    "start_time": "2022-06-06T15:59:01.303Z"
   },
   {
    "duration": 5,
    "start_time": "2022-06-06T15:59:05.602Z"
   },
   {
    "duration": 174,
    "start_time": "2022-06-06T15:59:05.913Z"
   },
   {
    "duration": 8,
    "start_time": "2022-06-06T15:59:08.946Z"
   },
   {
    "duration": 807,
    "start_time": "2022-06-06T15:59:09.311Z"
   },
   {
    "duration": 18,
    "start_time": "2022-06-06T15:59:14.736Z"
   },
   {
    "duration": 34,
    "start_time": "2022-06-06T16:00:25.696Z"
   },
   {
    "duration": 13,
    "start_time": "2022-06-06T16:00:39.487Z"
   },
   {
    "duration": 10,
    "start_time": "2022-06-06T16:00:43.152Z"
   },
   {
    "duration": 38,
    "start_time": "2022-06-06T16:00:56.657Z"
   },
   {
    "duration": 6,
    "start_time": "2022-06-06T16:01:12.500Z"
   },
   {
    "duration": 78,
    "start_time": "2022-06-06T16:02:03.046Z"
   },
   {
    "duration": 407,
    "start_time": "2022-06-06T16:02:23.110Z"
   },
   {
    "duration": 105,
    "start_time": "2022-06-06T16:02:25.526Z"
   },
   {
    "duration": 27,
    "start_time": "2022-06-06T16:02:31.847Z"
   },
   {
    "duration": 1281,
    "start_time": "2022-06-06T16:02:32.562Z"
   },
   {
    "duration": 10,
    "start_time": "2022-06-06T16:02:39.258Z"
   },
   {
    "duration": 254,
    "start_time": "2022-06-06T16:02:39.681Z"
   },
   {
    "duration": 130,
    "start_time": "2022-06-06T16:02:49.627Z"
   },
   {
    "duration": 25,
    "start_time": "2022-06-06T16:02:52.143Z"
   },
   {
    "duration": 415,
    "start_time": "2022-06-06T16:02:53.886Z"
   },
   {
    "duration": 17,
    "start_time": "2022-06-06T16:02:56.648Z"
   },
   {
    "duration": 226,
    "start_time": "2022-06-06T16:02:59.870Z"
   },
   {
    "duration": 18,
    "start_time": "2022-06-06T16:03:03.237Z"
   },
   {
    "duration": 2145,
    "start_time": "2022-06-06T16:03:05.694Z"
   },
   {
    "duration": 23,
    "start_time": "2022-06-06T16:03:08.981Z"
   },
   {
    "duration": 10,
    "start_time": "2022-06-06T16:03:11.520Z"
   },
   {
    "duration": 108,
    "start_time": "2022-06-06T16:03:16.093Z"
   },
   {
    "duration": 24,
    "start_time": "2022-06-06T16:03:18.155Z"
   },
   {
    "duration": 12,
    "start_time": "2022-06-06T16:03:20.100Z"
   },
   {
    "duration": 426,
    "start_time": "2022-06-06T16:03:55.255Z"
   },
   {
    "duration": 36,
    "start_time": "2022-06-06T16:06:55.229Z"
   },
   {
    "duration": 11,
    "start_time": "2022-06-06T16:07:09.189Z"
   },
   {
    "duration": 47,
    "start_time": "2022-06-06T16:08:52.066Z"
   },
   {
    "duration": 115,
    "start_time": "2022-06-06T16:11:28.116Z"
   },
   {
    "duration": 331,
    "start_time": "2022-06-06T16:11:31.868Z"
   },
   {
    "duration": 20,
    "start_time": "2022-06-06T16:11:49.491Z"
   },
   {
    "duration": 4,
    "start_time": "2022-06-06T16:15:00.740Z"
   },
   {
    "duration": 4,
    "start_time": "2022-06-06T16:15:57.050Z"
   },
   {
    "duration": 4,
    "start_time": "2022-06-06T16:16:13.535Z"
   },
   {
    "duration": 8,
    "start_time": "2022-06-06T16:21:06.160Z"
   },
   {
    "duration": 9,
    "start_time": "2022-06-06T16:21:21.607Z"
   },
   {
    "duration": 3,
    "start_time": "2022-06-06T16:22:26.486Z"
   },
   {
    "duration": 64,
    "start_time": "2022-06-06T16:44:28.355Z"
   },
   {
    "duration": 198,
    "start_time": "2022-06-06T16:44:59.043Z"
   },
   {
    "duration": 6,
    "start_time": "2022-06-06T16:45:20.789Z"
   },
   {
    "duration": 34,
    "start_time": "2022-06-06T16:46:45.461Z"
   },
   {
    "duration": 294,
    "start_time": "2022-06-06T16:47:01.862Z"
   },
   {
    "duration": 6,
    "start_time": "2022-06-06T16:47:38.132Z"
   },
   {
    "duration": 34,
    "start_time": "2022-06-06T16:51:06.892Z"
   },
   {
    "duration": 430,
    "start_time": "2022-06-06T16:51:31.752Z"
   },
   {
    "duration": 6,
    "start_time": "2022-06-06T16:51:34.179Z"
   },
   {
    "duration": 268,
    "start_time": "2022-06-06T16:51:35.897Z"
   },
   {
    "duration": 543,
    "start_time": "2022-06-06T16:51:38.413Z"
   },
   {
    "duration": 17,
    "start_time": "2022-06-06T16:51:41.693Z"
   },
   {
    "duration": 12,
    "start_time": "2022-06-06T16:51:45.581Z"
   },
   {
    "duration": 312,
    "start_time": "2022-06-06T16:51:46.942Z"
   },
   {
    "duration": 5,
    "start_time": "2022-06-06T16:51:54.122Z"
   },
   {
    "duration": 6,
    "start_time": "2022-06-06T16:51:55.375Z"
   },
   {
    "duration": 17,
    "start_time": "2022-06-06T16:51:56.742Z"
   },
   {
    "duration": 497,
    "start_time": "2022-06-06T16:51:58.143Z"
   },
   {
    "duration": 16,
    "start_time": "2022-06-06T16:52:03.701Z"
   },
   {
    "duration": 613,
    "start_time": "2022-06-06T16:52:07.602Z"
   },
   {
    "duration": 298,
    "start_time": "2022-06-06T16:52:11.347Z"
   },
   {
    "duration": 15,
    "start_time": "2022-06-06T16:52:16.539Z"
   },
   {
    "duration": 18,
    "start_time": "2022-06-06T16:52:21.283Z"
   },
   {
    "duration": 358,
    "start_time": "2022-06-06T16:52:24.318Z"
   },
   {
    "duration": 7,
    "start_time": "2022-06-06T16:52:29.262Z"
   },
   {
    "duration": 291,
    "start_time": "2022-06-06T16:52:32.559Z"
   },
   {
    "duration": 247,
    "start_time": "2022-06-06T16:52:35.381Z"
   },
   {
    "duration": 173,
    "start_time": "2022-06-06T16:52:38.554Z"
   },
   {
    "duration": 304,
    "start_time": "2022-06-06T16:52:40.347Z"
   },
   {
    "duration": 311,
    "start_time": "2022-06-06T16:52:43.347Z"
   },
   {
    "duration": 40,
    "start_time": "2022-06-06T18:34:51.948Z"
   },
   {
    "duration": 762,
    "start_time": "2022-06-06T21:44:58.498Z"
   },
   {
    "duration": 323,
    "start_time": "2022-06-06T21:44:59.262Z"
   },
   {
    "duration": 15,
    "start_time": "2022-06-06T21:44:59.587Z"
   },
   {
    "duration": 36,
    "start_time": "2022-06-06T21:44:59.605Z"
   },
   {
    "duration": 6,
    "start_time": "2022-06-06T21:44:59.643Z"
   },
   {
    "duration": 204,
    "start_time": "2022-06-06T21:44:59.651Z"
   },
   {
    "duration": 7,
    "start_time": "2022-06-06T21:44:59.857Z"
   },
   {
    "duration": 7,
    "start_time": "2022-06-06T21:44:59.865Z"
   },
   {
    "duration": 14,
    "start_time": "2022-06-06T21:44:59.874Z"
   },
   {
    "duration": 184,
    "start_time": "2022-06-06T21:44:59.891Z"
   },
   {
    "duration": 6,
    "start_time": "2022-06-06T21:45:00.077Z"
   },
   {
    "duration": 18,
    "start_time": "2022-06-06T21:45:00.085Z"
   },
   {
    "duration": 24,
    "start_time": "2022-06-06T21:45:00.106Z"
   },
   {
    "duration": 25,
    "start_time": "2022-06-06T21:45:00.132Z"
   },
   {
    "duration": 58,
    "start_time": "2022-06-06T21:45:00.159Z"
   },
   {
    "duration": 29,
    "start_time": "2022-06-06T21:45:00.218Z"
   },
   {
    "duration": 49,
    "start_time": "2022-06-06T21:45:00.248Z"
   },
   {
    "duration": 5,
    "start_time": "2022-06-06T21:45:00.299Z"
   },
   {
    "duration": 44,
    "start_time": "2022-06-06T21:45:00.305Z"
   },
   {
    "duration": 34,
    "start_time": "2022-06-06T21:45:00.350Z"
   },
   {
    "duration": 48,
    "start_time": "2022-06-06T21:45:00.386Z"
   },
   {
    "duration": 10,
    "start_time": "2022-06-06T21:45:00.436Z"
   },
   {
    "duration": 13,
    "start_time": "2022-06-06T21:45:00.448Z"
   },
   {
    "duration": 27,
    "start_time": "2022-06-06T21:45:00.463Z"
   },
   {
    "duration": 62,
    "start_time": "2022-06-06T21:45:00.492Z"
   },
   {
    "duration": 4,
    "start_time": "2022-06-06T21:45:00.556Z"
   },
   {
    "duration": 12,
    "start_time": "2022-06-06T21:45:00.561Z"
   },
   {
    "duration": 10,
    "start_time": "2022-06-06T21:45:00.578Z"
   },
   {
    "duration": 30,
    "start_time": "2022-06-06T21:45:00.590Z"
   },
   {
    "duration": 21,
    "start_time": "2022-06-06T21:45:00.622Z"
   },
   {
    "duration": 92,
    "start_time": "2022-06-06T21:45:00.644Z"
   },
   {
    "duration": 1895,
    "start_time": "2022-06-06T21:45:00.738Z"
   },
   {
    "duration": 5,
    "start_time": "2022-06-06T21:45:02.635Z"
   },
   {
    "duration": 15,
    "start_time": "2022-06-06T21:45:02.642Z"
   },
   {
    "duration": 184,
    "start_time": "2022-06-06T21:45:02.659Z"
   },
   {
    "duration": 10,
    "start_time": "2022-06-06T21:45:02.845Z"
   },
   {
    "duration": 943,
    "start_time": "2022-06-06T21:45:02.858Z"
   },
   {
    "duration": 23,
    "start_time": "2022-06-06T21:45:03.803Z"
   },
   {
    "duration": 15,
    "start_time": "2022-06-06T21:45:03.828Z"
   },
   {
    "duration": 16,
    "start_time": "2022-06-06T21:45:03.845Z"
   },
   {
    "duration": 351,
    "start_time": "2022-06-06T21:45:03.863Z"
   },
   {
    "duration": 93,
    "start_time": "2022-06-06T21:45:04.216Z"
   },
   {
    "duration": 32,
    "start_time": "2022-06-06T21:45:04.310Z"
   },
   {
    "duration": 1272,
    "start_time": "2022-06-06T21:45:04.344Z"
   },
   {
    "duration": 11,
    "start_time": "2022-06-06T21:45:05.617Z"
   },
   {
    "duration": 243,
    "start_time": "2022-06-06T21:45:05.629Z"
   },
   {
    "duration": 119,
    "start_time": "2022-06-06T21:45:05.873Z"
   },
   {
    "duration": 17,
    "start_time": "2022-06-06T21:45:05.994Z"
   },
   {
    "duration": 291,
    "start_time": "2022-06-06T21:45:06.025Z"
   },
   {
    "duration": 21,
    "start_time": "2022-06-06T21:45:06.317Z"
   },
   {
    "duration": 227,
    "start_time": "2022-06-06T21:45:06.340Z"
   },
   {
    "duration": 17,
    "start_time": "2022-06-06T21:45:06.568Z"
   },
   {
    "duration": 2218,
    "start_time": "2022-06-06T21:45:06.586Z"
   },
   {
    "duration": 31,
    "start_time": "2022-06-06T21:45:08.806Z"
   },
   {
    "duration": 13,
    "start_time": "2022-06-06T21:45:08.839Z"
   },
   {
    "duration": 117,
    "start_time": "2022-06-06T21:45:08.854Z"
   },
   {
    "duration": 21,
    "start_time": "2022-06-06T21:45:08.973Z"
   },
   {
    "duration": 12,
    "start_time": "2022-06-06T21:45:08.996Z"
   },
   {
    "duration": 328,
    "start_time": "2022-06-06T21:45:09.009Z"
   },
   {
    "duration": 35,
    "start_time": "2022-06-06T21:45:09.339Z"
   },
   {
    "duration": 14,
    "start_time": "2022-06-06T21:45:09.376Z"
   },
   {
    "duration": 135,
    "start_time": "2022-06-06T21:45:09.392Z"
   },
   {
    "duration": 424,
    "start_time": "2022-06-06T21:45:09.528Z"
   },
   {
    "duration": 20,
    "start_time": "2022-06-06T21:45:09.953Z"
   },
   {
    "duration": 3,
    "start_time": "2022-06-06T21:45:09.975Z"
   },
   {
    "duration": 196,
    "start_time": "2022-06-06T21:45:09.979Z"
   },
   {
    "duration": 6,
    "start_time": "2022-06-06T21:45:10.177Z"
   },
   {
    "duration": 291,
    "start_time": "2022-06-06T21:45:10.184Z"
   },
   {
    "duration": 325,
    "start_time": "2022-06-06T21:45:10.477Z"
   },
   {
    "duration": 6,
    "start_time": "2022-06-06T21:45:10.803Z"
   },
   {
    "duration": 242,
    "start_time": "2022-06-06T21:45:10.810Z"
   },
   {
    "duration": 398,
    "start_time": "2022-06-06T21:45:11.054Z"
   },
   {
    "duration": 17,
    "start_time": "2022-06-06T21:45:11.454Z"
   },
   {
    "duration": 8,
    "start_time": "2022-06-06T21:45:11.473Z"
   },
   {
    "duration": 287,
    "start_time": "2022-06-06T21:45:11.482Z"
   },
   {
    "duration": 5,
    "start_time": "2022-06-06T21:45:11.771Z"
   },
   {
    "duration": 22,
    "start_time": "2022-06-06T21:45:11.777Z"
   },
   {
    "duration": 30,
    "start_time": "2022-06-06T21:45:11.801Z"
   },
   {
    "duration": 597,
    "start_time": "2022-06-06T21:45:11.832Z"
   },
   {
    "duration": 15,
    "start_time": "2022-06-06T21:45:12.431Z"
   },
   {
    "duration": 470,
    "start_time": "2022-06-06T21:45:12.448Z"
   },
   {
    "duration": 20,
    "start_time": "2022-06-06T21:45:12.928Z"
   },
   {
    "duration": 264,
    "start_time": "2022-06-06T21:45:12.949Z"
   },
   {
    "duration": 22,
    "start_time": "2022-06-06T21:45:13.215Z"
   },
   {
    "duration": 442,
    "start_time": "2022-06-06T21:45:13.239Z"
   },
   {
    "duration": 331,
    "start_time": "2022-06-06T21:45:13.683Z"
   },
   {
    "duration": 12,
    "start_time": "2022-06-06T21:45:14.016Z"
   },
   {
    "duration": 285,
    "start_time": "2022-06-06T21:45:14.030Z"
   },
   {
    "duration": 285,
    "start_time": "2022-06-06T21:45:14.317Z"
   },
   {
    "duration": 162,
    "start_time": "2022-06-06T21:45:14.604Z"
   },
   {
    "duration": 266,
    "start_time": "2022-06-06T21:45:14.769Z"
   },
   {
    "duration": 321,
    "start_time": "2022-06-06T21:45:15.037Z"
   },
   {
    "duration": 279,
    "start_time": "2022-06-06T21:45:15.360Z"
   }
  ],
  "kernelspec": {
   "display_name": "Python 3 (ipykernel)",
   "language": "python",
   "name": "python3"
  },
  "language_info": {
   "codemirror_mode": {
    "name": "ipython",
    "version": 3
   },
   "file_extension": ".py",
   "mimetype": "text/x-python",
   "name": "python",
   "nbconvert_exporter": "python",
   "pygments_lexer": "ipython3",
   "version": "3.10.6"
  },
  "toc": {
   "base_numbering": 1,
   "nav_menu": {},
   "number_sections": true,
   "sideBar": true,
   "skip_h1_title": true,
   "title_cell": "Содержание",
   "title_sidebar": "Contents",
   "toc_cell": true,
   "toc_position": {
    "height": "calc(100% - 180px)",
    "left": "10px",
    "top": "150px",
    "width": "312px"
   },
   "toc_section_display": true,
   "toc_window_display": true
  }
 },
 "nbformat": 4,
 "nbformat_minor": 4
}
