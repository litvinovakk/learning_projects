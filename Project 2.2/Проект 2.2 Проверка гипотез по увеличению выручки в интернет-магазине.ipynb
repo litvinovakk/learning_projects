{
 "cells": [
  {
   "cell_type": "markdown",
   "metadata": {},
   "source": [
    "# ПРОЕКТНАЯ РАБОТА"
   ]
  },
  {
   "cell_type": "markdown",
   "metadata": {},
   "source": [
    "# Описание проекта\n",
    "\n",
    "## Основная задача:\n",
    "\n",
    "Необходимо приоритизировать гипотезы, запустить A/B-тест и проанализировать результаты для увеличения выручки интернет-магазина.\n",
    "\n",
    "\n",
    "# Часть 1. Приоритизация гипотез.\n",
    "\n",
    "Задачи:\n",
    "- Примените фреймворк ICE для приоритизации гипотез. Отсортируйте их по убыванию приоритета.\n",
    "- Примените фреймворк RICE для приоритизации гипотез. Отсортируйте их по убыванию приоритета.\n",
    "- Укажите, как изменилась приоритизация гипотез при применении RICE вместо ICE. Объясните, почему так произошло.\n",
    "\n",
    "# Часть 2. Анализ A/B-теста\n",
    "\n",
    "Задача:\n",
    "Проанализируйте A/B-тест:\n",
    "1.\tПостройте график кумулятивной выручки по группам. Сделайте выводы и предположения.\n",
    "2.\tПостройте график кумулятивного среднего чека по группам. Сделайте выводы и предположения.\n",
    "3.\tПостройте график относительного изменения кумулятивного среднего чека группы B к группе A. Сделайте выводы и предположения.\n",
    "4.\tПостройте график кумулятивной конверсии по группам. Сделайте выводы и предположения.\n",
    "5.\tПостройте график относительного изменения кумулятивной конверсии группы B к группе A. Сделайте выводы и предположения.\n",
    "6.\tПостройте точечный график количества заказов по пользователям. Сделайте выводы и предположения.\n",
    "7.\tПосчитайте 95-й и 99-й перцентили количества заказов на пользователя. Выберите границу для определения аномальных пользователей.\n",
    "8.\tПостройте точечный график стоимостей заказов. Сделайте выводы и предположения.\n",
    "9.\tПосчитайте 95-й и 99-й перцентили стоимости заказов. Выберите границу для определения аномальных заказов.\n",
    "10.\tПосчитайте статистическую значимость различий в конверсии между группами по «сырым» данным. Сделайте выводы и предположения.\n",
    "11.\tПосчитайте статистическую значимость различий в среднем чеке заказа между группами по «сырым» данным. Сделайте выводы и предположения.\n",
    "12.\tПосчитайте статистическую значимость различий в конверсии между группами по «очищенным» данным. Сделайте выводы и предположения.\n",
    "13.\tПосчитайте статистическую значимость различий в среднем чеке заказа между группами по «очищенным» данным. Сделайте выводы и предположения.\n",
    "14.\tПримите решение по результатам теста и объясните его. Варианты решений: 1. Остановить тест, зафиксировать победу одной из групп. 2. Остановить тест, зафиксировать отсутствие различий между группами. 3. Продолжить тест.\n",
    "\n",
    "# Описание данных\n",
    "\n",
    "Данные для первой части:\n",
    "\n",
    "Файл /datasets/hypothesis.csv. \n",
    "\n",
    "- Hypothesis — краткое описание гипотезы;\n",
    "- Reach — охват пользователей по 10-балльной шкале;\n",
    "- Impact — влияние на пользователей по 10-балльной шкале;\n",
    "- Confidence — уверенность в гипотезе по 10-балльной шкале;\n",
    "- Efforts — затраты ресурсов на проверку гипотезы по 10-балльной шкале. Чем больше значение Efforts, тем дороже проверка гипотезы.\n",
    "\n",
    "Данные для второй части:\n",
    "\n",
    "Файл /datasets/orders.csv. \n",
    "- transactionId — идентификатор заказа;\n",
    "- visitorId — идентификатор пользователя, совершившего заказ;\n",
    "- date — дата, когда был совершён заказ;\n",
    "- revenue — выручка заказа;\n",
    "- group — группа A/B-теста, в которую попал заказ.\n",
    "\n",
    "Файл /datasets/visitors.csv. \n",
    "- date — дата;\n",
    "- group — группа A/B-теста;\n",
    "- visitors — количество пользователей в указанную дату в указанной группе A/B-теста"
   ]
  },
  {
   "cell_type": "markdown",
   "metadata": {},
   "source": [
    "## Шаг 1. Загрузка данных и подготовка их к анализу"
   ]
  },
  {
   "cell_type": "markdown",
   "metadata": {},
   "source": [
    "### Загрузка и первичный анализ данных"
   ]
  },
  {
   "cell_type": "code",
   "execution_count": 1,
   "metadata": {},
   "outputs": [],
   "source": [
    "import pandas as pd\n",
    "import datetime as dt\n",
    "import numpy as np\n",
    "import scipy.stats as stats\n",
    "import matplotlib.pyplot as plt\n",
    "from pandas.plotting import register_matplotlib_converters\n",
    "import warnings"
   ]
  },
  {
   "cell_type": "code",
   "execution_count": 2,
   "metadata": {},
   "outputs": [],
   "source": [
    "hypothesis = pd.read_csv('./hypothesis.csv')\n",
    "orders = pd.read_csv('./orders.csv') \n",
    "visitors = pd.read_csv('./visitors.csv')"
   ]
  },
  {
   "cell_type": "code",
   "execution_count": 3,
   "metadata": {},
   "outputs": [
    {
     "name": "stdout",
     "output_type": "stream",
     "text": [
      "<class 'pandas.core.frame.DataFrame'>\n",
      "RangeIndex: 9 entries, 0 to 8\n",
      "Data columns (total 5 columns):\n",
      " #   Column      Non-Null Count  Dtype \n",
      "---  ------      --------------  ----- \n",
      " 0   Hypothesis  9 non-null      object\n",
      " 1   Reach       9 non-null      int64 \n",
      " 2   Impact      9 non-null      int64 \n",
      " 3   Confidence  9 non-null      int64 \n",
      " 4   Efforts     9 non-null      int64 \n",
      "dtypes: int64(4), object(1)\n",
      "memory usage: 488.0+ bytes\n"
     ]
    },
    {
     "data": {
      "text/html": [
       "<div>\n",
       "<style scoped>\n",
       "    .dataframe tbody tr th:only-of-type {\n",
       "        vertical-align: middle;\n",
       "    }\n",
       "\n",
       "    .dataframe tbody tr th {\n",
       "        vertical-align: top;\n",
       "    }\n",
       "\n",
       "    .dataframe thead th {\n",
       "        text-align: right;\n",
       "    }\n",
       "</style>\n",
       "<table border=\"1\" class=\"dataframe\">\n",
       "  <thead>\n",
       "    <tr style=\"text-align: right;\">\n",
       "      <th></th>\n",
       "      <th>Hypothesis</th>\n",
       "      <th>Reach</th>\n",
       "      <th>Impact</th>\n",
       "      <th>Confidence</th>\n",
       "      <th>Efforts</th>\n",
       "    </tr>\n",
       "  </thead>\n",
       "  <tbody>\n",
       "    <tr>\n",
       "      <th>0</th>\n",
       "      <td>Добавить два новых канала привлечения трафика, что позволит привлекать на 30% больше пользователей</td>\n",
       "      <td>3</td>\n",
       "      <td>10</td>\n",
       "      <td>8</td>\n",
       "      <td>6</td>\n",
       "    </tr>\n",
       "    <tr>\n",
       "      <th>1</th>\n",
       "      <td>Запустить собственную службу доставки, что сократит срок доставки заказов</td>\n",
       "      <td>2</td>\n",
       "      <td>5</td>\n",
       "      <td>4</td>\n",
       "      <td>10</td>\n",
       "    </tr>\n",
       "    <tr>\n",
       "      <th>2</th>\n",
       "      <td>Добавить блоки рекомендаций товаров на сайт интернет магазина, чтобы повысить конверсию и средний чек заказа</td>\n",
       "      <td>8</td>\n",
       "      <td>3</td>\n",
       "      <td>7</td>\n",
       "      <td>3</td>\n",
       "    </tr>\n",
       "    <tr>\n",
       "      <th>3</th>\n",
       "      <td>Изменить структура категорий, что увеличит конверсию, т.к. пользователи быстрее найдут нужный товар</td>\n",
       "      <td>8</td>\n",
       "      <td>3</td>\n",
       "      <td>3</td>\n",
       "      <td>8</td>\n",
       "    </tr>\n",
       "    <tr>\n",
       "      <th>4</th>\n",
       "      <td>Изменить цвет фона главной страницы, чтобы увеличить вовлеченность пользователей</td>\n",
       "      <td>3</td>\n",
       "      <td>1</td>\n",
       "      <td>1</td>\n",
       "      <td>1</td>\n",
       "    </tr>\n",
       "    <tr>\n",
       "      <th>5</th>\n",
       "      <td>Добавить страницу отзывов клиентов о магазине, что позволит увеличить количество заказов</td>\n",
       "      <td>3</td>\n",
       "      <td>2</td>\n",
       "      <td>2</td>\n",
       "      <td>3</td>\n",
       "    </tr>\n",
       "    <tr>\n",
       "      <th>6</th>\n",
       "      <td>Показать на главной странице баннеры с актуальными акциями и распродажами, чтобы увеличить конверсию</td>\n",
       "      <td>5</td>\n",
       "      <td>3</td>\n",
       "      <td>8</td>\n",
       "      <td>3</td>\n",
       "    </tr>\n",
       "    <tr>\n",
       "      <th>7</th>\n",
       "      <td>Добавить форму подписки на все основные страницы, чтобы собрать базу клиентов для email-рассылок</td>\n",
       "      <td>10</td>\n",
       "      <td>7</td>\n",
       "      <td>8</td>\n",
       "      <td>5</td>\n",
       "    </tr>\n",
       "    <tr>\n",
       "      <th>8</th>\n",
       "      <td>Запустить акцию, дающую скидку на товар в день рождения</td>\n",
       "      <td>1</td>\n",
       "      <td>9</td>\n",
       "      <td>9</td>\n",
       "      <td>5</td>\n",
       "    </tr>\n",
       "  </tbody>\n",
       "</table>\n",
       "</div>"
      ],
      "text/plain": [
       "                                                                                                     Hypothesis  \\\n",
       "0  Добавить два новых канала привлечения трафика, что позволит привлекать на 30% больше пользователей             \n",
       "1  Запустить собственную службу доставки, что сократит срок доставки заказов                                      \n",
       "2  Добавить блоки рекомендаций товаров на сайт интернет магазина, чтобы повысить конверсию и средний чек заказа   \n",
       "3  Изменить структура категорий, что увеличит конверсию, т.к. пользователи быстрее найдут нужный товар            \n",
       "4  Изменить цвет фона главной страницы, чтобы увеличить вовлеченность пользователей                               \n",
       "5  Добавить страницу отзывов клиентов о магазине, что позволит увеличить количество заказов                       \n",
       "6  Показать на главной странице баннеры с актуальными акциями и распродажами, чтобы увеличить конверсию           \n",
       "7  Добавить форму подписки на все основные страницы, чтобы собрать базу клиентов для email-рассылок               \n",
       "8  Запустить акцию, дающую скидку на товар в день рождения                                                        \n",
       "\n",
       "   Reach  Impact  Confidence  Efforts  \n",
       "0  3      10      8           6        \n",
       "1  2      5       4           10       \n",
       "2  8      3       7           3        \n",
       "3  8      3       3           8        \n",
       "4  3      1       1           1        \n",
       "5  3      2       2           3        \n",
       "6  5      3       8           3        \n",
       "7  10     7       8           5        \n",
       "8  1      9       9           5        "
      ]
     },
     "execution_count": 3,
     "metadata": {},
     "output_type": "execute_result"
    }
   ],
   "source": [
    "pd.set_option('display.max_colwidth', 1)\n",
    "hypothesis.info()\n",
    "hypothesis"
   ]
  },
  {
   "cell_type": "code",
   "execution_count": 4,
   "metadata": {},
   "outputs": [
    {
     "name": "stdout",
     "output_type": "stream",
     "text": [
      "<class 'pandas.core.frame.DataFrame'>\n",
      "RangeIndex: 1197 entries, 0 to 1196\n",
      "Data columns (total 5 columns):\n",
      " #   Column         Non-Null Count  Dtype \n",
      "---  ------         --------------  ----- \n",
      " 0   transactionId  1197 non-null   int64 \n",
      " 1   visitorId      1197 non-null   int64 \n",
      " 2   date           1197 non-null   object\n",
      " 3   revenue        1197 non-null   int64 \n",
      " 4   group          1197 non-null   object\n",
      "dtypes: int64(3), object(2)\n",
      "memory usage: 46.9+ KB\n"
     ]
    },
    {
     "data": {
      "text/html": [
       "<div>\n",
       "<style scoped>\n",
       "    .dataframe tbody tr th:only-of-type {\n",
       "        vertical-align: middle;\n",
       "    }\n",
       "\n",
       "    .dataframe tbody tr th {\n",
       "        vertical-align: top;\n",
       "    }\n",
       "\n",
       "    .dataframe thead th {\n",
       "        text-align: right;\n",
       "    }\n",
       "</style>\n",
       "<table border=\"1\" class=\"dataframe\">\n",
       "  <thead>\n",
       "    <tr style=\"text-align: right;\">\n",
       "      <th></th>\n",
       "      <th>transactionId</th>\n",
       "      <th>visitorId</th>\n",
       "      <th>date</th>\n",
       "      <th>revenue</th>\n",
       "      <th>group</th>\n",
       "    </tr>\n",
       "  </thead>\n",
       "  <tbody>\n",
       "    <tr>\n",
       "      <th>0</th>\n",
       "      <td>3667963787</td>\n",
       "      <td>3312258926</td>\n",
       "      <td>2019-08-15</td>\n",
       "      <td>1650</td>\n",
       "      <td>B</td>\n",
       "    </tr>\n",
       "    <tr>\n",
       "      <th>1</th>\n",
       "      <td>2804400009</td>\n",
       "      <td>3642806036</td>\n",
       "      <td>2019-08-15</td>\n",
       "      <td>730</td>\n",
       "      <td>B</td>\n",
       "    </tr>\n",
       "    <tr>\n",
       "      <th>2</th>\n",
       "      <td>2961555356</td>\n",
       "      <td>4069496402</td>\n",
       "      <td>2019-08-15</td>\n",
       "      <td>400</td>\n",
       "      <td>A</td>\n",
       "    </tr>\n",
       "    <tr>\n",
       "      <th>3</th>\n",
       "      <td>3797467345</td>\n",
       "      <td>1196621759</td>\n",
       "      <td>2019-08-15</td>\n",
       "      <td>9759</td>\n",
       "      <td>B</td>\n",
       "    </tr>\n",
       "    <tr>\n",
       "      <th>4</th>\n",
       "      <td>2282983706</td>\n",
       "      <td>2322279887</td>\n",
       "      <td>2019-08-15</td>\n",
       "      <td>2308</td>\n",
       "      <td>B</td>\n",
       "    </tr>\n",
       "    <tr>\n",
       "      <th>...</th>\n",
       "      <td>...</td>\n",
       "      <td>...</td>\n",
       "      <td>...</td>\n",
       "      <td>...</td>\n",
       "      <td>...</td>\n",
       "    </tr>\n",
       "    <tr>\n",
       "      <th>1192</th>\n",
       "      <td>2662137336</td>\n",
       "      <td>3733762160</td>\n",
       "      <td>2019-08-14</td>\n",
       "      <td>6490</td>\n",
       "      <td>B</td>\n",
       "    </tr>\n",
       "    <tr>\n",
       "      <th>1193</th>\n",
       "      <td>2203539145</td>\n",
       "      <td>370388673</td>\n",
       "      <td>2019-08-14</td>\n",
       "      <td>3190</td>\n",
       "      <td>A</td>\n",
       "    </tr>\n",
       "    <tr>\n",
       "      <th>1194</th>\n",
       "      <td>1807773912</td>\n",
       "      <td>573423106</td>\n",
       "      <td>2019-08-14</td>\n",
       "      <td>10550</td>\n",
       "      <td>A</td>\n",
       "    </tr>\n",
       "    <tr>\n",
       "      <th>1195</th>\n",
       "      <td>1947021204</td>\n",
       "      <td>1614305549</td>\n",
       "      <td>2019-08-14</td>\n",
       "      <td>100</td>\n",
       "      <td>A</td>\n",
       "    </tr>\n",
       "    <tr>\n",
       "      <th>1196</th>\n",
       "      <td>3936777065</td>\n",
       "      <td>2108080724</td>\n",
       "      <td>2019-08-15</td>\n",
       "      <td>202740</td>\n",
       "      <td>B</td>\n",
       "    </tr>\n",
       "  </tbody>\n",
       "</table>\n",
       "<p>1197 rows × 5 columns</p>\n",
       "</div>"
      ],
      "text/plain": [
       "      transactionId   visitorId        date  revenue group\n",
       "0     3667963787     3312258926  2019-08-15  1650     B   \n",
       "1     2804400009     3642806036  2019-08-15  730      B   \n",
       "2     2961555356     4069496402  2019-08-15  400      A   \n",
       "3     3797467345     1196621759  2019-08-15  9759     B   \n",
       "4     2282983706     2322279887  2019-08-15  2308     B   \n",
       "...          ...            ...         ...   ...    ..   \n",
       "1192  2662137336     3733762160  2019-08-14  6490     B   \n",
       "1193  2203539145     370388673   2019-08-14  3190     A   \n",
       "1194  1807773912     573423106   2019-08-14  10550    A   \n",
       "1195  1947021204     1614305549  2019-08-14  100      A   \n",
       "1196  3936777065     2108080724  2019-08-15  202740   B   \n",
       "\n",
       "[1197 rows x 5 columns]"
      ]
     },
     "execution_count": 4,
     "metadata": {},
     "output_type": "execute_result"
    }
   ],
   "source": [
    "orders.info()\n",
    "orders"
   ]
  },
  {
   "cell_type": "code",
   "execution_count": 5,
   "metadata": {},
   "outputs": [
    {
     "name": "stdout",
     "output_type": "stream",
     "text": [
      "<class 'pandas.core.frame.DataFrame'>\n",
      "RangeIndex: 62 entries, 0 to 61\n",
      "Data columns (total 3 columns):\n",
      " #   Column    Non-Null Count  Dtype \n",
      "---  ------    --------------  ----- \n",
      " 0   date      62 non-null     object\n",
      " 1   group     62 non-null     object\n",
      " 2   visitors  62 non-null     int64 \n",
      "dtypes: int64(1), object(2)\n",
      "memory usage: 1.6+ KB\n"
     ]
    },
    {
     "data": {
      "text/html": [
       "<div>\n",
       "<style scoped>\n",
       "    .dataframe tbody tr th:only-of-type {\n",
       "        vertical-align: middle;\n",
       "    }\n",
       "\n",
       "    .dataframe tbody tr th {\n",
       "        vertical-align: top;\n",
       "    }\n",
       "\n",
       "    .dataframe thead th {\n",
       "        text-align: right;\n",
       "    }\n",
       "</style>\n",
       "<table border=\"1\" class=\"dataframe\">\n",
       "  <thead>\n",
       "    <tr style=\"text-align: right;\">\n",
       "      <th></th>\n",
       "      <th>date</th>\n",
       "      <th>group</th>\n",
       "      <th>visitors</th>\n",
       "    </tr>\n",
       "  </thead>\n",
       "  <tbody>\n",
       "    <tr>\n",
       "      <th>0</th>\n",
       "      <td>2019-08-01</td>\n",
       "      <td>A</td>\n",
       "      <td>719</td>\n",
       "    </tr>\n",
       "    <tr>\n",
       "      <th>1</th>\n",
       "      <td>2019-08-02</td>\n",
       "      <td>A</td>\n",
       "      <td>619</td>\n",
       "    </tr>\n",
       "    <tr>\n",
       "      <th>2</th>\n",
       "      <td>2019-08-03</td>\n",
       "      <td>A</td>\n",
       "      <td>507</td>\n",
       "    </tr>\n",
       "    <tr>\n",
       "      <th>3</th>\n",
       "      <td>2019-08-04</td>\n",
       "      <td>A</td>\n",
       "      <td>717</td>\n",
       "    </tr>\n",
       "    <tr>\n",
       "      <th>4</th>\n",
       "      <td>2019-08-05</td>\n",
       "      <td>A</td>\n",
       "      <td>756</td>\n",
       "    </tr>\n",
       "    <tr>\n",
       "      <th>...</th>\n",
       "      <td>...</td>\n",
       "      <td>...</td>\n",
       "      <td>...</td>\n",
       "    </tr>\n",
       "    <tr>\n",
       "      <th>57</th>\n",
       "      <td>2019-08-27</td>\n",
       "      <td>B</td>\n",
       "      <td>720</td>\n",
       "    </tr>\n",
       "    <tr>\n",
       "      <th>58</th>\n",
       "      <td>2019-08-28</td>\n",
       "      <td>B</td>\n",
       "      <td>654</td>\n",
       "    </tr>\n",
       "    <tr>\n",
       "      <th>59</th>\n",
       "      <td>2019-08-29</td>\n",
       "      <td>B</td>\n",
       "      <td>531</td>\n",
       "    </tr>\n",
       "    <tr>\n",
       "      <th>60</th>\n",
       "      <td>2019-08-30</td>\n",
       "      <td>B</td>\n",
       "      <td>490</td>\n",
       "    </tr>\n",
       "    <tr>\n",
       "      <th>61</th>\n",
       "      <td>2019-08-31</td>\n",
       "      <td>B</td>\n",
       "      <td>718</td>\n",
       "    </tr>\n",
       "  </tbody>\n",
       "</table>\n",
       "<p>62 rows × 3 columns</p>\n",
       "</div>"
      ],
      "text/plain": [
       "          date group  visitors\n",
       "0   2019-08-01  A     719     \n",
       "1   2019-08-02  A     619     \n",
       "2   2019-08-03  A     507     \n",
       "3   2019-08-04  A     717     \n",
       "4   2019-08-05  A     756     \n",
       "..         ... ..     ...     \n",
       "57  2019-08-27  B     720     \n",
       "58  2019-08-28  B     654     \n",
       "59  2019-08-29  B     531     \n",
       "60  2019-08-30  B     490     \n",
       "61  2019-08-31  B     718     \n",
       "\n",
       "[62 rows x 3 columns]"
      ]
     },
     "execution_count": 5,
     "metadata": {},
     "output_type": "execute_result"
    }
   ],
   "source": [
    "visitors.info()\n",
    "visitors"
   ]
  },
  {
   "cell_type": "markdown",
   "metadata": {},
   "source": [
    "Исходя из первичного анализа, вижу, что во второй и третьей таблицах наблюдается неправильный тип данных для столбцов date.\n",
    "Также я бы перевела все столбцы в единый регистр."
   ]
  },
  {
   "cell_type": "markdown",
   "metadata": {},
   "source": [
    "### Предобработка данных"
   ]
  },
  {
   "cell_type": "code",
   "execution_count": 6,
   "metadata": {},
   "outputs": [
    {
     "data": {
      "text/plain": [
       "Index(['hypothesis', 'reach', 'impact', 'confidence', 'efforts'], dtype='object')"
      ]
     },
     "execution_count": 6,
     "metadata": {},
     "output_type": "execute_result"
    }
   ],
   "source": [
    "hypothesis.columns = hypothesis.columns.str.lower()\n",
    "hypothesis.columns"
   ]
  },
  {
   "cell_type": "code",
   "execution_count": 7,
   "metadata": {},
   "outputs": [
    {
     "data": {
      "text/plain": [
       "Index(['transaction_id', 'visitor_id', 'date', 'revenue', 'group'], dtype='object')"
      ]
     },
     "execution_count": 7,
     "metadata": {},
     "output_type": "execute_result"
    }
   ],
   "source": [
    "orders = orders.rename(columns={'transactionId':'transaction_id','visitorId':'visitor_id'})\n",
    "orders.columns"
   ]
  },
  {
   "cell_type": "markdown",
   "metadata": {},
   "source": [
    "Привела все столбцы к единому регистру для более удобной работы с данными."
   ]
  },
  {
   "cell_type": "code",
   "execution_count": 8,
   "metadata": {},
   "outputs": [
    {
     "name": "stdout",
     "output_type": "stream",
     "text": [
      "<class 'pandas.core.frame.DataFrame'>\n",
      "RangeIndex: 1197 entries, 0 to 1196\n",
      "Data columns (total 5 columns):\n",
      " #   Column          Non-Null Count  Dtype         \n",
      "---  ------          --------------  -----         \n",
      " 0   transaction_id  1197 non-null   int64         \n",
      " 1   visitor_id      1197 non-null   int64         \n",
      " 2   date            1197 non-null   datetime64[ns]\n",
      " 3   revenue         1197 non-null   int64         \n",
      " 4   group           1197 non-null   object        \n",
      "dtypes: datetime64[ns](1), int64(3), object(1)\n",
      "memory usage: 46.9+ KB\n"
     ]
    }
   ],
   "source": [
    "orders['date'] = pd.to_datetime(orders['date'])\n",
    "orders.info()"
   ]
  },
  {
   "cell_type": "code",
   "execution_count": 9,
   "metadata": {},
   "outputs": [
    {
     "name": "stdout",
     "output_type": "stream",
     "text": [
      "<class 'pandas.core.frame.DataFrame'>\n",
      "RangeIndex: 62 entries, 0 to 61\n",
      "Data columns (total 3 columns):\n",
      " #   Column    Non-Null Count  Dtype         \n",
      "---  ------    --------------  -----         \n",
      " 0   date      62 non-null     datetime64[ns]\n",
      " 1   group     62 non-null     object        \n",
      " 2   visitors  62 non-null     int64         \n",
      "dtypes: datetime64[ns](1), int64(1), object(1)\n",
      "memory usage: 1.6+ KB\n"
     ]
    }
   ],
   "source": [
    "visitors['date'] = pd.to_datetime(visitors['date'])\n",
    "visitors.info()"
   ]
  },
  {
   "cell_type": "markdown",
   "metadata": {},
   "source": [
    "Привела все указанные выше столбцы к нужному типу данных.\n",
    "\n",
    "Судя по данным из info в таблицах отсутствуют пропущенные данные."
   ]
  },
  {
   "cell_type": "code",
   "execution_count": 10,
   "metadata": {},
   "outputs": [
    {
     "data": {
      "text/html": [
       "<div>\n",
       "<style scoped>\n",
       "    .dataframe tbody tr th:only-of-type {\n",
       "        vertical-align: middle;\n",
       "    }\n",
       "\n",
       "    .dataframe tbody tr th {\n",
       "        vertical-align: top;\n",
       "    }\n",
       "\n",
       "    .dataframe thead th {\n",
       "        text-align: right;\n",
       "    }\n",
       "</style>\n",
       "<table border=\"1\" class=\"dataframe\">\n",
       "  <thead>\n",
       "    <tr style=\"text-align: right;\">\n",
       "      <th></th>\n",
       "      <th>hypothesis</th>\n",
       "      <th>reach</th>\n",
       "      <th>impact</th>\n",
       "      <th>confidence</th>\n",
       "      <th>efforts</th>\n",
       "    </tr>\n",
       "  </thead>\n",
       "  <tbody>\n",
       "  </tbody>\n",
       "</table>\n",
       "</div>"
      ],
      "text/plain": [
       "Empty DataFrame\n",
       "Columns: [hypothesis, reach, impact, confidence, efforts]\n",
       "Index: []"
      ]
     },
     "execution_count": 10,
     "metadata": {},
     "output_type": "execute_result"
    }
   ],
   "source": [
    "hypothesis[hypothesis.duplicated()]"
   ]
  },
  {
   "cell_type": "code",
   "execution_count": 11,
   "metadata": {},
   "outputs": [
    {
     "data": {
      "text/html": [
       "<div>\n",
       "<style scoped>\n",
       "    .dataframe tbody tr th:only-of-type {\n",
       "        vertical-align: middle;\n",
       "    }\n",
       "\n",
       "    .dataframe tbody tr th {\n",
       "        vertical-align: top;\n",
       "    }\n",
       "\n",
       "    .dataframe thead th {\n",
       "        text-align: right;\n",
       "    }\n",
       "</style>\n",
       "<table border=\"1\" class=\"dataframe\">\n",
       "  <thead>\n",
       "    <tr style=\"text-align: right;\">\n",
       "      <th></th>\n",
       "      <th>transaction_id</th>\n",
       "      <th>visitor_id</th>\n",
       "      <th>date</th>\n",
       "      <th>revenue</th>\n",
       "      <th>group</th>\n",
       "    </tr>\n",
       "  </thead>\n",
       "  <tbody>\n",
       "  </tbody>\n",
       "</table>\n",
       "</div>"
      ],
      "text/plain": [
       "Empty DataFrame\n",
       "Columns: [transaction_id, visitor_id, date, revenue, group]\n",
       "Index: []"
      ]
     },
     "execution_count": 11,
     "metadata": {},
     "output_type": "execute_result"
    }
   ],
   "source": [
    "orders[orders.duplicated()]"
   ]
  },
  {
   "cell_type": "code",
   "execution_count": 12,
   "metadata": {},
   "outputs": [
    {
     "data": {
      "text/html": [
       "<div>\n",
       "<style scoped>\n",
       "    .dataframe tbody tr th:only-of-type {\n",
       "        vertical-align: middle;\n",
       "    }\n",
       "\n",
       "    .dataframe tbody tr th {\n",
       "        vertical-align: top;\n",
       "    }\n",
       "\n",
       "    .dataframe thead th {\n",
       "        text-align: right;\n",
       "    }\n",
       "</style>\n",
       "<table border=\"1\" class=\"dataframe\">\n",
       "  <thead>\n",
       "    <tr style=\"text-align: right;\">\n",
       "      <th></th>\n",
       "      <th>date</th>\n",
       "      <th>group</th>\n",
       "      <th>visitors</th>\n",
       "    </tr>\n",
       "  </thead>\n",
       "  <tbody>\n",
       "  </tbody>\n",
       "</table>\n",
       "</div>"
      ],
      "text/plain": [
       "Empty DataFrame\n",
       "Columns: [date, group, visitors]\n",
       "Index: []"
      ]
     },
     "execution_count": 12,
     "metadata": {},
     "output_type": "execute_result"
    }
   ],
   "source": [
    "visitors[visitors.duplicated()]"
   ]
  },
  {
   "cell_type": "code",
   "execution_count": 13,
   "metadata": {},
   "outputs": [
    {
     "data": {
      "text/plain": [
       "group\n",
       "A    503\n",
       "B    586\n",
       "Name: visitor_id, dtype: int64"
      ]
     },
     "execution_count": 13,
     "metadata": {},
     "output_type": "execute_result"
    }
   ],
   "source": [
    "orders.groupby('group')['visitor_id'].nunique()"
   ]
  },
  {
   "cell_type": "markdown",
   "metadata": {},
   "source": [
    "В тесте находится две группы А и В, количество пользователей в которых отличается - в группе И на 83 пользователя больше."
   ]
  },
  {
   "cell_type": "code",
   "execution_count": 14,
   "metadata": {},
   "outputs": [
    {
     "name": "stdout",
     "output_type": "stream",
     "text": [
      "Min date 2019-08-01 00:00:00\n",
      "Max date 2019-08-31 00:00:00\n"
     ]
    }
   ],
   "source": [
    "print(f\"Min date {orders['date'].min()}\")\n",
    "print(f\"Max date {orders['date'].max()}\")"
   ]
  },
  {
   "cell_type": "markdown",
   "metadata": {},
   "source": [
    "Анализируются данные с 1 по 31 августа 2019 года."
   ]
  },
  {
   "cell_type": "code",
   "execution_count": 15,
   "metadata": {},
   "outputs": [
    {
     "data": {
      "text/plain": [
       "58"
      ]
     },
     "execution_count": 15,
     "metadata": {},
     "output_type": "execute_result"
    }
   ],
   "source": [
    "visitorGroups = orders.groupby('visitor_id')['group'].nunique().reset_index()\n",
    "visitorGroups = visitorGroups[visitorGroups['group']>1]\n",
    "len(visitorGroups)"
   ]
  },
  {
   "cell_type": "markdown",
   "metadata": {},
   "source": [
    "Всего существует 58 пользователей, заказы которых присутствуют и в группе А и в группе В. Не будем исключать их в предварительном анализе, но в дальнейшем отнесем таких пользователей к аномальным."
   ]
  },
  {
   "cell_type": "markdown",
   "metadata": {},
   "source": [
    "# В рамках данного шага были проделаны следующие действия:\n",
    "\n",
    "- Загружены данные из исходных таблиц.\n",
    "- Данные проверены на наличие пустых значений и дубликатов.\n",
    "- Названия колонок всех таблиц приведены к \"змеиному\" регистру.\n",
    "- Преобразованы типы столбцов, связанные с датами."
   ]
  },
  {
   "cell_type": "markdown",
   "metadata": {},
   "source": [
    "## Шаг 2. Часть 1. Приоритизация гипотез"
   ]
  },
  {
   "cell_type": "code",
   "execution_count": 16,
   "metadata": {},
   "outputs": [
    {
     "data": {
      "text/html": [
       "<div>\n",
       "<style scoped>\n",
       "    .dataframe tbody tr th:only-of-type {\n",
       "        vertical-align: middle;\n",
       "    }\n",
       "\n",
       "    .dataframe tbody tr th {\n",
       "        vertical-align: top;\n",
       "    }\n",
       "\n",
       "    .dataframe thead th {\n",
       "        text-align: right;\n",
       "    }\n",
       "</style>\n",
       "<table border=\"1\" class=\"dataframe\">\n",
       "  <thead>\n",
       "    <tr style=\"text-align: right;\">\n",
       "      <th></th>\n",
       "      <th>hypothesis</th>\n",
       "      <th>reach</th>\n",
       "      <th>impact</th>\n",
       "      <th>confidence</th>\n",
       "      <th>efforts</th>\n",
       "      <th>ICE</th>\n",
       "      <th>RICE</th>\n",
       "    </tr>\n",
       "  </thead>\n",
       "  <tbody>\n",
       "    <tr>\n",
       "      <th>0</th>\n",
       "      <td>Добавить два новых канала привлечения трафика, что позволит привлекать на 30% больше пользователей</td>\n",
       "      <td>3</td>\n",
       "      <td>10</td>\n",
       "      <td>8</td>\n",
       "      <td>6</td>\n",
       "      <td>13.33</td>\n",
       "      <td>40.0</td>\n",
       "    </tr>\n",
       "    <tr>\n",
       "      <th>1</th>\n",
       "      <td>Запустить собственную службу доставки, что сократит срок доставки заказов</td>\n",
       "      <td>2</td>\n",
       "      <td>5</td>\n",
       "      <td>4</td>\n",
       "      <td>10</td>\n",
       "      <td>2.00</td>\n",
       "      <td>4.0</td>\n",
       "    </tr>\n",
       "    <tr>\n",
       "      <th>2</th>\n",
       "      <td>Добавить блоки рекомендаций товаров на сайт интернет магазина, чтобы повысить конверсию и средний чек заказа</td>\n",
       "      <td>8</td>\n",
       "      <td>3</td>\n",
       "      <td>7</td>\n",
       "      <td>3</td>\n",
       "      <td>7.00</td>\n",
       "      <td>56.0</td>\n",
       "    </tr>\n",
       "    <tr>\n",
       "      <th>3</th>\n",
       "      <td>Изменить структура категорий, что увеличит конверсию, т.к. пользователи быстрее найдут нужный товар</td>\n",
       "      <td>8</td>\n",
       "      <td>3</td>\n",
       "      <td>3</td>\n",
       "      <td>8</td>\n",
       "      <td>1.12</td>\n",
       "      <td>9.0</td>\n",
       "    </tr>\n",
       "    <tr>\n",
       "      <th>4</th>\n",
       "      <td>Изменить цвет фона главной страницы, чтобы увеличить вовлеченность пользователей</td>\n",
       "      <td>3</td>\n",
       "      <td>1</td>\n",
       "      <td>1</td>\n",
       "      <td>1</td>\n",
       "      <td>1.00</td>\n",
       "      <td>3.0</td>\n",
       "    </tr>\n",
       "    <tr>\n",
       "      <th>5</th>\n",
       "      <td>Добавить страницу отзывов клиентов о магазине, что позволит увеличить количество заказов</td>\n",
       "      <td>3</td>\n",
       "      <td>2</td>\n",
       "      <td>2</td>\n",
       "      <td>3</td>\n",
       "      <td>1.33</td>\n",
       "      <td>4.0</td>\n",
       "    </tr>\n",
       "    <tr>\n",
       "      <th>6</th>\n",
       "      <td>Показать на главной странице баннеры с актуальными акциями и распродажами, чтобы увеличить конверсию</td>\n",
       "      <td>5</td>\n",
       "      <td>3</td>\n",
       "      <td>8</td>\n",
       "      <td>3</td>\n",
       "      <td>8.00</td>\n",
       "      <td>40.0</td>\n",
       "    </tr>\n",
       "    <tr>\n",
       "      <th>7</th>\n",
       "      <td>Добавить форму подписки на все основные страницы, чтобы собрать базу клиентов для email-рассылок</td>\n",
       "      <td>10</td>\n",
       "      <td>7</td>\n",
       "      <td>8</td>\n",
       "      <td>5</td>\n",
       "      <td>11.20</td>\n",
       "      <td>112.0</td>\n",
       "    </tr>\n",
       "    <tr>\n",
       "      <th>8</th>\n",
       "      <td>Запустить акцию, дающую скидку на товар в день рождения</td>\n",
       "      <td>1</td>\n",
       "      <td>9</td>\n",
       "      <td>9</td>\n",
       "      <td>5</td>\n",
       "      <td>16.20</td>\n",
       "      <td>16.2</td>\n",
       "    </tr>\n",
       "  </tbody>\n",
       "</table>\n",
       "</div>"
      ],
      "text/plain": [
       "                                                                                                     hypothesis  \\\n",
       "0  Добавить два новых канала привлечения трафика, что позволит привлекать на 30% больше пользователей             \n",
       "1  Запустить собственную службу доставки, что сократит срок доставки заказов                                      \n",
       "2  Добавить блоки рекомендаций товаров на сайт интернет магазина, чтобы повысить конверсию и средний чек заказа   \n",
       "3  Изменить структура категорий, что увеличит конверсию, т.к. пользователи быстрее найдут нужный товар            \n",
       "4  Изменить цвет фона главной страницы, чтобы увеличить вовлеченность пользователей                               \n",
       "5  Добавить страницу отзывов клиентов о магазине, что позволит увеличить количество заказов                       \n",
       "6  Показать на главной странице баннеры с актуальными акциями и распродажами, чтобы увеличить конверсию           \n",
       "7  Добавить форму подписки на все основные страницы, чтобы собрать базу клиентов для email-рассылок               \n",
       "8  Запустить акцию, дающую скидку на товар в день рождения                                                        \n",
       "\n",
       "   reach  impact  confidence  efforts    ICE   RICE  \n",
       "0  3      10      8           6        13.33  40.0   \n",
       "1  2      5       4           10       2.00   4.0    \n",
       "2  8      3       7           3        7.00   56.0   \n",
       "3  8      3       3           8        1.12   9.0    \n",
       "4  3      1       1           1        1.00   3.0    \n",
       "5  3      2       2           3        1.33   4.0    \n",
       "6  5      3       8           3        8.00   40.0   \n",
       "7  10     7       8           5        11.20  112.0  \n",
       "8  1      9       9           5        16.20  16.2   "
      ]
     },
     "execution_count": 16,
     "metadata": {},
     "output_type": "execute_result"
    }
   ],
   "source": [
    "hypothesis['ICE'] = ((hypothesis['impact'] * hypothesis['confidence']) / hypothesis['efforts']).round(2)\n",
    "hypothesis['RICE'] = ((hypothesis['reach'] * hypothesis['impact'] * hypothesis['confidence']) / hypothesis['efforts']).round(2)\n",
    "hypothesis"
   ]
  },
  {
   "cell_type": "markdown",
   "metadata": {},
   "source": [
    "### Примените фреймворк ICE для приоритизации гипотез. Отсортируйте их по убыванию приоритета."
   ]
  },
  {
   "cell_type": "code",
   "execution_count": 17,
   "metadata": {},
   "outputs": [
    {
     "name": "stdout",
     "output_type": "stream",
     "text": [
      "                                                                                                     hypothesis  \\\n",
      "8  Запустить акцию, дающую скидку на товар в день рождения                                                        \n",
      "0  Добавить два новых канала привлечения трафика, что позволит привлекать на 30% больше пользователей             \n",
      "7  Добавить форму подписки на все основные страницы, чтобы собрать базу клиентов для email-рассылок               \n",
      "6  Показать на главной странице баннеры с актуальными акциями и распродажами, чтобы увеличить конверсию           \n",
      "2  Добавить блоки рекомендаций товаров на сайт интернет магазина, чтобы повысить конверсию и средний чек заказа   \n",
      "1  Запустить собственную службу доставки, что сократит срок доставки заказов                                      \n",
      "5  Добавить страницу отзывов клиентов о магазине, что позволит увеличить количество заказов                       \n",
      "3  Изменить структура категорий, что увеличит конверсию, т.к. пользователи быстрее найдут нужный товар            \n",
      "4  Изменить цвет фона главной страницы, чтобы увеличить вовлеченность пользователей                               \n",
      "\n",
      "     ICE   RICE  \n",
      "8  16.20  16.2   \n",
      "0  13.33  40.0   \n",
      "7  11.20  112.0  \n",
      "6  8.00   40.0   \n",
      "2  7.00   56.0   \n",
      "1  2.00   4.0    \n",
      "5  1.33   4.0    \n",
      "3  1.12   9.0    \n",
      "4  1.00   3.0    \n"
     ]
    }
   ],
   "source": [
    "print((hypothesis[['hypothesis','ICE', 'RICE']]).sort_values(by='ICE', ascending=False))"
   ]
  },
  {
   "cell_type": "markdown",
   "metadata": {},
   "source": [
    "Фреймворк <i>ICE</i> состоит из 3 компонент:\n",
    "\n",
    "<b>Impact</b> — насколько сильно изменение повлияет на пользователей, их опыт и удовлетворение от продукта;\n",
    "\n",
    "<b>Confidence</b> — насколько вы уверены, что это изменение повлияет на пользователей именно так;\n",
    "\n",
    "<b>Efforts</b> — сколько стоит протестировать эту гипотезу.\n",
    "\n",
    "При использовании фреймфорка <i>ICE</i> приоритет отдается гипотезам с высокими значениями Impact и Confidence и средним значениям Efforts."
   ]
  },
  {
   "cell_type": "markdown",
   "metadata": {},
   "source": [
    "### Примените фреймворк RICE для приоритизации гипотез. Отсортируйте их по убыванию приоритета."
   ]
  },
  {
   "cell_type": "code",
   "execution_count": 18,
   "metadata": {},
   "outputs": [
    {
     "name": "stdout",
     "output_type": "stream",
     "text": [
      "                                                                                                     hypothesis  \\\n",
      "7  Добавить форму подписки на все основные страницы, чтобы собрать базу клиентов для email-рассылок               \n",
      "2  Добавить блоки рекомендаций товаров на сайт интернет магазина, чтобы повысить конверсию и средний чек заказа   \n",
      "0  Добавить два новых канала привлечения трафика, что позволит привлекать на 30% больше пользователей             \n",
      "6  Показать на главной странице баннеры с актуальными акциями и распродажами, чтобы увеличить конверсию           \n",
      "8  Запустить акцию, дающую скидку на товар в день рождения                                                        \n",
      "3  Изменить структура категорий, что увеличит конверсию, т.к. пользователи быстрее найдут нужный товар            \n",
      "1  Запустить собственную службу доставки, что сократит срок доставки заказов                                      \n",
      "5  Добавить страницу отзывов клиентов о магазине, что позволит увеличить количество заказов                       \n",
      "4  Изменить цвет фона главной страницы, чтобы увеличить вовлеченность пользователей                               \n",
      "\n",
      "     ICE   RICE  \n",
      "7  11.20  112.0  \n",
      "2  7.00   56.0   \n",
      "0  13.33  40.0   \n",
      "6  8.00   40.0   \n",
      "8  16.20  16.2   \n",
      "3  1.12   9.0    \n",
      "1  2.00   4.0    \n",
      "5  1.33   4.0    \n",
      "4  1.00   3.0    \n"
     ]
    }
   ],
   "source": [
    "print((hypothesis[['hypothesis','ICE', 'RICE']]).sort_values(by='RICE', ascending=False))"
   ]
  },
  {
   "cell_type": "markdown",
   "metadata": {},
   "source": [
    "Фреймворк <i>RICE</i> состоит из 4 компонентов:\n",
    "\n",
    "<b>Reach</b> — скольких пользователей затронет изменение, которое вы хотите внести;\n",
    "\n",
    "<b>Impact</b> — насколько сильно изменение повлияет на пользователей, их опыт и удовлетворение от продукта;\n",
    "\n",
    "<b>Confidence</b> — насколько вы уверены, что это изменение повлияет на пользователей именно так;\n",
    "\n",
    "<b>Efforts</b> — сколько стоит протестировать эту гипотезу.\n",
    "\n",
    "В отличии от фреймворка <i>RICE</i> здесь учитывается еще количество пользователей, которых затронет изменение."
   ]
  },
  {
   "cell_type": "markdown",
   "metadata": {},
   "source": [
    "### Укажите, как изменилась приоритизация гипотез при применении RICE вместо ICE. Объясните, почему так произошло."
   ]
  },
  {
   "cell_type": "markdown",
   "metadata": {},
   "source": [
    "- Стоит отметить, что в целом, независимо от фреймфорка можно выделить группу слабоприоритетных гипотез - гипотезы с индентификаторами 1,3,5,4 - они занимают 4 последних места в приоритетности гипотез. В прочих гипотезах приоритет изменяется сильнее.\n",
    "- Наиболее приоритетная гиоптеза по ICE сместилась на 5 место (гипотеза с идентификатором 8), т.к. она затрагивала наименьшее число пользователей - 1. \n",
    "- Наиболее приоритетная гипотеза по RICE была на 3м месте по ICE. Ее приоритет вырос, т.к. она затрагивает наибольшее возможное количество пользователей - 10."
   ]
  },
  {
   "cell_type": "markdown",
   "metadata": {},
   "source": [
    "# Вывод по данному шагу:\n",
    "\n",
    "Приоритетность предложенных гипотез можно определять фреймворками ICE и RICE. В зависимости от учета влияния количества пользователей, затрагиваемых той или иной гипотезой, их приоритетность меняется. При этом, независимо от фреймворка выделяется группа низкоприоритетных гипотез.\n",
    "\n",
    "Ключевое различие фреймворков ICE и RICE состоит в том, что RICE также прямо зависит от показателя Reach - количество пользователей, которых затронет предполагаемое изменение. Благодаря этому, гипотезы, имеющие сильное влияние на пользователей, поднимутся в приоритете. Так, в указанном примере, гипотеза \"Добавить форму подписки на все основные страницы, чтобы собрать базу клиентов для email-рассылок\" в RICE поднимается на первое место за счет того, что она затрагивает максимальное число пользователей. А низкое значение Reach у гипотезы \"Запустить акцию, дающую скидку на товар в день рождения\", снижает ее приоритет."
   ]
  },
  {
   "cell_type": "markdown",
   "metadata": {},
   "source": [
    "## Шаг 3. Часть 2. Анализ A/B-теста"
   ]
  },
  {
   "cell_type": "code",
   "execution_count": 19,
   "metadata": {},
   "outputs": [
    {
     "data": {
      "text/html": [
       "<div>\n",
       "<style scoped>\n",
       "    .dataframe tbody tr th:only-of-type {\n",
       "        vertical-align: middle;\n",
       "    }\n",
       "\n",
       "    .dataframe tbody tr th {\n",
       "        vertical-align: top;\n",
       "    }\n",
       "\n",
       "    .dataframe thead th {\n",
       "        text-align: right;\n",
       "    }\n",
       "</style>\n",
       "<table border=\"1\" class=\"dataframe\">\n",
       "  <thead>\n",
       "    <tr style=\"text-align: right;\">\n",
       "      <th></th>\n",
       "      <th>transaction_id</th>\n",
       "      <th>visitor_id</th>\n",
       "      <th>date</th>\n",
       "      <th>revenue</th>\n",
       "      <th>group</th>\n",
       "    </tr>\n",
       "  </thead>\n",
       "  <tbody>\n",
       "    <tr>\n",
       "      <th>0</th>\n",
       "      <td>3667963787</td>\n",
       "      <td>3312258926</td>\n",
       "      <td>2019-08-15</td>\n",
       "      <td>1650</td>\n",
       "      <td>B</td>\n",
       "    </tr>\n",
       "    <tr>\n",
       "      <th>1</th>\n",
       "      <td>2804400009</td>\n",
       "      <td>3642806036</td>\n",
       "      <td>2019-08-15</td>\n",
       "      <td>730</td>\n",
       "      <td>B</td>\n",
       "    </tr>\n",
       "    <tr>\n",
       "      <th>2</th>\n",
       "      <td>2961555356</td>\n",
       "      <td>4069496402</td>\n",
       "      <td>2019-08-15</td>\n",
       "      <td>400</td>\n",
       "      <td>A</td>\n",
       "    </tr>\n",
       "    <tr>\n",
       "      <th>3</th>\n",
       "      <td>3797467345</td>\n",
       "      <td>1196621759</td>\n",
       "      <td>2019-08-15</td>\n",
       "      <td>9759</td>\n",
       "      <td>B</td>\n",
       "    </tr>\n",
       "    <tr>\n",
       "      <th>4</th>\n",
       "      <td>2282983706</td>\n",
       "      <td>2322279887</td>\n",
       "      <td>2019-08-15</td>\n",
       "      <td>2308</td>\n",
       "      <td>B</td>\n",
       "    </tr>\n",
       "    <tr>\n",
       "      <th>...</th>\n",
       "      <td>...</td>\n",
       "      <td>...</td>\n",
       "      <td>...</td>\n",
       "      <td>...</td>\n",
       "      <td>...</td>\n",
       "    </tr>\n",
       "    <tr>\n",
       "      <th>1192</th>\n",
       "      <td>2662137336</td>\n",
       "      <td>3733762160</td>\n",
       "      <td>2019-08-14</td>\n",
       "      <td>6490</td>\n",
       "      <td>B</td>\n",
       "    </tr>\n",
       "    <tr>\n",
       "      <th>1193</th>\n",
       "      <td>2203539145</td>\n",
       "      <td>370388673</td>\n",
       "      <td>2019-08-14</td>\n",
       "      <td>3190</td>\n",
       "      <td>A</td>\n",
       "    </tr>\n",
       "    <tr>\n",
       "      <th>1194</th>\n",
       "      <td>1807773912</td>\n",
       "      <td>573423106</td>\n",
       "      <td>2019-08-14</td>\n",
       "      <td>10550</td>\n",
       "      <td>A</td>\n",
       "    </tr>\n",
       "    <tr>\n",
       "      <th>1195</th>\n",
       "      <td>1947021204</td>\n",
       "      <td>1614305549</td>\n",
       "      <td>2019-08-14</td>\n",
       "      <td>100</td>\n",
       "      <td>A</td>\n",
       "    </tr>\n",
       "    <tr>\n",
       "      <th>1196</th>\n",
       "      <td>3936777065</td>\n",
       "      <td>2108080724</td>\n",
       "      <td>2019-08-15</td>\n",
       "      <td>202740</td>\n",
       "      <td>B</td>\n",
       "    </tr>\n",
       "  </tbody>\n",
       "</table>\n",
       "<p>1197 rows × 5 columns</p>\n",
       "</div>"
      ],
      "text/plain": [
       "      transaction_id  visitor_id       date  revenue group\n",
       "0     3667963787      3312258926 2019-08-15  1650     B   \n",
       "1     2804400009      3642806036 2019-08-15  730      B   \n",
       "2     2961555356      4069496402 2019-08-15  400      A   \n",
       "3     3797467345      1196621759 2019-08-15  9759     B   \n",
       "4     2282983706      2322279887 2019-08-15  2308     B   \n",
       "...          ...             ...        ...   ...    ..   \n",
       "1192  2662137336      3733762160 2019-08-14  6490     B   \n",
       "1193  2203539145      370388673  2019-08-14  3190     A   \n",
       "1194  1807773912      573423106  2019-08-14  10550    A   \n",
       "1195  1947021204      1614305549 2019-08-14  100      A   \n",
       "1196  3936777065      2108080724 2019-08-15  202740   B   \n",
       "\n",
       "[1197 rows x 5 columns]"
      ]
     },
     "execution_count": 19,
     "metadata": {},
     "output_type": "execute_result"
    }
   ],
   "source": [
    "orders"
   ]
  },
  {
   "cell_type": "code",
   "execution_count": 20,
   "metadata": {},
   "outputs": [
    {
     "data": {
      "text/html": [
       "<div>\n",
       "<style scoped>\n",
       "    .dataframe tbody tr th:only-of-type {\n",
       "        vertical-align: middle;\n",
       "    }\n",
       "\n",
       "    .dataframe tbody tr th {\n",
       "        vertical-align: top;\n",
       "    }\n",
       "\n",
       "    .dataframe thead th {\n",
       "        text-align: right;\n",
       "    }\n",
       "</style>\n",
       "<table border=\"1\" class=\"dataframe\">\n",
       "  <thead>\n",
       "    <tr style=\"text-align: right;\">\n",
       "      <th></th>\n",
       "      <th>date</th>\n",
       "      <th>group</th>\n",
       "      <th>visitors</th>\n",
       "    </tr>\n",
       "  </thead>\n",
       "  <tbody>\n",
       "    <tr>\n",
       "      <th>0</th>\n",
       "      <td>2019-08-01</td>\n",
       "      <td>A</td>\n",
       "      <td>719</td>\n",
       "    </tr>\n",
       "    <tr>\n",
       "      <th>1</th>\n",
       "      <td>2019-08-02</td>\n",
       "      <td>A</td>\n",
       "      <td>619</td>\n",
       "    </tr>\n",
       "    <tr>\n",
       "      <th>2</th>\n",
       "      <td>2019-08-03</td>\n",
       "      <td>A</td>\n",
       "      <td>507</td>\n",
       "    </tr>\n",
       "    <tr>\n",
       "      <th>3</th>\n",
       "      <td>2019-08-04</td>\n",
       "      <td>A</td>\n",
       "      <td>717</td>\n",
       "    </tr>\n",
       "    <tr>\n",
       "      <th>4</th>\n",
       "      <td>2019-08-05</td>\n",
       "      <td>A</td>\n",
       "      <td>756</td>\n",
       "    </tr>\n",
       "    <tr>\n",
       "      <th>...</th>\n",
       "      <td>...</td>\n",
       "      <td>...</td>\n",
       "      <td>...</td>\n",
       "    </tr>\n",
       "    <tr>\n",
       "      <th>57</th>\n",
       "      <td>2019-08-27</td>\n",
       "      <td>B</td>\n",
       "      <td>720</td>\n",
       "    </tr>\n",
       "    <tr>\n",
       "      <th>58</th>\n",
       "      <td>2019-08-28</td>\n",
       "      <td>B</td>\n",
       "      <td>654</td>\n",
       "    </tr>\n",
       "    <tr>\n",
       "      <th>59</th>\n",
       "      <td>2019-08-29</td>\n",
       "      <td>B</td>\n",
       "      <td>531</td>\n",
       "    </tr>\n",
       "    <tr>\n",
       "      <th>60</th>\n",
       "      <td>2019-08-30</td>\n",
       "      <td>B</td>\n",
       "      <td>490</td>\n",
       "    </tr>\n",
       "    <tr>\n",
       "      <th>61</th>\n",
       "      <td>2019-08-31</td>\n",
       "      <td>B</td>\n",
       "      <td>718</td>\n",
       "    </tr>\n",
       "  </tbody>\n",
       "</table>\n",
       "<p>62 rows × 3 columns</p>\n",
       "</div>"
      ],
      "text/plain": [
       "         date group  visitors\n",
       "0  2019-08-01  A     719     \n",
       "1  2019-08-02  A     619     \n",
       "2  2019-08-03  A     507     \n",
       "3  2019-08-04  A     717     \n",
       "4  2019-08-05  A     756     \n",
       "..        ... ..     ...     \n",
       "57 2019-08-27  B     720     \n",
       "58 2019-08-28  B     654     \n",
       "59 2019-08-29  B     531     \n",
       "60 2019-08-30  B     490     \n",
       "61 2019-08-31  B     718     \n",
       "\n",
       "[62 rows x 3 columns]"
      ]
     },
     "execution_count": 20,
     "metadata": {},
     "output_type": "execute_result"
    }
   ],
   "source": [
    "visitors"
   ]
  },
  {
   "cell_type": "markdown",
   "metadata": {},
   "source": [
    "### Постройте график кумулятивной выручки по группам. Сделайте выводы и предположения."
   ]
  },
  {
   "cell_type": "code",
   "execution_count": 21,
   "metadata": {
    "scrolled": true
   },
   "outputs": [
    {
     "name": "stdout",
     "output_type": "stream",
     "text": [
      "        date group  orders  buyers  revenue  visitors\n",
      "0 2019-08-01  A     24      20      148579   719     \n",
      "1 2019-08-01  B     21      20      101217   713     \n",
      "2 2019-08-02  A     44      38      242401   1338    \n",
      "3 2019-08-02  B     45      43      266748   1294    \n",
      "4 2019-08-03  A     68      62      354874   1845    \n"
     ]
    }
   ],
   "source": [
    "# создаем массив уникальных пар значений дат и групп теста\n",
    "datesGroups = orders[['date','group']].drop_duplicates()\n",
    "\n",
    "# получаем агрегированные кумулятивные по дням данные о заказах \n",
    "ordersAggregated = datesGroups.apply(lambda x: orders[np.logical_and(orders['date'] <= x['date'], orders['group'] == x['group'])].agg({'date' : 'max', 'group' : 'max', 'transaction_id' : 'nunique', 'visitor_id' : 'nunique', 'revenue' : 'sum'}), axis=1).sort_values(by=['date','group'])\n",
    "\n",
    "# получаем агрегированные кумулятивные по дням данные о посетителях интернет-магазина \n",
    "visitorsAggregated = datesGroups.apply(lambda x: visitors[np.logical_and(visitors['date'] <= x['date'], visitors['group'] == x['group'])].agg({'date' : 'max', 'group' : 'max', 'visitors' : 'sum'}), axis=1).sort_values(by=['date','group'])\n",
    "\n",
    "# объединяем кумулятивные данные в одной таблице и присваиваем ее столбцам понятные названия\n",
    "cumulativeData = ordersAggregated.merge(visitorsAggregated, left_on=['date', 'group'], right_on=['date', 'group'])\n",
    "cumulativeData.columns = ['date', 'group', 'orders', 'buyers', 'revenue', 'visitors']\n",
    "\n",
    "print(cumulativeData.head(5))"
   ]
  },
  {
   "cell_type": "code",
   "execution_count": 22,
   "metadata": {},
   "outputs": [
    {
     "data": {
      "image/png": "[encoded data removed]",
      "text/plain": [
       "<Figure size 720x360 with 1 Axes>"
      ]
     },
     "metadata": {
      "needs_background": "light"
     },
     "output_type": "display_data"
    }
   ],
   "source": [
    "# датафрейм с кумулятивным количеством заказов и кумулятивной выручкой по дням в группе А\n",
    "cumulativeRevenueA = cumulativeData[cumulativeData['group']=='A'][['date','revenue', 'orders']]\n",
    "\n",
    "# датафрейм с кумулятивным количеством заказов и кумулятивной выручкой по дням в группе B\n",
    "cumulativeRevenueB = cumulativeData[cumulativeData['group']=='B'][['date','revenue', 'orders']]\n",
    "\n",
    "plt.figure(figsize=(10,5))\n",
    "# Строим график выручки группы А\n",
    "plt.plot(cumulativeRevenueA['date'], cumulativeRevenueA['revenue'], label='A')\n",
    "\n",
    "# Строим график выручки группы B\n",
    "plt.plot(cumulativeRevenueB['date'], cumulativeRevenueB['revenue'], label='B')\n",
    "\n",
    "plt.title('Кумулятивная выручка, млн.руб.')\n",
    "plt.xlabel('date')\n",
    "plt.ylabel('revenue')\n",
    "\n",
    "plt.legend();"
   ]
  },
  {
   "cell_type": "markdown",
   "metadata": {},
   "source": [
    "На данном графике можно увидеть, что кумулятивная выручка по группе B держится на одном уровне с выручкой по группе A, немного превышая ее, примерно до середины периода, после чего происходит резкий скачок, после которого скорость роста возвращается на прежний уровень. \n",
    "Пока что это дает мало информации о различиях между групп, но следует обратить внимание на скачок, приходящийся на 19 августа 2019 года."
   ]
  },
  {
   "cell_type": "markdown",
   "metadata": {},
   "source": [
    "### Постройте график кумулятивного среднего чека по группам. Сделайте выводы и предположения."
   ]
  },
  {
   "cell_type": "code",
   "execution_count": 23,
   "metadata": {},
   "outputs": [
    {
     "data": {
      "image/png": "[encoded data removed]",
      "text/plain": [
       "<Figure size 720x360 with 1 Axes>"
      ]
     },
     "metadata": {
      "needs_background": "light"
     },
     "output_type": "display_data"
    }
   ],
   "source": [
    "plt.figure(figsize=(10,5))\n",
    "plt.plot(cumulativeRevenueA['date'], cumulativeRevenueA['revenue']/cumulativeRevenueA['orders'], label='A')\n",
    "plt.plot(cumulativeRevenueB['date'], cumulativeRevenueB['revenue']/cumulativeRevenueB['orders'], label='B')\n",
    "\n",
    "plt.title('Кумулятивная средний чек, руб.')\n",
    "plt.xlabel('date')\n",
    "plt.ylabel('avg_txn')\n",
    "\n",
    "plt.legend();"
   ]
  },
  {
   "cell_type": "markdown",
   "metadata": {},
   "source": [
    "На графике кумулятивного среднего чека по группам можно увидеть, что средние чеки групп А и В до 19 августа колеблются относительно друг друга, однако сохраняются на одном уровне. Большую часть периода средний чек группы В выше чем средний чек группы А, за исключением короткого периода с 11 по 14 число, когда группа А достигла своего пика. Но 19 числа происходит скачок, аналогичный графику кумулятивной выручки. Но после этого скачка кумулятивный средний чек группы В равномерно уменьшается. Можно предположить, что в будущем она достигнет уровня А (который медленно растет).\n",
    "\n",
    "На данный момент можно предположить, что 19 числа произошла покупка с аномально большой суммой, которая повлияла на общую выручку группы В, однако после этого объем потребления вернулся на прежний уровень."
   ]
  },
  {
   "cell_type": "markdown",
   "metadata": {},
   "source": [
    "### Постройте график относительного изменения кумулятивного среднего чека группы B к группе A. Сделайте выводы и предположения."
   ]
  },
  {
   "cell_type": "code",
   "execution_count": 24,
   "metadata": {},
   "outputs": [
    {
     "data": {
      "image/png": "[encoded data removed]",
      "text/plain": [
       "<Figure size 720x360 with 1 Axes>"
      ]
     },
     "metadata": {
      "needs_background": "light"
     },
     "output_type": "display_data"
    }
   ],
   "source": [
    "# собираем данные в одном датафрейме\n",
    "mergedCumulativeRevenue = cumulativeRevenueA.merge(cumulativeRevenueB, left_on='date', right_on='date', how='left', suffixes=['A', 'B'])\n",
    "\n",
    "# cтроим отношение средних чеков\n",
    "plt.figure(figsize=(10,5))\n",
    "plt.plot(mergedCumulativeRevenue['date'], (mergedCumulativeRevenue['revenueB']/mergedCumulativeRevenue['ordersB'])/(mergedCumulativeRevenue['revenueA']/mergedCumulativeRevenue['ordersA'])-1)\n",
    "\n",
    "plt.title('Относительное изменение кумулятивного среднего чека')\n",
    "plt.xlabel('date')\n",
    "plt.ylabel('B to A')\n",
    "\n",
    "# добавляем ось X\n",
    "plt.axhline(y=0, color='black', linestyle='--');"
   ]
  },
  {
   "cell_type": "markdown",
   "metadata": {},
   "source": [
    "Кумулятивный средний чек группы В обычно всегда больше, чем у группы А (за исключением первого дня и короткого периода с 11 по 14 число). Максимальное изменение составляет 50% после скачка и 40% до него. Скачок 19 числа и последующее снижение отображается и здесь. В дальнейшем стоит обратить внимание и на период 11-14 число.\n",
    "\n",
    "Промежуточные выводы относительно отличий групп А и групп В.\n",
    "- Пользователи категории В совершают покупки с большим чеком, чем пользователи категории А.\n",
    "- На категории А случился небольшой рост в 11-14 числах августа.\n",
    "- На категории В случился резкий скачок 19 числа, после которого вернулась прежняя динамика."
   ]
  },
  {
   "cell_type": "markdown",
   "metadata": {},
   "source": [
    "### Постройте график кумулятивной конверсии по группам. Сделайте выводы и предположения."
   ]
  },
  {
   "cell_type": "code",
   "execution_count": 25,
   "metadata": {},
   "outputs": [
    {
     "data": {
      "image/png": "[encoded data removed]",
      "text/plain": [
       "<Figure size 720x360 with 1 Axes>"
      ]
     },
     "metadata": {
      "needs_background": "light"
     },
     "output_type": "display_data"
    }
   ],
   "source": [
    "# считаем кумулятивную конверсию\n",
    "cumulativeData['conversion'] = cumulativeData['orders']/cumulativeData['visitors']\n",
    "\n",
    "# отделяем данные по группе A\n",
    "cumulativeDataA = cumulativeData[cumulativeData['group']=='A']\n",
    "\n",
    "# отделяем данные по группе B\n",
    "cumulativeDataB = cumulativeData[cumulativeData['group']=='B']\n",
    "\n",
    "# строим графики\n",
    "plt.figure(figsize=(10,5))\n",
    "plt.plot(cumulativeDataA['date'], cumulativeDataA['conversion'], label='A')\n",
    "plt.plot(cumulativeDataB['date'], cumulativeDataB['conversion'], label='B')\n",
    "\n",
    "plt.title('Кумулятивная конверсия')\n",
    "plt.xlabel('date')\n",
    "plt.ylabel('conversion')\n",
    "\n",
    "plt.legend();"
   ]
  },
  {
   "cell_type": "markdown",
   "metadata": {},
   "source": [
    "На первый взгляд, кумулятивные конверсии групп А и В значительно отличаются. Однако максимальное различие между ними составляет всего 0,7%, что позволяет на данном этапе говорить об отсутствии статистически значимого различия между конверсиями групп А и В. Но все же стоит отметить, что конверсия группы А набрала свой пик в самом начале периода, потом резко уменьшилась и сохраняла уровень до конца периода. Конверсия группы В в свою очередь набрала свой пик уже после падения группы А и после этого начала медленно уменьшаться, при этом превосходя конверсию группы А."
   ]
  },
  {
   "cell_type": "markdown",
   "metadata": {},
   "source": [
    "### Постройте график относительного изменения кумулятивной конверсии группы B к группе A. Сделайте выводы и предположения."
   ]
  },
  {
   "cell_type": "code",
   "execution_count": 26,
   "metadata": {},
   "outputs": [
    {
     "data": {
      "image/png": "[encoded data removed]",
      "text/plain": [
       "<Figure size 720x360 with 1 Axes>"
      ]
     },
     "metadata": {
      "needs_background": "light"
     },
     "output_type": "display_data"
    }
   ],
   "source": [
    "mergedCumulativeConversions = cumulativeDataA[['date','conversion']].merge(cumulativeDataB[['date','conversion']], left_on='date', right_on='date', how='left', suffixes=['A', 'B'])\n",
    "\n",
    "plt.figure(figsize=(10,5))\n",
    "plt.plot(mergedCumulativeConversions['date'], mergedCumulativeConversions['conversionB']/mergedCumulativeConversions['conversionA']-1, label=\"Относительный прирост конверсии группы B относительно группы A\")\n",
    "plt.legend()\n",
    "\n",
    "plt.axhline(y=0, color='black', linestyle='--')\n",
    "plt.axhline(y=-0.1, color='grey', linestyle='--')\n",
    "\n",
    "plt.title('Относительное изменение кумулятивной конверсии')\n",
    "plt.xlabel('date')\n",
    "plt.ylabel('B to A');"
   ]
  },
  {
   "cell_type": "markdown",
   "metadata": {},
   "source": [
    "Конверсия группы В устойчиво превосходит конверсию группы А на 10-20% на всем периоде, кроме первых пары дней. Средние конверсии групп из-за резких перепадов в начале периода практически не отличаются.\n",
    "\n",
    "Предварительно можно предположить, что группа В лучше группы А. за счет лучших выручки и среднего чека на периоде до 19 числа и конверсии на всем периоде (показатели кумулятивных выручки и среднего чека не показательны после 19 числа за счет потенциальной аномальной продажи 19 августа)."
   ]
  },
  {
   "cell_type": "markdown",
   "metadata": {},
   "source": [
    "### Постройте точечный график количества заказов по пользователям. Сделайте выводы и предположения."
   ]
  },
  {
   "cell_type": "code",
   "execution_count": 27,
   "metadata": {},
   "outputs": [
    {
     "data": {
      "image/png": "[encoded data removed]",
      "text/plain": [
       "<Figure size 720x360 with 1 Axes>"
      ]
     },
     "metadata": {
      "needs_background": "light"
     },
     "output_type": "display_data"
    },
    {
     "data": {
      "image/png": "[encoded data removed]",
      "text/plain": [
       "<Figure size 720x360 with 1 Axes>"
      ]
     },
     "metadata": {
      "needs_background": "light"
     },
     "output_type": "display_data"
    }
   ],
   "source": [
    "ordersByUsers = (\n",
    "    orders.groupby('visitor_id', as_index=False)\n",
    "    .agg({'transaction_id': 'nunique'})\n",
    ")\n",
    "\n",
    "ordersByUsers.columns = ['userId', 'orders']\n",
    "\n",
    "x_values = pd.Series(range(0,len(ordersByUsers)))\n",
    "\n",
    "plt.figure(figsize=(10,5))\n",
    "plt.hist(ordersByUsers['orders'], bins=10) \n",
    "\n",
    "plt.title('Гистограмма количества заказов по пользователям')\n",
    "plt.xlabel('Количество заказов')\n",
    "plt.ylabel('Количество пользователей')\n",
    "plt.show();\n",
    "\n",
    "plt.figure(figsize=(10,5))\n",
    "plt.scatter(x_values, ordersByUsers['orders']) \n",
    "plt.title('Количество заказов по пользователям')\n",
    "plt.xlabel('Пользователи')\n",
    "plt.ylabel('Количество заказов')\n",
    "plt.show()"
   ]
  },
  {
   "cell_type": "markdown",
   "metadata": {},
   "source": [
    "Большая часть пользователей совершила всего 1 заказ. При этом существуют пользователи, совершившие свыше 10 заказов. На основе графиков можно предположить, что пользователи совершившие свыше 6 заказов могут считататься аномальными."
   ]
  },
  {
   "cell_type": "markdown",
   "metadata": {},
   "source": [
    "### Посчитайте 95-й и 99-й перцентили количества заказов на пользователя. Выберите границу для определения аномальных пользователей."
   ]
  },
  {
   "cell_type": "code",
   "execution_count": 28,
   "metadata": {},
   "outputs": [
    {
     "name": "stdout",
     "output_type": "stream",
     "text": [
      "[1. 2. 4.]\n"
     ]
    }
   ],
   "source": [
    "print(np.percentile(ordersByUsers['orders'], [90, 95, 99])) "
   ]
  },
  {
   "cell_type": "markdown",
   "metadata": {},
   "source": [
    "Значения 95% и 99% процентилей еще больше ограничивают наше предположение о границе - аномальными можно считать пользователей, сделавшие уже свыше 4 заказов. Будем использовать это ограничение в дальнейшем."
   ]
  },
  {
   "cell_type": "markdown",
   "metadata": {},
   "source": [
    "### Постройте точечный график стоимостей заказов. Сделайте выводы и предположения."
   ]
  },
  {
   "cell_type": "code",
   "execution_count": 29,
   "metadata": {},
   "outputs": [
    {
     "data": {
      "image/png": "[encoded data removed]",
      "text/plain": [
       "<Figure size 1080x360 with 2 Axes>"
      ]
     },
     "metadata": {
      "needs_background": "light"
     },
     "output_type": "display_data"
    },
    {
     "data": {
      "image/png": "[encoded data removed]",
      "text/plain": [
       "<Figure size 1080x504 with 2 Axes>"
      ]
     },
     "metadata": {
      "needs_background": "light"
     },
     "output_type": "display_data"
    }
   ],
   "source": [
    "revenueByOrders = (\n",
    "    orders.groupby('transaction_id', as_index=False)\n",
    "    .agg({'revenue': 'sum'})\n",
    ")\n",
    "\n",
    "revenueByOrders.columns = ['orderId', 'revenue']\n",
    "\n",
    "x_values = pd.Series(range(0,len(revenueByOrders)))\n",
    "\n",
    "fig, axs = plt.subplots(1, 2, figsize=(15, 5), sharey=False)\n",
    "\n",
    "axs[0].hist(revenueByOrders['revenue'], bins=100) \n",
    "\n",
    "axs[0].set_title('Гистограмма стоимости заказов')\n",
    "axs[0].set_xlabel('Стоимость заказов, млн.руб.')\n",
    "axs[0].set_ylabel('Количество заказов')\n",
    "\n",
    "axs[1].set_xlim((0,200000))\n",
    "axs[1].hist(revenueByOrders['revenue'], bins=100) \n",
    "\n",
    "axs[1].set_title('Гистограмма стоимости заказов на диапазоне от 0 до 200 000')\n",
    "axs[1].set_xlabel('Стоимость заказов, млн.руб.')\n",
    "axs[1].set_ylabel('Количество заказов')\n",
    "plt.show();\n",
    "\n",
    "fig, axs = plt.subplots(1, 2, figsize=(15, 7), sharey=False)\n",
    "\n",
    "axs[0].scatter(x_values, revenueByOrders['revenue']) \n",
    "axs[0].set_title('Распределение стоимости заказов')\n",
    "axs[0].set_xlabel('Заказы')\n",
    "axs[0].set_ylabel('Стоимость заказов, млн.руб.')\n",
    "\n",
    "axs[1].set_ylim((0,200000))\n",
    "axs[1].scatter(x_values, revenueByOrders['revenue']) \n",
    "axs[1].set_title('Распределение стоимости заказов')\n",
    "axs[1].set_xlabel('Заказы')\n",
    "axs[1].set_ylabel('Стоимость заказов, млн.руб.')\n",
    "plt.show();\n",
    "\n"
   ]
  },
  {
   "cell_type": "markdown",
   "metadata": {},
   "source": [
    "Подавляющая часть заказов находится в промежутке от 0 до 50 000 судя по точечной диаграмме. Присутствуют заказы и выше этой цифры, но их сравнительно немного. Присутствуют 2 аномалии - заказ более 200 00 и заказ более 1 200 000. В качестве границы можно взять как раз 50 000. \n",
    "\n",
    "Возможно, аномальный заказ в 1 200 000 как раз описывает скачок 19 августа для группы B."
   ]
  },
  {
   "cell_type": "markdown",
   "metadata": {},
   "source": [
    "### Посчитайте 95-й и 99-й перцентили стоимости заказов. Выберите границу для определения аномальных заказов."
   ]
  },
  {
   "cell_type": "code",
   "execution_count": 30,
   "metadata": {},
   "outputs": [
    {
     "name": "stdout",
     "output_type": "stream",
     "text": [
      "[18168.  28000.  58233.2]\n"
     ]
    }
   ],
   "source": [
    "print(np.percentile(revenueByOrders['revenue'], [90, 95, 99]))"
   ]
  },
  {
   "cell_type": "markdown",
   "metadata": {},
   "source": [
    "Судя по значениям перцентилей 95% и 99% определенную нами границу стоит сдвинуть до 58 233.2. \n",
    "\n",
    "В качестве аномалии будем определять не отдельные заказы, а пользователей целиком - пользователей, совершивших более 4 заказов или пользователей, хотя бы один заказ которых был больше 58 233,2. Сформируем список пользователей, данные по которым будут исключаться."
   ]
  },
  {
   "cell_type": "code",
   "execution_count": 31,
   "metadata": {},
   "outputs": [],
   "source": [
    "users_abnormal = pd.concat([ordersByUsers.loc[ordersByUsers['orders']>4, 'userId'], \n",
    "                           orders.loc[orders['transaction_id'].isin(revenueByOrders.loc[revenueByOrders['revenue']>58233.2,'orderId']), 'visitor_id'].drop_duplicates(),\n",
    "                           visitorGroups['visitor_id']], axis=0).drop_duplicates().reset_index(drop=True)"
   ]
  },
  {
   "cell_type": "code",
   "execution_count": 32,
   "metadata": {},
   "outputs": [
    {
     "data": {
      "text/plain": [
       "0     199603092 \n",
       "1     237748145 \n",
       "2     1230306981\n",
       "3     2038680547\n",
       "4     2378935119\n",
       "         ...    \n",
       "62    3972127743\n",
       "63    3984495233\n",
       "64    4069496402\n",
       "65    4120364173\n",
       "66    4186807279\n",
       "Length: 67, dtype: int64"
      ]
     },
     "execution_count": 32,
     "metadata": {},
     "output_type": "execute_result"
    }
   ],
   "source": [
    "users_abnormal"
   ]
  },
  {
   "cell_type": "code",
   "execution_count": 33,
   "metadata": {},
   "outputs": [
    {
     "name": "stdout",
     "output_type": "stream",
     "text": [
      "Доля исключенных пользователей 6.499%\n"
     ]
    }
   ],
   "source": [
    "print('Доля исключенных пользователей {0:.3f}%'.format(len(users_abnormal)/orders['visitor_id'].nunique()*100))"
   ]
  },
  {
   "cell_type": "markdown",
   "metadata": {},
   "source": [
    "Всего получилось 67 таких пользователей. Это составляет 6,5% от общего числа пользователей. Исключение подобной доли пользователей не должно оказать значимого влияния на статистику.\n",
    "\n",
    "Для первоначальной оценки качества исключения аномалий построим график кумулятивной выручки."
   ]
  },
  {
   "cell_type": "code",
   "execution_count": 34,
   "metadata": {},
   "outputs": [
    {
     "data": {
      "image/png": "[encoded data removed]",
      "text/plain": [
       "<Figure size 720x360 with 1 Axes>"
      ]
     },
     "metadata": {
      "needs_background": "light"
     },
     "output_type": "display_data"
    }
   ],
   "source": [
    "ordersClear = orders[~orders['visitor_id'].isin(users_abnormal)]\n",
    "\n",
    "# создаем массив уникальных пар значений дат и групп теста\n",
    "datesGroups = orders[['date','group']].drop_duplicates()\n",
    "\n",
    "# получаем агрегированные кумулятивные по дням данные о заказах \n",
    "ordersAggregated = datesGroups.apply(lambda x: ordersClear[np.logical_and(ordersClear['date'] <= x['date'], ordersClear['group'] == x['group'])].agg({'date' : 'max', 'group' : 'max', 'transaction_id' : 'nunique', 'visitor_id' : 'nunique', 'revenue' : 'sum'}), axis=1).sort_values(by=['date','group'])\n",
    "\n",
    "# получаем агрегированные кумулятивные по дням данные о посетителях интернет-магазина \n",
    "visitorsAggregated = datesGroups.apply(lambda x: visitors[np.logical_and(visitors['date'] <= x['date'], visitors['group'] == x['group'])].agg({'date' : 'max', 'group' : 'max', 'visitors' : 'sum'}), axis=1).sort_values(by=['date','group'])\n",
    "\n",
    "# объединяем кумулятивные данные в одной таблице и присваиваем ее столбцам понятные названия\n",
    "cumulativeData = ordersAggregated.merge(visitorsAggregated, left_on=['date', 'group'], right_on=['date', 'group'])\n",
    "cumulativeData.columns = ['date', 'group', 'orders', 'buyers', 'revenue', 'visitors']\n",
    "\n",
    "# датафрейм с кумулятивным количеством заказов и кумулятивной выручкой по дням в группе А\n",
    "cumulativeRevenueA = cumulativeData[cumulativeData['group']=='A'][['date','revenue', 'orders']]\n",
    "\n",
    "# датафрейм с кумулятивным количеством заказов и кумулятивной выручкой по дням в группе B\n",
    "cumulativeRevenueB = cumulativeData[cumulativeData['group']=='B'][['date','revenue', 'orders']]\n",
    "\n",
    "plt.figure(figsize=(10,5))\n",
    "# Строим график выручки группы А\n",
    "plt.plot(cumulativeRevenueA['date'], cumulativeRevenueA['revenue'], label='A')\n",
    "\n",
    "# Строим график выручки группы B\n",
    "plt.plot(cumulativeRevenueB['date'], cumulativeRevenueB['revenue'], label='B')\n",
    "\n",
    "plt.title('Кумулятивная выручка, млн.руб.')\n",
    "plt.xlabel('date')\n",
    "plt.ylabel('revenue')\n",
    "\n",
    "plt.legend();"
   ]
  },
  {
   "cell_type": "markdown",
   "metadata": {},
   "source": [
    "Как и предполагалось, исключений аномальных пользователей убрало резкий скачок в выручке 19 августа."
   ]
  },
  {
   "cell_type": "markdown",
   "metadata": {},
   "source": [
    "### Посчитайте статистическую значимость различий в конверсии между группами по «сырым» данным. Сделайте выводы и предположения."
   ]
  },
  {
   "cell_type": "markdown",
   "metadata": {},
   "source": [
    "Прежде всего подготовим датасет с сырыми данными с агрегацией до даты-группы. А затем найдём относительные различия в конверсии и среднем чеке между группами на сырых данных."
   ]
  },
  {
   "cell_type": "code",
   "execution_count": 35,
   "metadata": {},
   "outputs": [],
   "source": [
    "visitorsADaily = visitors[visitors['group'] == 'A'][['date', 'visitors']]\n",
    "visitorsADaily.columns = ['date', 'visitorsPerDateA']\n",
    "\n",
    "visitorsBDaily = visitors[visitors['group'] == 'B'][['date', 'visitors']]\n",
    "visitorsBDaily.columns = ['date', 'visitorsPerDateB']\n",
    "\n",
    "data = (visitorsADaily.merge(visitorsBDaily, left_on='date', right_on='date', how='left'))\n",
    "\n",
    "ordersByUsersA = (\n",
    "    orders[orders['group'] == 'A']\n",
    "    .groupby('visitor_id', as_index=False)\n",
    "    .agg({'transaction_id': pd.Series.nunique})\n",
    ")\n",
    "ordersByUsersA.columns = ['userId', 'orders']\n",
    "\n",
    "ordersByUsersB = (\n",
    "    orders[orders['group'] == 'B']\n",
    "    .groupby('visitor_id', as_index=False)\n",
    "    .agg({'transaction_id': pd.Series.nunique})\n",
    ")\n",
    "ordersByUsersB.columns = ['userId', 'orders']\n",
    "\n",
    "sampleA = pd.concat([ordersByUsersA['orders'], pd.Series(0, index=np.arange(data['visitorsPerDateA'].sum() - len(ordersByUsersA['orders'])), name='orders')], axis=0,)\n",
    "sampleB = pd.concat([ordersByUsersB['orders'], pd.Series(0, index=np.arange(data['visitorsPerDateB'].sum() - len(ordersByUsersB['orders'])), name='orders')], axis=0,)\n"
   ]
  },
  {
   "cell_type": "markdown",
   "metadata": {},
   "source": [
    "В качестве нулевой гипотезы примем утверждение, что значительных различий в конверсии на сырых данных в группах А и В нет. Альтернативная гипотеза будет говорить о наличии этих различий в конверсии на сырых данных.\n",
    "\n",
    "В качестве статистического критерия для проверки нашей гипотезы на сырых данных используем критерий Манна-Уитни, так как этот тест помимо учёта выбросов и ненормальности распределения, учитывает ещё и уникальность покупки.\n",
    "\n",
    "В качестве уровня значимости возьмем p-value = 0.05."
   ]
  },
  {
   "cell_type": "code",
   "execution_count": 36,
   "metadata": {},
   "outputs": [
    {
     "name": "stdout",
     "output_type": "stream",
     "text": [
      "p-value 0.017\n",
      "Относительное изменение 13.808%\n"
     ]
    }
   ],
   "source": [
    "print(\"p-value {0:.3f}\".format(stats.mannwhitneyu(sampleA, sampleB)[1]))\n",
    "print(\"Относительное изменение {0:.3f}%\".format((sampleB.mean() / sampleA.mean() - 1)*100))"
   ]
  },
  {
   "cell_type": "markdown",
   "metadata": {},
   "source": [
    "Первое число p-value = 0.017 меньше 0.05. Значит, альтернативную гипотезу о наличии различий в конверсии между сырыми данными., не отвергаем. Относительный проигрыш группы B на сырых данных равен 13,8% — второе число в выводе."
   ]
  },
  {
   "cell_type": "markdown",
   "metadata": {},
   "source": [
    "### Посчитайте статистическую значимость различий в среднем чеке заказа между группами по «сырым» данным. Сделайте выводы и предположения."
   ]
  },
  {
   "cell_type": "markdown",
   "metadata": {},
   "source": [
    "В качестве нулевой гипотезы примем утверждение, что значительных различий в среднем чеке на сырых данных между группами А и В нет. Альтернативная гипотеза будет говорить о наличии этих различий в конверсии на сырых данных.\n",
    "\n",
    "В качестве статистического критерия для проверки нашей гипотезы на сырых данных используем критерий Манна-Уитни, так как этот тест помимо учёта выбросов и ненормальности распределения, учитывает ещё и уникальность покупки.\n",
    "\n",
    "В качестве уровня значимости возьмем p-value = 0.05.\n"
   ]
  },
  {
   "cell_type": "code",
   "execution_count": 37,
   "metadata": {},
   "outputs": [
    {
     "name": "stdout",
     "output_type": "stream",
     "text": [
      "p-value 0.729\n",
      "Относительное изменение 25.871%\n"
     ]
    }
   ],
   "source": [
    "print('p-value {0:.3f}'.format(stats.mannwhitneyu(orders[orders['group']=='A']['revenue'], orders[orders['group']=='B']['revenue'])[1]))\n",
    "print('Относительное изменение {0:.3f}%'.format((orders[orders['group']=='B']['revenue'].mean()/orders[orders['group']=='A']['revenue'].mean()-1)*100)) "
   ]
  },
  {
   "cell_type": "markdown",
   "metadata": {},
   "source": [
    "Первое число p-value = 0.729 значительно больше 0.05. Значит, нулевую гипотезу о том, что статистически значимых различий в среднем числе заказов между группами нет, не отвергаем. Относительный выигрыш группы B равен 25,87% — второе число в выводе."
   ]
  },
  {
   "cell_type": "markdown",
   "metadata": {},
   "source": [
    "На основании неочищенных данных можно сделать следующие выводы:\n",
    "- Присутствуют статистические значимые различия в конверсии между группами A и B. На графиках мы видим явное превосходство В, а также различия в динамике между конверсиями групп А и В. Лишним доказательством этому является тот факт, что средняя конверсия B больше чем средняя конверсия А на 25,87%.\n",
    "- Статистически значимых различий в среднем чеке между группами A и B нет. Средний чек B на 26% больше чем средний чек А, но следует помнить, что из данных еще не исключены аномалии."
   ]
  },
  {
   "cell_type": "markdown",
   "metadata": {},
   "source": [
    "### Посчитайте статистическую значимость различий в конверсии между группами по «очищенным» данным. Сделайте выводы и предположения."
   ]
  },
  {
   "cell_type": "markdown",
   "metadata": {},
   "source": [
    "Прежде всего подготовим датасет с очищенными данными с агрегацией до даты-группы. А затем найдём относительные различия в конверсии и среднем чеке между группами."
   ]
  },
  {
   "cell_type": "code",
   "execution_count": 38,
   "metadata": {},
   "outputs": [],
   "source": [
    "ordersClear = orders[~orders['visitor_id'].isin(users_abnormal)]\n",
    "visitorsADaily = visitors[visitors['group'] == 'A'][['date', 'visitors']]\n",
    "visitorsADaily.columns = ['date', 'visitorsPerDateA']\n",
    "\n",
    "visitorsBDaily = visitors[visitors['group'] == 'B'][['date', 'visitors']]\n",
    "visitorsBDaily.columns = ['date', 'visitorsPerDateB']\n",
    "\n",
    "data = (visitorsADaily.merge(visitorsBDaily, left_on='date', right_on='date', how='left'))\n",
    "\n",
    "ordersByUsersA = (\n",
    "    ordersClear[ordersClear['group'] == 'A']\n",
    "    .groupby('visitor_id', as_index=False)\n",
    "    .agg({'transaction_id': pd.Series.nunique})\n",
    ")\n",
    "ordersByUsersA.columns = ['userId', 'orders']\n",
    "\n",
    "ordersByUsersB = (\n",
    "    ordersClear[ordersClear['group'] == 'B']\n",
    "    .groupby('visitor_id', as_index=False)\n",
    "    .agg({'transaction_id': pd.Series.nunique})\n",
    ")\n",
    "ordersByUsersB.columns = ['userId', 'orders']\n",
    "\n",
    "sampleA = pd.concat([ordersByUsersA['orders'], pd.Series(0, index=np.arange(data['visitorsPerDateA'].sum() - len(users_abnormal) - len(ordersByUsersA['orders'])), name='orders')], axis=0,)\n",
    "sampleB = pd.concat([ordersByUsersB['orders'], pd.Series(0, index=np.arange(data['visitorsPerDateB'].sum() - len(users_abnormal) - len(ordersByUsersB['orders'])), name='orders')], axis=0,)"
   ]
  },
  {
   "cell_type": "markdown",
   "metadata": {},
   "source": [
    "В качестве нулевой гипотезы примем утверждение, что значительных различий в конверсии на очищенных данных в группах А и В нет. Альтернативная гипотеза будет говорить о наличии этих различий в конверсии между группами А и В на очищенных данных.\n",
    "\n",
    "В качестве статистического критерия для проверки нашей гипотезы на очищенных данных используем критерий Манна-Уитни, так как этот тест помимо учёта выбросов и ненормальности распределения, учитывает ещё и уникальность покупки.\n",
    "\n",
    "В качестве уровня значимости возьмем p-value = 0.05."
   ]
  },
  {
   "cell_type": "code",
   "execution_count": 39,
   "metadata": {},
   "outputs": [
    {
     "name": "stdout",
     "output_type": "stream",
     "text": [
      "p-value 0.010\n",
      "Относительное изменение 16.373%\n"
     ]
    }
   ],
   "source": [
    "print(\"p-value {0:.3f}\".format(stats.mannwhitneyu(sampleA, sampleB)[1]))\n",
    "print(\"Относительное изменение {0:.3f}%\".format((sampleB.mean() / sampleA.mean() - 1)*100))"
   ]
  },
  {
   "cell_type": "markdown",
   "metadata": {},
   "source": [
    "Первое число p-value = 0.010 меньше 0.05. начит, альтернативную гипотезу о наличии различий в конверсии на очищенных данных можно принять. Стоит отметить, что p-value для очищенных данных несколько меньше p-value для неочищенных данных, что говорит о существовании небольшого влияния аномальных данных на значение конверсии. Относительный выигрыш группы B равен 16,4% — второе число в выводе.\n",
    "\n",
    "Можно сделать вывод, что аномалии повлияли на показатель конверсии в некоторой степени - уменьшение относительного выигрыша группы В относительно группы А."
   ]
  },
  {
   "cell_type": "markdown",
   "metadata": {},
   "source": [
    "### Посчитайте статистическую значимость различий в среднем чеке заказа между группами по «очищенным» данным. Сделайте выводы и предположения."
   ]
  },
  {
   "cell_type": "markdown",
   "metadata": {},
   "source": [
    "В качестве нулевой гипотезы примем утверждение, что значительных различий в среднем чеке на очищенных данных в группах А и В нет. Альтернативная гипотеза будет говорить о наличии этих различий в конверсии между группами А и В на очищенных данных.\n",
    "\n",
    "В качестве статистического критерия для проверки нашей гипотезы на очищенных данных используем критерий Манна-Уитни, так как этот тест помимо учёта выбросов и ненормальности распределения, учитывает ещё и уникальность покупки.\n",
    "\n",
    "В качестве уровня значимости возьмем p-value = 0.05."
   ]
  },
  {
   "cell_type": "code",
   "execution_count": 40,
   "metadata": {},
   "outputs": [
    {
     "name": "stdout",
     "output_type": "stream",
     "text": [
      "p-value 0.901\n",
      "Относительное изменение -3.163%\n"
     ]
    }
   ],
   "source": [
    "ordersClear = orders[~orders['visitor_id'].isin(users_abnormal)]\n",
    "print('p-value {0:.3f}'.format(stats.mannwhitneyu(ordersClear[ordersClear['group']=='A']['revenue'], ordersClear[ordersClear['group']=='B']['revenue'])[1]))\n",
    "print('Относительное изменение {0:.3f}%'.format((ordersClear[ordersClear['group']=='B']['revenue'].mean()/ordersClear[ordersClear['group']=='A']['revenue'].mean()-1)*100)) "
   ]
  },
  {
   "cell_type": "markdown",
   "metadata": {},
   "source": [
    "Первое число p-value = 0.901 значительно больше 0.05. Значит, нулевую гипотезу о том, что статистически значимых различий в среднем числе заказов между группами нет можно принять. Относительный проигрыш группы B равен 3,2% — второе число в выводе.\n",
    "\n",
    "Исключение аномалий увеличило значение p-value и снизило относительный проигрыш B. Это может говорить о сильном влиянии аномалий на значение среднего чека."
   ]
  },
  {
   "cell_type": "markdown",
   "metadata": {},
   "source": [
    "На основании очищенных данных можно сделать следующие выводы:\n",
    "- Присутствуют статистически значимые различия в конверсии между группами A и B - p-value на сырых данных сотавляет 0,017, на очищенных 0,010.\n",
    "- Статистически значимых различий в среднем чеке между группами A и B нет - p-value на сырых данных сотавляет 0.729, на очищенных 0.901. Средний чек B после исключения аномальных данных практически не отличается от среднего чека А."
   ]
  },
  {
   "cell_type": "markdown",
   "metadata": {},
   "source": [
    "### Примите решение по результатам теста и объясните его. \n",
    "Варианты решений: \n",
    " 1. Остановить тест, зафиксировать победу одной из групп. \n",
    " 2. Остановить тест, зафиксировать отсутствие различий между группами. \n",
    " 3. Продолжить тест."
   ]
  },
  {
   "cell_type": "markdown",
   "metadata": {},
   "source": [
    "На основании результатов проведенного теста можно принять следующее решение - остановить тест, зафиксировать победу группы В.\n",
    "\n",
    "Причиной этого служит низкое значение p-value для показателя - конверсии (0,017 для сырых данных, 0,010 для очищенных). Конверсия группы В значимо отличается от конверсии группы А даже после исключения аномальных данных. \n",
    "\n",
    "Значения среднего чека не имеют статистически значимых различий (p-value на сырых данных сотавляет 0.729, на очищенных 0.901). Видимые на графиках различия объясняются аномалиями. "
   ]
  },
  {
   "cell_type": "markdown",
   "metadata": {},
   "source": [
    "## Шаг 4. Часть 3. Общий вывод"
   ]
  },
  {
   "cell_type": "markdown",
   "metadata": {},
   "source": [
    "В рамках этапа подготовки были проделаны следующие действия:\n",
    "- Загружены данные из исходных таблиц.\n",
    "- Данные проверены на наличие пустых значений и дубликатов.\n",
    "- Названия колонок всех таблиц приведены к \"змеиному\" регистру.\n",
    "- Преобразованы типы столбцов, связанные с датами.\n",
    "\n",
    "На этапе анализа приоритетов гипотез с использованием разных фреймворков можно сделать следующий вывод:\n",
    "- Приоритетность предложенных гипотез можно определять фреймворками ICE и RICE. В зависимости от учета влияния количства пользователей, затрагиваемых той или иной гипотезой, их приоритетность меняется. При этом, независимо от фреймворка выделяется группа низкоприоритетных гипотез.\n",
    "\n",
    "Результаты A/B тестирования показали следующие результаты:\n",
    "- На основании результатов проведенного теста можно принять следующее решение - остановить тест, зафиксировать победу группы В.\n",
    "- Причиной этого служит низкое значение p-value для показателя - конверсии (0,017 для сырых данных, 0,010 для очищенных). Конверсия группы В значимо отличается от конверсии группы А даже после исключения аномальных данных. \n",
    "- Значения среднего чека не имеют статистически значимых различий (p-value на сырых данных сотавляет 0.729, на очищенных 0.901). Видимые на графиках различия объясняются аномалиями. \n"
   ]
  }
 ],
 "metadata": {
  "ExecuteTimeLog": [
   {
    "duration": 727,
    "start_time": "2022-08-10T14:22:32.130Z"
   },
   {
    "duration": 251,
    "start_time": "2022-08-10T14:24:16.942Z"
   },
   {
    "duration": 24,
    "start_time": "2022-08-10T14:25:38.144Z"
   },
   {
    "duration": 17,
    "start_time": "2022-08-10T14:26:08.744Z"
   },
   {
    "duration": 17,
    "start_time": "2022-08-10T14:26:11.216Z"
   },
   {
    "duration": 6,
    "start_time": "2022-08-10T14:30:02.004Z"
   },
   {
    "duration": 5,
    "start_time": "2022-08-10T14:32:08.363Z"
   },
   {
    "duration": 46,
    "start_time": "2022-08-11T16:10:41.050Z"
   },
   {
    "duration": 756,
    "start_time": "2022-08-11T16:10:48.790Z"
   },
   {
    "duration": 205,
    "start_time": "2022-08-11T16:10:49.548Z"
   },
   {
    "duration": 19,
    "start_time": "2022-08-11T16:10:49.755Z"
   },
   {
    "duration": 19,
    "start_time": "2022-08-11T16:10:49.776Z"
   },
   {
    "duration": 16,
    "start_time": "2022-08-11T16:10:49.796Z"
   },
   {
    "duration": 5,
    "start_time": "2022-08-11T16:10:50.500Z"
   },
   {
    "duration": 6,
    "start_time": "2022-08-11T16:10:50.727Z"
   },
   {
    "duration": 8,
    "start_time": "2022-08-11T16:10:51.771Z"
   },
   {
    "duration": 34,
    "start_time": "2022-08-11T16:11:25.959Z"
   },
   {
    "duration": 12,
    "start_time": "2022-08-11T16:11:30.274Z"
   },
   {
    "duration": 18,
    "start_time": "2022-08-11T16:11:46.913Z"
   },
   {
    "duration": 10,
    "start_time": "2022-08-11T16:12:26.635Z"
   },
   {
    "duration": 4,
    "start_time": "2022-08-11T16:13:18.143Z"
   },
   {
    "duration": 4,
    "start_time": "2022-08-11T16:13:27.953Z"
   },
   {
    "duration": 8,
    "start_time": "2022-08-11T16:22:15.358Z"
   },
   {
    "duration": 7,
    "start_time": "2022-08-11T16:25:01.159Z"
   },
   {
    "duration": 9,
    "start_time": "2022-08-11T16:25:03.041Z"
   },
   {
    "duration": 8,
    "start_time": "2022-08-11T16:25:04.667Z"
   },
   {
    "duration": 7,
    "start_time": "2022-08-11T16:25:14.579Z"
   },
   {
    "duration": 15,
    "start_time": "2022-08-11T16:25:26.555Z"
   },
   {
    "duration": 8,
    "start_time": "2022-08-11T16:25:34.392Z"
   },
   {
    "duration": 9,
    "start_time": "2022-08-11T16:25:36.450Z"
   },
   {
    "duration": 19,
    "start_time": "2022-08-11T17:26:05.042Z"
   },
   {
    "duration": 9,
    "start_time": "2022-08-11T17:26:19.897Z"
   },
   {
    "duration": 6,
    "start_time": "2022-08-11T17:29:44.647Z"
   },
   {
    "duration": 146,
    "start_time": "2022-08-11T17:29:45.065Z"
   },
   {
    "duration": 113,
    "start_time": "2022-08-11T17:30:07.153Z"
   },
   {
    "duration": 245,
    "start_time": "2022-08-11T17:32:13.779Z"
   },
   {
    "duration": 288,
    "start_time": "2022-08-11T17:33:15.081Z"
   },
   {
    "duration": 261,
    "start_time": "2022-08-11T17:34:09.785Z"
   },
   {
    "duration": 268,
    "start_time": "2022-08-11T17:34:48.198Z"
   },
   {
    "duration": 475,
    "start_time": "2022-08-11T17:35:02.520Z"
   },
   {
    "duration": 295,
    "start_time": "2022-08-11T17:36:42.182Z"
   },
   {
    "duration": 363,
    "start_time": "2022-08-11T17:36:47.319Z"
   },
   {
    "duration": 9,
    "start_time": "2022-08-11T17:42:34.362Z"
   },
   {
    "duration": 107,
    "start_time": "2022-08-11T17:42:47.194Z"
   },
   {
    "duration": 120,
    "start_time": "2022-08-11T17:43:25.728Z"
   },
   {
    "duration": 201,
    "start_time": "2022-08-11T17:43:39.652Z"
   },
   {
    "duration": 4,
    "start_time": "2022-08-11T17:44:11.070Z"
   },
   {
    "duration": 116,
    "start_time": "2022-08-11T17:48:02.361Z"
   },
   {
    "duration": 181,
    "start_time": "2022-08-11T17:48:45.335Z"
   },
   {
    "duration": 296,
    "start_time": "2022-08-11T17:49:32.429Z"
   },
   {
    "duration": 6,
    "start_time": "2022-08-11T17:50:17.233Z"
   },
   {
    "duration": 260,
    "start_time": "2022-08-11T18:22:57.109Z"
   },
   {
    "duration": 5,
    "start_time": "2022-08-11T18:23:55.636Z"
   },
   {
    "duration": 314,
    "start_time": "2022-08-11T18:33:23.510Z"
   },
   {
    "duration": 6,
    "start_time": "2022-08-11T18:33:23.910Z"
   },
   {
    "duration": 7,
    "start_time": "2022-08-11T18:33:24.180Z"
   },
   {
    "duration": 468,
    "start_time": "2022-08-11T18:33:55.120Z"
   },
   {
    "duration": 27,
    "start_time": "2022-08-11T18:34:11.472Z"
   },
   {
    "duration": 5,
    "start_time": "2022-08-11T18:53:35.112Z"
   },
   {
    "duration": 7,
    "start_time": "2022-08-11T18:53:41.963Z"
   },
   {
    "duration": 14,
    "start_time": "2022-08-11T18:55:05.748Z"
   },
   {
    "duration": 15,
    "start_time": "2022-08-11T19:04:10.424Z"
   },
   {
    "duration": 11,
    "start_time": "2022-08-11T19:04:47.844Z"
   },
   {
    "duration": 10,
    "start_time": "2022-08-11T19:05:35.686Z"
   },
   {
    "duration": 8,
    "start_time": "2022-08-11T19:06:13.122Z"
   },
   {
    "duration": 10,
    "start_time": "2022-08-11T19:06:14.928Z"
   },
   {
    "duration": 9,
    "start_time": "2022-08-11T19:06:16.645Z"
   },
   {
    "duration": 61,
    "start_time": "2022-08-11T19:07:22.442Z"
   },
   {
    "duration": 1157,
    "start_time": "2022-08-12T11:17:10.381Z"
   },
   {
    "duration": 254,
    "start_time": "2022-08-12T11:17:11.540Z"
   },
   {
    "duration": 19,
    "start_time": "2022-08-12T11:17:11.795Z"
   },
   {
    "duration": 17,
    "start_time": "2022-08-12T11:17:11.816Z"
   },
   {
    "duration": 14,
    "start_time": "2022-08-12T11:17:11.835Z"
   },
   {
    "duration": 5,
    "start_time": "2022-08-12T11:17:12.074Z"
   },
   {
    "duration": 5,
    "start_time": "2022-08-12T11:17:12.282Z"
   },
   {
    "duration": 12,
    "start_time": "2022-08-12T11:17:12.706Z"
   },
   {
    "duration": 11,
    "start_time": "2022-08-12T11:17:12.906Z"
   },
   {
    "duration": 8,
    "start_time": "2022-08-12T11:17:13.326Z"
   },
   {
    "duration": 8,
    "start_time": "2022-08-12T11:17:13.536Z"
   },
   {
    "duration": 7,
    "start_time": "2022-08-12T11:17:14.071Z"
   },
   {
    "duration": 8,
    "start_time": "2022-08-12T11:17:15.756Z"
   },
   {
    "duration": 10,
    "start_time": "2022-08-12T11:17:16.162Z"
   },
   {
    "duration": 48,
    "start_time": "2022-08-12T11:17:16.735Z"
   },
   {
    "duration": 11,
    "start_time": "2022-08-12T11:17:17.981Z"
   },
   {
    "duration": 12,
    "start_time": "2022-08-12T11:17:18.206Z"
   },
   {
    "duration": 279,
    "start_time": "2022-08-12T11:17:18.643Z"
   },
   {
    "duration": 238,
    "start_time": "2022-08-12T11:17:18.924Z"
   },
   {
    "duration": 161,
    "start_time": "2022-08-12T11:17:19.411Z"
   },
   {
    "duration": 351,
    "start_time": "2022-08-12T11:17:19.574Z"
   },
   {
    "duration": 191,
    "start_time": "2022-08-12T11:17:19.926Z"
   },
   {
    "duration": 275,
    "start_time": "2022-08-12T11:17:20.119Z"
   },
   {
    "duration": 195,
    "start_time": "2022-08-12T11:17:20.395Z"
   },
   {
    "duration": 17,
    "start_time": "2022-08-12T11:17:20.592Z"
   },
   {
    "duration": 228,
    "start_time": "2022-08-12T11:17:20.610Z"
   },
   {
    "duration": 4,
    "start_time": "2022-08-12T11:17:20.839Z"
   },
   {
    "duration": 386,
    "start_time": "2022-08-12T11:17:20.845Z"
   },
   {
    "duration": 6,
    "start_time": "2022-08-12T11:17:21.233Z"
   },
   {
    "duration": 34,
    "start_time": "2022-08-12T11:17:21.240Z"
   },
   {
    "duration": 32,
    "start_time": "2022-08-12T11:17:21.276Z"
   },
   {
    "duration": 10,
    "start_time": "2022-08-12T11:17:21.310Z"
   },
   {
    "duration": 12,
    "start_time": "2022-08-12T11:19:11.599Z"
   },
   {
    "duration": 47,
    "start_time": "2022-08-12T11:33:31.439Z"
   },
   {
    "duration": 104,
    "start_time": "2022-08-12T11:33:59.471Z"
   },
   {
    "duration": 13,
    "start_time": "2022-08-12T11:34:19.494Z"
   },
   {
    "duration": 13,
    "start_time": "2022-08-12T11:34:28.862Z"
   },
   {
    "duration": 12,
    "start_time": "2022-08-12T11:34:46.779Z"
   },
   {
    "duration": 4,
    "start_time": "2022-08-12T11:35:00.864Z"
   },
   {
    "duration": 16,
    "start_time": "2022-08-12T11:35:06.367Z"
   },
   {
    "duration": 28,
    "start_time": "2022-08-12T11:36:27.009Z"
   },
   {
    "duration": 9,
    "start_time": "2022-08-12T11:37:43.864Z"
   },
   {
    "duration": 4,
    "start_time": "2022-08-12T11:51:09.477Z"
   },
   {
    "duration": 14,
    "start_time": "2022-08-12T11:52:20.661Z"
   },
   {
    "duration": 5,
    "start_time": "2022-08-12T11:52:40.917Z"
   },
   {
    "duration": 7,
    "start_time": "2022-08-12T11:53:00.988Z"
   },
   {
    "duration": 14,
    "start_time": "2022-08-12T11:53:11.140Z"
   },
   {
    "duration": 7,
    "start_time": "2022-08-12T11:54:15.517Z"
   },
   {
    "duration": 5,
    "start_time": "2022-08-12T11:54:23.272Z"
   },
   {
    "duration": 23,
    "start_time": "2022-08-12T11:57:25.491Z"
   },
   {
    "duration": 10,
    "start_time": "2022-08-12T11:57:29.796Z"
   },
   {
    "duration": 20,
    "start_time": "2022-08-12T11:58:28.190Z"
   },
   {
    "duration": 9,
    "start_time": "2022-08-12T11:58:31.413Z"
   },
   {
    "duration": 4,
    "start_time": "2022-08-12T12:01:25.586Z"
   },
   {
    "duration": 12,
    "start_time": "2022-08-12T12:01:25.992Z"
   },
   {
    "duration": 3,
    "start_time": "2022-08-12T12:36:52.573Z"
   },
   {
    "duration": 78,
    "start_time": "2022-08-12T12:36:53.073Z"
   },
   {
    "duration": 15,
    "start_time": "2022-08-12T12:36:53.153Z"
   },
   {
    "duration": 20,
    "start_time": "2022-08-12T12:36:53.170Z"
   },
   {
    "duration": 17,
    "start_time": "2022-08-12T12:36:53.193Z"
   },
   {
    "duration": 5,
    "start_time": "2022-08-12T12:36:53.276Z"
   },
   {
    "duration": 5,
    "start_time": "2022-08-12T12:36:53.296Z"
   },
   {
    "duration": 12,
    "start_time": "2022-08-12T12:36:53.361Z"
   },
   {
    "duration": 11,
    "start_time": "2022-08-12T12:36:53.415Z"
   },
   {
    "duration": 8,
    "start_time": "2022-08-12T12:36:53.460Z"
   },
   {
    "duration": 8,
    "start_time": "2022-08-12T12:36:53.498Z"
   },
   {
    "duration": 7,
    "start_time": "2022-08-12T12:36:53.529Z"
   },
   {
    "duration": 7,
    "start_time": "2022-08-12T12:36:53.629Z"
   },
   {
    "duration": 8,
    "start_time": "2022-08-12T12:36:53.688Z"
   },
   {
    "duration": 53,
    "start_time": "2022-08-12T12:36:53.787Z"
   },
   {
    "duration": 12,
    "start_time": "2022-08-12T12:36:53.988Z"
   },
   {
    "duration": 11,
    "start_time": "2022-08-12T12:36:54.014Z"
   },
   {
    "duration": 269,
    "start_time": "2022-08-12T12:36:54.080Z"
   },
   {
    "duration": 196,
    "start_time": "2022-08-12T12:36:54.351Z"
   },
   {
    "duration": 180,
    "start_time": "2022-08-12T12:36:54.548Z"
   },
   {
    "duration": 267,
    "start_time": "2022-08-12T12:36:54.730Z"
   },
   {
    "duration": 204,
    "start_time": "2022-08-12T12:36:55.009Z"
   },
   {
    "duration": 300,
    "start_time": "2022-08-12T12:36:55.215Z"
   },
   {
    "duration": 221,
    "start_time": "2022-08-12T12:36:55.517Z"
   },
   {
    "duration": 4,
    "start_time": "2022-08-12T12:36:55.740Z"
   },
   {
    "duration": 275,
    "start_time": "2022-08-12T12:36:55.745Z"
   },
   {
    "duration": 4,
    "start_time": "2022-08-12T12:36:56.023Z"
   },
   {
    "duration": 18,
    "start_time": "2022-08-12T12:36:56.029Z"
   },
   {
    "duration": 10,
    "start_time": "2022-08-12T12:36:56.049Z"
   },
   {
    "duration": 30,
    "start_time": "2022-08-12T12:36:56.061Z"
   },
   {
    "duration": 24,
    "start_time": "2022-08-12T12:36:56.093Z"
   },
   {
    "duration": 11,
    "start_time": "2022-08-12T12:36:56.119Z"
   },
   {
    "duration": 22,
    "start_time": "2022-08-12T12:36:56.132Z"
   },
   {
    "duration": 10,
    "start_time": "2022-08-12T12:36:56.156Z"
   },
   {
    "duration": 45,
    "start_time": "2022-08-12T12:36:56.167Z"
   },
   {
    "duration": 9,
    "start_time": "2022-08-12T12:36:56.214Z"
   },
   {
    "duration": 11,
    "start_time": "2022-08-12T12:37:17.061Z"
   },
   {
    "duration": 13,
    "start_time": "2022-08-12T12:53:16.573Z"
   },
   {
    "duration": 11,
    "start_time": "2022-08-12T12:53:17.028Z"
   },
   {
    "duration": 9,
    "start_time": "2022-08-12T12:53:20.664Z"
   },
   {
    "duration": 8,
    "start_time": "2022-08-12T12:53:20.917Z"
   },
   {
    "duration": 9,
    "start_time": "2022-08-12T12:53:21.348Z"
   },
   {
    "duration": 9,
    "start_time": "2022-08-12T12:53:24.016Z"
   },
   {
    "duration": 7,
    "start_time": "2022-08-12T12:53:25.243Z"
   },
   {
    "duration": 10,
    "start_time": "2022-08-12T12:53:27.189Z"
   },
   {
    "duration": 12,
    "start_time": "2022-08-12T12:53:31.773Z"
   },
   {
    "duration": 11,
    "start_time": "2022-08-12T12:53:33.322Z"
   },
   {
    "duration": 237,
    "start_time": "2022-08-12T12:53:34.967Z"
   },
   {
    "duration": 158,
    "start_time": "2022-08-12T12:53:36.429Z"
   },
   {
    "duration": 12,
    "start_time": "2022-08-12T12:53:47.903Z"
   },
   {
    "duration": 11,
    "start_time": "2022-08-12T12:53:48.213Z"
   },
   {
    "duration": 8,
    "start_time": "2022-08-12T12:53:50.656Z"
   },
   {
    "duration": 8,
    "start_time": "2022-08-12T12:53:50.883Z"
   },
   {
    "duration": 7,
    "start_time": "2022-08-12T12:53:51.124Z"
   },
   {
    "duration": 9,
    "start_time": "2022-08-12T12:53:52.549Z"
   },
   {
    "duration": 8,
    "start_time": "2022-08-12T12:53:53.788Z"
   },
   {
    "duration": 7,
    "start_time": "2022-08-12T12:53:55.318Z"
   },
   {
    "duration": 11,
    "start_time": "2022-08-12T12:53:58.159Z"
   },
   {
    "duration": 10,
    "start_time": "2022-08-12T12:53:59.170Z"
   },
   {
    "duration": 277,
    "start_time": "2022-08-12T12:54:02.118Z"
   },
   {
    "duration": 178,
    "start_time": "2022-08-12T12:54:03.473Z"
   },
   {
    "duration": 8,
    "start_time": "2022-08-12T12:54:33.588Z"
   },
   {
    "duration": 4,
    "start_time": "2022-08-12T12:56:06.223Z"
   },
   {
    "duration": 7,
    "start_time": "2022-08-12T12:56:38.499Z"
   },
   {
    "duration": 383,
    "start_time": "2022-08-12T13:16:59.154Z"
   },
   {
    "duration": 4,
    "start_time": "2022-08-12T13:27:43.250Z"
   },
   {
    "duration": 6,
    "start_time": "2022-08-12T13:27:44.581Z"
   },
   {
    "duration": 4,
    "start_time": "2022-08-12T13:27:45.543Z"
   },
   {
    "duration": 6,
    "start_time": "2022-08-12T13:28:02.885Z"
   },
   {
    "duration": 6,
    "start_time": "2022-08-12T13:28:03.937Z"
   },
   {
    "duration": 6,
    "start_time": "2022-08-12T13:28:11.148Z"
   },
   {
    "duration": 4,
    "start_time": "2022-08-12T13:28:14.904Z"
   },
   {
    "duration": 4,
    "start_time": "2022-08-12T14:21:01.312Z"
   },
   {
    "duration": 81,
    "start_time": "2022-08-12T14:21:01.711Z"
   },
   {
    "duration": 16,
    "start_time": "2022-08-12T14:21:02.219Z"
   },
   {
    "duration": 20,
    "start_time": "2022-08-12T14:21:02.263Z"
   },
   {
    "duration": 24,
    "start_time": "2022-08-12T14:21:02.287Z"
   },
   {
    "duration": 5,
    "start_time": "2022-08-12T14:21:02.390Z"
   },
   {
    "duration": 8,
    "start_time": "2022-08-12T14:21:02.415Z"
   },
   {
    "duration": 12,
    "start_time": "2022-08-12T14:21:02.483Z"
   },
   {
    "duration": 11,
    "start_time": "2022-08-12T14:21:02.512Z"
   },
   {
    "duration": 8,
    "start_time": "2022-08-12T14:21:02.590Z"
   },
   {
    "duration": 15,
    "start_time": "2022-08-12T14:21:02.609Z"
   },
   {
    "duration": 11,
    "start_time": "2022-08-12T14:21:02.642Z"
   },
   {
    "duration": 8,
    "start_time": "2022-08-12T14:21:02.750Z"
   },
   {
    "duration": 8,
    "start_time": "2022-08-12T14:21:02.815Z"
   },
   {
    "duration": 8,
    "start_time": "2022-08-12T14:21:02.915Z"
   },
   {
    "duration": 12,
    "start_time": "2022-08-12T14:21:03.102Z"
   },
   {
    "duration": 14,
    "start_time": "2022-08-12T14:21:03.142Z"
   },
   {
    "duration": 273,
    "start_time": "2022-08-12T14:21:03.210Z"
   },
   {
    "duration": 184,
    "start_time": "2022-08-12T14:21:03.485Z"
   },
   {
    "duration": 171,
    "start_time": "2022-08-12T14:21:03.671Z"
   },
   {
    "duration": 250,
    "start_time": "2022-08-12T14:21:03.845Z"
   },
   {
    "duration": 194,
    "start_time": "2022-08-12T14:21:04.097Z"
   },
   {
    "duration": 316,
    "start_time": "2022-08-12T14:21:04.293Z"
   },
   {
    "duration": 205,
    "start_time": "2022-08-12T14:21:04.610Z"
   },
   {
    "duration": 5,
    "start_time": "2022-08-12T14:21:04.816Z"
   },
   {
    "duration": 252,
    "start_time": "2022-08-12T14:21:04.823Z"
   },
   {
    "duration": 3,
    "start_time": "2022-08-12T14:21:05.077Z"
   },
   {
    "duration": 14,
    "start_time": "2022-08-12T14:21:05.081Z"
   },
   {
    "duration": 21,
    "start_time": "2022-08-12T14:21:05.097Z"
   },
   {
    "duration": 1203,
    "start_time": "2022-08-12T14:21:05.120Z"
   },
   {
    "duration": 0,
    "start_time": "2022-08-12T14:21:06.325Z"
   },
   {
    "duration": 0,
    "start_time": "2022-08-12T14:21:06.326Z"
   },
   {
    "duration": 0,
    "start_time": "2022-08-12T14:21:06.327Z"
   },
   {
    "duration": 0,
    "start_time": "2022-08-12T14:21:06.329Z"
   },
   {
    "duration": 0,
    "start_time": "2022-08-12T14:21:06.330Z"
   },
   {
    "duration": 0,
    "start_time": "2022-08-12T14:21:06.332Z"
   },
   {
    "duration": 0,
    "start_time": "2022-08-12T14:21:06.333Z"
   },
   {
    "duration": 418,
    "start_time": "2022-08-12T14:21:58.119Z"
   },
   {
    "duration": 19,
    "start_time": "2022-08-12T14:23:52.789Z"
   },
   {
    "duration": 9,
    "start_time": "2022-08-12T14:23:53.045Z"
   },
   {
    "duration": 10,
    "start_time": "2022-08-12T14:23:53.869Z"
   },
   {
    "duration": 20,
    "start_time": "2022-08-12T14:23:54.232Z"
   },
   {
    "duration": 12,
    "start_time": "2022-08-12T14:23:54.395Z"
   },
   {
    "duration": 5,
    "start_time": "2022-08-12T14:23:54.763Z"
   },
   {
    "duration": 9,
    "start_time": "2022-08-12T14:23:54.937Z"
   },
   {
    "duration": 13,
    "start_time": "2022-08-12T14:35:50.041Z"
   },
   {
    "duration": 22,
    "start_time": "2022-08-12T14:35:55.209Z"
   },
   {
    "duration": 30,
    "start_time": "2022-08-12T14:45:07.702Z"
   },
   {
    "duration": 10,
    "start_time": "2022-08-12T14:45:23.453Z"
   },
   {
    "duration": 9,
    "start_time": "2022-08-12T14:45:24.553Z"
   },
   {
    "duration": 22,
    "start_time": "2022-08-12T14:45:55.640Z"
   },
   {
    "duration": 10,
    "start_time": "2022-08-12T14:45:58.707Z"
   },
   {
    "duration": 11,
    "start_time": "2022-08-12T14:45:59.651Z"
   },
   {
    "duration": 61,
    "start_time": "2022-08-12T14:50:31.754Z"
   },
   {
    "duration": 64,
    "start_time": "2022-08-12T14:53:47.370Z"
   },
   {
    "duration": 48,
    "start_time": "2022-08-12T14:53:50.460Z"
   },
   {
    "duration": 286,
    "start_time": "2022-08-12T14:53:53.218Z"
   },
   {
    "duration": 10,
    "start_time": "2022-08-12T14:57:59.610Z"
   },
   {
    "duration": 10,
    "start_time": "2022-08-12T15:00:38.335Z"
   },
   {
    "duration": 111,
    "start_time": "2022-08-12T15:05:27.681Z"
   },
   {
    "duration": 85,
    "start_time": "2022-08-13T03:38:15.605Z"
   },
   {
    "duration": 51,
    "start_time": "2022-08-13T09:33:10.788Z"
   },
   {
    "duration": 1199,
    "start_time": "2022-08-13T09:33:19.024Z"
   },
   {
    "duration": 250,
    "start_time": "2022-08-13T09:33:20.225Z"
   },
   {
    "duration": 20,
    "start_time": "2022-08-13T09:33:20.476Z"
   },
   {
    "duration": 25,
    "start_time": "2022-08-13T09:33:20.498Z"
   },
   {
    "duration": 22,
    "start_time": "2022-08-13T09:33:20.524Z"
   },
   {
    "duration": 17,
    "start_time": "2022-08-13T09:33:20.548Z"
   },
   {
    "duration": 6,
    "start_time": "2022-08-13T09:33:20.567Z"
   },
   {
    "duration": 17,
    "start_time": "2022-08-13T09:33:20.575Z"
   },
   {
    "duration": 28,
    "start_time": "2022-08-13T09:33:20.594Z"
   },
   {
    "duration": 11,
    "start_time": "2022-08-13T09:33:20.625Z"
   },
   {
    "duration": 13,
    "start_time": "2022-08-13T09:33:20.637Z"
   },
   {
    "duration": 7,
    "start_time": "2022-08-13T09:33:20.652Z"
   },
   {
    "duration": 13,
    "start_time": "2022-08-13T09:33:20.661Z"
   },
   {
    "duration": 22,
    "start_time": "2022-08-13T09:33:20.675Z"
   },
   {
    "duration": 6,
    "start_time": "2022-08-13T09:33:20.699Z"
   },
   {
    "duration": 13,
    "start_time": "2022-08-13T09:33:20.926Z"
   },
   {
    "duration": 10,
    "start_time": "2022-08-13T09:33:20.958Z"
   },
   {
    "duration": 274,
    "start_time": "2022-08-13T09:33:21.028Z"
   },
   {
    "duration": 253,
    "start_time": "2022-08-13T09:33:21.305Z"
   },
   {
    "duration": 189,
    "start_time": "2022-08-13T09:33:22.567Z"
   },
   {
    "duration": 335,
    "start_time": "2022-08-13T09:33:22.757Z"
   },
   {
    "duration": 190,
    "start_time": "2022-08-13T09:33:23.094Z"
   },
   {
    "duration": 338,
    "start_time": "2022-08-13T09:33:23.286Z"
   },
   {
    "duration": 209,
    "start_time": "2022-08-13T09:33:23.626Z"
   },
   {
    "duration": 3,
    "start_time": "2022-08-13T09:33:23.837Z"
   },
   {
    "duration": 253,
    "start_time": "2022-08-13T09:33:23.842Z"
   },
   {
    "duration": 4,
    "start_time": "2022-08-13T09:33:24.096Z"
   },
   {
    "duration": 25,
    "start_time": "2022-08-13T09:33:24.101Z"
   },
   {
    "duration": 12,
    "start_time": "2022-08-13T09:33:24.129Z"
   },
   {
    "duration": 484,
    "start_time": "2022-08-13T09:33:24.143Z"
   },
   {
    "duration": 20,
    "start_time": "2022-08-13T09:33:24.629Z"
   },
   {
    "duration": 12,
    "start_time": "2022-08-13T09:33:24.901Z"
   },
   {
    "duration": 10,
    "start_time": "2022-08-13T09:33:29.561Z"
   },
   {
    "duration": 21,
    "start_time": "2022-08-13T09:33:35.953Z"
   },
   {
    "duration": 9,
    "start_time": "2022-08-13T09:33:36.701Z"
   },
   {
    "duration": 9,
    "start_time": "2022-08-13T09:33:37.776Z"
   },
   {
    "duration": 13,
    "start_time": "2022-08-13T09:34:16.114Z"
   },
   {
    "duration": 5,
    "start_time": "2022-08-13T09:35:36.861Z"
   },
   {
    "duration": 6,
    "start_time": "2022-08-13T09:35:40.228Z"
   },
   {
    "duration": 7,
    "start_time": "2022-08-13T09:36:01.673Z"
   },
   {
    "duration": 7,
    "start_time": "2022-08-13T09:37:41.962Z"
   },
   {
    "duration": 7,
    "start_time": "2022-08-13T09:37:43.158Z"
   },
   {
    "duration": 17,
    "start_time": "2022-08-13T09:37:47.105Z"
   },
   {
    "duration": 12,
    "start_time": "2022-08-13T09:43:06.551Z"
   },
   {
    "duration": 193,
    "start_time": "2022-08-13T09:45:55.638Z"
   },
   {
    "duration": 173,
    "start_time": "2022-08-13T09:46:37.963Z"
   },
   {
    "duration": 176,
    "start_time": "2022-08-13T09:47:05.952Z"
   },
   {
    "duration": 322,
    "start_time": "2022-08-13T09:47:22.519Z"
   },
   {
    "duration": 179,
    "start_time": "2022-08-13T09:47:23.286Z"
   },
   {
    "duration": 212,
    "start_time": "2022-08-13T09:51:15.257Z"
   },
   {
    "duration": 221,
    "start_time": "2022-08-13T09:51:23.596Z"
   },
   {
    "duration": 178,
    "start_time": "2022-08-13T09:52:34.531Z"
   },
   {
    "duration": 244,
    "start_time": "2022-08-13T09:52:52.684Z"
   },
   {
    "duration": 204,
    "start_time": "2022-08-13T09:53:12.558Z"
   },
   {
    "duration": 229,
    "start_time": "2022-08-13T09:55:26.263Z"
   },
   {
    "duration": 189,
    "start_time": "2022-08-13T09:55:39.060Z"
   },
   {
    "duration": 304,
    "start_time": "2022-08-13T09:56:14.628Z"
   },
   {
    "duration": 217,
    "start_time": "2022-08-13T09:56:22.106Z"
   },
   {
    "duration": 176,
    "start_time": "2022-08-13T09:58:10.951Z"
   },
   {
    "duration": 201,
    "start_time": "2022-08-13T09:58:24.628Z"
   },
   {
    "duration": 277,
    "start_time": "2022-08-13T10:00:15.883Z"
   },
   {
    "duration": 187,
    "start_time": "2022-08-13T10:00:59.560Z"
   },
   {
    "duration": 275,
    "start_time": "2022-08-13T10:01:02.030Z"
   },
   {
    "duration": 195,
    "start_time": "2022-08-13T10:01:46.561Z"
   },
   {
    "duration": 310,
    "start_time": "2022-08-13T10:03:08.824Z"
   },
   {
    "duration": 232,
    "start_time": "2022-08-13T10:07:34.058Z"
   },
   {
    "duration": 338,
    "start_time": "2022-08-13T10:07:41.368Z"
   },
   {
    "duration": 250,
    "start_time": "2022-08-13T10:08:23.098Z"
   },
   {
    "duration": 244,
    "start_time": "2022-08-13T10:12:17.499Z"
   },
   {
    "duration": 251,
    "start_time": "2022-08-13T10:12:30.024Z"
   },
   {
    "duration": 154,
    "start_time": "2022-08-13T10:13:11.671Z"
   },
   {
    "duration": 402,
    "start_time": "2022-08-13T10:13:21.073Z"
   },
   {
    "duration": 1767,
    "start_time": "2022-08-13T10:13:41.256Z"
   },
   {
    "duration": 589,
    "start_time": "2022-08-13T10:13:55.301Z"
   },
   {
    "duration": 369,
    "start_time": "2022-08-13T10:14:50.366Z"
   },
   {
    "duration": 358,
    "start_time": "2022-08-13T10:14:54.481Z"
   },
   {
    "duration": 761,
    "start_time": "2022-08-13T10:19:30.108Z"
   },
   {
    "duration": 7,
    "start_time": "2022-08-13T10:22:42.892Z"
   },
   {
    "duration": 282,
    "start_time": "2022-08-13T10:22:46.564Z"
   },
   {
    "duration": 288,
    "start_time": "2022-08-13T10:23:16.690Z"
   },
   {
    "duration": 379,
    "start_time": "2022-08-13T10:23:25.241Z"
   },
   {
    "duration": 431,
    "start_time": "2022-08-13T10:23:31.377Z"
   },
   {
    "duration": 676,
    "start_time": "2022-08-13T10:23:57.256Z"
   },
   {
    "duration": 811,
    "start_time": "2022-08-13T10:24:24.887Z"
   },
   {
    "duration": 673,
    "start_time": "2022-08-13T10:24:35.300Z"
   },
   {
    "duration": 931,
    "start_time": "2022-08-13T10:25:02.398Z"
   },
   {
    "duration": 754,
    "start_time": "2022-08-13T10:25:14.444Z"
   },
   {
    "duration": 886,
    "start_time": "2022-08-13T10:26:12.972Z"
   },
   {
    "duration": 663,
    "start_time": "2022-08-13T10:27:55.767Z"
   },
   {
    "duration": 641,
    "start_time": "2022-08-13T10:28:26.452Z"
   },
   {
    "duration": 789,
    "start_time": "2022-08-13T10:29:29.388Z"
   },
   {
    "duration": 689,
    "start_time": "2022-08-13T10:29:48.157Z"
   },
   {
    "duration": 462,
    "start_time": "2022-08-13T10:31:00.224Z"
   },
   {
    "duration": 5,
    "start_time": "2022-08-13T10:31:51.167Z"
   },
   {
    "duration": 4,
    "start_time": "2022-08-13T10:32:52.463Z"
   },
   {
    "duration": 4,
    "start_time": "2022-08-13T10:33:09.543Z"
   },
   {
    "duration": 10,
    "start_time": "2022-08-13T10:45:38.547Z"
   },
   {
    "duration": 9,
    "start_time": "2022-08-13T10:45:41.767Z"
   },
   {
    "duration": 15,
    "start_time": "2022-08-13T10:48:05.420Z"
   },
   {
    "duration": 11,
    "start_time": "2022-08-13T10:59:31.914Z"
   },
   {
    "duration": 13,
    "start_time": "2022-08-13T11:00:37.054Z"
   },
   {
    "duration": 13,
    "start_time": "2022-08-13T11:01:55.624Z"
   },
   {
    "duration": 13,
    "start_time": "2022-08-13T11:02:18.258Z"
   },
   {
    "duration": 15,
    "start_time": "2022-08-13T11:09:12.002Z"
   },
   {
    "duration": 9,
    "start_time": "2022-08-13T11:09:38.130Z"
   },
   {
    "duration": 23,
    "start_time": "2022-08-13T11:12:38.724Z"
   },
   {
    "duration": 17,
    "start_time": "2022-08-13T11:15:08.824Z"
   },
   {
    "duration": 10,
    "start_time": "2022-08-13T11:15:45.324Z"
   },
   {
    "duration": 18,
    "start_time": "2022-08-13T11:15:53.508Z"
   },
   {
    "duration": 10,
    "start_time": "2022-08-13T11:16:19.541Z"
   },
   {
    "duration": 23,
    "start_time": "2022-08-13T11:16:24.694Z"
   },
   {
    "duration": 8,
    "start_time": "2022-08-13T11:17:23.491Z"
   },
   {
    "duration": 8,
    "start_time": "2022-08-13T11:17:38.837Z"
   },
   {
    "duration": 8,
    "start_time": "2022-08-13T11:17:51.215Z"
   },
   {
    "duration": 13,
    "start_time": "2022-08-13T11:19:26.466Z"
   },
   {
    "duration": 96,
    "start_time": "2022-08-13T11:20:37.287Z"
   },
   {
    "duration": 95,
    "start_time": "2022-08-13T11:21:13.077Z"
   },
   {
    "duration": 95,
    "start_time": "2022-08-13T11:21:26.876Z"
   },
   {
    "duration": 193,
    "start_time": "2022-08-13T11:21:43.864Z"
   },
   {
    "duration": 128,
    "start_time": "2022-08-13T11:22:21.293Z"
   },
   {
    "duration": 15,
    "start_time": "2022-08-13T11:22:44.150Z"
   },
   {
    "duration": 157,
    "start_time": "2022-08-13T11:23:05.498Z"
   },
   {
    "duration": 4,
    "start_time": "2022-08-13T11:23:22.891Z"
   },
   {
    "duration": 69,
    "start_time": "2022-08-13T11:24:00.245Z"
   },
   {
    "duration": 4,
    "start_time": "2022-08-13T11:24:06.174Z"
   },
   {
    "duration": 11,
    "start_time": "2022-08-13T11:25:45.897Z"
   },
   {
    "duration": 156,
    "start_time": "2022-08-13T11:28:30.258Z"
   },
   {
    "duration": 153,
    "start_time": "2022-08-13T11:30:16.732Z"
   },
   {
    "duration": 155,
    "start_time": "2022-08-13T11:32:25.874Z"
   },
   {
    "duration": 154,
    "start_time": "2022-08-13T11:35:21.988Z"
   },
   {
    "duration": 157,
    "start_time": "2022-08-13T11:36:49.714Z"
   },
   {
    "duration": 149,
    "start_time": "2022-08-13T11:41:36.733Z"
   },
   {
    "duration": 19,
    "start_time": "2022-08-13T11:41:56.257Z"
   },
   {
    "duration": 130,
    "start_time": "2022-08-13T11:42:30.652Z"
   },
   {
    "duration": 133,
    "start_time": "2022-08-13T11:43:28.868Z"
   },
   {
    "duration": 9,
    "start_time": "2022-08-13T11:46:11.563Z"
   },
   {
    "duration": 48,
    "start_time": "2022-08-13T11:49:35.408Z"
   },
   {
    "duration": 134,
    "start_time": "2022-08-13T11:49:56.833Z"
   },
   {
    "duration": 19,
    "start_time": "2022-08-13T11:49:59.140Z"
   },
   {
    "duration": 66,
    "start_time": "2022-08-13T11:52:08.787Z"
   },
   {
    "duration": 11,
    "start_time": "2022-08-13T11:52:39.217Z"
   },
   {
    "duration": 10,
    "start_time": "2022-08-13T11:53:36.850Z"
   },
   {
    "duration": 946,
    "start_time": "2022-08-13T12:05:48.556Z"
   },
   {
    "duration": 120,
    "start_time": "2022-08-13T12:05:49.504Z"
   },
   {
    "duration": 19,
    "start_time": "2022-08-13T12:05:49.625Z"
   },
   {
    "duration": 18,
    "start_time": "2022-08-13T12:05:49.646Z"
   },
   {
    "duration": 14,
    "start_time": "2022-08-13T12:05:49.666Z"
   },
   {
    "duration": 15,
    "start_time": "2022-08-13T12:05:49.682Z"
   },
   {
    "duration": 12,
    "start_time": "2022-08-13T12:05:49.699Z"
   },
   {
    "duration": 20,
    "start_time": "2022-08-13T12:05:49.713Z"
   },
   {
    "duration": 17,
    "start_time": "2022-08-13T12:05:49.734Z"
   },
   {
    "duration": 18,
    "start_time": "2022-08-13T12:05:49.753Z"
   },
   {
    "duration": 29,
    "start_time": "2022-08-13T12:05:49.772Z"
   },
   {
    "duration": 12,
    "start_time": "2022-08-13T12:05:49.802Z"
   },
   {
    "duration": 18,
    "start_time": "2022-08-13T12:05:49.815Z"
   },
   {
    "duration": 7,
    "start_time": "2022-08-13T12:05:49.835Z"
   },
   {
    "duration": 15,
    "start_time": "2022-08-13T12:05:49.843Z"
   },
   {
    "duration": 19,
    "start_time": "2022-08-13T12:05:49.859Z"
   },
   {
    "duration": 19,
    "start_time": "2022-08-13T12:05:49.879Z"
   },
   {
    "duration": 271,
    "start_time": "2022-08-13T12:05:49.900Z"
   },
   {
    "duration": 269,
    "start_time": "2022-08-13T12:05:50.173Z"
   },
   {
    "duration": 180,
    "start_time": "2022-08-13T12:05:50.444Z"
   },
   {
    "duration": 279,
    "start_time": "2022-08-13T12:05:50.626Z"
   },
   {
    "duration": 206,
    "start_time": "2022-08-13T12:05:50.906Z"
   },
   {
    "duration": 315,
    "start_time": "2022-08-13T12:05:51.113Z"
   },
   {
    "duration": 251,
    "start_time": "2022-08-13T12:05:51.430Z"
   },
   {
    "duration": 4,
    "start_time": "2022-08-13T12:05:51.683Z"
   },
   {
    "duration": 743,
    "start_time": "2022-08-13T12:05:51.688Z"
   },
   {
    "duration": 4,
    "start_time": "2022-08-13T12:05:52.432Z"
   },
   {
    "duration": 7,
    "start_time": "2022-08-13T12:05:52.440Z"
   },
   {
    "duration": 6,
    "start_time": "2022-08-13T12:05:52.448Z"
   },
   {
    "duration": 6,
    "start_time": "2022-08-13T12:05:52.455Z"
   },
   {
    "duration": 520,
    "start_time": "2022-08-13T12:05:52.463Z"
   },
   {
    "duration": 148,
    "start_time": "2022-08-13T12:05:52.986Z"
   },
   {
    "duration": 21,
    "start_time": "2022-08-13T12:05:53.136Z"
   },
   {
    "duration": 10,
    "start_time": "2022-08-13T12:05:53.159Z"
   },
   {
    "duration": 149,
    "start_time": "2022-08-13T12:05:53.171Z"
   },
   {
    "duration": 20,
    "start_time": "2022-08-13T12:05:53.322Z"
   },
   {
    "duration": 10,
    "start_time": "2022-08-13T12:05:53.344Z"
   },
   {
    "duration": 11,
    "start_time": "2022-08-13T12:38:54.362Z"
   },
   {
    "duration": 15,
    "start_time": "2022-08-13T12:39:02.450Z"
   },
   {
    "duration": 11,
    "start_time": "2022-08-13T12:39:14.276Z"
   },
   {
    "duration": 97,
    "start_time": "2022-08-13T12:39:21.782Z"
   },
   {
    "duration": 14,
    "start_time": "2022-08-13T12:39:24.753Z"
   },
   {
    "duration": 5,
    "start_time": "2022-08-13T12:40:48.264Z"
   },
   {
    "duration": 58,
    "start_time": "2022-08-13T12:41:41.375Z"
   },
   {
    "duration": 4,
    "start_time": "2022-08-13T12:41:57.233Z"
   },
   {
    "duration": 4,
    "start_time": "2022-08-13T12:42:06.285Z"
   },
   {
    "duration": 5,
    "start_time": "2022-08-13T12:42:49.611Z"
   },
   {
    "duration": 7,
    "start_time": "2022-08-13T12:43:00.245Z"
   },
   {
    "duration": 5,
    "start_time": "2022-08-13T12:43:08.321Z"
   },
   {
    "duration": 5,
    "start_time": "2022-08-13T12:43:16.444Z"
   },
   {
    "duration": 7,
    "start_time": "2022-08-13T12:43:41.713Z"
   },
   {
    "duration": 7,
    "start_time": "2022-08-13T12:43:45.767Z"
   },
   {
    "duration": 7,
    "start_time": "2022-08-13T12:43:50.867Z"
   },
   {
    "duration": 7,
    "start_time": "2022-08-13T12:43:57.066Z"
   },
   {
    "duration": 6,
    "start_time": "2022-08-13T12:44:03.591Z"
   },
   {
    "duration": 6,
    "start_time": "2022-08-13T12:44:14.246Z"
   },
   {
    "duration": 7,
    "start_time": "2022-08-13T12:44:18.684Z"
   },
   {
    "duration": 7,
    "start_time": "2022-08-13T12:44:22.919Z"
   },
   {
    "duration": 15,
    "start_time": "2022-08-13T12:46:12.511Z"
   },
   {
    "duration": 6,
    "start_time": "2022-08-13T12:46:23.650Z"
   },
   {
    "duration": 6,
    "start_time": "2022-08-13T12:46:37.630Z"
   },
   {
    "duration": 10,
    "start_time": "2022-08-13T12:46:51.573Z"
   },
   {
    "duration": 11,
    "start_time": "2022-08-13T12:47:42.956Z"
   },
   {
    "duration": 8,
    "start_time": "2022-08-13T12:48:09.510Z"
   },
   {
    "duration": 5,
    "start_time": "2022-08-13T12:51:02.575Z"
   },
   {
    "duration": 12,
    "start_time": "2022-08-13T12:53:08.147Z"
   },
   {
    "duration": 8,
    "start_time": "2022-08-13T12:53:14.968Z"
   },
   {
    "duration": 9,
    "start_time": "2022-08-13T12:53:19.969Z"
   },
   {
    "duration": 5,
    "start_time": "2022-08-13T12:54:23.334Z"
   },
   {
    "duration": 5,
    "start_time": "2022-08-13T12:54:24.143Z"
   },
   {
    "duration": 4,
    "start_time": "2022-08-13T12:54:29.022Z"
   },
   {
    "duration": 421,
    "start_time": "2022-08-13T12:55:06.222Z"
   },
   {
    "duration": 135,
    "start_time": "2022-08-13T12:55:11.854Z"
   },
   {
    "duration": 20,
    "start_time": "2022-08-13T12:55:17.572Z"
   },
   {
    "duration": 131,
    "start_time": "2022-08-13T12:55:23.261Z"
   },
   {
    "duration": 20,
    "start_time": "2022-08-13T12:55:27.438Z"
   },
   {
    "duration": 12,
    "start_time": "2022-08-13T12:55:44.538Z"
   },
   {
    "duration": 1127,
    "start_time": "2022-08-14T17:10:32.696Z"
   }
  ],
  "kernelspec": {
   "display_name": "Python 3 (ipykernel)",
   "language": "python",
   "name": "python3"
  },
  "language_info": {
   "codemirror_mode": {
    "name": "ipython",
    "version": 3
   },
   "file_extension": ".py",
   "mimetype": "text/x-python",
   "name": "python",
   "nbconvert_exporter": "python",
   "pygments_lexer": "ipython3",
   "version": "3.10.6"
  },
  "toc": {
   "base_numbering": 1,
   "nav_menu": {},
   "number_sections": true,
   "sideBar": true,
   "skip_h1_title": true,
   "title_cell": "Содержание",
   "title_sidebar": "Содержание",
   "toc_cell": true,
   "toc_position": {
    "height": "calc(100% - 180px)",
    "left": "10px",
    "top": "150px",
    "width": "265px"
   },
   "toc_section_display": true,
   "toc_window_display": true
  }
 },
 "nbformat": 4,
 "nbformat_minor": 2
}
