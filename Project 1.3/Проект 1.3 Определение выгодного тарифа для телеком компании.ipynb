{
 "cells": [
  {
   "cell_type": "markdown",
   "metadata": {},
   "source": [
    "# Определение перспективного тарифа для телеком-компании\n"
   ]
  },
  {
   "cell_type": "markdown",
   "metadata": {},
   "source": [
    "# Описание проекта"
   ]
  },
  {
   "cell_type": "markdown",
   "metadata": {},
   "source": [
    "## Основная задача: \n",
    "Необходимо установить параметры для определения рыночной стоимости объектов недвижимости.\n",
    "\n",
    "## Цель:\n",
    "На основании проведенного анализа будет построена автоматизированная система, которая будет отслеживать аномалии и мошенническую деятельность.\n",
    "\n",
    "# Описание тарифов\n",
    "\n",
    "Тариф «Смарт»\n",
    "1.\tЕжемесячная плата: 550 рублей\n",
    "2.\tВключено 500 минут разговора, 50 сообщений и 15 Гб интернет-трафика\n",
    "3.\tСтоимость услуг сверх тарифного пакета:\n",
    "    - минута разговора: 3 рубля\n",
    "    - сообщение: 3 рубля\n",
    "    - 1 Гб интернет-трафика: 200 рублей\n",
    "\n",
    "Тариф «Ультра»\n",
    "1.\tЕжемесячная плата: 1950 рублей\n",
    "2.\tВключено 3000 минут разговора, 1000 сообщений и 30 Гб интернет-трафика\n",
    "3.\tСтоимость услуг сверх тарифного пакета:\n",
    "    - минута разговора: 1 рубль\n",
    "    - сообщение: 1 рубль\n",
    "    - 1 Гб интернет-трафика: 150 рублей\n",
    "\n",
    "Примечание\n",
    "\n",
    "«Мегалайн» всегда округляет секунды до минут, а мегабайты — до гигабайт. Каждый звонок округляется отдельно: даже если он длился всего 1 секунду, будет засчитан как 1 минута.\n",
    "Для веб-трафика отдельные сессии не считаются. Вместо этого общая сумма за месяц округляется в бо́льшую сторону. Если абонент использует 1025 мегабайт в этом месяце, с него возьмут плату за 2 гигабайта. Примите, что неиспользованные за предыдущий месяц звонки, смс, интернет на следующий месяц не переносятся.\n",
    "\n",
    "# Описание данных\n",
    "\n",
    "Таблица calls (информация о звонках):\n",
    "- <i>id</i> — уникальный номер звонка\n",
    "- <i>call_date</i> — дата звонка\n",
    "- <i>duration</i> — длительность звонка в минутах\n",
    "- <i>user_id</i> — идентификатор пользователя, сделавшего звонок\n",
    "\n",
    "Таблица internet (информация об интернет-сессиях):\n",
    "- <i>id</i> — уникальный номер сессии\n",
    "- <i>mb_used</i> — объём потраченного за сессию интернет-трафика (в мегабайтах)\n",
    "- <i>session_date</i> — дата интернет-сессии\n",
    "- <i>user_id</i> — идентификатор пользователя\n",
    "\n",
    "Таблица messages (информация о сообщениях):\n",
    "- <i>id</i> — уникальный номер сообщения\n",
    "- <i>message_date</i> — дата сообщения\n",
    "- <i>user_id</i> — идентификатор пользователя, отправившего сообщение\n",
    "\n",
    "Таблица tariffs (информация о тарифах):\n",
    "- <i>tariff_name</i> — название тарифа\n",
    "- <i>rub_monthly_fee</i> — ежемесячная абонентская плата в рублях\n",
    "- <i>minutes_included</i> — количество минут разговора в месяц, включённых в абонентскую плату\n",
    "- <i>messages_included</i> — количество сообщений в месяц, включённых в абонентскую плату\n",
    "- <i>mb_per_month_included</i> — объём интернет-трафика, включённого в абонентскую плату (в мегабайтах)\n",
    "- <i>rub_per_minute</i> — стоимость минуты разговора сверх тарифного пакета (например, если в тарифе 100 минут разговора в месяц, то со 101 минуты будет взиматься плата)\n",
    "- <i>rub_per_message</i> — стоимость отправки сообщения сверх тарифного пакета\n",
    "- <i>rub_per_gb</i> — стоимость дополнительного гигабайта интернет-трафика сверх тарифного пакета (1 гигабайт = 1024 мегабайта)\n",
    "\n",
    "Таблица users (информация о пользователях):\n",
    "- <i>user_id</i> — уникальный идентификатор пользователя\n",
    "- <i>first_name</i> — имя пользователя\n",
    "- <i>last_name</i> — фамилия пользователя\n",
    "- <i>age</i> — возраст пользователя (годы)\n",
    "- <i>reg_date</i> — дата подключения тарифа (день, месяц, год)\n",
    "- <i>churn_date</i> — дата прекращения пользования тарифом (если значение пропущено, то тариф ещё действовал на момент выгрузки данных)\n",
    "- <i>city</i> — город проживания пользователя\n",
    "- <i>tariff</i> — название тарифного плана\n"
   ]
  },
  {
   "cell_type": "markdown",
   "metadata": {},
   "source": [
    "## Загрузка и первичный анализ данных"
   ]
  },
  {
   "cell_type": "code",
   "execution_count": 1,
   "metadata": {},
   "outputs": [],
   "source": [
    "import pandas as pd\n",
    "import numpy as np\n",
    "import matplotlib.pyplot as plt\n",
    "import math\n",
    "from scipy import stats as st\n"
   ]
  },
  {
   "cell_type": "code",
   "execution_count": 2,
   "metadata": {},
   "outputs": [],
   "source": [
    "pd.options.display.float_format = '{:,.2f}'.format"
   ]
  },
  {
   "cell_type": "code",
   "execution_count": 3,
   "metadata": {},
   "outputs": [],
   "source": [
    "calls = pd.read_csv('./calls.csv')\n",
    "internet = pd.read_csv('./internet.csv')\n",
    "messages = pd.read_csv('./messages.csv')\n",
    "tariffs = pd.read_csv('./tariffs.csv')\n",
    "users = pd.read_csv('./users.csv')\n"
   ]
  },
  {
   "cell_type": "code",
   "execution_count": 4,
   "metadata": {},
   "outputs": [
    {
     "name": "stdout",
     "output_type": "stream",
     "text": [
      "<class 'pandas.core.frame.DataFrame'>\n",
      "RangeIndex: 202607 entries, 0 to 202606\n",
      "Data columns (total 4 columns):\n",
      " #   Column     Non-Null Count   Dtype  \n",
      "---  ------     --------------   -----  \n",
      " 0   id         202607 non-null  object \n",
      " 1   call_date  202607 non-null  object \n",
      " 2   duration   202607 non-null  float64\n",
      " 3   user_id    202607 non-null  int64  \n",
      "dtypes: float64(1), int64(1), object(2)\n",
      "memory usage: 6.2+ MB\n"
     ]
    }
   ],
   "source": [
    "calls.info()"
   ]
  },
  {
   "cell_type": "code",
   "execution_count": 5,
   "metadata": {},
   "outputs": [
    {
     "data": {
      "text/html": [
       "<div>\n",
       "<style scoped>\n",
       "    .dataframe tbody tr th:only-of-type {\n",
       "        vertical-align: middle;\n",
       "    }\n",
       "\n",
       "    .dataframe tbody tr th {\n",
       "        vertical-align: top;\n",
       "    }\n",
       "\n",
       "    .dataframe thead th {\n",
       "        text-align: right;\n",
       "    }\n",
       "</style>\n",
       "<table border=\"1\" class=\"dataframe\">\n",
       "  <thead>\n",
       "    <tr style=\"text-align: right;\">\n",
       "      <th></th>\n",
       "      <th>id</th>\n",
       "      <th>call_date</th>\n",
       "      <th>duration</th>\n",
       "      <th>user_id</th>\n",
       "    </tr>\n",
       "  </thead>\n",
       "  <tbody>\n",
       "    <tr>\n",
       "      <th>0</th>\n",
       "      <td>1000_0</td>\n",
       "      <td>2018-07-25</td>\n",
       "      <td>0.00</td>\n",
       "      <td>1000</td>\n",
       "    </tr>\n",
       "    <tr>\n",
       "      <th>1</th>\n",
       "      <td>1000_1</td>\n",
       "      <td>2018-08-17</td>\n",
       "      <td>0.00</td>\n",
       "      <td>1000</td>\n",
       "    </tr>\n",
       "    <tr>\n",
       "      <th>2</th>\n",
       "      <td>1000_2</td>\n",
       "      <td>2018-06-11</td>\n",
       "      <td>2.85</td>\n",
       "      <td>1000</td>\n",
       "    </tr>\n",
       "    <tr>\n",
       "      <th>3</th>\n",
       "      <td>1000_3</td>\n",
       "      <td>2018-09-21</td>\n",
       "      <td>13.80</td>\n",
       "      <td>1000</td>\n",
       "    </tr>\n",
       "    <tr>\n",
       "      <th>4</th>\n",
       "      <td>1000_4</td>\n",
       "      <td>2018-12-15</td>\n",
       "      <td>5.18</td>\n",
       "      <td>1000</td>\n",
       "    </tr>\n",
       "  </tbody>\n",
       "</table>\n",
       "</div>"
      ],
      "text/plain": [
       "       id   call_date  duration  user_id\n",
       "0  1000_0  2018-07-25      0.00     1000\n",
       "1  1000_1  2018-08-17      0.00     1000\n",
       "2  1000_2  2018-06-11      2.85     1000\n",
       "3  1000_3  2018-09-21     13.80     1000\n",
       "4  1000_4  2018-12-15      5.18     1000"
      ]
     },
     "execution_count": 5,
     "metadata": {},
     "output_type": "execute_result"
    }
   ],
   "source": [
    "calls.head(5)"
   ]
  },
  {
   "cell_type": "code",
   "execution_count": 6,
   "metadata": {},
   "outputs": [
    {
     "data": {
      "text/html": [
       "<div>\n",
       "<style scoped>\n",
       "    .dataframe tbody tr th:only-of-type {\n",
       "        vertical-align: middle;\n",
       "    }\n",
       "\n",
       "    .dataframe tbody tr th {\n",
       "        vertical-align: top;\n",
       "    }\n",
       "\n",
       "    .dataframe thead th {\n",
       "        text-align: right;\n",
       "    }\n",
       "</style>\n",
       "<table border=\"1\" class=\"dataframe\">\n",
       "  <thead>\n",
       "    <tr style=\"text-align: right;\">\n",
       "      <th></th>\n",
       "      <th>duration</th>\n",
       "      <th>user_id</th>\n",
       "    </tr>\n",
       "  </thead>\n",
       "  <tbody>\n",
       "    <tr>\n",
       "      <th>count</th>\n",
       "      <td>202,607.00</td>\n",
       "      <td>202,607.00</td>\n",
       "    </tr>\n",
       "    <tr>\n",
       "      <th>mean</th>\n",
       "      <td>6.76</td>\n",
       "      <td>1,253.94</td>\n",
       "    </tr>\n",
       "    <tr>\n",
       "      <th>std</th>\n",
       "      <td>5.84</td>\n",
       "      <td>144.72</td>\n",
       "    </tr>\n",
       "    <tr>\n",
       "      <th>min</th>\n",
       "      <td>0.00</td>\n",
       "      <td>1,000.00</td>\n",
       "    </tr>\n",
       "    <tr>\n",
       "      <th>25%</th>\n",
       "      <td>1.30</td>\n",
       "      <td>1,126.00</td>\n",
       "    </tr>\n",
       "    <tr>\n",
       "      <th>50%</th>\n",
       "      <td>6.00</td>\n",
       "      <td>1,260.00</td>\n",
       "    </tr>\n",
       "    <tr>\n",
       "      <th>75%</th>\n",
       "      <td>10.70</td>\n",
       "      <td>1,379.00</td>\n",
       "    </tr>\n",
       "    <tr>\n",
       "      <th>max</th>\n",
       "      <td>38.00</td>\n",
       "      <td>1,499.00</td>\n",
       "    </tr>\n",
       "  </tbody>\n",
       "</table>\n",
       "</div>"
      ],
      "text/plain": [
       "        duration    user_id\n",
       "count 202,607.00 202,607.00\n",
       "mean        6.76   1,253.94\n",
       "std         5.84     144.72\n",
       "min         0.00   1,000.00\n",
       "25%         1.30   1,126.00\n",
       "50%         6.00   1,260.00\n",
       "75%        10.70   1,379.00\n",
       "max        38.00   1,499.00"
      ]
     },
     "execution_count": 6,
     "metadata": {},
     "output_type": "execute_result"
    }
   ],
   "source": [
    "calls.describe()"
   ]
  },
  {
   "cell_type": "code",
   "execution_count": 7,
   "metadata": {},
   "outputs": [
    {
     "data": {
      "image/png": "[encoded data removed]",
      "text/plain": [
       "<Figure size 432x288 with 1 Axes>"
      ]
     },
     "metadata": {
      "needs_background": "light"
     },
     "output_type": "display_data"
    },
    {
     "data": {
      "image/png": "[encoded data removed]",
      "text/plain": [
       "<Figure size 432x288 with 1 Axes>"
      ]
     },
     "metadata": {
      "needs_background": "light"
     },
     "output_type": "display_data"
    }
   ],
   "source": [
    "calls['duration'].hist(bins = 50);\n",
    "plt.show()\n",
    "calls['duration'].plot(kind='box', grid=True);"
   ]
  },
  {
   "cell_type": "markdown",
   "metadata": {},
   "source": [
    "Перед работой, связанной с проверкой гипотез, необходимо выполнить следующие действия:\n",
    "- <i>call_date</i> - привести к типу datetime\n",
    "- <i>duration</i> - проанализировать на предмет аномалий (об этом говорит наличие статистических выбросов, возможно они связаны с разным количеством пользователей по тарифам))\n"
   ]
  },
  {
   "cell_type": "code",
   "execution_count": 8,
   "metadata": {},
   "outputs": [
    {
     "name": "stdout",
     "output_type": "stream",
     "text": [
      "<class 'pandas.core.frame.DataFrame'>\n",
      "RangeIndex: 149396 entries, 0 to 149395\n",
      "Data columns (total 5 columns):\n",
      " #   Column        Non-Null Count   Dtype  \n",
      "---  ------        --------------   -----  \n",
      " 0   Unnamed: 0    149396 non-null  int64  \n",
      " 1   id            149396 non-null  object \n",
      " 2   mb_used       149396 non-null  float64\n",
      " 3   session_date  149396 non-null  object \n",
      " 4   user_id       149396 non-null  int64  \n",
      "dtypes: float64(1), int64(2), object(2)\n",
      "memory usage: 5.7+ MB\n"
     ]
    }
   ],
   "source": [
    "internet.info()"
   ]
  },
  {
   "cell_type": "code",
   "execution_count": 9,
   "metadata": {},
   "outputs": [
    {
     "data": {
      "text/html": [
       "<div>\n",
       "<style scoped>\n",
       "    .dataframe tbody tr th:only-of-type {\n",
       "        vertical-align: middle;\n",
       "    }\n",
       "\n",
       "    .dataframe tbody tr th {\n",
       "        vertical-align: top;\n",
       "    }\n",
       "\n",
       "    .dataframe thead th {\n",
       "        text-align: right;\n",
       "    }\n",
       "</style>\n",
       "<table border=\"1\" class=\"dataframe\">\n",
       "  <thead>\n",
       "    <tr style=\"text-align: right;\">\n",
       "      <th></th>\n",
       "      <th>Unnamed: 0</th>\n",
       "      <th>id</th>\n",
       "      <th>mb_used</th>\n",
       "      <th>session_date</th>\n",
       "      <th>user_id</th>\n",
       "    </tr>\n",
       "  </thead>\n",
       "  <tbody>\n",
       "    <tr>\n",
       "      <th>0</th>\n",
       "      <td>0</td>\n",
       "      <td>1000_0</td>\n",
       "      <td>112.95</td>\n",
       "      <td>2018-11-25</td>\n",
       "      <td>1000</td>\n",
       "    </tr>\n",
       "    <tr>\n",
       "      <th>1</th>\n",
       "      <td>1</td>\n",
       "      <td>1000_1</td>\n",
       "      <td>1,052.81</td>\n",
       "      <td>2018-09-07</td>\n",
       "      <td>1000</td>\n",
       "    </tr>\n",
       "    <tr>\n",
       "      <th>2</th>\n",
       "      <td>2</td>\n",
       "      <td>1000_2</td>\n",
       "      <td>1,197.26</td>\n",
       "      <td>2018-06-25</td>\n",
       "      <td>1000</td>\n",
       "    </tr>\n",
       "    <tr>\n",
       "      <th>3</th>\n",
       "      <td>3</td>\n",
       "      <td>1000_3</td>\n",
       "      <td>550.27</td>\n",
       "      <td>2018-08-22</td>\n",
       "      <td>1000</td>\n",
       "    </tr>\n",
       "    <tr>\n",
       "      <th>4</th>\n",
       "      <td>4</td>\n",
       "      <td>1000_4</td>\n",
       "      <td>302.56</td>\n",
       "      <td>2018-09-24</td>\n",
       "      <td>1000</td>\n",
       "    </tr>\n",
       "  </tbody>\n",
       "</table>\n",
       "</div>"
      ],
      "text/plain": [
       "   Unnamed: 0      id  mb_used session_date  user_id\n",
       "0           0  1000_0   112.95   2018-11-25     1000\n",
       "1           1  1000_1 1,052.81   2018-09-07     1000\n",
       "2           2  1000_2 1,197.26   2018-06-25     1000\n",
       "3           3  1000_3   550.27   2018-08-22     1000\n",
       "4           4  1000_4   302.56   2018-09-24     1000"
      ]
     },
     "execution_count": 9,
     "metadata": {},
     "output_type": "execute_result"
    }
   ],
   "source": [
    "internet.head(5)"
   ]
  },
  {
   "cell_type": "code",
   "execution_count": 10,
   "metadata": {},
   "outputs": [
    {
     "data": {
      "text/html": [
       "<div>\n",
       "<style scoped>\n",
       "    .dataframe tbody tr th:only-of-type {\n",
       "        vertical-align: middle;\n",
       "    }\n",
       "\n",
       "    .dataframe tbody tr th {\n",
       "        vertical-align: top;\n",
       "    }\n",
       "\n",
       "    .dataframe thead th {\n",
       "        text-align: right;\n",
       "    }\n",
       "</style>\n",
       "<table border=\"1\" class=\"dataframe\">\n",
       "  <thead>\n",
       "    <tr style=\"text-align: right;\">\n",
       "      <th></th>\n",
       "      <th>Unnamed: 0</th>\n",
       "      <th>mb_used</th>\n",
       "      <th>user_id</th>\n",
       "    </tr>\n",
       "  </thead>\n",
       "  <tbody>\n",
       "    <tr>\n",
       "      <th>count</th>\n",
       "      <td>149,396.00</td>\n",
       "      <td>149,396.00</td>\n",
       "      <td>149,396.00</td>\n",
       "    </tr>\n",
       "    <tr>\n",
       "      <th>mean</th>\n",
       "      <td>74,697.50</td>\n",
       "      <td>370.19</td>\n",
       "      <td>1,252.10</td>\n",
       "    </tr>\n",
       "    <tr>\n",
       "      <th>std</th>\n",
       "      <td>43,127.05</td>\n",
       "      <td>278.30</td>\n",
       "      <td>144.05</td>\n",
       "    </tr>\n",
       "    <tr>\n",
       "      <th>min</th>\n",
       "      <td>0.00</td>\n",
       "      <td>0.00</td>\n",
       "      <td>1,000.00</td>\n",
       "    </tr>\n",
       "    <tr>\n",
       "      <th>25%</th>\n",
       "      <td>37,348.75</td>\n",
       "      <td>138.19</td>\n",
       "      <td>1,130.00</td>\n",
       "    </tr>\n",
       "    <tr>\n",
       "      <th>50%</th>\n",
       "      <td>74,697.50</td>\n",
       "      <td>348.01</td>\n",
       "      <td>1,251.00</td>\n",
       "    </tr>\n",
       "    <tr>\n",
       "      <th>75%</th>\n",
       "      <td>112,046.25</td>\n",
       "      <td>559.55</td>\n",
       "      <td>1,380.00</td>\n",
       "    </tr>\n",
       "    <tr>\n",
       "      <th>max</th>\n",
       "      <td>149,395.00</td>\n",
       "      <td>1,724.83</td>\n",
       "      <td>1,499.00</td>\n",
       "    </tr>\n",
       "  </tbody>\n",
       "</table>\n",
       "</div>"
      ],
      "text/plain": [
       "       Unnamed: 0    mb_used    user_id\n",
       "count  149,396.00 149,396.00 149,396.00\n",
       "mean    74,697.50     370.19   1,252.10\n",
       "std     43,127.05     278.30     144.05\n",
       "min          0.00       0.00   1,000.00\n",
       "25%     37,348.75     138.19   1,130.00\n",
       "50%     74,697.50     348.01   1,251.00\n",
       "75%    112,046.25     559.55   1,380.00\n",
       "max    149,395.00   1,724.83   1,499.00"
      ]
     },
     "execution_count": 10,
     "metadata": {},
     "output_type": "execute_result"
    }
   ],
   "source": [
    "internet.describe()"
   ]
  },
  {
   "cell_type": "code",
   "execution_count": 11,
   "metadata": {},
   "outputs": [
    {
     "data": {
      "image/png": "[encoded data removed]",
      "text/plain": [
       "<Figure size 432x288 with 1 Axes>"
      ]
     },
     "metadata": {
      "needs_background": "light"
     },
     "output_type": "display_data"
    },
    {
     "data": {
      "image/png": "[encoded data removed]",
      "text/plain": [
       "<Figure size 432x288 with 1 Axes>"
      ]
     },
     "metadata": {
      "needs_background": "light"
     },
     "output_type": "display_data"
    }
   ],
   "source": [
    "internet['mb_used'].hist(bins = 50);\n",
    "plt.show()\n",
    "internet['mb_used'].plot(kind='box', grid=True);"
   ]
  },
  {
   "cell_type": "markdown",
   "metadata": {},
   "source": [
    "Перед работой, связанной с проверкой гипотез, необходимо выполнить следующие действия:\n",
    "- <i>Unnamed: 0</i> - столбец, дублирующий индекс, необходимо удалить\n",
    "- <i>mb_used</i> - проанализировать на предмет аномалий (об этом говорит наличие статистических выбросов, возможно они связаны с разным количеством пользователей по тарифам)\n",
    "- <i>session_date</i> - привести к типу datetime"
   ]
  },
  {
   "cell_type": "code",
   "execution_count": 12,
   "metadata": {},
   "outputs": [
    {
     "name": "stdout",
     "output_type": "stream",
     "text": [
      "<class 'pandas.core.frame.DataFrame'>\n",
      "RangeIndex: 123036 entries, 0 to 123035\n",
      "Data columns (total 3 columns):\n",
      " #   Column        Non-Null Count   Dtype \n",
      "---  ------        --------------   ----- \n",
      " 0   id            123036 non-null  object\n",
      " 1   message_date  123036 non-null  object\n",
      " 2   user_id       123036 non-null  int64 \n",
      "dtypes: int64(1), object(2)\n",
      "memory usage: 2.8+ MB\n"
     ]
    }
   ],
   "source": [
    "messages.info()"
   ]
  },
  {
   "cell_type": "code",
   "execution_count": 13,
   "metadata": {},
   "outputs": [
    {
     "data": {
      "text/html": [
       "<div>\n",
       "<style scoped>\n",
       "    .dataframe tbody tr th:only-of-type {\n",
       "        vertical-align: middle;\n",
       "    }\n",
       "\n",
       "    .dataframe tbody tr th {\n",
       "        vertical-align: top;\n",
       "    }\n",
       "\n",
       "    .dataframe thead th {\n",
       "        text-align: right;\n",
       "    }\n",
       "</style>\n",
       "<table border=\"1\" class=\"dataframe\">\n",
       "  <thead>\n",
       "    <tr style=\"text-align: right;\">\n",
       "      <th></th>\n",
       "      <th>id</th>\n",
       "      <th>message_date</th>\n",
       "      <th>user_id</th>\n",
       "    </tr>\n",
       "  </thead>\n",
       "  <tbody>\n",
       "    <tr>\n",
       "      <th>0</th>\n",
       "      <td>1000_0</td>\n",
       "      <td>2018-06-27</td>\n",
       "      <td>1000</td>\n",
       "    </tr>\n",
       "    <tr>\n",
       "      <th>1</th>\n",
       "      <td>1000_1</td>\n",
       "      <td>2018-10-08</td>\n",
       "      <td>1000</td>\n",
       "    </tr>\n",
       "    <tr>\n",
       "      <th>2</th>\n",
       "      <td>1000_2</td>\n",
       "      <td>2018-08-04</td>\n",
       "      <td>1000</td>\n",
       "    </tr>\n",
       "    <tr>\n",
       "      <th>3</th>\n",
       "      <td>1000_3</td>\n",
       "      <td>2018-06-16</td>\n",
       "      <td>1000</td>\n",
       "    </tr>\n",
       "    <tr>\n",
       "      <th>4</th>\n",
       "      <td>1000_4</td>\n",
       "      <td>2018-12-05</td>\n",
       "      <td>1000</td>\n",
       "    </tr>\n",
       "  </tbody>\n",
       "</table>\n",
       "</div>"
      ],
      "text/plain": [
       "       id message_date  user_id\n",
       "0  1000_0   2018-06-27     1000\n",
       "1  1000_1   2018-10-08     1000\n",
       "2  1000_2   2018-08-04     1000\n",
       "3  1000_3   2018-06-16     1000\n",
       "4  1000_4   2018-12-05     1000"
      ]
     },
     "execution_count": 13,
     "metadata": {},
     "output_type": "execute_result"
    }
   ],
   "source": [
    "messages.head(5)"
   ]
  },
  {
   "cell_type": "code",
   "execution_count": 14,
   "metadata": {},
   "outputs": [
    {
     "data": {
      "text/html": [
       "<div>\n",
       "<style scoped>\n",
       "    .dataframe tbody tr th:only-of-type {\n",
       "        vertical-align: middle;\n",
       "    }\n",
       "\n",
       "    .dataframe tbody tr th {\n",
       "        vertical-align: top;\n",
       "    }\n",
       "\n",
       "    .dataframe thead th {\n",
       "        text-align: right;\n",
       "    }\n",
       "</style>\n",
       "<table border=\"1\" class=\"dataframe\">\n",
       "  <thead>\n",
       "    <tr style=\"text-align: right;\">\n",
       "      <th></th>\n",
       "      <th>user_id</th>\n",
       "    </tr>\n",
       "  </thead>\n",
       "  <tbody>\n",
       "    <tr>\n",
       "      <th>count</th>\n",
       "      <td>123,036.00</td>\n",
       "    </tr>\n",
       "    <tr>\n",
       "      <th>mean</th>\n",
       "      <td>1,256.99</td>\n",
       "    </tr>\n",
       "    <tr>\n",
       "      <th>std</th>\n",
       "      <td>143.52</td>\n",
       "    </tr>\n",
       "    <tr>\n",
       "      <th>min</th>\n",
       "      <td>1,000.00</td>\n",
       "    </tr>\n",
       "    <tr>\n",
       "      <th>25%</th>\n",
       "      <td>1,134.00</td>\n",
       "    </tr>\n",
       "    <tr>\n",
       "      <th>50%</th>\n",
       "      <td>1,271.00</td>\n",
       "    </tr>\n",
       "    <tr>\n",
       "      <th>75%</th>\n",
       "      <td>1,381.00</td>\n",
       "    </tr>\n",
       "    <tr>\n",
       "      <th>max</th>\n",
       "      <td>1,499.00</td>\n",
       "    </tr>\n",
       "  </tbody>\n",
       "</table>\n",
       "</div>"
      ],
      "text/plain": [
       "         user_id\n",
       "count 123,036.00\n",
       "mean    1,256.99\n",
       "std       143.52\n",
       "min     1,000.00\n",
       "25%     1,134.00\n",
       "50%     1,271.00\n",
       "75%     1,381.00\n",
       "max     1,499.00"
      ]
     },
     "execution_count": 14,
     "metadata": {},
     "output_type": "execute_result"
    }
   ],
   "source": [
    "messages.describe()"
   ]
  },
  {
   "cell_type": "markdown",
   "metadata": {},
   "source": [
    "Перед работой, связанной с проверкой гипотез, необходимо выполнить следующие действия:\n",
    "- <i>message_date</i> - привести к типу datetime"
   ]
  },
  {
   "cell_type": "code",
   "execution_count": 15,
   "metadata": {},
   "outputs": [
    {
     "name": "stdout",
     "output_type": "stream",
     "text": [
      "<class 'pandas.core.frame.DataFrame'>\n",
      "RangeIndex: 2 entries, 0 to 1\n",
      "Data columns (total 8 columns):\n",
      " #   Column                 Non-Null Count  Dtype \n",
      "---  ------                 --------------  ----- \n",
      " 0   messages_included      2 non-null      int64 \n",
      " 1   mb_per_month_included  2 non-null      int64 \n",
      " 2   minutes_included       2 non-null      int64 \n",
      " 3   rub_monthly_fee        2 non-null      int64 \n",
      " 4   rub_per_gb             2 non-null      int64 \n",
      " 5   rub_per_message        2 non-null      int64 \n",
      " 6   rub_per_minute         2 non-null      int64 \n",
      " 7   tariff_name            2 non-null      object\n",
      "dtypes: int64(7), object(1)\n",
      "memory usage: 256.0+ bytes\n"
     ]
    }
   ],
   "source": [
    "tariffs.info()"
   ]
  },
  {
   "cell_type": "code",
   "execution_count": 16,
   "metadata": {},
   "outputs": [
    {
     "data": {
      "text/html": [
       "<div>\n",
       "<style scoped>\n",
       "    .dataframe tbody tr th:only-of-type {\n",
       "        vertical-align: middle;\n",
       "    }\n",
       "\n",
       "    .dataframe tbody tr th {\n",
       "        vertical-align: top;\n",
       "    }\n",
       "\n",
       "    .dataframe thead th {\n",
       "        text-align: right;\n",
       "    }\n",
       "</style>\n",
       "<table border=\"1\" class=\"dataframe\">\n",
       "  <thead>\n",
       "    <tr style=\"text-align: right;\">\n",
       "      <th></th>\n",
       "      <th>messages_included</th>\n",
       "      <th>mb_per_month_included</th>\n",
       "      <th>minutes_included</th>\n",
       "      <th>rub_monthly_fee</th>\n",
       "      <th>rub_per_gb</th>\n",
       "      <th>rub_per_message</th>\n",
       "      <th>rub_per_minute</th>\n",
       "      <th>tariff_name</th>\n",
       "    </tr>\n",
       "  </thead>\n",
       "  <tbody>\n",
       "    <tr>\n",
       "      <th>0</th>\n",
       "      <td>50</td>\n",
       "      <td>15360</td>\n",
       "      <td>500</td>\n",
       "      <td>550</td>\n",
       "      <td>200</td>\n",
       "      <td>3</td>\n",
       "      <td>3</td>\n",
       "      <td>smart</td>\n",
       "    </tr>\n",
       "    <tr>\n",
       "      <th>1</th>\n",
       "      <td>1000</td>\n",
       "      <td>30720</td>\n",
       "      <td>3000</td>\n",
       "      <td>1950</td>\n",
       "      <td>150</td>\n",
       "      <td>1</td>\n",
       "      <td>1</td>\n",
       "      <td>ultra</td>\n",
       "    </tr>\n",
       "  </tbody>\n",
       "</table>\n",
       "</div>"
      ],
      "text/plain": [
       "   messages_included  mb_per_month_included  minutes_included  \\\n",
       "0                 50                  15360               500   \n",
       "1               1000                  30720              3000   \n",
       "\n",
       "   rub_monthly_fee  rub_per_gb  rub_per_message  rub_per_minute tariff_name  \n",
       "0              550         200                3               3       smart  \n",
       "1             1950         150                1               1       ultra  "
      ]
     },
     "execution_count": 16,
     "metadata": {},
     "output_type": "execute_result"
    }
   ],
   "source": [
    "tariffs.head(5)"
   ]
  },
  {
   "cell_type": "code",
   "execution_count": 17,
   "metadata": {},
   "outputs": [
    {
     "name": "stdout",
     "output_type": "stream",
     "text": [
      "<class 'pandas.core.frame.DataFrame'>\n",
      "RangeIndex: 500 entries, 0 to 499\n",
      "Data columns (total 8 columns):\n",
      " #   Column      Non-Null Count  Dtype \n",
      "---  ------      --------------  ----- \n",
      " 0   user_id     500 non-null    int64 \n",
      " 1   age         500 non-null    int64 \n",
      " 2   churn_date  38 non-null     object\n",
      " 3   city        500 non-null    object\n",
      " 4   first_name  500 non-null    object\n",
      " 5   last_name   500 non-null    object\n",
      " 6   reg_date    500 non-null    object\n",
      " 7   tariff      500 non-null    object\n",
      "dtypes: int64(2), object(6)\n",
      "memory usage: 31.4+ KB\n"
     ]
    }
   ],
   "source": [
    "users.info()"
   ]
  },
  {
   "cell_type": "code",
   "execution_count": 18,
   "metadata": {},
   "outputs": [
    {
     "data": {
      "text/html": [
       "<div>\n",
       "<style scoped>\n",
       "    .dataframe tbody tr th:only-of-type {\n",
       "        vertical-align: middle;\n",
       "    }\n",
       "\n",
       "    .dataframe tbody tr th {\n",
       "        vertical-align: top;\n",
       "    }\n",
       "\n",
       "    .dataframe thead th {\n",
       "        text-align: right;\n",
       "    }\n",
       "</style>\n",
       "<table border=\"1\" class=\"dataframe\">\n",
       "  <thead>\n",
       "    <tr style=\"text-align: right;\">\n",
       "      <th></th>\n",
       "      <th>user_id</th>\n",
       "      <th>age</th>\n",
       "      <th>churn_date</th>\n",
       "      <th>city</th>\n",
       "      <th>first_name</th>\n",
       "      <th>last_name</th>\n",
       "      <th>reg_date</th>\n",
       "      <th>tariff</th>\n",
       "    </tr>\n",
       "  </thead>\n",
       "  <tbody>\n",
       "    <tr>\n",
       "      <th>0</th>\n",
       "      <td>1000</td>\n",
       "      <td>52</td>\n",
       "      <td>NaN</td>\n",
       "      <td>Краснодар</td>\n",
       "      <td>Рафаил</td>\n",
       "      <td>Верещагин</td>\n",
       "      <td>2018-05-25</td>\n",
       "      <td>ultra</td>\n",
       "    </tr>\n",
       "    <tr>\n",
       "      <th>1</th>\n",
       "      <td>1001</td>\n",
       "      <td>41</td>\n",
       "      <td>NaN</td>\n",
       "      <td>Москва</td>\n",
       "      <td>Иван</td>\n",
       "      <td>Ежов</td>\n",
       "      <td>2018-11-01</td>\n",
       "      <td>smart</td>\n",
       "    </tr>\n",
       "    <tr>\n",
       "      <th>2</th>\n",
       "      <td>1002</td>\n",
       "      <td>59</td>\n",
       "      <td>NaN</td>\n",
       "      <td>Стерлитамак</td>\n",
       "      <td>Евгений</td>\n",
       "      <td>Абрамович</td>\n",
       "      <td>2018-06-17</td>\n",
       "      <td>smart</td>\n",
       "    </tr>\n",
       "    <tr>\n",
       "      <th>3</th>\n",
       "      <td>1003</td>\n",
       "      <td>23</td>\n",
       "      <td>NaN</td>\n",
       "      <td>Москва</td>\n",
       "      <td>Белла</td>\n",
       "      <td>Белякова</td>\n",
       "      <td>2018-08-17</td>\n",
       "      <td>ultra</td>\n",
       "    </tr>\n",
       "    <tr>\n",
       "      <th>4</th>\n",
       "      <td>1004</td>\n",
       "      <td>68</td>\n",
       "      <td>NaN</td>\n",
       "      <td>Новокузнецк</td>\n",
       "      <td>Татьяна</td>\n",
       "      <td>Авдеенко</td>\n",
       "      <td>2018-05-14</td>\n",
       "      <td>ultra</td>\n",
       "    </tr>\n",
       "  </tbody>\n",
       "</table>\n",
       "</div>"
      ],
      "text/plain": [
       "   user_id  age churn_date         city first_name  last_name    reg_date  \\\n",
       "0     1000   52        NaN    Краснодар     Рафаил  Верещагин  2018-05-25   \n",
       "1     1001   41        NaN       Москва       Иван       Ежов  2018-11-01   \n",
       "2     1002   59        NaN  Стерлитамак    Евгений  Абрамович  2018-06-17   \n",
       "3     1003   23        NaN       Москва      Белла   Белякова  2018-08-17   \n",
       "4     1004   68        NaN  Новокузнецк    Татьяна   Авдеенко  2018-05-14   \n",
       "\n",
       "  tariff  \n",
       "0  ultra  \n",
       "1  smart  \n",
       "2  smart  \n",
       "3  ultra  \n",
       "4  ultra  "
      ]
     },
     "execution_count": 18,
     "metadata": {},
     "output_type": "execute_result"
    }
   ],
   "source": [
    "users.head(5)"
   ]
  },
  {
   "cell_type": "markdown",
   "metadata": {},
   "source": [
    "Перед работой, связанной с проверкой гипотез, необходимо выполнить следующие действия:\n",
    "- <i>reg_date</i> - привести к типу datetime\n",
    "- <i>churn_date</i> - привести к типу datetime"
   ]
  },
  {
   "cell_type": "markdown",
   "metadata": {},
   "source": [
    "В предложенных таблицах отсутствуют пропущенные данные (кроме поля <i>chunk</i> в таблице <i>users</i> , но там пропущенные знания объясняются внутренней логикой таблицы). Присутствуют некорректные типы данных - для дат во всех таблицах, и нужна проверка на наличие аномальных данных. "
   ]
  },
  {
   "cell_type": "markdown",
   "metadata": {},
   "source": [
    "## Предобработка данных"
   ]
  },
  {
   "cell_type": "markdown",
   "metadata": {},
   "source": [
    "### Преобразование типов"
   ]
  },
  {
   "cell_type": "code",
   "execution_count": 19,
   "metadata": {},
   "outputs": [],
   "source": [
    "users['reg_date'] = pd.to_datetime(users['reg_date'], format='%Y-%m-%d', errors = \"ignore\")\n",
    "users['churn_date'] = pd.to_datetime(users['churn_date'], format='%Y-%m-%d', errors = \"ignore\")\n",
    "calls['call_date'] = pd.to_datetime(calls['call_date'], format='%Y-%m-%d', errors = \"ignore\")\n",
    "messages['message_date'] = pd.to_datetime(messages['message_date'], format='%Y-%m-%d', errors = \"ignore\")\n",
    "internet['session_date'] = pd.to_datetime(internet['session_date'], format='%Y-%m-%d', errors = \"ignore\")"
   ]
  },
  {
   "cell_type": "markdown",
   "metadata": {},
   "source": [
    "Поля, содержащие значения дат преобразованы в тип datetime."
   ]
  },
  {
   "cell_type": "markdown",
   "metadata": {},
   "source": [
    "### Удаление лишних полей"
   ]
  },
  {
   "cell_type": "code",
   "execution_count": 20,
   "metadata": {},
   "outputs": [],
   "source": [
    "internet = internet.drop(labels = ['Unnamed: 0'], axis=1)"
   ]
  },
  {
   "cell_type": "code",
   "execution_count": 21,
   "metadata": {},
   "outputs": [
    {
     "data": {
      "text/plain": [
       "Index(['id', 'mb_used', 'session_date', 'user_id'], dtype='object')"
      ]
     },
     "execution_count": 21,
     "metadata": {},
     "output_type": "execute_result"
    }
   ],
   "source": [
    "internet.columns"
   ]
  },
  {
   "cell_type": "markdown",
   "metadata": {},
   "source": [
    "Лишнее поле <i>'Unnamed: 0'</i> в таблице <i>internet</i> было удалено."
   ]
  },
  {
   "cell_type": "markdown",
   "metadata": {},
   "source": [
    "### Исправление ошибок"
   ]
  },
  {
   "cell_type": "markdown",
   "metadata": {},
   "source": [
    "#### Проверка на отрицательные значения данных по продолжительности звонков и объему траффика"
   ]
  },
  {
   "cell_type": "code",
   "execution_count": 22,
   "metadata": {},
   "outputs": [
    {
     "name": "stdout",
     "output_type": "stream",
     "text": [
      "Кол-во вызовов с отрицательной длительностью: 0 шт.\n",
      "Кол-во интернет-сессий с отрицательным траффиком: 0 шт.\n"
     ]
    }
   ],
   "source": [
    "neg_calls = len(calls[calls['duration'] < 0])\n",
    "neg_internet = len(internet[internet['mb_used'] < 0])\n",
    "print(f'Кол-во вызовов с отрицательной длительностью: {neg_calls} шт.')\n",
    "print(f'Кол-во интернет-сессий с отрицательным траффиком: {neg_internet} шт.')\n"
   ]
  },
  {
   "cell_type": "markdown",
   "metadata": {},
   "source": [
    "#### Проверка данных пользователей"
   ]
  },
  {
   "cell_type": "code",
   "execution_count": 23,
   "metadata": {},
   "outputs": [
    {
     "name": "stdout",
     "output_type": "stream",
     "text": [
      "Кол-во пользователей, заведенных несколько раз: 0 шт.\n"
     ]
    }
   ],
   "source": [
    "users_dupl = users.groupby(['first_name', 'last_name'])['user_id'].count()\n",
    "usersc_dupl_count = len(users_dupl[users_dupl>1])\n",
    "print(f'Кол-во пользователей, заведенных несколько раз: {usersc_dupl_count} шт.')"
   ]
  },
  {
   "cell_type": "code",
   "execution_count": 24,
   "metadata": {},
   "outputs": [
    {
     "name": "stdout",
     "output_type": "stream",
     "text": [
      "Кол-во пользователей, с неправильными датами регистрации и отключения: 0 шт.\n"
     ]
    }
   ],
   "source": [
    "wrong_dates = len(users[users['churn_date'] <= users['reg_date']])\n",
    "print(f'Кол-во пользователей, с неправильными датами регистрации и отключения: {usersc_dupl_count} шт.')"
   ]
  },
  {
   "cell_type": "code",
   "execution_count": 25,
   "metadata": {},
   "outputs": [],
   "source": [
    "calls_date = calls.groupby(['user_id'])['call_date'].agg(['min', 'max']).reset_index()\n",
    "calls_date.columns = ['user_id', 'calls_min', 'calls_max']\n",
    "\n",
    "messages_date = messages.groupby(['user_id'])['message_date'].agg(['min', 'max']).reset_index()\n",
    "messages_date.columns = ['user_id', 'message_min', 'messages_max']\n",
    "\n",
    "internet_date = internet.groupby(['user_id'])['session_date'].agg(['min', 'max']).reset_index()\n",
    "internet_date.columns = ['user_id', 'session_min', 'session_max']\n",
    "\n",
    "users_date = users[['user_id', 'reg_date', 'churn_date']].merge(calls_date, on=['user_id'], how='left').merge(messages_date, on=['user_id'], how='left').merge(internet_date, on=['user_id'], how='left')"
   ]
  },
  {
   "cell_type": "code",
   "execution_count": 26,
   "metadata": {},
   "outputs": [
    {
     "name": "stdout",
     "output_type": "stream",
     "text": [
      "Кол-во пользователей, с неправильными датами регистрации: 0 шт.\n",
      "Кол-во пользователей, с неправильными датами отключения: 0 шт.\n"
     ]
    }
   ],
   "source": [
    "wrong_reg_dates = len(users_date[(users_date['reg_date']>users_date['calls_min'])|(users_date['reg_date']>users_date['message_min'])|(users_date['reg_date']>users_date['session_min'])])\n",
    "\n",
    "wrong_churn_dates = len(users_date[(users_date['churn_date']<users_date['calls_max'])|(users_date['churn_date']<users_date['messages_max'])|(users_date['churn_date']<users_date['session_max'])])\n",
    "print(f'Кол-во пользователей, с неправильными датами регистрации: {wrong_reg_dates} шт.')\n",
    "print(f'Кол-во пользователей, с неправильными датами отключения: {wrong_churn_dates} шт.')"
   ]
  },
  {
   "cell_type": "markdown",
   "metadata": {},
   "source": [
    "Явных ошибок не нашла. Данные имеют корректные значения и ошибочные значения отсутствуют."
   ]
  },
  {
   "cell_type": "markdown",
   "metadata": {},
   "source": [
    "### Расчет для каждого пользователя количество сделанных звонков и израсходованных минут разговора по месяцам"
   ]
  },
  {
   "cell_type": "code",
   "execution_count": 27,
   "metadata": {},
   "outputs": [],
   "source": [
    "calls['month'] = calls['call_date'].dt.month\n",
    "calls['duration_minute'] = np.ceil(calls['duration'])\n",
    "user_calls = calls.groupby(['user_id', 'month'])['duration_minute'].agg(['count', 'sum']).reset_index()\n",
    "user_calls.columns = ['user_id', 'month', 'calls_count', 'total_duration']"
   ]
  },
  {
   "cell_type": "markdown",
   "metadata": {},
   "source": [
    "Для каждого пользователя по каждому месяцу посчитала количество сделанных звонков и суммарную количество использованных минут. \n",
    "\n",
    "Так как «Мегалайн» всегда округляет секунды до минут, каждый звонок округляется отдельно: даже если он длился всего 1 секунду, будет засчитан как 1 минута, ввела дополнительное поле, по которому будет вестись суммирование, <i>duration_minute</i> равное полю <i>duration</i>, окргуленное в большую сторону."
   ]
  },
  {
   "cell_type": "markdown",
   "metadata": {},
   "source": [
    "### Расчет для каждого пользователя количество отправленных сообщений по месяцам"
   ]
  },
  {
   "cell_type": "code",
   "execution_count": 28,
   "metadata": {},
   "outputs": [],
   "source": [
    "messages['month'] = messages['message_date'].dt.month\n",
    "user_messages = messages.groupby(['user_id', 'month'])['id'].count().reset_index()\n",
    "user_messages.columns = ['user_id', 'month', 'messages_count']"
   ]
  },
  {
   "cell_type": "markdown",
   "metadata": {},
   "source": [
    "Для каждого пользователя по каждому месяцу посчитала количество отправленных сообщений."
   ]
  },
  {
   "cell_type": "markdown",
   "metadata": {},
   "source": [
    "### Расчет для каждого пользователя объем израсходованного интернет-трафика по месяцам"
   ]
  },
  {
   "cell_type": "code",
   "execution_count": 29,
   "metadata": {},
   "outputs": [],
   "source": [
    "internet['month'] = internet['session_date'].dt.month\n",
    "user_internet = internet.groupby(['user_id', 'month'])['mb_used'].sum().reset_index()\n",
    "user_internet.columns = ['user_id', 'month', 'traffic_sum_mb']\n",
    "user_internet['traffic_sum_mb'] = np.ceil(user_internet['traffic_sum_mb'] / 1024)*1024"
   ]
  },
  {
   "cell_type": "markdown",
   "metadata": {},
   "source": [
    "Для каждого пользователя по каждому месяцу посчитала суммарный траффик. Следовало учитывать, что «Мегалайн» всегда окргуляет мегабайты до гигабайт, для веб-трафика отдельные сессии не считаются. Вместо этого общая сумма за месяц округляется в бо́льшую сторону. Если абонент использует 1025 мегабайт в этом месяце, с него возьмут плату за 2 гигабайта.\n",
    "\n",
    "Для реализации этого посчитала суммарный траффик, разделила его на 1024, округлила в большую сторону и обратно перевела в мегабайты, умножив на 1024."
   ]
  },
  {
   "cell_type": "markdown",
   "metadata": {},
   "source": [
    "### Расчет помесячной выручки с каждого пользователя"
   ]
  },
  {
   "cell_type": "code",
   "execution_count": 30,
   "metadata": {},
   "outputs": [],
   "source": [
    "users_tariffs_info = users[['user_id', 'tariff', 'city']].merge(tariffs, left_on = 'tariff', right_on = 'tariff_name')"
   ]
  },
  {
   "cell_type": "code",
   "execution_count": 31,
   "metadata": {},
   "outputs": [],
   "source": [
    "users_total = user_calls.merge(user_messages, on=['user_id', 'month'], how='outer')\\\n",
    "                        .merge(user_internet, on=['user_id', 'month'], how='outer')\\\n",
    "                        .merge(users_tariffs_info, on=['user_id'], how='outer')"
   ]
  },
  {
   "cell_type": "markdown",
   "metadata": {},
   "source": [
    "Прежде всего посчитала таблицу ставящую в соответствие кажому пользователю информацию по тарифу - абонентскую плату (и включенные в нее продолжительность звонков, объемы сообщений и трафика) и стоимость услуг сверх тарифа. \n",
    "\n",
    "После этого объединила таблицы, полученные на этапах 2.4 - 2.6, с таблицей по трафикам. Так мы полчим сводную информацию по пользователям по каждому месяцу. "
   ]
  },
  {
   "cell_type": "code",
   "execution_count": 32,
   "metadata": {},
   "outputs": [
    {
     "name": "stdout",
     "output_type": "stream",
     "text": [
      "<class 'pandas.core.frame.DataFrame'>\n",
      "Int64Index: 3216 entries, 0 to 3215\n",
      "Data columns (total 16 columns):\n",
      " #   Column                 Non-Null Count  Dtype  \n",
      "---  ------                 --------------  -----  \n",
      " 0   user_id                3216 non-null   int64  \n",
      " 1   month                  3214 non-null   float64\n",
      " 2   calls_count            3174 non-null   float64\n",
      " 3   total_duration         3174 non-null   float64\n",
      " 4   messages_count         2717 non-null   float64\n",
      " 5   traffic_sum_mb         3203 non-null   float64\n",
      " 6   tariff                 3216 non-null   object \n",
      " 7   city                   3216 non-null   object \n",
      " 8   messages_included      3216 non-null   int64  \n",
      " 9   mb_per_month_included  3216 non-null   int64  \n",
      " 10  minutes_included       3216 non-null   int64  \n",
      " 11  rub_monthly_fee        3216 non-null   int64  \n",
      " 12  rub_per_gb             3216 non-null   int64  \n",
      " 13  rub_per_message        3216 non-null   int64  \n",
      " 14  rub_per_minute         3216 non-null   int64  \n",
      " 15  tariff_name            3216 non-null   object \n",
      "dtypes: float64(5), int64(8), object(3)\n",
      "memory usage: 427.1+ KB\n"
     ]
    }
   ],
   "source": [
    "users_total.info()"
   ]
  },
  {
   "cell_type": "code",
   "execution_count": 33,
   "metadata": {},
   "outputs": [],
   "source": [
    "values = {\"calls_count\": 0.0, \"total_duration\": 0.0, \"messages_count\": 0.0, \"traffic_sum_mb\": 0.0, \"month\": 1.0}\n",
    "users_total = users_total.fillna(value=values)"
   ]
  },
  {
   "cell_type": "code",
   "execution_count": 34,
   "metadata": {},
   "outputs": [
    {
     "name": "stdout",
     "output_type": "stream",
     "text": [
      "<class 'pandas.core.frame.DataFrame'>\n",
      "Int64Index: 3216 entries, 0 to 3215\n",
      "Data columns (total 16 columns):\n",
      " #   Column                 Non-Null Count  Dtype  \n",
      "---  ------                 --------------  -----  \n",
      " 0   user_id                3216 non-null   int64  \n",
      " 1   month                  3216 non-null   float64\n",
      " 2   calls_count            3216 non-null   float64\n",
      " 3   total_duration         3216 non-null   float64\n",
      " 4   messages_count         3216 non-null   float64\n",
      " 5   traffic_sum_mb         3216 non-null   float64\n",
      " 6   tariff                 3216 non-null   object \n",
      " 7   city                   3216 non-null   object \n",
      " 8   messages_included      3216 non-null   int64  \n",
      " 9   mb_per_month_included  3216 non-null   int64  \n",
      " 10  minutes_included       3216 non-null   int64  \n",
      " 11  rub_monthly_fee        3216 non-null   int64  \n",
      " 12  rub_per_gb             3216 non-null   int64  \n",
      " 13  rub_per_message        3216 non-null   int64  \n",
      " 14  rub_per_minute         3216 non-null   int64  \n",
      " 15  tariff_name            3216 non-null   object \n",
      "dtypes: float64(5), int64(8), object(3)\n",
      "memory usage: 427.1+ KB\n"
     ]
    }
   ],
   "source": [
    "users_total.info()"
   ]
  },
  {
   "cell_type": "markdown",
   "metadata": {},
   "source": [
    "После объединения таблиц обнаружила, что в общей таблице появились пропущенные здания. Это легко объясняется тем, что существуют пользователи, которые могли в течение какого-либо месяца не пользоваться чем-то включенным в тариф (не отправляли сообщения, не звонили, не взаимодействовали с интернетом). \n",
    "\n",
    "Для замены подобных пустых значений использовала 0 - если пользователь не отправлял сообщения, значит можно сказать, что он отправил 0 сообщений."
   ]
  },
  {
   "cell_type": "code",
   "execution_count": 35,
   "metadata": {},
   "outputs": [],
   "source": [
    "users_total['minutes_over_tariff'] = users_total['total_duration'] - users_total['minutes_included']\n",
    "users_total.loc[users_total['minutes_over_tariff'] < 0, 'minutes_over_tariff'] = 0"
   ]
  },
  {
   "cell_type": "code",
   "execution_count": 36,
   "metadata": {},
   "outputs": [],
   "source": [
    "users_total['messages_over_tariff'] = users_total['messages_count'] - users_total['messages_included']\n",
    "users_total.loc[users_total['messages_over_tariff'] < 0, 'messages_over_tariff'] = 0"
   ]
  },
  {
   "cell_type": "code",
   "execution_count": 37,
   "metadata": {},
   "outputs": [],
   "source": [
    "users_total['traffic_over_tariff_gb'] = (users_total['traffic_sum_mb'] - users_total['mb_per_month_included'])/1024\n",
    "users_total.loc[users_total['traffic_over_tariff_gb'] < 0, 'traffic_over_tariff_gb'] = 0"
   ]
  },
  {
   "cell_type": "code",
   "execution_count": 38,
   "metadata": {},
   "outputs": [],
   "source": [
    "users_total['total_revenue'] = users_total['rub_monthly_fee'] + \\\n",
    "                               users_total['minutes_over_tariff']*users_total['rub_per_minute'] + \\\n",
    "                               users_total['messages_over_tariff']*users_total['rub_per_message'] + \\\n",
    "                               users_total['traffic_over_tariff_gb']*users_total['rub_per_gb']"
   ]
  },
  {
   "cell_type": "markdown",
   "metadata": {},
   "source": [
    "Для того, чтобы вычислить помесячную выручки с каждого пользователя, я отдельно посчитала 3 отдельные переменные:\n",
    "- количество минут разговора превышающее количество минут, включенное в тариф. Для расчета вычла из значения суммарного количества использованных минут количество минут из тарифа. Если значения было отрицательным, то его заменила на 0.\n",
    "- количество отправленных сообщений превышающее количество собщений, включенное в тариф. Для расчета вычла из значения суммарного количества отправленных сообщений количество собщений, включенное в тариф. Если значения было отрицательным, то его заменила на 0.\n",
    "- количество гигабайт превышающее включенное в тариф. Для расчета вычла из значения суммарного количества использованного траффика количество траффика из тарифа, а эту разница разделила на 1024, чтобы получить количество гигабайтов. Если значения было отрицательным, то его заменила на 0.\n",
    "\n",
    "Для расчета помесячной выручки сложила резмер абонентской платы, количество минут, превышающее тариф, умноженное на стоимость минуты сверх тарифа, количество сообщений, превышающее тариф, умноженное на стоимость сообщения сверх тарифа, количество гигабайт, превышающее тариф, уможенное на стоимость гигабайта сверх тарифа.\n"
   ]
  },
  {
   "cell_type": "code",
   "execution_count": 39,
   "metadata": {},
   "outputs": [
    {
     "data": {
      "text/plain": [
       "4916951.0"
      ]
     },
     "execution_count": 39,
     "metadata": {},
     "output_type": "execute_result"
    }
   ],
   "source": [
    "# check\n",
    "users_total['total_revenue'].sum()"
   ]
  },
  {
   "cell_type": "markdown",
   "metadata": {},
   "source": [
    "## Анализ данных"
   ]
  },
  {
   "cell_type": "markdown",
   "metadata": {},
   "source": [
    "Опишите поведение клиентов оператора, исходя из выборки. Сколько минут разговора, сколько сообщений и какой объём интернет-трафика требуется пользователям каждого тарифа в месяц? Посчитайте среднее количество, дисперсию и стандартное отклонение. Постройте гистограммы. Опишите распределения."
   ]
  },
  {
   "cell_type": "code",
   "execution_count": 40,
   "metadata": {},
   "outputs": [
    {
     "name": "stdout",
     "output_type": "stream",
     "text": [
      "        count   mean        var    std  median\n",
      "tariff                                        \n",
      "smart    2230 417.75  36,281.39 190.48  421.50\n",
      "ultra     986 526.09 101,052.49 317.89  518.00\n"
     ]
    },
    {
     "data": {
      "image/png": "[encoded data removed]",
      "text/plain": [
       "<Figure size 432x288 with 1 Axes>"
      ]
     },
     "metadata": {
      "needs_background": "light"
     },
     "output_type": "display_data"
    },
    {
     "data": {
      "image/png": "[encoded data removed]",
      "text/plain": [
       "<Figure size 432x288 with 2 Axes>"
      ]
     },
     "metadata": {
      "needs_background": "light"
     },
     "output_type": "display_data"
    }
   ],
   "source": [
    "print(users_total.groupby('tariff')['total_duration'].agg(['count', 'mean', 'var', 'std', 'median']))\n",
    "users_total.groupby('tariff')['total_duration'].hist(bins=50, legend=True, alpha=0.5)\n",
    "\n",
    "users_total.groupby('tariff').boxplot(column=['total_duration']);"
   ]
  },
  {
   "cell_type": "code",
   "execution_count": 41,
   "metadata": {},
   "outputs": [
    {
     "name": "stdout",
     "output_type": "stream",
     "text": [
      "Доля пользователей-месяцев по тарифу Smart не превысивших объем минут 66.19%\n",
      "Доля пользователей-месяцев по тарифу Ultra не превысивших объем минут 100.0%\n"
     ]
    }
   ],
   "source": [
    "smart_over_tariff = len(users_total.loc[(users_total['tariff'] == 'smart')&(users_total['total_duration'] <=  users_total['minutes_included']), 'total_duration']) / len(users_total.loc[users_total['tariff'] == 'smart', 'total_duration']) * 100\n",
    "ultra_over_tariff = len(users_total.loc[(users_total['tariff'] == 'ultra')&(users_total['total_duration'] <=  users_total['minutes_included']), 'total_duration']) / len(users_total.loc[users_total['tariff'] == 'ultra', 'total_duration']) * 100\n",
    "print(f'Доля пользователей-месяцев по тарифу Smart не превысивших объем минут {round(smart_over_tariff,2)}%')\n",
    "print(f'Доля пользователей-месяцев по тарифу Ultra не превысивших объем минут {round(ultra_over_tariff,2)}%')"
   ]
  },
  {
   "cell_type": "markdown",
   "metadata": {},
   "source": [
    "Распределения по тарифам имеют вид нормального распределение. Единственным отличием от классического нормального распределения является прирост в 0, описывающий пользователей не пользующихся или практически не пользующимися услугами мобильной связи. Об отсутствии скошенности может говорить симетричность 1й и 3й квартилей относительно медиан, а также примерное равенство медиан и средних значений.\n",
    "\n",
    "Распределение количества минут разговора по тарифу \"Smart\" имеет вид нормального распределения, с небольшим приростом в районе 0. Среднее значение равно 395 минутам, дисперсия 32393, а стандартное отклонение соотвественно 180 минут. Выборка имеет небольшое количество выбросов - суммарное количество минут в месяц, превышающее 934 минуты (более 15,5 часов в месяц). 33,83% пользователей используют минуты свыше тарифа, оплачиваяя их отдельно.\n",
    "\n",
    "Распределение количества минут разговора по тарифу \"Ultra\" имеет вид нормального распределения, с большим приростом в районе 0. Среднее значение равно 497,5 минутам, дисперсия 899957,7, а стандартное отклонение соотвественно 300 минут. Выборка имеет 2 выброса - суммарное количество минут в месяц, превышающее 1400 минут (более 23,3 часов в месяц). В данном тарифе нет пользователей, использующих минуты свер тарифа.\n",
    "\n",
    "Сравнивая эти распределения между собой, можно отметить следующее:\n",
    "- Тариф \"Smart\" используют в 2 раза больше пользователей, чем тариф \"Ultra\" - 2229 против 985. \n",
    "- Среднее значение количества использованных минут тарифа \"Ultra\" смещено относительно среднего значения по тарифу \"Smart\" вправо более чем на 100 минут. Из этого следует, что пользователи тарифа \"Ultra\" в среднем тратят больше времени на разговоры в течение месяца. \n",
    "- При этом более высокое значение стандартного отклонения для тарифа \"Ultra\" говорит о том, что большое количество данных удалено от среднего значения. Многие пользователи тарифа \"Ultra\" тратят гораздо меньше минут, чем указаное среднее, и также большое количество пользователей тратят намного больше. Об этом же говорит более широкий межквартильный размах для тарифа \"Ultra\"."
   ]
  },
  {
   "cell_type": "code",
   "execution_count": 42,
   "metadata": {},
   "outputs": [
    {
     "name": "stdout",
     "output_type": "stream",
     "text": [
      "        count  mean      var   std  median\n",
      "tariff                                    \n",
      "smart    2230 33.37   796.96 28.23   28.00\n",
      "ultra     986 49.31 2,285.42 47.81   38.00\n"
     ]
    },
    {
     "data": {
      "image/png": "[encoded data removed]",
      "text/plain": [
       "<Figure size 432x288 with 1 Axes>"
      ]
     },
     "metadata": {
      "needs_background": "light"
     },
     "output_type": "display_data"
    },
    {
     "data": {
      "image/png": "[encoded data removed]",
      "text/plain": [
       "<Figure size 432x288 with 2 Axes>"
      ]
     },
     "metadata": {
      "needs_background": "light"
     },
     "output_type": "display_data"
    }
   ],
   "source": [
    "print(users_total.groupby('tariff')['messages_count'].agg(['count', 'mean', 'var', 'std', 'median']))\n",
    "users_total.groupby('tariff')['messages_count'].hist(bins=20, legend=True, alpha=0.5);\n",
    "users_total.groupby('tariff').boxplot(column=['messages_count']);"
   ]
  },
  {
   "cell_type": "code",
   "execution_count": 43,
   "metadata": {},
   "outputs": [
    {
     "name": "stdout",
     "output_type": "stream",
     "text": [
      "Доля пользователей-месяцев по тарифу Smart не превысивших объем сообщений 74.71%\n",
      "Доля пользователей-месяцев по тарифу Ultra не превысивших объем сообщений 100.0%\n"
     ]
    }
   ],
   "source": [
    "smart_over_tariff = len(users_total.loc[(users_total['tariff'] == 'smart')&(users_total['messages_count'] <=  users_total['messages_included']), 'messages_count']) / len(users_total.loc[users_total['tariff'] == 'smart', 'messages_count']) * 100\n",
    "ultra_over_tariff = len(users_total.loc[(users_total['tariff'] == 'ultra')&(users_total['messages_count'] <=  users_total['messages_included']), 'messages_count']) / len(users_total.loc[users_total['tariff'] == 'ultra', 'messages_count']) * 100\n",
    "print(f'Доля пользователей-месяцев по тарифу Smart не превысивших объем сообщений {round(smart_over_tariff,2)}%')\n",
    "print(f'Доля пользователей-месяцев по тарифу Ultra не превысивших объем сообщений {round(ultra_over_tariff,2)}%')\n"
   ]
  },
  {
   "cell_type": "markdown",
   "metadata": {},
   "source": [
    "Распределения по тарифам скошены вправо, при этом для тарифа \"Ultra\" оно скошено сильнее, об этом говорят как графики функций, так и разница между средними и медианами. Также это хорошо видно на графике boxplot - от 3й квартили до медианы больше, чем расстояние от медианы до 1й квартили.\n",
    "\n",
    "Распределение количества отправленных сообщений по тарифу \"Smart\" имеет сильный пик в районе 0. Среднее значение равно 34 сообщения, дисперсия 797, а стандартное отклонение соотвественно 28 сообщений. Выборка имеет значительное количество выбросов - суммарное количество сообщений в месяц, превышающее 118 сообщений. 25.3% пользователей отправляют сообщения свыше тарифа.\n",
    "\n",
    "Распределение количества отправленных сообщений по тарифу \"Ultra\" также имеет сильный пик в районе 0. Среднее значение равно 49 сообщений, дисперсия 2285, а стандартное отклонение соотвественно 48 сообщений. Выборка имеет небольшое количество выбросов - значения превышающие 193 сообщения. В данном тарифе нет пользователей, использующих сообщениях свер тарифа.\n",
    "\n",
    "Сравнивая эти распределения между собой, можно отметить следующее:\n",
    "- Среднее значение количества использованных минут тарифа \"Ultra\" смещено относительно среднего значения по тарифу \"Smart\" вправо. Из этого следует, что пользователи тарифа \"Smart\" в среднем отправляют больше соощений месяца. \n",
    "- При этом более высокое значение стандартного отклонения для тарифа \"Ultra\" говорит о том, что большое количество данных удалено от среднего значения. Многие пользователи тарифа \"Ultra\" отправляют гораздо меньше сообщений, чем указаное среднее, и также большое количество пользователей отправлют намного больше. Об этом же говорит более широкий межквартильный размах для тарифа \"Ultra\", охватывающий почти все значений выборки.\n",
    "- Высокое значение в районе 0 для обоих тарифов говорит о снижении популярности функции отправки сообщений."
   ]
  },
  {
   "cell_type": "code",
   "execution_count": 44,
   "metadata": {},
   "outputs": [
    {
     "name": "stdout",
     "output_type": "stream",
     "text": [
      "        count  mean   var  std  median\n",
      "tariff                                \n",
      "smart    2230 16.32 33.13 5.76   17.00\n",
      "ultra     986 19.47 97.38 9.87   19.00\n"
     ]
    },
    {
     "data": {
      "image/png": "[encoded data removed]",
      "text/plain": [
       "<Figure size 432x288 with 1 Axes>"
      ]
     },
     "metadata": {
      "needs_background": "light"
     },
     "output_type": "display_data"
    },
    {
     "data": {
      "image/png": "[encoded data removed]",
      "text/plain": [
       "<Figure size 432x288 with 2 Axes>"
      ]
     },
     "metadata": {
      "needs_background": "light"
     },
     "output_type": "display_data"
    }
   ],
   "source": [
    "users_total['traffic_sum_gb'] = users_total['traffic_sum_mb']/1024\n",
    "print(users_total.groupby('tariff')['traffic_sum_gb'].agg(['count', 'mean', 'var', 'std', 'median']))\n",
    "users_total.groupby('tariff')['traffic_sum_gb'].hist(bins=10, legend=True, alpha=0.5);\n",
    "users_total.groupby('tariff').boxplot(column=['traffic_sum_gb']);"
   ]
  },
  {
   "cell_type": "code",
   "execution_count": 45,
   "metadata": {},
   "outputs": [
    {
     "name": "stdout",
     "output_type": "stream",
     "text": [
      "Доля пользователей-месяцев по тарифу Smart не превысивших объем траффика 41.52%\n",
      "Доля пользователей-месяцев по тарифу Ultra не превысивших объем траффика 86.41%\n"
     ]
    }
   ],
   "source": [
    "smart_over_tariff = len(users_total.loc[(users_total['tariff'] == 'smart')&(users_total['traffic_sum_mb'] <=  users_total['mb_per_month_included']), 'traffic_sum_mb']) / len(users_total.loc[users_total['tariff'] == 'smart', 'traffic_sum_mb']) * 100\n",
    "ultra_over_tariff = len(users_total.loc[(users_total['tariff'] == 'ultra')&(users_total['traffic_sum_mb'] <=  users_total['mb_per_month_included']), 'traffic_sum_mb']) / len(users_total.loc[users_total['tariff'] == 'ultra', 'traffic_sum_mb']) * 100\n",
    "print(f'Доля пользователей-месяцев по тарифу Smart не превысивших объем траффика {round(smart_over_tariff,2)}%')\n",
    "print(f'Доля пользователей-месяцев по тарифу Ultra не превысивших объем траффика {round(ultra_over_tariff,2)}%')\n"
   ]
  },
  {
   "cell_type": "markdown",
   "metadata": {},
   "source": [
    "Распределения по тарифам имеют вид нормального распределение. Об отсутствии скошенности может говорить симетричность 1й и 3й квартилей относительно медиан, а также примерное равенство медиан и средних значений.\n",
    "\n",
    "Распределение объема использованного трафика по тарифу \"Smart\" имеет вид нормального распределения. Среднее значение равно 16.32 Гб, дисперсия 33.13, а стандартное отклонение соотвественно 5.76 Гб. Выборка имеет значительное количество выбросов - суммарное количество сообщений в месяц, превышающее 33.6 Гб и меньшее 0.4 Гб. При этом, стоит отметить, что среднее значение больше чем объем траффика, входящего в тариф - 15 Гб, что говорит о том, что больше половины половины (58,5%) пользователей тарифа \"Smart\" вносят плату за интернет сверх абонентской платы.\n",
    "\n",
    "Распределение объема использованного трафика по тарифу \"Ultra\" имеет вид нормального распределения. Среднее значение равно 19.47 Гб, дисперсия 97.38, а стандартное отклонение соотвественно 9.87 Гб. Выборка не имеет выбросов. \n",
    "\n",
    "Сравнивая эти распределения между собой, можно отметить следующее:\n",
    "- Среднее значение количества использованных минут тарифа \"Ultra\" смещено относительно среднего значения по тарифу \"Smart\" вправо. Из этого следует, что пользователи тарифа \"Smart\" в среднем отправляют больше соощений месяца. \n",
    "- При этом более высокое значение стандартного отклонения для тарифа \"Ultra\" говорит о том, что большое количество данных удалено от среднего значения. Многие пользователи тарифа \"Ultra\" отправляют гораздо меньше сообщений, чем указаное среднее, и также большое количество пользователей отправлют намного больше. Об этом же говорит более широкий межквартильный размах для тарифа \"Ultra\", охватывающий почти все значений выборки.\n",
    "- Больше половины пользователей тарифа \"Smart\" используют интернет выше объемов, предусмотренных в тарифе. При этом в случае тарифа \"Ultra\" наоборот - только меньшая часть клиентов (13,6%) использует дополнительный трафик (свыше 30 Гб)."
   ]
  },
  {
   "cell_type": "code",
   "execution_count": 46,
   "metadata": {},
   "outputs": [
    {
     "data": {
      "text/html": [
       "<div>\n",
       "<style scoped>\n",
       "    .dataframe tbody tr th:only-of-type {\n",
       "        vertical-align: middle;\n",
       "    }\n",
       "\n",
       "    .dataframe tbody tr th {\n",
       "        vertical-align: top;\n",
       "    }\n",
       "\n",
       "    .dataframe thead th {\n",
       "        text-align: right;\n",
       "    }\n",
       "</style>\n",
       "<table border=\"1\" class=\"dataframe\">\n",
       "  <thead>\n",
       "    <tr style=\"text-align: right;\">\n",
       "      <th></th>\n",
       "      <th>count</th>\n",
       "      <th>sum</th>\n",
       "      <th>not_over_tariff_part</th>\n",
       "    </tr>\n",
       "    <tr>\n",
       "      <th>tariff</th>\n",
       "      <th></th>\n",
       "      <th></th>\n",
       "      <th></th>\n",
       "    </tr>\n",
       "  </thead>\n",
       "  <tbody>\n",
       "    <tr>\n",
       "      <th>smart</th>\n",
       "      <td>2230</td>\n",
       "      <td>568</td>\n",
       "      <td>0.25</td>\n",
       "    </tr>\n",
       "    <tr>\n",
       "      <th>ultra</th>\n",
       "      <td>986</td>\n",
       "      <td>852</td>\n",
       "      <td>0.86</td>\n",
       "    </tr>\n",
       "  </tbody>\n",
       "</table>\n",
       "</div>"
      ],
      "text/plain": [
       "        count  sum  not_over_tariff_part\n",
       "tariff                                  \n",
       "smart    2230  568                  0.25\n",
       "ultra     986  852                  0.86"
      ]
     },
     "execution_count": 46,
     "metadata": {},
     "output_type": "execute_result"
    }
   ],
   "source": [
    "users_total['not_over_tariff'] = users_total['total_revenue'] <= users_total['rub_monthly_fee']\n",
    "users_total_tariff = users_total.groupby('tariff')['not_over_tariff'].agg(['count', 'sum'])\n",
    "users_total_tariff['not_over_tariff_part'] = users_total_tariff['sum'] / users_total_tariff['count']\n",
    "users_total_tariff"
   ]
  },
  {
   "cell_type": "code",
   "execution_count": 47,
   "metadata": {},
   "outputs": [
    {
     "name": "stdout",
     "output_type": "stream",
     "text": [
      "        count   mean        var    std  median          sum\n",
      "tariff                                                     \n",
      "smart    1662 992.42 647,741.20 804.82  800.00 1,649,401.00\n",
      "ultra     134 883.21 368,005.41 606.63  750.00   118,350.00\n"
     ]
    },
    {
     "data": {
      "image/png": "[encoded data removed]",
      "text/plain": [
       "<Figure size 432x288 with 1 Axes>"
      ]
     },
     "metadata": {
      "needs_background": "light"
     },
     "output_type": "display_data"
    },
    {
     "data": {
      "image/png": "[encoded data removed]",
      "text/plain": [
       "<Figure size 432x288 with 2 Axes>"
      ]
     },
     "metadata": {
      "needs_background": "light"
     },
     "output_type": "display_data"
    }
   ],
   "source": [
    "users_total['over_revenue'] = users_total['total_revenue'] - users_total['rub_monthly_fee']\n",
    "print(users_total[users_total['not_over_tariff'] == False].groupby('tariff')['over_revenue'].agg(['count', 'mean', 'var', 'std', 'median', 'sum']))\n",
    "users_total[users_total['not_over_tariff'] == False].groupby('tariff')['over_revenue'].hist(bins=20, legend=True, alpha=0.5)\n",
    "users_total[users_total['not_over_tariff'] == False].groupby('tariff').boxplot(column=['over_revenue']);"
   ]
  },
  {
   "cell_type": "markdown",
   "metadata": {},
   "source": [
    "На основе проведенного анализа можно сделать следующие выводы о пользователях тарифов \"Smart\" и \"Ultra\":\n",
    "- Большинство пользователей выбирают тариф Smart  - 69,4% пользователей выбирают его. Однако, при этом 74% пользователей-месяцев по тарифу Smart платят за услуги свыше тарифа. При этом большая часть переплат идет за интернет - 56% пользователей доплачивают за дополнительные Мб по тарифу Smart, также 34% пользвателей переплачивают за звонки.\n",
    "- Переплата в среднем составляет 992.42 руб. При этом разница между тарифами \"Smart\" и \"Ultra\" составляет 1500. Здесь можно говорить об ошибке планирования, при которой пользователи тарифа Smart рассчитывают, то смогут уложиться в рамки тарифа, однако как правило не укладываются.\n",
    "- Тариф \"Ultra\" выбирают только 30.6% пользователей. Но только 13.6%  пользователей платят за услугу свыше тарифа. Более того, средняя переплата у пользователей тарифа \"Ultra\" меньше чем у пользователей тарифа \"Smart\", и станартное отклонение этой переплаты меньше.\n",
    "\n",
    "\n",
    "Можно сделать вывод:\n",
    "- Большинству пользователей тарифа \"Smart\" было бы выгоднее выбирать тариф \"Ultra\", так как полные расходы с абонентской платой и переплатой едва ли не превосходят абонентскую плату тарифа \"Ultra\", а объем потребляемых услуг при этом меньше.\n",
    "- Компании выгоднее рекламировать тариф \"Smart\", так как с учетом средних объемов потребления услуг, то переплаты для тарифа \"Smart\" выгоднее чем абонентская плата от тарифа \"Ultra\"."
   ]
  },
  {
   "cell_type": "markdown",
   "metadata": {},
   "source": [
    "## Проверка гипотез"
   ]
  },
  {
   "cell_type": "code",
   "execution_count": 48,
   "metadata": {},
   "outputs": [],
   "source": [
    "alpha = .05"
   ]
  },
  {
   "cell_type": "markdown",
   "metadata": {},
   "source": [
    "### Средняя выручка пользователей тарифов «Ультра» и «Смарт» различаются;\n"
   ]
  },
  {
   "cell_type": "markdown",
   "metadata": {},
   "source": [
    "<b>H0</b>: в качестве нулевой гипотезы возьмем утверждение, что средняя выручка пользователей тарифов \"Ultra\" и \"Smart\" не разичаются. \n",
    "    \n",
    "<b>H1</b>: тогда в качестве альтернативной гипотезой можно взять утверждение, что тарифы «Ultra» и «Smart» различаются.\n",
    "\n",
    "Прежде всего сравним распределение средней выручки пользователей тарфов.\n",
    "\n",
    "Результаты по тарифу \"Ultra\" имеют меньший разброс, несмотря на то, что средняя выручка для них выше."
   ]
  },
  {
   "cell_type": "code",
   "execution_count": 49,
   "metadata": {},
   "outputs": [
    {
     "name": "stdout",
     "output_type": "stream",
     "text": [
      "        count     mean        var    std\n",
      "tariff                                  \n",
      "smart    2230 1,289.64 669,730.76 818.37\n",
      "ultra     986 2,070.03 141,387.71 376.02\n"
     ]
    },
    {
     "data": {
      "image/png": "[encoded data removed]",
      "text/plain": [
       "<Figure size 432x288 with 1 Axes>"
      ]
     },
     "metadata": {
      "needs_background": "light"
     },
     "output_type": "display_data"
    },
    {
     "data": {
      "image/png": "[encoded data removed]",
      "text/plain": [
       "<Figure size 432x288 with 2 Axes>"
      ]
     },
     "metadata": {
      "needs_background": "light"
     },
     "output_type": "display_data"
    }
   ],
   "source": [
    "print(users_total.groupby('tariff')['total_revenue'].agg(['count', 'mean', 'var', 'std']))\n",
    "users_total.groupby('tariff')['total_revenue'].hist(bins=10, legend=True, alpha=0.5);\n",
    "users_total.groupby('tariff').boxplot(column=['total_revenue']);"
   ]
  },
  {
   "cell_type": "markdown",
   "metadata": {},
   "source": [
    "Для того, чтобы сравнить выборки - они должны быть одного размера. Для этого используем метод sample() и возьмем из обеих таблиц количество данных равное минимальному из двух объемов таблиц. В качестве критерия проверки используем t-тест. При, учитывая разницу дисперсий, укажем equal_var = False."
   ]
  },
  {
   "cell_type": "code",
   "execution_count": 50,
   "metadata": {
    "scrolled": true
   },
   "outputs": [],
   "source": [
    "sample_len = min(len(users_total[users_total['tariff'] == 'smart']), len(users_total[users_total['tariff'] == 'ultra']))\n",
    "users_smart_sample = users_total[users_total['tariff'] == 'smart']['total_revenue'].sample(sample_len)\n",
    "users_ultra_sample = users_total[users_total['tariff'] == 'ultra']['total_revenue'].sample(sample_len)"
   ]
  },
  {
   "cell_type": "code",
   "execution_count": 51,
   "metadata": {},
   "outputs": [
    {
     "name": "stdout",
     "output_type": "stream",
     "text": [
      "p-значение:  1.849272306651272e-129\n",
      "Отбрасываем нулевую гипотезу\n"
     ]
    }
   ],
   "source": [
    "results = st.ttest_ind(users_smart_sample, users_ultra_sample, equal_var = False)\n",
    "print('p-значение: ', results.pvalue)\n",
    "if results.pvalue < alpha:\n",
    "    print(\"Отбрасываем нулевую гипотезу\")\n",
    "else:\n",
    "    print(\"Отбрасываем альтернативную гипотезу\")"
   ]
  },
  {
   "cell_type": "markdown",
   "metadata": {},
   "source": [
    "Согласно проведенному иследованию, нулевую гипотезу можно отбросить - средние выручки тарифов Ultra и Smart отличаются друг от друга."
   ]
  },
  {
   "cell_type": "markdown",
   "metadata": {},
   "source": [
    "### Средняя выручка пользователей из Москвы отличается от выручки пользователей из других регионов."
   ]
  },
  {
   "cell_type": "markdown",
   "metadata": {},
   "source": [
    "<b>H0</b>: в качестве нулевой гипотезы возьмем утверждение, что средняя выручка пользователей из Москвы и средняя выручка пользователей из других регионов не разичаются. \n",
    "    \n",
    "<b>H1</b>: тогда в качестве альтернативной гипотезой можно взять утверждение, что средняя выручка пользователей из Москвы и средняя выручка пользователей из других регионов разичаются.\n",
    "\n",
    "Прежде всего сравним распределение средней выручки пользователей по городам.\n",
    "\n",
    "Результаты по пользователям из разных городов очень похожи, учитывая значения средних и стандартных отклонений. "
   ]
  },
  {
   "cell_type": "code",
   "execution_count": 52,
   "metadata": {},
   "outputs": [
    {
     "name": "stdout",
     "output_type": "stream",
     "text": [
      "               count     mean        var    std\n",
      "city_moscow                                    \n",
      "Москва           611 1,546.71 565,636.47 752.09\n",
      "Прочие города   2605 1,524.73 654,069.57 808.75\n"
     ]
    },
    {
     "data": {
      "image/png": "[encoded data removed]",
      "text/plain": [
       "<Figure size 432x288 with 1 Axes>"
      ]
     },
     "metadata": {
      "needs_background": "light"
     },
     "output_type": "display_data"
    },
    {
     "data": {
      "image/png": "[encoded data removed]",
      "text/plain": [
       "<Figure size 432x288 with 2 Axes>"
      ]
     },
     "metadata": {
      "needs_background": "light"
     },
     "output_type": "display_data"
    }
   ],
   "source": [
    "users_total['city_moscow'] = 'Прочие города'\n",
    "users_total.loc[users_total['city'] == 'Москва', 'city_moscow'] = 'Москва'\n",
    "\n",
    "print(users_total.groupby('city_moscow')['total_revenue'].agg(['count', 'mean', 'var', 'std']))\n",
    "users_total.groupby('city_moscow')['total_revenue'].hist(bins=10, legend=True, alpha=0.5);\n",
    "users_total.groupby('city_moscow').boxplot(column=['total_revenue']);"
   ]
  },
  {
   "cell_type": "markdown",
   "metadata": {},
   "source": [
    "Для того, чтобы сравнить выборки - они должны быть одного размера. Для этого используем метод sample() и возьмем из обеих таблиц количество данных равное минимальному из двух объемов таблиц. В качестве критерия проверки используем t-тест. При, учитывая близость дисперсий, не будем указывать параметр equal_var."
   ]
  },
  {
   "cell_type": "code",
   "execution_count": 53,
   "metadata": {},
   "outputs": [
    {
     "name": "stdout",
     "output_type": "stream",
     "text": [
      "p-значение:  0.7015234024331114\n",
      "Отбрасываем альтернативную гипотезу\n"
     ]
    }
   ],
   "source": [
    "sample_len = min(len(users_total[users_total['city_moscow'] == 'Москва']), len(users_total[users_total['city_moscow'] == 'Прочие города']))\n",
    "users_moscow_sample = users_total[users_total['city_moscow'] == 'Москва']['total_revenue'].sample(sample_len)\n",
    "users_other_sample = users_total[users_total['city_moscow'] == 'Прочие города']['total_revenue'].sample(sample_len)\n",
    "\n",
    "results = st.ttest_ind(users_moscow_sample, users_other_sample)\n",
    "print('p-значение: ', results.pvalue)\n",
    "if results.pvalue < alpha:\n",
    "    print(\"Отбрасываем нулевую гипотезу\")\n",
    "else:\n",
    "    print(\"Отбрасываем альтернативную гипотезу\")"
   ]
  },
  {
   "cell_type": "markdown",
   "metadata": {},
   "source": [
    "Согласно проведенному иследованию, альтернативную  гипотезу можно отбросить - средние выручки тарифов Москвы  и других регионов не отличаются друг от друга."
   ]
  },
  {
   "cell_type": "markdown",
   "metadata": {},
   "source": [
    "Проинтерпретируем полученные результаты с точки зрения статистики.\n",
    "<b>p-value</b> - в данном случае, это вероятность того, что при истинности нулевой гипотезы, сравниваемые выборки были взяты из совокупностей с одинаковыми метрками. Если <b>p-value</b> меньше некоторго уровня значимости (<i>alpha</i> = 5%), то скорее всего данные выборки были взяты из совокупностей с разными метриками и тогд нулевую гипотезу можно отбросить.\n",
    "\n",
    "1. Сравнение средней выручки пользователей тарифов «Ультра» и «Смарт» - p-значение:  3.897703930649487e-134. Это означает, что вероятность, что выборки для тарифа \"Smart\" и тарифа \"Ultra\" взяты из совокупностей с одинаковыми метриами, равна 4 * 10^-32 %, что гораздо меньше определенного нами уровня значимости 5%. Из этого следует, чо мы можем отбросить нулевую гипотезу о равенстве средних выручек.\n",
    "\n",
    "2. Сравнение средних выручек пользователей из Москвы и из других регионов - p-значение:  0.5256659369687924. Это означает, что вероятность, что выборки для пользователей из Москвы и пользователей из других регионов взяты из совокупностей с одинаковыми метриами, равна 52%, что гораздо больше определенного нами уровня значимости 5%. Из этого следует, чо мы не можем отбросить нулевую гипотезу о равенстве средних выручек и должны отбросить альтернативную - ою их различии."
   ]
  },
  {
   "cell_type": "code",
   "execution_count": 54,
   "metadata": {},
   "outputs": [
    {
     "name": "stdout",
     "output_type": "stream",
     "text": [
      "p-значение: 0.19124505225722097\n",
      "Не получилось отвергнуть нулевую гипотезу\n"
     ]
    }
   ],
   "source": [
    "# Приведены два датасета: сумма покупок, совершённых за месяц посетителями ...\n",
    "\n",
    "sample_1 = [3071, 3636, 3454, 3151, 2185, 3259, 1727, 2263, 2015,\n",
    "2582, 4815, 633, 3186, 887, 2028, 3589, 2564, 1422, 1785,\n",
    "3180, 1770, 2716, 2546, 1848, 4644, 3134, 475, 2686,\n",
    "1838, 3352]\n",
    "sample_2 = [1211, 1228, 2157, 3699, 600, 1898, 1688, 1420, 5048, 3007,\n",
    "509, 3777, 5583, 3949, 121, 1674, 4300, 1338, 3066,\n",
    "3562, 1010, 2311, 462, 863, 2021, 528, 1849, 255,\n",
    "1740, 2596]\n",
    "alpha = .05 # критический уровень статистической значимости\n",
    "# если p-value окажется меньше него - отвергнем гипотезу\n",
    "results = st.ttest_ind(\n",
    "sample_1,\n",
    "sample_2)\n",
    "print('p-значение:', results.pvalue)\n",
    "if (results.pvalue < alpha):\n",
    "    print(\"Отвергаем нулевую гипотезу\")\n",
    "else:\n",
    "\n",
    "    print(\"Не получилось отвергнуть нулевую гипотезу\")"
   ]
  },
  {
   "cell_type": "markdown",
   "metadata": {},
   "source": [
    "## Общие выводы"
   ]
  },
  {
   "cell_type": "markdown",
   "metadata": {},
   "source": [
    "На основе проведенного анализа можно сделать следующие выводы о пользователях тарифов \"Smart\" и \"Ultra\":\n",
    "\n",
    "- Большинство пользователей выбирают тариф Smart - 69,4% пользователей выбирают его. Однако, при этом 74% пользователей-месяцев по тарифу Smart платят за услуги свыше тарифа. При этом большая часть переплат идет за интернет - 56% пользователей доплачивают за дополнительные Мб по тарифу Smart, также 34% пользвателей переплачивают за звонки.\n",
    "- Переплата в среднем составляет 992.42 руб. При этом разница между тарифами \"Smart\" и \"Ultra\" составляет 1500. Здесь можно говорить об ошибке планирования, при которой пользователи тарифа Smart рассчитывают, то смогут уложиться в рамки тарифа, однако как правило не укладываются.\n",
    "- Тариф \"Ultra\" выбирают только 30.6% пользователей. Но только 13.6% пользователей платят за услугу свыше тарифа. Более того, средняя переплата у пользователей тарифа \"Ultra\" меньше чем у пользователей тарифа \"Smart\", и станартное отклонение этой переплаты меньше.\n",
    "- Большинству пользователей тарифа \"Smart\" было бы выгоднее выбирать тариф \"Ultra\", так как полные расходы с абонентской платой и переплатой едва ли не превосходят абонентскую плату тарифа \"Ultra\", а объем потребляемых услуг при этом меньше.\n",
    "- Компании выгоднее рекламировать тариф \"Smart\", так как с учетом средних объемов потребления услуг, то переплаты для тарифа \"Smart\" выгоднее чем абонентская плата от тарифа \"Ultra\".\n",
    "- Разница между средней выручкой тарифа \"Smart\" отличается от средней выручки тарифа \"Ultra\".\n",
    "- Однако, нет разницы между средней выручкой между Москвой и другими регионами."
   ]
  }
 ],
 "metadata": {
  "ExecuteTimeLog": [
   {
    "duration": 430,
    "start_time": "2022-06-08T15:13:15.740Z"
   },
   {
    "duration": 392,
    "start_time": "2022-06-08T15:13:57.502Z"
   },
   {
    "duration": 1006,
    "start_time": "2022-06-08T15:16:20.133Z"
   },
   {
    "duration": 29,
    "start_time": "2022-06-08T15:16:27.763Z"
   },
   {
    "duration": 78,
    "start_time": "2022-06-08T15:16:38.640Z"
   },
   {
    "duration": 9,
    "start_time": "2022-06-08T15:16:53.382Z"
   },
   {
    "duration": 5,
    "start_time": "2022-06-08T15:22:52.876Z"
   },
   {
    "duration": 8,
    "start_time": "2022-06-08T15:22:59.132Z"
   },
   {
    "duration": 17,
    "start_time": "2022-06-08T15:23:02.108Z"
   },
   {
    "duration": 10,
    "start_time": "2022-06-08T15:23:54.500Z"
   },
   {
    "duration": 225,
    "start_time": "2022-06-08T15:24:16.013Z"
   },
   {
    "duration": 135,
    "start_time": "2022-06-08T15:24:20.640Z"
   },
   {
    "duration": 185,
    "start_time": "2022-06-08T15:24:24.844Z"
   },
   {
    "duration": 196,
    "start_time": "2022-06-08T15:25:01.849Z"
   },
   {
    "duration": 352,
    "start_time": "2022-06-08T15:25:08.986Z"
   },
   {
    "duration": 304,
    "start_time": "2022-06-08T15:25:17.314Z"
   },
   {
    "duration": 32,
    "start_time": "2022-06-08T15:37:30.853Z"
   },
   {
    "duration": 36,
    "start_time": "2022-06-08T15:37:49.847Z"
   },
   {
    "duration": 283,
    "start_time": "2022-06-08T15:38:04.301Z"
   },
   {
    "duration": 31,
    "start_time": "2022-06-08T15:38:21.777Z"
   },
   {
    "duration": 295,
    "start_time": "2022-06-08T15:38:23.143Z"
   },
   {
    "duration": 10,
    "start_time": "2022-06-08T15:38:40.132Z"
   },
   {
    "duration": 274,
    "start_time": "2022-06-08T15:39:13.560Z"
   },
   {
    "duration": 411,
    "start_time": "2022-06-08T15:48:38.476Z"
   },
   {
    "duration": 262,
    "start_time": "2022-06-08T15:48:43.465Z"
   },
   {
    "duration": 57,
    "start_time": "2022-06-08T17:55:56.409Z"
   },
   {
    "duration": 6,
    "start_time": "2022-06-08T17:55:56.867Z"
   },
   {
    "duration": 7,
    "start_time": "2022-06-08T17:55:57.348Z"
   },
   {
    "duration": 819,
    "start_time": "2022-06-08T17:56:05.487Z"
   },
   {
    "duration": 921,
    "start_time": "2022-06-08T17:56:06.308Z"
   },
   {
    "duration": 29,
    "start_time": "2022-06-08T17:56:07.231Z"
   },
   {
    "duration": 13,
    "start_time": "2022-06-08T17:56:07.261Z"
   },
   {
    "duration": 49,
    "start_time": "2022-06-08T17:56:07.277Z"
   },
   {
    "duration": 317,
    "start_time": "2022-06-08T17:56:07.329Z"
   },
   {
    "duration": 21,
    "start_time": "2022-06-08T17:56:07.875Z"
   },
   {
    "duration": 12,
    "start_time": "2022-06-08T17:56:08.079Z"
   },
   {
    "duration": 32,
    "start_time": "2022-06-08T17:56:08.296Z"
   },
   {
    "duration": 371,
    "start_time": "2022-06-08T17:56:08.515Z"
   },
   {
    "duration": 20,
    "start_time": "2022-06-08T17:56:09.159Z"
   },
   {
    "duration": 8,
    "start_time": "2022-06-08T17:56:09.381Z"
   },
   {
    "duration": 14,
    "start_time": "2022-06-08T17:56:09.603Z"
   },
   {
    "duration": 52,
    "start_time": "2022-06-08T17:56:09.823Z"
   },
   {
    "duration": 11,
    "start_time": "2022-06-08T18:01:42.458Z"
   },
   {
    "duration": 9,
    "start_time": "2022-06-08T18:01:45.259Z"
   },
   {
    "duration": 28,
    "start_time": "2022-06-08T18:01:47.842Z"
   },
   {
    "duration": 10,
    "start_time": "2022-06-08T18:03:51.931Z"
   },
   {
    "duration": 11,
    "start_time": "2022-06-08T18:04:13.479Z"
   },
   {
    "duration": 34,
    "start_time": "2022-06-08T19:19:07.602Z"
   },
   {
    "duration": 36,
    "start_time": "2022-06-08T19:20:00.924Z"
   },
   {
    "duration": 27,
    "start_time": "2022-06-08T19:20:12.183Z"
   },
   {
    "duration": 63,
    "start_time": "2022-06-08T19:20:17.514Z"
   },
   {
    "duration": 46,
    "start_time": "2022-06-08T20:18:34.734Z"
   },
   {
    "duration": 756,
    "start_time": "2022-06-08T20:18:41.820Z"
   },
   {
    "duration": 1208,
    "start_time": "2022-06-08T20:18:42.578Z"
   },
   {
    "duration": 26,
    "start_time": "2022-06-08T20:18:43.788Z"
   },
   {
    "duration": 44,
    "start_time": "2022-06-08T20:18:43.815Z"
   },
   {
    "duration": 58,
    "start_time": "2022-06-08T20:18:43.861Z"
   },
   {
    "duration": 312,
    "start_time": "2022-06-08T20:18:43.921Z"
   },
   {
    "duration": 18,
    "start_time": "2022-06-08T20:18:44.235Z"
   },
   {
    "duration": 21,
    "start_time": "2022-06-08T20:18:44.255Z"
   },
   {
    "duration": 39,
    "start_time": "2022-06-08T20:18:44.278Z"
   },
   {
    "duration": 288,
    "start_time": "2022-06-08T20:18:44.778Z"
   },
   {
    "duration": 17,
    "start_time": "2022-06-08T20:18:45.068Z"
   },
   {
    "duration": 16,
    "start_time": "2022-06-08T20:18:45.087Z"
   },
   {
    "duration": 45,
    "start_time": "2022-06-08T20:18:45.105Z"
   },
   {
    "duration": 40,
    "start_time": "2022-06-08T20:18:45.152Z"
   },
   {
    "duration": 38,
    "start_time": "2022-06-08T20:18:45.194Z"
   },
   {
    "duration": 36,
    "start_time": "2022-06-08T20:18:45.237Z"
   },
   {
    "duration": 41,
    "start_time": "2022-06-08T20:18:45.275Z"
   },
   {
    "duration": 95,
    "start_time": "2022-06-08T20:18:45.334Z"
   },
   {
    "duration": 22,
    "start_time": "2022-06-08T20:18:57.911Z"
   },
   {
    "duration": 10,
    "start_time": "2022-06-08T20:19:10.929Z"
   },
   {
    "duration": 4,
    "start_time": "2022-06-08T20:23:42.616Z"
   },
   {
    "duration": 27,
    "start_time": "2022-06-08T20:23:54.824Z"
   },
   {
    "duration": 21,
    "start_time": "2022-06-08T20:25:22.859Z"
   },
   {
    "duration": 9,
    "start_time": "2022-06-08T20:25:46.371Z"
   },
   {
    "duration": 6,
    "start_time": "2022-06-08T20:25:53.538Z"
   },
   {
    "duration": 33,
    "start_time": "2022-06-08T20:30:45.419Z"
   },
   {
    "duration": 8,
    "start_time": "2022-06-08T20:30:54.375Z"
   },
   {
    "duration": 18,
    "start_time": "2022-06-08T20:30:57.179Z"
   },
   {
    "duration": 14,
    "start_time": "2022-06-08T20:31:28.640Z"
   },
   {
    "duration": 13,
    "start_time": "2022-06-08T20:31:36.406Z"
   },
   {
    "duration": 3,
    "start_time": "2022-06-08T20:32:12.659Z"
   },
   {
    "duration": 389,
    "start_time": "2022-06-08T20:32:13.202Z"
   },
   {
    "duration": 21,
    "start_time": "2022-06-08T20:32:13.594Z"
   },
   {
    "duration": 7,
    "start_time": "2022-06-08T20:32:13.617Z"
   },
   {
    "duration": 59,
    "start_time": "2022-06-08T20:32:13.627Z"
   },
   {
    "duration": 295,
    "start_time": "2022-06-08T20:32:13.687Z"
   },
   {
    "duration": 18,
    "start_time": "2022-06-08T20:32:13.984Z"
   },
   {
    "duration": 22,
    "start_time": "2022-06-08T20:32:14.004Z"
   },
   {
    "duration": 33,
    "start_time": "2022-06-08T20:32:14.027Z"
   },
   {
    "duration": 292,
    "start_time": "2022-06-08T20:32:14.062Z"
   },
   {
    "duration": 16,
    "start_time": "2022-06-08T20:32:14.356Z"
   },
   {
    "duration": 6,
    "start_time": "2022-06-08T20:32:14.374Z"
   },
   {
    "duration": 14,
    "start_time": "2022-06-08T20:32:14.382Z"
   },
   {
    "duration": 32,
    "start_time": "2022-06-08T20:32:14.397Z"
   },
   {
    "duration": 11,
    "start_time": "2022-06-08T20:32:14.431Z"
   },
   {
    "duration": 16,
    "start_time": "2022-06-08T20:32:14.444Z"
   },
   {
    "duration": 10,
    "start_time": "2022-06-08T20:32:14.462Z"
   },
   {
    "duration": 81,
    "start_time": "2022-06-08T20:32:16.738Z"
   },
   {
    "duration": 9,
    "start_time": "2022-06-08T20:32:17.612Z"
   },
   {
    "duration": 3,
    "start_time": "2022-06-08T20:32:17.910Z"
   },
   {
    "duration": 15,
    "start_time": "2022-06-08T20:32:19.942Z"
   },
   {
    "duration": 16,
    "start_time": "2022-06-08T20:32:45.580Z"
   },
   {
    "duration": 32,
    "start_time": "2022-06-08T20:32:54.528Z"
   },
   {
    "duration": 33,
    "start_time": "2022-06-08T20:33:09.136Z"
   },
   {
    "duration": 9,
    "start_time": "2022-06-08T20:33:23.371Z"
   },
   {
    "duration": 7,
    "start_time": "2022-06-08T20:33:34.211Z"
   },
   {
    "duration": 30,
    "start_time": "2022-06-08T20:35:49.906Z"
   },
   {
    "duration": 13,
    "start_time": "2022-06-08T20:35:54.601Z"
   },
   {
    "duration": 24,
    "start_time": "2022-06-08T20:36:00.510Z"
   },
   {
    "duration": 46,
    "start_time": "2022-06-08T20:37:26.838Z"
   },
   {
    "duration": 42,
    "start_time": "2022-06-08T20:37:30.101Z"
   },
   {
    "duration": 55,
    "start_time": "2022-06-08T20:37:32.503Z"
   },
   {
    "duration": 18,
    "start_time": "2022-06-08T20:39:44.414Z"
   },
   {
    "duration": 15,
    "start_time": "2022-06-08T20:39:58.322Z"
   },
   {
    "duration": 18,
    "start_time": "2022-06-08T20:40:11.840Z"
   },
   {
    "duration": 36,
    "start_time": "2022-06-08T20:46:29.638Z"
   },
   {
    "duration": 3801,
    "start_time": "2022-06-08T20:46:51.581Z"
   },
   {
    "duration": 1325,
    "start_time": "2022-06-08T20:47:18.050Z"
   },
   {
    "duration": 1351,
    "start_time": "2022-06-08T20:47:21.811Z"
   },
   {
    "duration": 15,
    "start_time": "2022-06-08T20:47:59.822Z"
   },
   {
    "duration": 1553,
    "start_time": "2022-06-08T20:48:15.610Z"
   },
   {
    "duration": 1419,
    "start_time": "2022-06-08T20:48:20.718Z"
   },
   {
    "duration": 492,
    "start_time": "2022-06-08T20:48:29.216Z"
   },
   {
    "duration": 308,
    "start_time": "2022-06-08T20:48:33.553Z"
   },
   {
    "duration": 187,
    "start_time": "2022-06-08T20:49:05.595Z"
   },
   {
    "duration": 187,
    "start_time": "2022-06-08T20:49:23.327Z"
   },
   {
    "duration": 5,
    "start_time": "2022-06-08T20:50:19.743Z"
   },
   {
    "duration": 5,
    "start_time": "2022-06-08T20:50:24.402Z"
   },
   {
    "duration": 195,
    "start_time": "2022-06-08T20:50:45.894Z"
   },
   {
    "duration": 212,
    "start_time": "2022-06-08T20:50:54.875Z"
   },
   {
    "duration": 195,
    "start_time": "2022-06-08T20:51:01.040Z"
   },
   {
    "duration": 206,
    "start_time": "2022-06-08T20:51:14.715Z"
   },
   {
    "duration": 28,
    "start_time": "2022-06-08T20:53:10.010Z"
   },
   {
    "duration": 16,
    "start_time": "2022-06-08T20:53:18.560Z"
   },
   {
    "duration": 23,
    "start_time": "2022-06-08T20:53:45.362Z"
   },
   {
    "duration": 29,
    "start_time": "2022-06-08T20:54:01.075Z"
   },
   {
    "duration": 31,
    "start_time": "2022-06-08T20:54:19.810Z"
   },
   {
    "duration": 19,
    "start_time": "2022-06-08T20:55:48.671Z"
   },
   {
    "duration": 14,
    "start_time": "2022-06-08T20:56:01.090Z"
   },
   {
    "duration": 17,
    "start_time": "2022-06-08T20:56:28.866Z"
   },
   {
    "duration": 9,
    "start_time": "2022-06-08T20:56:35.192Z"
   },
   {
    "duration": 12,
    "start_time": "2022-06-08T20:56:40.029Z"
   },
   {
    "duration": 37,
    "start_time": "2022-06-08T20:57:00.653Z"
   },
   {
    "duration": 27,
    "start_time": "2022-06-08T20:57:44.618Z"
   },
   {
    "duration": 9,
    "start_time": "2022-06-08T20:58:21.621Z"
   },
   {
    "duration": 8,
    "start_time": "2022-06-08T20:58:36.584Z"
   },
   {
    "duration": 20,
    "start_time": "2022-06-08T21:00:00.115Z"
   },
   {
    "duration": 17,
    "start_time": "2022-06-08T21:00:29.904Z"
   },
   {
    "duration": 12,
    "start_time": "2022-06-08T21:00:42.634Z"
   },
   {
    "duration": 11,
    "start_time": "2022-06-08T21:01:50.844Z"
   },
   {
    "duration": 15,
    "start_time": "2022-06-08T21:01:55.245Z"
   },
   {
    "duration": 10,
    "start_time": "2022-06-08T21:02:03.695Z"
   },
   {
    "duration": 10,
    "start_time": "2022-06-08T21:02:09.759Z"
   },
   {
    "duration": 14,
    "start_time": "2022-06-08T21:02:51.904Z"
   },
   {
    "duration": 8,
    "start_time": "2022-06-08T21:02:59.900Z"
   },
   {
    "duration": 9,
    "start_time": "2022-06-08T21:03:43.367Z"
   },
   {
    "duration": 28,
    "start_time": "2022-06-08T21:04:01.592Z"
   },
   {
    "duration": 8,
    "start_time": "2022-06-08T21:05:02.064Z"
   },
   {
    "duration": 4,
    "start_time": "2022-06-08T21:06:44.533Z"
   },
   {
    "duration": 7,
    "start_time": "2022-06-08T21:06:48.478Z"
   },
   {
    "duration": 6,
    "start_time": "2022-06-08T21:06:54.201Z"
   },
   {
    "duration": 15,
    "start_time": "2022-06-08T21:09:37.936Z"
   },
   {
    "duration": 5,
    "start_time": "2022-06-08T21:10:01.983Z"
   },
   {
    "duration": 8,
    "start_time": "2022-06-08T21:10:20.648Z"
   },
   {
    "duration": 13,
    "start_time": "2022-06-08T21:10:30.320Z"
   },
   {
    "duration": 6,
    "start_time": "2022-06-08T21:10:41.809Z"
   },
   {
    "duration": 5,
    "start_time": "2022-06-08T21:11:17.799Z"
   },
   {
    "duration": 8,
    "start_time": "2022-06-08T21:11:35.724Z"
   },
   {
    "duration": 5,
    "start_time": "2022-06-08T21:11:49.432Z"
   },
   {
    "duration": 5,
    "start_time": "2022-06-08T21:12:35.770Z"
   },
   {
    "duration": 15,
    "start_time": "2022-06-08T21:16:51.918Z"
   },
   {
    "duration": 11,
    "start_time": "2022-06-08T21:17:16.581Z"
   },
   {
    "duration": 23,
    "start_time": "2022-06-08T21:17:24.501Z"
   },
   {
    "duration": 267,
    "start_time": "2022-06-08T21:19:13.287Z"
   },
   {
    "duration": 278,
    "start_time": "2022-06-08T21:19:48.976Z"
   },
   {
    "duration": 9,
    "start_time": "2022-06-08T21:19:59.637Z"
   },
   {
    "duration": 9,
    "start_time": "2022-06-08T21:20:15.742Z"
   },
   {
    "duration": 22,
    "start_time": "2022-06-08T21:20:41.779Z"
   },
   {
    "duration": 29,
    "start_time": "2022-06-08T21:20:47.937Z"
   },
   {
    "duration": 47,
    "start_time": "2022-06-08T21:21:06.404Z"
   },
   {
    "duration": 37,
    "start_time": "2022-06-08T21:21:25.368Z"
   },
   {
    "duration": 11,
    "start_time": "2022-06-08T21:21:30.413Z"
   },
   {
    "duration": 41,
    "start_time": "2022-06-08T21:22:10.261Z"
   },
   {
    "duration": 11,
    "start_time": "2022-06-08T21:22:10.855Z"
   },
   {
    "duration": 111,
    "start_time": "2022-06-08T21:22:34.806Z"
   },
   {
    "duration": 109,
    "start_time": "2022-06-08T21:22:55.506Z"
   },
   {
    "duration": 39,
    "start_time": "2022-06-08T21:23:14.125Z"
   },
   {
    "duration": 35,
    "start_time": "2022-06-08T21:23:50.346Z"
   },
   {
    "duration": 15,
    "start_time": "2022-06-08T21:28:10.270Z"
   },
   {
    "duration": 30,
    "start_time": "2022-06-08T21:28:13.732Z"
   },
   {
    "duration": 30,
    "start_time": "2022-06-08T21:37:32.273Z"
   },
   {
    "duration": 11,
    "start_time": "2022-06-08T21:37:33.034Z"
   },
   {
    "duration": 7,
    "start_time": "2022-06-08T21:39:21.817Z"
   },
   {
    "duration": 13,
    "start_time": "2022-06-08T21:39:29.057Z"
   },
   {
    "duration": 11,
    "start_time": "2022-06-08T21:39:35.359Z"
   },
   {
    "duration": 7,
    "start_time": "2022-06-08T21:41:36.201Z"
   },
   {
    "duration": 15,
    "start_time": "2022-06-08T21:41:47.300Z"
   },
   {
    "duration": 5,
    "start_time": "2022-06-08T21:41:59.511Z"
   },
   {
    "duration": 13,
    "start_time": "2022-06-08T21:42:00.667Z"
   },
   {
    "duration": 12,
    "start_time": "2022-06-08T21:42:20.225Z"
   },
   {
    "duration": 11,
    "start_time": "2022-06-08T21:42:21.164Z"
   },
   {
    "duration": 6,
    "start_time": "2022-06-08T21:42:24.009Z"
   },
   {
    "duration": 10,
    "start_time": "2022-06-08T21:42:24.368Z"
   },
   {
    "duration": 13,
    "start_time": "2022-06-08T21:42:32.514Z"
   },
   {
    "duration": 11,
    "start_time": "2022-06-08T21:43:34.138Z"
   },
   {
    "duration": 12,
    "start_time": "2022-06-08T21:44:14.022Z"
   },
   {
    "duration": 25,
    "start_time": "2022-06-08T21:44:46.770Z"
   },
   {
    "duration": 14,
    "start_time": "2022-06-08T21:45:28.687Z"
   },
   {
    "duration": 7,
    "start_time": "2022-06-08T21:46:06.836Z"
   },
   {
    "duration": 7,
    "start_time": "2022-06-08T21:46:10.667Z"
   },
   {
    "duration": 10,
    "start_time": "2022-06-08T21:46:14.335Z"
   },
   {
    "duration": 8,
    "start_time": "2022-06-08T21:46:37.165Z"
   },
   {
    "duration": 9,
    "start_time": "2022-06-08T21:46:49.104Z"
   },
   {
    "duration": 9,
    "start_time": "2022-06-08T21:47:28.855Z"
   },
   {
    "duration": 5,
    "start_time": "2022-06-08T21:49:04.846Z"
   },
   {
    "duration": 16,
    "start_time": "2022-06-08T21:49:08.860Z"
   },
   {
    "duration": 13,
    "start_time": "2022-06-08T21:49:19.646Z"
   },
   {
    "duration": 5,
    "start_time": "2022-06-08T21:50:20.711Z"
   },
   {
    "duration": 15,
    "start_time": "2022-06-08T21:50:21.033Z"
   },
   {
    "duration": 12,
    "start_time": "2022-06-08T21:50:22.004Z"
   },
   {
    "duration": 6,
    "start_time": "2022-06-08T21:50:28.036Z"
   },
   {
    "duration": 13,
    "start_time": "2022-06-08T21:50:34.908Z"
   },
   {
    "duration": 7,
    "start_time": "2022-06-08T21:52:27.946Z"
   },
   {
    "duration": 5,
    "start_time": "2022-06-08T21:53:24.892Z"
   },
   {
    "duration": 24,
    "start_time": "2022-06-08T21:53:30.641Z"
   },
   {
    "duration": 6,
    "start_time": "2022-06-08T21:53:56.903Z"
   },
   {
    "duration": 26,
    "start_time": "2022-06-08T21:54:03.454Z"
   },
   {
    "duration": 6,
    "start_time": "2022-06-08T21:55:05.769Z"
   },
   {
    "duration": 21,
    "start_time": "2022-06-08T21:55:46.728Z"
   },
   {
    "duration": 39,
    "start_time": "2022-06-08T21:57:25.819Z"
   },
   {
    "duration": 32,
    "start_time": "2022-06-08T21:57:27.822Z"
   },
   {
    "duration": 15,
    "start_time": "2022-06-08T21:57:29.935Z"
   },
   {
    "duration": 15,
    "start_time": "2022-06-08T21:57:30.830Z"
   },
   {
    "duration": 18,
    "start_time": "2022-06-08T21:57:37.007Z"
   },
   {
    "duration": 4,
    "start_time": "2022-06-08T21:58:04.695Z"
   },
   {
    "duration": 5,
    "start_time": "2022-06-08T21:58:08.651Z"
   },
   {
    "duration": 4,
    "start_time": "2022-06-08T21:58:21.817Z"
   },
   {
    "duration": 23,
    "start_time": "2022-06-08T21:58:25.900Z"
   },
   {
    "duration": 7,
    "start_time": "2022-06-08T21:59:55.109Z"
   },
   {
    "duration": 22,
    "start_time": "2022-06-08T21:59:56.039Z"
   },
   {
    "duration": 5,
    "start_time": "2022-06-08T22:33:15.080Z"
   },
   {
    "duration": 25,
    "start_time": "2022-06-08T22:33:19.761Z"
   },
   {
    "duration": 5,
    "start_time": "2022-06-08T22:34:12.193Z"
   },
   {
    "duration": 16,
    "start_time": "2022-06-08T22:34:12.556Z"
   },
   {
    "duration": 12,
    "start_time": "2022-06-08T22:34:13.224Z"
   },
   {
    "duration": 11,
    "start_time": "2022-06-08T22:34:20.472Z"
   },
   {
    "duration": 5,
    "start_time": "2022-06-08T22:34:24.739Z"
   },
   {
    "duration": 12,
    "start_time": "2022-06-08T22:34:26.035Z"
   },
   {
    "duration": 18,
    "start_time": "2022-06-08T22:34:29.007Z"
   },
   {
    "duration": 6,
    "start_time": "2022-06-08T22:34:32.398Z"
   },
   {
    "duration": 5,
    "start_time": "2022-06-08T22:34:32.725Z"
   },
   {
    "duration": 5,
    "start_time": "2022-06-08T22:34:33.035Z"
   },
   {
    "duration": 5,
    "start_time": "2022-06-08T22:34:33.421Z"
   },
   {
    "duration": 23,
    "start_time": "2022-06-08T22:34:34.076Z"
   },
   {
    "duration": 189,
    "start_time": "2022-06-08T22:41:21.101Z"
   },
   {
    "duration": 141,
    "start_time": "2022-06-08T22:41:31.418Z"
   },
   {
    "duration": 2861,
    "start_time": "2022-06-08T22:41:36.541Z"
   },
   {
    "duration": 1452,
    "start_time": "2022-06-08T22:41:52.307Z"
   },
   {
    "duration": 381,
    "start_time": "2022-06-08T22:42:09.347Z"
   },
   {
    "duration": 53,
    "start_time": "2022-06-08T22:42:53.048Z"
   },
   {
    "duration": 34,
    "start_time": "2022-06-08T22:42:53.987Z"
   },
   {
    "duration": 44,
    "start_time": "2022-06-08T22:42:56.071Z"
   },
   {
    "duration": 7,
    "start_time": "2022-06-08T22:42:56.642Z"
   },
   {
    "duration": 21,
    "start_time": "2022-06-08T22:42:56.913Z"
   },
   {
    "duration": 15,
    "start_time": "2022-06-08T22:42:58.224Z"
   },
   {
    "duration": 21,
    "start_time": "2022-06-08T22:43:00.876Z"
   },
   {
    "duration": 14,
    "start_time": "2022-06-08T22:43:03.181Z"
   },
   {
    "duration": 6,
    "start_time": "2022-06-08T22:43:05.174Z"
   },
   {
    "duration": 12,
    "start_time": "2022-06-08T22:43:05.451Z"
   },
   {
    "duration": 20,
    "start_time": "2022-06-08T22:43:07.592Z"
   },
   {
    "duration": 5,
    "start_time": "2022-06-08T22:43:11.693Z"
   },
   {
    "duration": 5,
    "start_time": "2022-06-08T22:43:11.990Z"
   },
   {
    "duration": 6,
    "start_time": "2022-06-08T22:43:12.238Z"
   },
   {
    "duration": 6,
    "start_time": "2022-06-08T22:43:12.646Z"
   },
   {
    "duration": 37,
    "start_time": "2022-06-08T22:43:13.538Z"
   },
   {
    "duration": 331,
    "start_time": "2022-06-08T22:43:16.673Z"
   },
   {
    "duration": 231,
    "start_time": "2022-06-08T22:43:25.796Z"
   },
   {
    "duration": 46,
    "start_time": "2022-06-08T22:44:18.797Z"
   },
   {
    "duration": 19,
    "start_time": "2022-06-08T22:44:30.714Z"
   },
   {
    "duration": 2652,
    "start_time": "2022-06-08T22:44:54.039Z"
   },
   {
    "duration": 340,
    "start_time": "2022-06-08T22:45:18.354Z"
   },
   {
    "duration": 1642,
    "start_time": "2022-06-08T22:45:23.675Z"
   },
   {
    "duration": 548,
    "start_time": "2022-06-08T22:45:29.812Z"
   },
   {
    "duration": 253,
    "start_time": "2022-06-08T22:45:39.222Z"
   },
   {
    "duration": 196,
    "start_time": "2022-06-08T22:45:48.770Z"
   },
   {
    "duration": 289,
    "start_time": "2022-06-08T22:45:51.729Z"
   },
   {
    "duration": 12,
    "start_time": "2022-06-08T22:47:00.149Z"
   },
   {
    "duration": 11,
    "start_time": "2022-06-08T22:47:18.216Z"
   },
   {
    "duration": 3,
    "start_time": "2022-06-08T22:47:47.956Z"
   },
   {
    "duration": 8,
    "start_time": "2022-06-08T22:48:42.796Z"
   },
   {
    "duration": 184,
    "start_time": "2022-06-08T22:49:11.180Z"
   },
   {
    "duration": 168,
    "start_time": "2022-06-08T22:49:20.764Z"
   },
   {
    "duration": 184,
    "start_time": "2022-06-08T22:49:27.691Z"
   },
   {
    "duration": 9,
    "start_time": "2022-06-08T22:50:05.777Z"
   },
   {
    "duration": 11,
    "start_time": "2022-06-08T22:50:48.144Z"
   },
   {
    "duration": 277,
    "start_time": "2022-06-08T22:51:37.996Z"
   },
   {
    "duration": 726,
    "start_time": "2022-06-08T22:51:42.617Z"
   },
   {
    "duration": 301,
    "start_time": "2022-06-08T22:51:58.570Z"
   },
   {
    "duration": 284,
    "start_time": "2022-06-08T22:52:08.685Z"
   },
   {
    "duration": 275,
    "start_time": "2022-06-08T22:52:15.995Z"
   },
   {
    "duration": 227,
    "start_time": "2022-06-08T22:52:29.799Z"
   },
   {
    "duration": 274,
    "start_time": "2022-06-08T22:52:39.065Z"
   },
   {
    "duration": 204,
    "start_time": "2022-06-08T22:52:41.243Z"
   },
   {
    "duration": 3366,
    "start_time": "2022-06-08T22:52:48.696Z"
   },
   {
    "duration": 441,
    "start_time": "2022-06-08T22:52:55.506Z"
   },
   {
    "duration": 236,
    "start_time": "2022-06-08T22:53:03.841Z"
   },
   {
    "duration": 203,
    "start_time": "2022-06-08T22:53:23.576Z"
   },
   {
    "duration": 154,
    "start_time": "2022-06-08T22:53:27.982Z"
   },
   {
    "duration": 247,
    "start_time": "2022-06-08T22:53:33.818Z"
   },
   {
    "duration": 205,
    "start_time": "2022-06-08T22:53:37.989Z"
   },
   {
    "duration": 181,
    "start_time": "2022-06-08T22:53:51.128Z"
   },
   {
    "duration": 192,
    "start_time": "2022-06-08T22:54:33.426Z"
   },
   {
    "duration": 235,
    "start_time": "2022-06-08T22:54:44.114Z"
   },
   {
    "duration": 189,
    "start_time": "2022-06-08T22:54:45.849Z"
   },
   {
    "duration": 191,
    "start_time": "2022-06-08T22:54:47.396Z"
   },
   {
    "duration": 7,
    "start_time": "2022-06-08T22:54:49.375Z"
   },
   {
    "duration": 167,
    "start_time": "2022-06-08T22:55:50.351Z"
   },
   {
    "duration": 193,
    "start_time": "2022-06-08T22:55:54.776Z"
   },
   {
    "duration": 182,
    "start_time": "2022-06-08T22:55:59.630Z"
   },
   {
    "duration": 198,
    "start_time": "2022-06-08T22:56:04.330Z"
   },
   {
    "duration": 341,
    "start_time": "2022-06-08T22:56:08.281Z"
   },
   {
    "duration": 330,
    "start_time": "2022-06-08T22:56:23.660Z"
   },
   {
    "duration": 180,
    "start_time": "2022-06-08T22:56:28.145Z"
   },
   {
    "duration": 26,
    "start_time": "2022-06-08T22:57:42.132Z"
   },
   {
    "duration": 177,
    "start_time": "2022-06-08T23:00:46.411Z"
   },
   {
    "duration": 144,
    "start_time": "2022-06-08T23:02:09.923Z"
   },
   {
    "duration": 94,
    "start_time": "2022-06-08T23:02:23.848Z"
   },
   {
    "duration": 97,
    "start_time": "2022-06-08T23:02:27.880Z"
   },
   {
    "duration": 288,
    "start_time": "2022-06-08T23:06:19.784Z"
   },
   {
    "duration": 270,
    "start_time": "2022-06-08T23:07:39.559Z"
   },
   {
    "duration": 328,
    "start_time": "2022-06-08T23:08:04.811Z"
   },
   {
    "duration": 1617,
    "start_time": "2022-06-08T23:08:11.808Z"
   },
   {
    "duration": 479,
    "start_time": "2022-06-08T23:08:26.274Z"
   },
   {
    "duration": 463,
    "start_time": "2022-06-08T23:08:42.728Z"
   },
   {
    "duration": 524,
    "start_time": "2022-06-08T23:08:56.639Z"
   },
   {
    "duration": 316,
    "start_time": "2022-06-08T23:09:45.827Z"
   },
   {
    "duration": 320,
    "start_time": "2022-06-08T23:09:57.652Z"
   },
   {
    "duration": 452,
    "start_time": "2022-06-08T23:10:38.056Z"
   },
   {
    "duration": 300,
    "start_time": "2022-06-08T23:10:45.127Z"
   },
   {
    "duration": 6,
    "start_time": "2022-06-08T23:13:28.178Z"
   },
   {
    "duration": 383,
    "start_time": "2022-06-08T23:14:06.016Z"
   },
   {
    "duration": 6,
    "start_time": "2022-06-08T23:14:12.905Z"
   },
   {
    "duration": 49,
    "start_time": "2022-06-08T23:14:29.315Z"
   },
   {
    "duration": 25,
    "start_time": "2022-06-08T23:14:54.755Z"
   },
   {
    "duration": 8,
    "start_time": "2022-06-08T23:15:17.820Z"
   },
   {
    "duration": 8,
    "start_time": "2022-06-08T23:15:20.262Z"
   },
   {
    "duration": 6,
    "start_time": "2022-06-08T23:15:24.282Z"
   },
   {
    "duration": 4,
    "start_time": "2022-06-08T23:15:44.225Z"
   },
   {
    "duration": 4,
    "start_time": "2022-06-08T23:15:52.010Z"
   },
   {
    "duration": 6,
    "start_time": "2022-06-08T23:16:28.636Z"
   },
   {
    "duration": 7,
    "start_time": "2022-06-08T23:17:40.903Z"
   },
   {
    "duration": 20,
    "start_time": "2022-06-08T23:17:41.284Z"
   },
   {
    "duration": 14,
    "start_time": "2022-06-08T23:17:41.732Z"
   },
   {
    "duration": 6,
    "start_time": "2022-06-08T23:17:48.738Z"
   },
   {
    "duration": 12,
    "start_time": "2022-06-08T23:17:49.114Z"
   },
   {
    "duration": 19,
    "start_time": "2022-06-08T23:17:51.939Z"
   },
   {
    "duration": 5,
    "start_time": "2022-06-08T23:17:54.945Z"
   },
   {
    "duration": 5,
    "start_time": "2022-06-08T23:17:55.239Z"
   },
   {
    "duration": 6,
    "start_time": "2022-06-08T23:17:55.504Z"
   },
   {
    "duration": 5,
    "start_time": "2022-06-08T23:17:55.797Z"
   },
   {
    "duration": 24,
    "start_time": "2022-06-08T23:17:59.079Z"
   },
   {
    "duration": 476,
    "start_time": "2022-06-08T23:18:01.779Z"
   },
   {
    "duration": 315,
    "start_time": "2022-06-08T23:18:04.916Z"
   },
   {
    "duration": 305,
    "start_time": "2022-06-08T23:18:05.778Z"
   },
   {
    "duration": 344,
    "start_time": "2022-06-08T23:18:09.995Z"
   },
   {
    "duration": 7,
    "start_time": "2022-06-08T23:18:12.103Z"
   },
   {
    "duration": 8,
    "start_time": "2022-06-08T23:18:56.510Z"
   },
   {
    "duration": 338,
    "start_time": "2022-06-08T23:21:53.949Z"
   },
   {
    "duration": 8,
    "start_time": "2022-06-08T23:22:07.486Z"
   },
   {
    "duration": 8,
    "start_time": "2022-06-08T23:22:51.034Z"
   },
   {
    "duration": 476,
    "start_time": "2022-06-08T23:31:14.544Z"
   },
   {
    "duration": 42,
    "start_time": "2022-06-08T23:31:27.139Z"
   },
   {
    "duration": 484,
    "start_time": "2022-06-09T00:05:56.141Z"
   },
   {
    "duration": 1053,
    "start_time": "2022-06-09T00:06:13.020Z"
   },
   {
    "duration": 529,
    "start_time": "2022-06-09T00:06:25.399Z"
   },
   {
    "duration": 354,
    "start_time": "2022-06-09T00:40:10.078Z"
   },
   {
    "duration": 1273,
    "start_time": "2022-06-09T08:53:35.696Z"
   },
   {
    "duration": 950,
    "start_time": "2022-06-09T08:53:36.971Z"
   },
   {
    "duration": 32,
    "start_time": "2022-06-09T08:53:37.923Z"
   },
   {
    "duration": 18,
    "start_time": "2022-06-09T08:53:37.957Z"
   },
   {
    "duration": 51,
    "start_time": "2022-06-09T08:53:37.977Z"
   },
   {
    "duration": 328,
    "start_time": "2022-06-09T08:53:38.031Z"
   },
   {
    "duration": 21,
    "start_time": "2022-06-09T08:53:38.360Z"
   },
   {
    "duration": 8,
    "start_time": "2022-06-09T08:53:38.383Z"
   },
   {
    "duration": 53,
    "start_time": "2022-06-09T08:53:38.393Z"
   },
   {
    "duration": 299,
    "start_time": "2022-06-09T08:53:38.449Z"
   },
   {
    "duration": 19,
    "start_time": "2022-06-09T08:53:38.750Z"
   },
   {
    "duration": 8,
    "start_time": "2022-06-09T08:53:38.770Z"
   },
   {
    "duration": 19,
    "start_time": "2022-06-09T08:53:38.780Z"
   },
   {
    "duration": 12,
    "start_time": "2022-06-09T08:53:38.822Z"
   },
   {
    "duration": 12,
    "start_time": "2022-06-09T08:53:38.835Z"
   },
   {
    "duration": 14,
    "start_time": "2022-06-09T08:53:38.848Z"
   },
   {
    "duration": 15,
    "start_time": "2022-06-09T08:53:38.863Z"
   },
   {
    "duration": 107,
    "start_time": "2022-06-09T08:53:38.880Z"
   },
   {
    "duration": 12,
    "start_time": "2022-06-09T08:53:38.989Z"
   },
   {
    "duration": 20,
    "start_time": "2022-06-09T08:53:39.003Z"
   },
   {
    "duration": 8,
    "start_time": "2022-06-09T08:53:39.025Z"
   },
   {
    "duration": 8,
    "start_time": "2022-06-09T08:53:39.035Z"
   },
   {
    "duration": 6,
    "start_time": "2022-06-09T08:53:39.045Z"
   },
   {
    "duration": 78,
    "start_time": "2022-06-09T08:53:39.053Z"
   },
   {
    "duration": 30,
    "start_time": "2022-06-09T08:53:39.133Z"
   },
   {
    "duration": 33,
    "start_time": "2022-06-09T08:53:39.165Z"
   },
   {
    "duration": 26,
    "start_time": "2022-06-09T08:53:39.200Z"
   },
   {
    "duration": 24,
    "start_time": "2022-06-09T08:53:39.230Z"
   },
   {
    "duration": 14,
    "start_time": "2022-06-09T08:53:39.256Z"
   },
   {
    "duration": 13,
    "start_time": "2022-06-09T08:53:39.272Z"
   },
   {
    "duration": 40,
    "start_time": "2022-06-09T08:53:39.287Z"
   },
   {
    "duration": 8,
    "start_time": "2022-06-09T08:53:39.328Z"
   },
   {
    "duration": 17,
    "start_time": "2022-06-09T08:53:39.338Z"
   },
   {
    "duration": 10,
    "start_time": "2022-06-09T08:53:39.357Z"
   },
   {
    "duration": 12,
    "start_time": "2022-06-09T08:53:39.369Z"
   },
   {
    "duration": 509,
    "start_time": "2022-06-09T08:53:39.384Z"
   },
   {
    "duration": 456,
    "start_time": "2022-06-09T08:53:39.895Z"
   },
   {
    "duration": 353,
    "start_time": "2022-06-09T08:53:40.353Z"
   },
   {
    "duration": 361,
    "start_time": "2022-06-09T08:53:40.708Z"
   },
   {
    "duration": 6,
    "start_time": "2022-06-09T08:53:41.071Z"
   },
   {
    "duration": 9,
    "start_time": "2022-06-09T08:53:41.079Z"
   },
   {
    "duration": 372,
    "start_time": "2022-06-09T08:53:41.090Z"
   },
   {
    "duration": 9,
    "start_time": "2022-06-09T08:53:41.463Z"
   },
   {
    "duration": 116,
    "start_time": "2022-06-09T08:58:59.975Z"
   },
   {
    "duration": 9,
    "start_time": "2022-06-09T08:59:48.601Z"
   },
   {
    "duration": 7,
    "start_time": "2022-06-09T09:00:12.192Z"
   },
   {
    "duration": 10,
    "start_time": "2022-06-09T09:03:04.443Z"
   },
   {
    "duration": 9,
    "start_time": "2022-06-09T09:04:54.475Z"
   },
   {
    "duration": 9,
    "start_time": "2022-06-09T09:05:31.721Z"
   },
   {
    "duration": 12,
    "start_time": "2022-06-09T09:09:45.830Z"
   },
   {
    "duration": 9,
    "start_time": "2022-06-09T09:09:52.914Z"
   },
   {
    "duration": 39,
    "start_time": "2022-06-09T09:24:52.658Z"
   },
   {
    "duration": 425,
    "start_time": "2022-06-09T09:27:10.337Z"
   },
   {
    "duration": 12,
    "start_time": "2022-06-09T09:27:41.217Z"
   },
   {
    "duration": 11,
    "start_time": "2022-06-09T09:27:47.179Z"
   },
   {
    "duration": 19,
    "start_time": "2022-06-09T09:29:12.120Z"
   },
   {
    "duration": 10,
    "start_time": "2022-06-09T09:32:55.055Z"
   },
   {
    "duration": 8,
    "start_time": "2022-06-09T09:33:58.583Z"
   },
   {
    "duration": 9,
    "start_time": "2022-06-09T09:34:32.985Z"
   },
   {
    "duration": 356,
    "start_time": "2022-06-09T09:37:18.189Z"
   },
   {
    "duration": 518,
    "start_time": "2022-06-09T09:37:27.646Z"
   },
   {
    "duration": 472,
    "start_time": "2022-06-09T09:37:50.632Z"
   },
   {
    "duration": 10,
    "start_time": "2022-06-09T09:39:22.632Z"
   },
   {
    "duration": 20,
    "start_time": "2022-06-09T09:40:41.798Z"
   },
   {
    "duration": 22,
    "start_time": "2022-06-09T09:40:54.895Z"
   },
   {
    "duration": 395,
    "start_time": "2022-06-09T09:42:34.563Z"
   },
   {
    "duration": 379,
    "start_time": "2022-06-09T09:43:46.329Z"
   },
   {
    "duration": 381,
    "start_time": "2022-06-09T09:46:14.791Z"
   },
   {
    "duration": 3,
    "start_time": "2022-06-09T09:54:52.432Z"
   },
   {
    "duration": 3,
    "start_time": "2022-06-09T09:55:04.430Z"
   },
   {
    "duration": 438,
    "start_time": "2022-06-09T09:55:05.919Z"
   },
   {
    "duration": 389,
    "start_time": "2022-06-09T09:55:13.968Z"
   },
   {
    "duration": 7,
    "start_time": "2022-06-09T09:55:14.826Z"
   },
   {
    "duration": 6,
    "start_time": "2022-06-09T09:56:11.084Z"
   },
   {
    "duration": 10,
    "start_time": "2022-06-09T10:01:12.011Z"
   },
   {
    "duration": 6,
    "start_time": "2022-06-09T10:01:12.634Z"
   },
   {
    "duration": 7,
    "start_time": "2022-06-09T10:01:15.563Z"
   },
   {
    "duration": 5,
    "start_time": "2022-06-09T10:01:15.911Z"
   },
   {
    "duration": 12,
    "start_time": "2022-06-09T10:09:32.679Z"
   },
   {
    "duration": 10,
    "start_time": "2022-06-09T10:09:41.089Z"
   },
   {
    "duration": 21,
    "start_time": "2022-06-09T10:09:55.478Z"
   },
   {
    "duration": 32,
    "start_time": "2022-06-09T10:12:55.470Z"
   },
   {
    "duration": 25,
    "start_time": "2022-06-09T10:16:04.246Z"
   },
   {
    "duration": 27,
    "start_time": "2022-06-09T10:17:55.059Z"
   },
   {
    "duration": 11,
    "start_time": "2022-06-09T10:17:58.471Z"
   },
   {
    "duration": 15,
    "start_time": "2022-06-09T10:18:01.789Z"
   },
   {
    "duration": 13,
    "start_time": "2022-06-09T10:18:04.670Z"
   },
   {
    "duration": 168,
    "start_time": "2022-06-09T10:19:15.267Z"
   },
   {
    "duration": 35,
    "start_time": "2022-06-09T10:19:32.778Z"
   },
   {
    "duration": 10,
    "start_time": "2022-06-09T10:19:33.177Z"
   },
   {
    "duration": 15,
    "start_time": "2022-06-09T10:19:36.198Z"
   },
   {
    "duration": 12,
    "start_time": "2022-06-09T10:20:22.230Z"
   },
   {
    "duration": 9,
    "start_time": "2022-06-09T10:21:58.579Z"
   },
   {
    "duration": 3,
    "start_time": "2022-06-09T10:22:06.577Z"
   },
   {
    "duration": 454,
    "start_time": "2022-06-09T10:22:06.882Z"
   },
   {
    "duration": 27,
    "start_time": "2022-06-09T10:22:07.438Z"
   },
   {
    "duration": 10,
    "start_time": "2022-06-09T10:22:07.467Z"
   },
   {
    "duration": 28,
    "start_time": "2022-06-09T10:22:07.494Z"
   },
   {
    "duration": 289,
    "start_time": "2022-06-09T10:22:07.539Z"
   },
   {
    "duration": 23,
    "start_time": "2022-06-09T10:22:07.831Z"
   },
   {
    "duration": 9,
    "start_time": "2022-06-09T10:22:07.855Z"
   },
   {
    "duration": 59,
    "start_time": "2022-06-09T10:22:07.865Z"
   },
   {
    "duration": 319,
    "start_time": "2022-06-09T10:22:07.926Z"
   },
   {
    "duration": 19,
    "start_time": "2022-06-09T10:22:08.247Z"
   },
   {
    "duration": 7,
    "start_time": "2022-06-09T10:22:08.268Z"
   },
   {
    "duration": 18,
    "start_time": "2022-06-09T10:22:08.278Z"
   },
   {
    "duration": 36,
    "start_time": "2022-06-09T10:22:08.298Z"
   },
   {
    "duration": 11,
    "start_time": "2022-06-09T10:22:08.336Z"
   },
   {
    "duration": 14,
    "start_time": "2022-06-09T10:22:08.348Z"
   },
   {
    "duration": 10,
    "start_time": "2022-06-09T10:22:08.364Z"
   },
   {
    "duration": 120,
    "start_time": "2022-06-09T10:22:08.376Z"
   },
   {
    "duration": 8,
    "start_time": "2022-06-09T10:22:08.498Z"
   },
   {
    "duration": 16,
    "start_time": "2022-06-09T10:22:08.508Z"
   },
   {
    "duration": 7,
    "start_time": "2022-06-09T10:22:08.579Z"
   },
   {
    "duration": 8,
    "start_time": "2022-06-09T10:22:08.658Z"
   },
   {
    "duration": 6,
    "start_time": "2022-06-09T10:22:08.684Z"
   },
   {
    "duration": 32,
    "start_time": "2022-06-09T10:22:08.720Z"
   },
   {
    "duration": 10,
    "start_time": "2022-06-09T10:22:08.755Z"
   },
   {
    "duration": 58,
    "start_time": "2022-06-09T10:22:08.851Z"
   },
   {
    "duration": 41,
    "start_time": "2022-06-09T10:22:08.948Z"
   },
   {
    "duration": 41,
    "start_time": "2022-06-09T10:22:09.051Z"
   },
   {
    "duration": 7,
    "start_time": "2022-06-09T10:22:09.152Z"
   },
   {
    "duration": 20,
    "start_time": "2022-06-09T10:22:09.181Z"
   },
   {
    "duration": 15,
    "start_time": "2022-06-09T10:22:09.255Z"
   },
   {
    "duration": 6,
    "start_time": "2022-06-09T10:22:09.310Z"
   },
   {
    "duration": 12,
    "start_time": "2022-06-09T10:22:09.356Z"
   },
   {
    "duration": 5,
    "start_time": "2022-06-09T10:22:09.453Z"
   },
   {
    "duration": 5,
    "start_time": "2022-06-09T10:22:09.477Z"
   },
   {
    "duration": 5,
    "start_time": "2022-06-09T10:22:09.504Z"
   },
   {
    "duration": 6,
    "start_time": "2022-06-09T10:22:09.534Z"
   },
   {
    "duration": 509,
    "start_time": "2022-06-09T10:22:09.614Z"
   },
   {
    "duration": 9,
    "start_time": "2022-06-09T10:22:10.125Z"
   },
   {
    "duration": 401,
    "start_time": "2022-06-09T10:22:10.136Z"
   },
   {
    "duration": 10,
    "start_time": "2022-06-09T10:22:10.540Z"
   },
   {
    "duration": 500,
    "start_time": "2022-06-09T10:22:10.552Z"
   },
   {
    "duration": 11,
    "start_time": "2022-06-09T10:22:11.054Z"
   },
   {
    "duration": 18,
    "start_time": "2022-06-09T10:22:11.067Z"
   },
   {
    "duration": 0,
    "start_time": "2022-06-09T10:22:11.087Z"
   },
   {
    "duration": 0,
    "start_time": "2022-06-09T10:22:11.088Z"
   },
   {
    "duration": 0,
    "start_time": "2022-06-09T10:22:11.089Z"
   },
   {
    "duration": 0,
    "start_time": "2022-06-09T10:22:11.091Z"
   },
   {
    "duration": 0,
    "start_time": "2022-06-09T10:22:11.092Z"
   },
   {
    "duration": 0,
    "start_time": "2022-06-09T10:22:11.093Z"
   },
   {
    "duration": 0,
    "start_time": "2022-06-09T10:22:11.094Z"
   },
   {
    "duration": 16,
    "start_time": "2022-06-09T10:22:32.551Z"
   },
   {
    "duration": 542,
    "start_time": "2022-06-09T10:22:42.508Z"
   },
   {
    "duration": 3,
    "start_time": "2022-06-09T10:22:43.499Z"
   },
   {
    "duration": 371,
    "start_time": "2022-06-09T10:22:44.383Z"
   },
   {
    "duration": 10,
    "start_time": "2022-06-09T10:22:46.647Z"
   },
   {
    "duration": 7,
    "start_time": "2022-06-09T10:22:46.950Z"
   },
   {
    "duration": 395,
    "start_time": "2022-06-09T10:22:52.955Z"
   },
   {
    "duration": 10,
    "start_time": "2022-06-09T10:22:55.398Z"
   },
   {
    "duration": 397,
    "start_time": "2022-06-09T10:22:59.004Z"
   },
   {
    "duration": 1059,
    "start_time": "2022-06-09T11:00:21.615Z"
   },
   {
    "duration": 1018,
    "start_time": "2022-06-09T11:00:22.676Z"
   },
   {
    "duration": 31,
    "start_time": "2022-06-09T11:00:23.696Z"
   },
   {
    "duration": 13,
    "start_time": "2022-06-09T11:00:23.729Z"
   },
   {
    "duration": 37,
    "start_time": "2022-06-09T11:00:23.744Z"
   },
   {
    "duration": 342,
    "start_time": "2022-06-09T11:00:23.782Z"
   },
   {
    "duration": 22,
    "start_time": "2022-06-09T11:00:24.125Z"
   },
   {
    "duration": 13,
    "start_time": "2022-06-09T11:00:24.149Z"
   },
   {
    "duration": 47,
    "start_time": "2022-06-09T11:00:24.163Z"
   },
   {
    "duration": 610,
    "start_time": "2022-06-09T11:00:24.213Z"
   },
   {
    "duration": 79,
    "start_time": "2022-06-09T11:00:24.825Z"
   },
   {
    "duration": 11,
    "start_time": "2022-06-09T11:00:24.906Z"
   },
   {
    "duration": 16,
    "start_time": "2022-06-09T11:00:24.919Z"
   },
   {
    "duration": 64,
    "start_time": "2022-06-09T11:00:24.937Z"
   },
   {
    "duration": 24,
    "start_time": "2022-06-09T11:00:25.003Z"
   },
   {
    "duration": 19,
    "start_time": "2022-06-09T11:00:25.029Z"
   },
   {
    "duration": 58,
    "start_time": "2022-06-09T11:00:25.050Z"
   },
   {
    "duration": 191,
    "start_time": "2022-06-09T11:00:25.110Z"
   },
   {
    "duration": 13,
    "start_time": "2022-06-09T11:00:25.308Z"
   },
   {
    "duration": 9,
    "start_time": "2022-06-09T11:00:25.322Z"
   },
   {
    "duration": 10,
    "start_time": "2022-06-09T11:00:25.332Z"
   },
   {
    "duration": 11,
    "start_time": "2022-06-09T11:00:25.396Z"
   },
   {
    "duration": 9,
    "start_time": "2022-06-09T11:00:25.411Z"
   },
   {
    "duration": 88,
    "start_time": "2022-06-09T11:00:25.422Z"
   },
   {
    "duration": 10,
    "start_time": "2022-06-09T11:00:25.512Z"
   },
   {
    "duration": 17,
    "start_time": "2022-06-09T11:00:25.524Z"
   },
   {
    "duration": 62,
    "start_time": "2022-06-09T11:00:25.543Z"
   },
   {
    "duration": 100,
    "start_time": "2022-06-09T11:00:25.611Z"
   },
   {
    "duration": 29,
    "start_time": "2022-06-09T11:00:25.713Z"
   },
   {
    "duration": 35,
    "start_time": "2022-06-09T11:00:25.799Z"
   },
   {
    "duration": 5,
    "start_time": "2022-06-09T11:00:25.836Z"
   },
   {
    "duration": 70,
    "start_time": "2022-06-09T11:00:25.843Z"
   },
   {
    "duration": 13,
    "start_time": "2022-06-09T11:00:25.915Z"
   },
   {
    "duration": 5,
    "start_time": "2022-06-09T11:00:25.930Z"
   },
   {
    "duration": 62,
    "start_time": "2022-06-09T11:00:25.937Z"
   },
   {
    "duration": 12,
    "start_time": "2022-06-09T11:00:26.001Z"
   },
   {
    "duration": 12,
    "start_time": "2022-06-09T11:00:26.015Z"
   },
   {
    "duration": 8,
    "start_time": "2022-06-09T11:00:26.028Z"
   },
   {
    "duration": 10,
    "start_time": "2022-06-09T11:00:26.038Z"
   },
   {
    "duration": 675,
    "start_time": "2022-06-09T11:00:26.050Z"
   },
   {
    "duration": 9,
    "start_time": "2022-06-09T11:00:26.727Z"
   },
   {
    "duration": 488,
    "start_time": "2022-06-09T11:00:26.738Z"
   },
   {
    "duration": 8,
    "start_time": "2022-06-09T11:00:27.228Z"
   },
   {
    "duration": 398,
    "start_time": "2022-06-09T11:00:27.238Z"
   },
   {
    "duration": 9,
    "start_time": "2022-06-09T11:00:27.637Z"
   },
   {
    "duration": 19,
    "start_time": "2022-06-09T11:00:27.648Z"
   },
   {
    "duration": 447,
    "start_time": "2022-06-09T11:00:27.669Z"
   },
   {
    "duration": 3,
    "start_time": "2022-06-09T11:00:28.117Z"
   },
   {
    "duration": 377,
    "start_time": "2022-06-09T11:00:28.121Z"
   },
   {
    "duration": 103,
    "start_time": "2022-06-09T11:00:28.502Z"
   },
   {
    "duration": 0,
    "start_time": "2022-06-09T11:00:28.607Z"
   },
   {
    "duration": 0,
    "start_time": "2022-06-09T11:00:28.608Z"
   },
   {
    "duration": 0,
    "start_time": "2022-06-09T11:00:28.609Z"
   },
   {
    "duration": 16,
    "start_time": "2022-06-09T11:02:07.796Z"
   },
   {
    "duration": 4,
    "start_time": "2022-06-09T11:04:50.146Z"
   },
   {
    "duration": 13,
    "start_time": "2022-06-09T11:14:49.184Z"
   },
   {
    "duration": 11,
    "start_time": "2022-06-09T11:15:37.320Z"
   },
   {
    "duration": 10,
    "start_time": "2022-06-09T11:15:42.329Z"
   },
   {
    "duration": 403,
    "start_time": "2022-06-09T11:15:49.882Z"
   },
   {
    "duration": 10,
    "start_time": "2022-06-09T11:15:51.673Z"
   },
   {
    "duration": 603,
    "start_time": "2022-06-09T11:23:07.178Z"
   },
   {
    "duration": 4,
    "start_time": "2022-06-09T11:23:08.585Z"
   },
   {
    "duration": 190,
    "start_time": "2022-06-09T11:23:10.632Z"
   },
   {
    "duration": 3,
    "start_time": "2022-06-09T11:23:14.922Z"
   },
   {
    "duration": 5,
    "start_time": "2022-06-09T11:23:21.634Z"
   },
   {
    "duration": 169,
    "start_time": "2022-06-09T11:23:39.292Z"
   },
   {
    "duration": 5,
    "start_time": "2022-06-09T11:24:04.178Z"
   },
   {
    "duration": 1414,
    "start_time": "2022-06-09T11:24:09.798Z"
   },
   {
    "duration": 1165,
    "start_time": "2022-06-09T11:24:17.936Z"
   },
   {
    "duration": 659,
    "start_time": "2022-06-09T11:24:19.103Z"
   },
   {
    "duration": 36,
    "start_time": "2022-06-09T11:24:19.764Z"
   },
   {
    "duration": 27,
    "start_time": "2022-06-09T11:24:19.803Z"
   },
   {
    "duration": 51,
    "start_time": "2022-06-09T11:24:19.838Z"
   },
   {
    "duration": 363,
    "start_time": "2022-06-09T11:24:19.892Z"
   },
   {
    "duration": 21,
    "start_time": "2022-06-09T11:24:20.257Z"
   },
   {
    "duration": 38,
    "start_time": "2022-06-09T11:24:20.280Z"
   },
   {
    "duration": 41,
    "start_time": "2022-06-09T11:24:20.322Z"
   },
   {
    "duration": 313,
    "start_time": "2022-06-09T11:24:20.365Z"
   },
   {
    "duration": 36,
    "start_time": "2022-06-09T11:24:20.679Z"
   },
   {
    "duration": 27,
    "start_time": "2022-06-09T11:24:20.717Z"
   },
   {
    "duration": 21,
    "start_time": "2022-06-09T11:24:20.746Z"
   },
   {
    "duration": 10,
    "start_time": "2022-06-09T11:24:20.769Z"
   },
   {
    "duration": 16,
    "start_time": "2022-06-09T11:24:20.781Z"
   },
   {
    "duration": 13,
    "start_time": "2022-06-09T11:24:20.799Z"
   },
   {
    "duration": 39,
    "start_time": "2022-06-09T11:24:20.813Z"
   },
   {
    "duration": 94,
    "start_time": "2022-06-09T11:24:20.854Z"
   },
   {
    "duration": 9,
    "start_time": "2022-06-09T11:24:20.950Z"
   },
   {
    "duration": 7,
    "start_time": "2022-06-09T11:24:20.961Z"
   },
   {
    "duration": 11,
    "start_time": "2022-06-09T11:24:20.970Z"
   },
   {
    "duration": 22,
    "start_time": "2022-06-09T11:24:20.982Z"
   },
   {
    "duration": 33,
    "start_time": "2022-06-09T11:24:21.005Z"
   },
   {
    "duration": 31,
    "start_time": "2022-06-09T11:24:21.040Z"
   },
   {
    "duration": 8,
    "start_time": "2022-06-09T11:24:21.072Z"
   },
   {
    "duration": 58,
    "start_time": "2022-06-09T11:24:21.082Z"
   },
   {
    "duration": 31,
    "start_time": "2022-06-09T11:24:21.142Z"
   },
   {
    "duration": 50,
    "start_time": "2022-06-09T11:24:21.178Z"
   },
   {
    "duration": 8,
    "start_time": "2022-06-09T11:24:21.230Z"
   },
   {
    "duration": 21,
    "start_time": "2022-06-09T11:24:21.240Z"
   },
   {
    "duration": 12,
    "start_time": "2022-06-09T11:24:21.263Z"
   },
   {
    "duration": 38,
    "start_time": "2022-06-09T11:24:21.276Z"
   },
   {
    "duration": 24,
    "start_time": "2022-06-09T11:24:21.321Z"
   },
   {
    "duration": 7,
    "start_time": "2022-06-09T11:24:21.348Z"
   },
   {
    "duration": 13,
    "start_time": "2022-06-09T11:24:21.357Z"
   },
   {
    "duration": 10,
    "start_time": "2022-06-09T11:24:21.373Z"
   },
   {
    "duration": 9,
    "start_time": "2022-06-09T11:24:21.386Z"
   },
   {
    "duration": 31,
    "start_time": "2022-06-09T11:24:21.401Z"
   },
   {
    "duration": 528,
    "start_time": "2022-06-09T11:24:21.434Z"
   },
   {
    "duration": 11,
    "start_time": "2022-06-09T11:24:21.964Z"
   },
   {
    "duration": 571,
    "start_time": "2022-06-09T11:24:21.977Z"
   },
   {
    "duration": 11,
    "start_time": "2022-06-09T11:24:22.550Z"
   },
   {
    "duration": 402,
    "start_time": "2022-06-09T11:24:22.563Z"
   },
   {
    "duration": 9,
    "start_time": "2022-06-09T11:24:22.967Z"
   },
   {
    "duration": 39,
    "start_time": "2022-06-09T11:24:22.977Z"
   },
   {
    "duration": 463,
    "start_time": "2022-06-09T11:24:23.017Z"
   },
   {
    "duration": 4,
    "start_time": "2022-06-09T11:24:23.483Z"
   },
   {
    "duration": 480,
    "start_time": "2022-06-09T11:24:23.496Z"
   },
   {
    "duration": 143,
    "start_time": "2022-06-09T11:24:23.978Z"
   },
   {
    "duration": 0,
    "start_time": "2022-06-09T11:24:24.125Z"
   },
   {
    "duration": 0,
    "start_time": "2022-06-09T11:24:24.127Z"
   },
   {
    "duration": 0,
    "start_time": "2022-06-09T11:24:24.133Z"
   },
   {
    "duration": 0,
    "start_time": "2022-06-09T11:24:24.139Z"
   },
   {
    "duration": 0,
    "start_time": "2022-06-09T11:24:24.143Z"
   },
   {
    "duration": 0,
    "start_time": "2022-06-09T11:24:24.147Z"
   },
   {
    "duration": 0,
    "start_time": "2022-06-09T11:24:24.148Z"
   },
   {
    "duration": 0,
    "start_time": "2022-06-09T11:24:24.149Z"
   },
   {
    "duration": 0,
    "start_time": "2022-06-09T11:24:24.150Z"
   },
   {
    "duration": 0,
    "start_time": "2022-06-09T11:24:24.151Z"
   },
   {
    "duration": 1187,
    "start_time": "2022-06-09T11:24:48.532Z"
   },
   {
    "duration": 606,
    "start_time": "2022-06-09T11:24:49.723Z"
   },
   {
    "duration": 27,
    "start_time": "2022-06-09T11:24:50.331Z"
   },
   {
    "duration": 12,
    "start_time": "2022-06-09T11:24:50.360Z"
   },
   {
    "duration": 38,
    "start_time": "2022-06-09T11:24:50.373Z"
   },
   {
    "duration": 352,
    "start_time": "2022-06-09T11:24:50.413Z"
   },
   {
    "duration": 20,
    "start_time": "2022-06-09T11:24:50.766Z"
   },
   {
    "duration": 20,
    "start_time": "2022-06-09T11:24:50.788Z"
   },
   {
    "duration": 47,
    "start_time": "2022-06-09T11:24:50.815Z"
   },
   {
    "duration": 298,
    "start_time": "2022-06-09T11:24:50.868Z"
   },
   {
    "duration": 28,
    "start_time": "2022-06-09T11:24:51.167Z"
   },
   {
    "duration": 12,
    "start_time": "2022-06-09T11:24:51.200Z"
   },
   {
    "duration": 30,
    "start_time": "2022-06-09T11:24:51.219Z"
   },
   {
    "duration": 10,
    "start_time": "2022-06-09T11:24:51.251Z"
   },
   {
    "duration": 11,
    "start_time": "2022-06-09T11:24:51.263Z"
   },
   {
    "duration": 16,
    "start_time": "2022-06-09T11:24:51.276Z"
   },
   {
    "duration": 40,
    "start_time": "2022-06-09T11:24:51.299Z"
   },
   {
    "duration": 94,
    "start_time": "2022-06-09T11:24:51.341Z"
   },
   {
    "duration": 10,
    "start_time": "2022-06-09T11:24:51.436Z"
   },
   {
    "duration": 10,
    "start_time": "2022-06-09T11:24:51.448Z"
   },
   {
    "duration": 12,
    "start_time": "2022-06-09T11:24:51.459Z"
   },
   {
    "duration": 26,
    "start_time": "2022-06-09T11:24:51.473Z"
   },
   {
    "duration": 11,
    "start_time": "2022-06-09T11:24:51.505Z"
   },
   {
    "duration": 42,
    "start_time": "2022-06-09T11:24:51.518Z"
   },
   {
    "duration": 8,
    "start_time": "2022-06-09T11:24:51.562Z"
   },
   {
    "duration": 60,
    "start_time": "2022-06-09T11:24:51.571Z"
   },
   {
    "duration": 29,
    "start_time": "2022-06-09T11:24:51.633Z"
   },
   {
    "duration": 42,
    "start_time": "2022-06-09T11:24:51.665Z"
   },
   {
    "duration": 9,
    "start_time": "2022-06-09T11:24:51.716Z"
   },
   {
    "duration": 27,
    "start_time": "2022-06-09T11:24:51.729Z"
   },
   {
    "duration": 12,
    "start_time": "2022-06-09T11:24:51.757Z"
   },
   {
    "duration": 11,
    "start_time": "2022-06-09T11:24:51.771Z"
   },
   {
    "duration": 27,
    "start_time": "2022-06-09T11:24:51.784Z"
   },
   {
    "duration": 12,
    "start_time": "2022-06-09T11:24:51.819Z"
   },
   {
    "duration": 11,
    "start_time": "2022-06-09T11:24:51.832Z"
   },
   {
    "duration": 8,
    "start_time": "2022-06-09T11:24:51.844Z"
   },
   {
    "duration": 10,
    "start_time": "2022-06-09T11:24:51.853Z"
   },
   {
    "duration": 6,
    "start_time": "2022-06-09T11:24:51.865Z"
   },
   {
    "duration": 542,
    "start_time": "2022-06-09T11:24:51.872Z"
   },
   {
    "duration": 11,
    "start_time": "2022-06-09T11:24:52.416Z"
   },
   {
    "duration": 533,
    "start_time": "2022-06-09T11:24:52.428Z"
   },
   {
    "duration": 9,
    "start_time": "2022-06-09T11:24:52.963Z"
   },
   {
    "duration": 394,
    "start_time": "2022-06-09T11:24:52.973Z"
   },
   {
    "duration": 9,
    "start_time": "2022-06-09T11:24:53.368Z"
   },
   {
    "duration": 33,
    "start_time": "2022-06-09T11:24:53.379Z"
   },
   {
    "duration": 469,
    "start_time": "2022-06-09T11:24:53.414Z"
   },
   {
    "duration": 3,
    "start_time": "2022-06-09T11:24:53.884Z"
   },
   {
    "duration": 438,
    "start_time": "2022-06-09T11:24:53.894Z"
   },
   {
    "duration": 3,
    "start_time": "2022-06-09T11:24:54.334Z"
   },
   {
    "duration": 7,
    "start_time": "2022-06-09T11:24:54.339Z"
   },
   {
    "duration": 429,
    "start_time": "2022-06-09T11:24:54.348Z"
   },
   {
    "duration": 26,
    "start_time": "2022-06-09T11:24:54.779Z"
   },
   {
    "duration": 90,
    "start_time": "2022-06-09T11:24:54.811Z"
   },
   {
    "duration": 2,
    "start_time": "2022-06-09T11:24:54.903Z"
   },
   {
    "duration": 1517,
    "start_time": "2022-06-09T11:24:54.910Z"
   },
   {
    "duration": 208,
    "start_time": "2022-06-09T11:24:56.429Z"
   },
   {
    "duration": 195,
    "start_time": "2022-06-09T11:24:56.639Z"
   },
   {
    "duration": 210,
    "start_time": "2022-06-09T11:24:56.837Z"
   },
   {
    "duration": 65,
    "start_time": "2022-06-09T11:24:57.049Z"
   },
   {
    "duration": 1748,
    "start_time": "2022-06-09T11:25:37.057Z"
   },
   {
    "duration": 180,
    "start_time": "2022-06-09T11:25:55.717Z"
   },
   {
    "duration": 197,
    "start_time": "2022-06-09T11:25:59.982Z"
   },
   {
    "duration": 283,
    "start_time": "2022-06-09T11:26:12.092Z"
   },
   {
    "duration": 202,
    "start_time": "2022-06-09T11:26:31.923Z"
   },
   {
    "duration": 1301,
    "start_time": "2022-06-09T17:53:48.226Z"
   },
   {
    "duration": 1179,
    "start_time": "2022-06-09T17:53:51.686Z"
   },
   {
    "duration": 29,
    "start_time": "2022-06-09T17:53:53.842Z"
   },
   {
    "duration": 47,
    "start_time": "2022-06-09T17:53:55.347Z"
   },
   {
    "duration": 366,
    "start_time": "2022-06-09T17:53:56.607Z"
   },
   {
    "duration": 21,
    "start_time": "2022-06-09T17:53:59.266Z"
   },
   {
    "duration": 30,
    "start_time": "2022-06-09T17:54:00.967Z"
   },
   {
    "duration": 318,
    "start_time": "2022-06-09T17:54:02.306Z"
   },
   {
    "duration": 17,
    "start_time": "2022-06-09T17:54:06.231Z"
   },
   {
    "duration": 15,
    "start_time": "2022-06-09T17:54:07.733Z"
   },
   {
    "duration": 19,
    "start_time": "2022-06-09T17:54:09.949Z"
   },
   {
    "duration": 8,
    "start_time": "2022-06-09T17:54:11.018Z"
   },
   {
    "duration": 10,
    "start_time": "2022-06-09T17:54:13.171Z"
   },
   {
    "duration": 16,
    "start_time": "2022-06-09T17:54:14.138Z"
   },
   {
    "duration": 75,
    "start_time": "2022-06-09T17:54:18.424Z"
   },
   {
    "duration": 9,
    "start_time": "2022-06-09T17:54:20.192Z"
   },
   {
    "duration": 4,
    "start_time": "2022-06-09T17:54:21.228Z"
   },
   {
    "duration": 12,
    "start_time": "2022-06-09T17:54:24.448Z"
   },
   {
    "duration": 7,
    "start_time": "2022-06-09T17:54:25.909Z"
   },
   {
    "duration": 6,
    "start_time": "2022-06-09T17:54:29.441Z"
   },
   {
    "duration": 32,
    "start_time": "2022-06-09T17:54:30.521Z"
   },
   {
    "duration": 11,
    "start_time": "2022-06-09T17:54:31.368Z"
   },
   {
    "duration": 44,
    "start_time": "2022-06-09T17:54:33.164Z"
   },
   {
    "duration": 40,
    "start_time": "2022-06-09T17:54:36.448Z"
   },
   {
    "duration": 44,
    "start_time": "2022-06-09T17:54:37.943Z"
   },
   {
    "duration": 8,
    "start_time": "2022-06-09T17:54:40.493Z"
   },
   {
    "duration": 21,
    "start_time": "2022-06-09T17:54:41.328Z"
   },
   {
    "duration": 14,
    "start_time": "2022-06-09T17:54:47.967Z"
   },
   {
    "duration": 6,
    "start_time": "2022-06-09T17:54:55.440Z"
   },
   {
    "duration": 12,
    "start_time": "2022-06-09T17:54:56.329Z"
   },
   {
    "duration": 7,
    "start_time": "2022-06-09T17:55:28.775Z"
   },
   {
    "duration": 8,
    "start_time": "2022-06-09T17:55:29.463Z"
   },
   {
    "duration": 8,
    "start_time": "2022-06-09T17:55:30.172Z"
   },
   {
    "duration": 5,
    "start_time": "2022-06-09T17:55:30.975Z"
   },
   {
    "duration": 4,
    "start_time": "2022-06-09T17:55:33.876Z"
   },
   {
    "duration": 6,
    "start_time": "2022-06-09T18:01:28.093Z"
   },
   {
    "duration": 12,
    "start_time": "2022-06-09T18:01:30.413Z"
   },
   {
    "duration": 5,
    "start_time": "2022-06-09T18:01:35.527Z"
   },
   {
    "duration": 5,
    "start_time": "2022-06-09T18:01:36.222Z"
   },
   {
    "duration": 6,
    "start_time": "2022-06-09T18:01:36.926Z"
   },
   {
    "duration": 7,
    "start_time": "2022-06-09T18:01:37.705Z"
   },
   {
    "duration": 5,
    "start_time": "2022-06-09T18:01:49.475Z"
   },
   {
    "duration": 566,
    "start_time": "2022-06-09T18:01:52.108Z"
   },
   {
    "duration": 8,
    "start_time": "2022-06-09T18:02:19.930Z"
   },
   {
    "duration": 419,
    "start_time": "2022-06-09T18:02:24.941Z"
   },
   {
    "duration": 9,
    "start_time": "2022-06-09T18:02:31.289Z"
   },
   {
    "duration": 463,
    "start_time": "2022-06-09T18:02:33.821Z"
   },
   {
    "duration": 11,
    "start_time": "2022-06-09T18:02:36.710Z"
   },
   {
    "duration": 41,
    "start_time": "2022-06-09T18:14:21.744Z"
   },
   {
    "duration": 424,
    "start_time": "2022-06-09T18:17:16.743Z"
   },
   {
    "duration": 514,
    "start_time": "2022-06-09T18:17:22.785Z"
   },
   {
    "duration": 353,
    "start_time": "2022-06-09T18:21:18.188Z"
   },
   {
    "duration": 10,
    "start_time": "2022-06-09T18:22:01.566Z"
   },
   {
    "duration": 8,
    "start_time": "2022-06-09T18:22:11.536Z"
   },
   {
    "duration": 2,
    "start_time": "2022-06-09T18:22:27.594Z"
   },
   {
    "duration": 342,
    "start_time": "2022-06-09T18:22:43.521Z"
   },
   {
    "duration": 627,
    "start_time": "2022-06-09T18:41:02.482Z"
   },
   {
    "duration": 461,
    "start_time": "2022-06-09T18:42:02.422Z"
   },
   {
    "duration": 51,
    "start_time": "2022-06-09T18:51:45.921Z"
   },
   {
    "duration": 563,
    "start_time": "2022-06-09T18:52:19.446Z"
   },
   {
    "duration": 414,
    "start_time": "2022-06-09T18:52:55.768Z"
   },
   {
    "duration": 21,
    "start_time": "2022-06-09T18:52:58.002Z"
   },
   {
    "duration": 3,
    "start_time": "2022-06-09T18:53:02.970Z"
   },
   {
    "duration": 12,
    "start_time": "2022-06-09T18:53:08.418Z"
   },
   {
    "duration": 10,
    "start_time": "2022-06-09T18:53:10.870Z"
   },
   {
    "duration": 10,
    "start_time": "2022-06-09T18:53:11.998Z"
   },
   {
    "duration": 9,
    "start_time": "2022-06-09T18:53:12.871Z"
   },
   {
    "duration": 11,
    "start_time": "2022-06-09T18:53:13.602Z"
   },
   {
    "duration": 11,
    "start_time": "2022-06-09T18:53:14.294Z"
   },
   {
    "duration": 10,
    "start_time": "2022-06-09T18:53:14.968Z"
   },
   {
    "duration": 8,
    "start_time": "2022-06-09T19:19:23.380Z"
   },
   {
    "duration": 3,
    "start_time": "2022-06-09T19:19:30.084Z"
   },
   {
    "duration": 3,
    "start_time": "2022-06-09T19:19:30.584Z"
   },
   {
    "duration": 449,
    "start_time": "2022-06-09T19:19:30.642Z"
   },
   {
    "duration": 24,
    "start_time": "2022-06-09T19:19:31.093Z"
   },
   {
    "duration": 25,
    "start_time": "2022-06-09T19:19:31.119Z"
   },
   {
    "duration": 70,
    "start_time": "2022-06-09T19:19:31.147Z"
   },
   {
    "duration": 296,
    "start_time": "2022-06-09T19:19:31.219Z"
   },
   {
    "duration": 18,
    "start_time": "2022-06-09T19:19:31.517Z"
   },
   {
    "duration": 38,
    "start_time": "2022-06-09T19:19:31.536Z"
   },
   {
    "duration": 32,
    "start_time": "2022-06-09T19:19:31.575Z"
   },
   {
    "duration": 308,
    "start_time": "2022-06-09T19:19:31.608Z"
   },
   {
    "duration": 17,
    "start_time": "2022-06-09T19:19:31.920Z"
   },
   {
    "duration": 226,
    "start_time": "2022-06-09T19:19:31.953Z"
   },
   {
    "duration": 42,
    "start_time": "2022-06-09T19:19:32.180Z"
   },
   {
    "duration": 10,
    "start_time": "2022-06-09T19:19:32.224Z"
   },
   {
    "duration": 54,
    "start_time": "2022-06-09T19:19:32.235Z"
   },
   {
    "duration": 13,
    "start_time": "2022-06-09T19:19:32.291Z"
   },
   {
    "duration": 111,
    "start_time": "2022-06-09T19:19:32.306Z"
   },
   {
    "duration": 77,
    "start_time": "2022-06-09T19:19:32.419Z"
   },
   {
    "duration": 8,
    "start_time": "2022-06-09T19:19:32.498Z"
   },
   {
    "duration": 20,
    "start_time": "2022-06-09T19:19:32.507Z"
   },
   {
    "duration": 26,
    "start_time": "2022-06-09T19:19:32.530Z"
   },
   {
    "duration": 34,
    "start_time": "2022-06-09T19:19:32.558Z"
   },
   {
    "duration": 8,
    "start_time": "2022-06-09T19:19:32.594Z"
   },
   {
    "duration": 41,
    "start_time": "2022-06-09T19:19:32.604Z"
   },
   {
    "duration": 16,
    "start_time": "2022-06-09T19:19:32.646Z"
   },
   {
    "duration": 52,
    "start_time": "2022-06-09T19:19:32.664Z"
   },
   {
    "duration": 25,
    "start_time": "2022-06-09T19:19:32.717Z"
   },
   {
    "duration": 42,
    "start_time": "2022-06-09T19:19:32.744Z"
   },
   {
    "duration": 7,
    "start_time": "2022-06-09T19:19:32.789Z"
   },
   {
    "duration": 29,
    "start_time": "2022-06-09T19:19:32.798Z"
   },
   {
    "duration": 30,
    "start_time": "2022-06-09T19:19:32.830Z"
   },
   {
    "duration": 10,
    "start_time": "2022-06-09T19:19:32.863Z"
   },
   {
    "duration": 15,
    "start_time": "2022-06-09T19:19:32.876Z"
   },
   {
    "duration": 5,
    "start_time": "2022-06-09T19:19:33.010Z"
   },
   {
    "duration": 5,
    "start_time": "2022-06-09T19:19:33.044Z"
   },
   {
    "duration": 5,
    "start_time": "2022-06-09T19:19:33.084Z"
   },
   {
    "duration": 6,
    "start_time": "2022-06-09T19:19:33.113Z"
   },
   {
    "duration": 5,
    "start_time": "2022-06-09T19:19:33.192Z"
   },
   {
    "duration": 497,
    "start_time": "2022-06-09T19:19:33.288Z"
   },
   {
    "duration": 9,
    "start_time": "2022-06-09T19:19:33.788Z"
   },
   {
    "duration": 403,
    "start_time": "2022-06-09T19:19:33.799Z"
   },
   {
    "duration": 8,
    "start_time": "2022-06-09T19:19:34.204Z"
   },
   {
    "duration": 403,
    "start_time": "2022-06-09T19:19:34.214Z"
   },
   {
    "duration": 9,
    "start_time": "2022-06-09T19:19:34.619Z"
   },
   {
    "duration": 43,
    "start_time": "2022-06-09T19:19:34.630Z"
   },
   {
    "duration": 512,
    "start_time": "2022-06-09T19:19:34.675Z"
   },
   {
    "duration": 3,
    "start_time": "2022-06-09T19:19:35.191Z"
   },
   {
    "duration": 515,
    "start_time": "2022-06-09T19:19:35.198Z"
   },
   {
    "duration": 9,
    "start_time": "2022-06-09T19:19:35.715Z"
   },
   {
    "duration": 6,
    "start_time": "2022-06-09T19:19:35.726Z"
   },
   {
    "duration": 549,
    "start_time": "2022-06-09T19:19:35.733Z"
   },
   {
    "duration": 13,
    "start_time": "2022-06-09T19:19:36.284Z"
   },
   {
    "duration": 86,
    "start_time": "2022-06-09T19:19:36.299Z"
   },
   {
    "duration": 4,
    "start_time": "2022-06-09T19:19:36.386Z"
   },
   {
    "duration": 1792,
    "start_time": "2022-06-09T19:19:36.391Z"
   },
   {
    "duration": 207,
    "start_time": "2022-06-09T19:19:38.186Z"
   },
   {
    "duration": 199,
    "start_time": "2022-06-09T19:19:38.395Z"
   },
   {
    "duration": 203,
    "start_time": "2022-06-09T19:19:38.596Z"
   },
   {
    "duration": 204,
    "start_time": "2022-06-09T19:19:38.801Z"
   },
   {
    "duration": 149,
    "start_time": "2022-06-09T19:19:39.006Z"
   },
   {
    "duration": 13,
    "start_time": "2022-06-09T19:29:56.096Z"
   },
   {
    "duration": 13,
    "start_time": "2022-06-09T19:29:59.065Z"
   },
   {
    "duration": 10,
    "start_time": "2022-06-09T19:29:59.888Z"
   },
   {
    "duration": 13,
    "start_time": "2022-06-09T19:30:00.628Z"
   },
   {
    "duration": 10,
    "start_time": "2022-06-09T19:30:01.607Z"
   },
   {
    "duration": 20,
    "start_time": "2022-06-09T19:31:54.533Z"
   },
   {
    "duration": 43,
    "start_time": "2022-06-10T15:14:09.056Z"
   },
   {
    "duration": 931,
    "start_time": "2022-06-10T15:16:16.128Z"
   },
   {
    "duration": 3,
    "start_time": "2022-06-10T15:16:17.061Z"
   },
   {
    "duration": 393,
    "start_time": "2022-06-10T15:16:17.065Z"
   },
   {
    "duration": 20,
    "start_time": "2022-06-10T15:16:17.460Z"
   },
   {
    "duration": 9,
    "start_time": "2022-06-10T15:16:17.482Z"
   },
   {
    "duration": 26,
    "start_time": "2022-06-10T15:16:17.492Z"
   },
   {
    "duration": 253,
    "start_time": "2022-06-10T15:16:17.519Z"
   },
   {
    "duration": 26,
    "start_time": "2022-06-10T15:16:17.774Z"
   },
   {
    "duration": 8,
    "start_time": "2022-06-10T15:16:17.801Z"
   },
   {
    "duration": 29,
    "start_time": "2022-06-10T15:16:17.811Z"
   },
   {
    "duration": 266,
    "start_time": "2022-06-10T15:16:17.841Z"
   },
   {
    "duration": 16,
    "start_time": "2022-06-10T15:16:18.108Z"
   },
   {
    "duration": 6,
    "start_time": "2022-06-10T15:16:18.126Z"
   },
   {
    "duration": 14,
    "start_time": "2022-06-10T15:16:18.134Z"
   },
   {
    "duration": 9,
    "start_time": "2022-06-10T15:16:18.149Z"
   },
   {
    "duration": 35,
    "start_time": "2022-06-10T15:16:18.160Z"
   },
   {
    "duration": 10,
    "start_time": "2022-06-10T15:16:18.197Z"
   },
   {
    "duration": 11,
    "start_time": "2022-06-10T15:16:18.209Z"
   },
   {
    "duration": 86,
    "start_time": "2022-06-10T15:16:18.222Z"
   },
   {
    "duration": 9,
    "start_time": "2022-06-10T15:16:18.310Z"
   },
   {
    "duration": 6,
    "start_time": "2022-06-10T15:16:18.321Z"
   },
   {
    "duration": 9,
    "start_time": "2022-06-10T15:16:18.329Z"
   },
   {
    "duration": 8,
    "start_time": "2022-06-10T15:16:18.339Z"
   },
   {
    "duration": 6,
    "start_time": "2022-06-10T15:16:18.349Z"
   },
   {
    "duration": 55,
    "start_time": "2022-06-10T15:16:18.357Z"
   },
   {
    "duration": 7,
    "start_time": "2022-06-10T15:16:18.414Z"
   },
   {
    "duration": 43,
    "start_time": "2022-06-10T15:16:18.422Z"
   },
   {
    "duration": 39,
    "start_time": "2022-06-10T15:16:18.469Z"
   },
   {
    "duration": 28,
    "start_time": "2022-06-10T15:16:18.509Z"
   },
   {
    "duration": 5,
    "start_time": "2022-06-10T15:16:18.539Z"
   },
   {
    "duration": 16,
    "start_time": "2022-06-10T15:16:18.546Z"
   },
   {
    "duration": 11,
    "start_time": "2022-06-10T15:16:18.564Z"
   },
   {
    "duration": 22,
    "start_time": "2022-06-10T15:16:18.576Z"
   },
   {
    "duration": 10,
    "start_time": "2022-06-10T15:16:18.600Z"
   },
   {
    "duration": 5,
    "start_time": "2022-06-10T15:16:18.611Z"
   },
   {
    "duration": 8,
    "start_time": "2022-06-10T15:16:18.617Z"
   },
   {
    "duration": 8,
    "start_time": "2022-06-10T15:16:18.626Z"
   },
   {
    "duration": 6,
    "start_time": "2022-06-10T15:16:18.635Z"
   },
   {
    "duration": 4,
    "start_time": "2022-06-10T15:16:18.642Z"
   },
   {
    "duration": 463,
    "start_time": "2022-06-10T15:16:18.647Z"
   },
   {
    "duration": 8,
    "start_time": "2022-06-10T15:16:19.112Z"
   },
   {
    "duration": 439,
    "start_time": "2022-06-10T15:16:19.122Z"
   },
   {
    "duration": 7,
    "start_time": "2022-06-10T15:16:19.562Z"
   },
   {
    "duration": 334,
    "start_time": "2022-06-10T15:16:19.571Z"
   },
   {
    "duration": 8,
    "start_time": "2022-06-10T15:16:19.906Z"
   },
   {
    "duration": 15,
    "start_time": "2022-06-10T15:16:19.915Z"
   },
   {
    "duration": 366,
    "start_time": "2022-06-10T15:16:19.932Z"
   },
   {
    "duration": 3,
    "start_time": "2022-06-10T15:16:20.299Z"
   },
   {
    "duration": 325,
    "start_time": "2022-06-10T15:16:20.303Z"
   },
   {
    "duration": 8,
    "start_time": "2022-06-10T15:16:20.630Z"
   },
   {
    "duration": 12,
    "start_time": "2022-06-10T15:16:20.639Z"
   },
   {
    "duration": 347,
    "start_time": "2022-06-10T15:16:20.653Z"
   },
   {
    "duration": 9,
    "start_time": "2022-06-10T15:16:21.002Z"
   },
   {
    "duration": 7,
    "start_time": "2022-06-10T15:16:21.012Z"
   },
   {
    "duration": 55,
    "start_time": "2022-06-10T15:16:21.020Z"
   },
   {
    "duration": 3,
    "start_time": "2022-06-10T15:16:21.077Z"
   },
   {
    "duration": 1786,
    "start_time": "2022-06-10T15:16:21.081Z"
   },
   {
    "duration": 203,
    "start_time": "2022-06-10T15:16:22.868Z"
   },
   {
    "duration": 201,
    "start_time": "2022-06-10T15:16:23.073Z"
   },
   {
    "duration": 196,
    "start_time": "2022-06-10T15:16:23.276Z"
   },
   {
    "duration": 174,
    "start_time": "2022-06-10T15:16:23.474Z"
   },
   {
    "duration": 53,
    "start_time": "2022-06-10T15:16:23.650Z"
   }
  ],
  "kernelspec": {
   "display_name": "Python 3 (ipykernel)",
   "language": "python",
   "name": "python3"
  },
  "language_info": {
   "codemirror_mode": {
    "name": "ipython",
    "version": 3
   },
   "file_extension": ".py",
   "mimetype": "text/x-python",
   "name": "python",
   "nbconvert_exporter": "python",
   "pygments_lexer": "ipython3",
   "version": "3.10.6"
  },
  "toc": {
   "base_numbering": 1,
   "nav_menu": {},
   "number_sections": true,
   "sideBar": true,
   "skip_h1_title": true,
   "title_cell": "Table of Contents",
   "title_sidebar": "Contents",
   "toc_cell": false,
   "toc_position": {
    "height": "calc(100% - 180px)",
    "left": "10px",
    "top": "150px",
    "width": "165px"
   },
   "toc_section_display": true,
   "toc_window_display": true
  }
 },
 "nbformat": 4,
 "nbformat_minor": 2
}
